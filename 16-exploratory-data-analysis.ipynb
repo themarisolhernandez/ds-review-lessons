{
 "cells": [
  {
   "cell_type": "markdown",
   "metadata": {},
   "source": [
    "# 16 - Exploratory Data Analysis (EDA)"
   ]
  },
  {
   "cell_type": "markdown",
   "metadata": {},
   "source": [
    "## Introduction to EDA\n",
    "**Exploratory Data Analysis (EDA)** is a critical step in any data science project. It involves visualizing and summarizing the data to understand its structure, distribution, and underlying patterns. EDA can help uncover trends, relationships between variables, and any anomalies that might require attention before modeling.\n",
    "\n",
    "### Benefits of EDA:\n",
    "1. **Data Cleaning**: Identify and handle missing or inconsistent data.\n",
    "\n",
    "2. **Data Understanding**: Get an overall sense of the structure and quality of the data.\n",
    "\n",
    "3. **Feature Selection**: Identify important variables for the model.\n",
    "\n",
    "4. **Data Transformation**: Prepare the data for modeling (e.g., normalization, scaling).\n",
    "\n",
    "5. **Detect Outliers**: Spot any extreme values that may distort the model.\n",
    "\n",
    "The main purpose of **EDA** is to gain a deep understanding of the data, allowing us to make informed decisions about which modeling techniques to use, how to handle missing values, and how to engineer features that will improve model performance."
   ]
  },
  {
   "cell_type": "markdown",
   "metadata": {},
   "source": [
    "## Descriptive Analysis vs EDA\n",
    "**Descriptive analysis** and **EDA**, depending on how they're implemented, may be equivalent, but we can distinguish them by their main differences:\n",
    "\n",
    "- **Descriptive Analysis**: Focuses on describing the main characteristics of a data set using *descriptive statistics*, such as *mean*, *median*, *range*, and so on. Essentially, provides a clear and summarized description of the data.\n",
    "\n",
    "- **EDA**: Goes a step further, as it focuses on exploring *patterns*, *relationships*, *anomalies*, etc., in the data using more sophisticated **graphs** and statistics. Its main objective is to understand **the structure of the data**, relationships between variables and to formulate **hypotheses** or **intuitions** for further analysis or modeling."
   ]
  },
  {
   "cell_type": "markdown",
   "metadata": {},
   "source": [
    "## Machine Learning Flow\n",
    "\n",
    "<p align=\"center\">\n",
    "    <img src=\"imgs/eda1.png\" alt=\"Alt text\">\n",
    "</p>\n",
    "\n",
    "The ideal **Machine Learning Flow** should contain the following phases:\n",
    "\n",
    "1. **Problem Definition**: A *need* is identified to be solved using Machine Learning.\n",
    "\n",
    "2. **Dataset Acquisition**: Once the problem is defined, *data collection* becomes necessary. This can involve capturing data from various sources such as databases, APIs, web scraping, or real-time data streams.\n",
    "\n",
    "3. **Store the Information**: The best way to store the information is in a *database* to ensure secure and efficient access. Flat files should be avoided when possible, since they're not secure or optimized for scalability and querying.\n",
    "\n",
    "4. **Descriptive Analysis**: Before diving into EDA, it’s important to examine the raw data’s basic *statistical measures*—such as means, medians, distributions, and standard deviations—to understand its overall structure. Knowing these distributions helps in selecting an appropriate model later.\n",
    "\n",
    "5. **EDA**: In this step, we explore the data more deeply to identify important features, eliminate irrelevant or redundant variables, and discover relationships between them. EDA also helps in identifying outliers and understanding the data’s complexities.\n",
    "\n",
    "6. **Modeling and Optimization**: Once the data is prepared, it’s time to choose and train a model that best fits the data. After the initial training, *model optimization* is essential to improve performance through hyperparameter tuning or model refinement.\n",
    "\n",
    "7. **Deployment**: After optimizing the model, it needs to be deployed into a controlled environment where it can make predictions on real-world data. This is where the model starts bringing value to end-users or business processes."
   ]
  },
  {
   "cell_type": "markdown",
   "metadata": {},
   "source": [
    "---\n",
    "## Example: Titanic Dataset"
   ]
  },
  {
   "cell_type": "markdown",
   "metadata": {},
   "source": [
    "### Steps 1 & 2: Problem Definition & Dataset Acquisition\n",
    "\n",
    "#### Problem Definition:\n",
    "Using the Titanic passenger data, we aim to predict whether a given passenger survived or not based on features such as *age*, *gender*, *passenger class*, *fare*, and other factors. This is a binary classification problem where the target variable is the `Survived` column, which takes on the values:\n",
    "\n",
    "- `0`: Passenger did not survive\n",
    "\n",
    "- `1`: Passenger survived"
   ]
  },
  {
   "cell_type": "markdown",
   "metadata": {},
   "source": [
    "#### Key Objective:\n",
    "The key objective is to build a machine learning model that can accurately predict the likelihood of a passenger surviving, given their individual characteristics. The output will be a probability or binary classification (survived vs. not survived)."
   ]
  },
  {
   "cell_type": "markdown",
   "metadata": {},
   "source": [
    "#### Dataset Acquisiton\n",
    "We'll use the Titanic dataset, which contains several features about each passenger that we’ll use to make our predictions.\n",
    "\n",
    "First, let’s load the dataset and inspect its structure."
   ]
  },
  {
   "cell_type": "code",
   "execution_count": 15,
   "metadata": {},
   "outputs": [
    {
     "data": {
      "text/html": [
       "<div>\n",
       "<style scoped>\n",
       "    .dataframe tbody tr th:only-of-type {\n",
       "        vertical-align: middle;\n",
       "    }\n",
       "\n",
       "    .dataframe tbody tr th {\n",
       "        vertical-align: top;\n",
       "    }\n",
       "\n",
       "    .dataframe thead th {\n",
       "        text-align: right;\n",
       "    }\n",
       "</style>\n",
       "<table border=\"1\" class=\"dataframe\">\n",
       "  <thead>\n",
       "    <tr style=\"text-align: right;\">\n",
       "      <th></th>\n",
       "      <th>PassengerId</th>\n",
       "      <th>Survived</th>\n",
       "      <th>Pclass</th>\n",
       "      <th>Name</th>\n",
       "      <th>Sex</th>\n",
       "      <th>Age</th>\n",
       "      <th>SibSp</th>\n",
       "      <th>Parch</th>\n",
       "      <th>Ticket</th>\n",
       "      <th>Fare</th>\n",
       "      <th>Cabin</th>\n",
       "      <th>Embarked</th>\n",
       "    </tr>\n",
       "  </thead>\n",
       "  <tbody>\n",
       "    <tr>\n",
       "      <th>0</th>\n",
       "      <td>1</td>\n",
       "      <td>0</td>\n",
       "      <td>3</td>\n",
       "      <td>Braund, Mr. Owen Harris</td>\n",
       "      <td>male</td>\n",
       "      <td>22.0</td>\n",
       "      <td>1</td>\n",
       "      <td>0</td>\n",
       "      <td>A/5 21171</td>\n",
       "      <td>7.2500</td>\n",
       "      <td>NaN</td>\n",
       "      <td>S</td>\n",
       "    </tr>\n",
       "    <tr>\n",
       "      <th>1</th>\n",
       "      <td>2</td>\n",
       "      <td>1</td>\n",
       "      <td>1</td>\n",
       "      <td>Cumings, Mrs. John Bradley (Florence Briggs Th...</td>\n",
       "      <td>female</td>\n",
       "      <td>38.0</td>\n",
       "      <td>1</td>\n",
       "      <td>0</td>\n",
       "      <td>PC 17599</td>\n",
       "      <td>71.2833</td>\n",
       "      <td>C85</td>\n",
       "      <td>C</td>\n",
       "    </tr>\n",
       "    <tr>\n",
       "      <th>2</th>\n",
       "      <td>3</td>\n",
       "      <td>1</td>\n",
       "      <td>3</td>\n",
       "      <td>Heikkinen, Miss. Laina</td>\n",
       "      <td>female</td>\n",
       "      <td>26.0</td>\n",
       "      <td>0</td>\n",
       "      <td>0</td>\n",
       "      <td>STON/O2. 3101282</td>\n",
       "      <td>7.9250</td>\n",
       "      <td>NaN</td>\n",
       "      <td>S</td>\n",
       "    </tr>\n",
       "    <tr>\n",
       "      <th>3</th>\n",
       "      <td>4</td>\n",
       "      <td>1</td>\n",
       "      <td>1</td>\n",
       "      <td>Futrelle, Mrs. Jacques Heath (Lily May Peel)</td>\n",
       "      <td>female</td>\n",
       "      <td>35.0</td>\n",
       "      <td>1</td>\n",
       "      <td>0</td>\n",
       "      <td>113803</td>\n",
       "      <td>53.1000</td>\n",
       "      <td>C123</td>\n",
       "      <td>S</td>\n",
       "    </tr>\n",
       "    <tr>\n",
       "      <th>4</th>\n",
       "      <td>5</td>\n",
       "      <td>0</td>\n",
       "      <td>3</td>\n",
       "      <td>Allen, Mr. William Henry</td>\n",
       "      <td>male</td>\n",
       "      <td>35.0</td>\n",
       "      <td>0</td>\n",
       "      <td>0</td>\n",
       "      <td>373450</td>\n",
       "      <td>8.0500</td>\n",
       "      <td>NaN</td>\n",
       "      <td>S</td>\n",
       "    </tr>\n",
       "  </tbody>\n",
       "</table>\n",
       "</div>"
      ],
      "text/plain": [
       "   PassengerId  Survived  Pclass  \\\n",
       "0            1         0       3   \n",
       "1            2         1       1   \n",
       "2            3         1       3   \n",
       "3            4         1       1   \n",
       "4            5         0       3   \n",
       "\n",
       "                                                Name     Sex   Age  SibSp  \\\n",
       "0                            Braund, Mr. Owen Harris    male  22.0      1   \n",
       "1  Cumings, Mrs. John Bradley (Florence Briggs Th...  female  38.0      1   \n",
       "2                             Heikkinen, Miss. Laina  female  26.0      0   \n",
       "3       Futrelle, Mrs. Jacques Heath (Lily May Peel)  female  35.0      1   \n",
       "4                           Allen, Mr. William Henry    male  35.0      0   \n",
       "\n",
       "   Parch            Ticket     Fare Cabin Embarked  \n",
       "0      0         A/5 21171   7.2500   NaN        S  \n",
       "1      0          PC 17599  71.2833   C85        C  \n",
       "2      0  STON/O2. 3101282   7.9250   NaN        S  \n",
       "3      0            113803  53.1000  C123        S  \n",
       "4      0            373450   8.0500   NaN        S  "
      ]
     },
     "execution_count": 15,
     "metadata": {},
     "output_type": "execute_result"
    }
   ],
   "source": [
    "import pandas as pd\n",
    "\n",
    "# Load Titanic dataset from URL\n",
    "url = \"https://raw.githubusercontent.com/datasciencedojo/datasets/master/titanic.csv\"\n",
    "df = pd.read_csv(url)\n",
    "df.head()"
   ]
  },
  {
   "cell_type": "markdown",
   "metadata": {},
   "source": [
    "##### Target Variable\n",
    "The target variable (what we want to predict) is:\n",
    "\n",
    "- `Survived`: This column indicates whether the passenger survived (`1`) or did not survive (`0`)."
   ]
  },
  {
   "cell_type": "markdown",
   "metadata": {},
   "source": [
    "##### Features\n",
    "Here are the main features of the dataset that will be used to predict survival:\n",
    "\n",
    "- `PassengerId`:\n",
    "\n",
    "    - **Description**: A unique identifier for each passenger.\n",
    "\n",
    "    - **Usefulness**: This is simply an ID number and we can assume it doesn't provide any information for predicting survival. It will likely be dropped.\n",
    "\n",
    "- `Pclass`:\n",
    "\n",
    "    - **Description**: The passenger’s class (1st, 2nd, or 3rd).\n",
    "\n",
    "    - **Usefulness**: This may be an important feature because we can assume survival rate varied significantly by class (e.g. Passengers in 1st class are known to have a higher chance of survival).\n",
    "\n",
    "- `Name`:\n",
    "\n",
    "    - **Description**: The full name of the passenger.\n",
    "\n",
    "    - **Usefulness**: This feature doesn't provide predictive information for survival. However, we could extract titles (Mr., Mrs., etc.) from the names, which might be predictive, as they could be correlated with social status or age.\n",
    "\n",
    "- `Sex`:\n",
    "\n",
    "    - **Description**: The gender of the passenger.\n",
    "\n",
    "    - **Usefulness**: This is a key feature, as women had a significantly higher survival rate than men.\n",
    "\n",
    "- `Age`:\n",
    "\n",
    "    - **Description**: The age of the passenger.\n",
    "\n",
    "    - **Usefulness**: Age is likely important in determining survival, as younger passengers (e.g., children) were more likely to survive.\n",
    "\n",
    "- `SibSp`:\n",
    "\n",
    "    - **Description**: Number of siblings or spouses aboard the Titanic.\n",
    "\n",
    "    - **Usefulness**: This feature indicates the family size and may help predict survival, as people traveling with families might have different survival rates compared to solo travelers.\n",
    "\n",
    "- `Parch`:\n",
    "\n",
    "    - **Description**: Number of parents or children aboard the Titanic.\n",
    "\n",
    "    - **Usefulness**: Like `SibSp`, this feature indicates family size. It could also be used to understand whether passengers traveling with families had different survival rates.\n",
    "\n",
    "- `Ticket`:\n",
    "\n",
    "    - **Description**: The ticket number of the passenger.\n",
    "\n",
    "    - **Usefulness**: The ticket number likely has little direct influence on survival, but patterns in ticket numbers (such as family tickets) could be explored. For most analyses, this column can be dropped.\n",
    "\n",
    "- `Fare`:\n",
    "\n",
    "    - **Description**: The fare paid for the ticket.\n",
    "\n",
    "    - **Usefulness**: The fare could correlate with passenger class and possibly indicate a passenger’s wealth, which might influence survival. It’s a useful feature.\n",
    "\n",
    "- `Cabin`:\n",
    "\n",
    "    - **Description**: The cabin number where the passenger stayed.\n",
    "\n",
    "    - **Usefulness**: This feature could provide some insight into the passenger’s location on the ship, which might influence survival.\n",
    "\n",
    "- `Embarked`:\n",
    "\n",
    "    - **Description**: The port where the passenger boarded the Titanic (C = Cherbourg; Q = Queenstown; S = Southampton).\n",
    "\n",
    "    - **Usefulness**: This feature may provide some predictive value, as the port of embarkation could be related to socio-economic factors or access to lifeboats."
   ]
  },
  {
   "cell_type": "markdown",
   "metadata": {},
   "source": [
    "### Step 3: Store the Information\n",
    "Once the dataset has been acquired and inspected, the next step is to store it securely.\n",
    "\n",
    "While flat files like CSVs are commonly used for storing data, they are not ideal for large datasets or secure access. In professional settings, storing the data in a **database** ensures better security, scalability, and efficiency."
   ]
  },
  {
   "cell_type": "markdown",
   "metadata": {},
   "source": [
    "#### 1. Storing the Dataset as a CSV File:\n",
    "We can first store the dataset as a flat CSV file, which is easy to share and load."
   ]
  },
  {
   "cell_type": "code",
   "execution_count": 16,
   "metadata": {},
   "outputs": [
    {
     "name": "stdout",
     "output_type": "stream",
     "text": [
      "Dataset stored as data/raw/titanic_raw.csv\n"
     ]
    }
   ],
   "source": [
    "import os\n",
    "\n",
    "# Define the path to store the dataset\n",
    "output_dir = 'data/raw'\n",
    "os.makedirs(output_dir, exist_ok=True)\n",
    "\n",
    "# Store the dataset as a CSV file in the raw folder\n",
    "df.to_csv(f'{output_dir}/titanic_raw.csv', index=False)\n",
    "\n",
    "print(f'Dataset stored as {output_dir}/titanic_raw.csv')"
   ]
  },
  {
   "cell_type": "markdown",
   "metadata": {},
   "source": [
    "This code saves the raw Titanic dataset in the `data/raw/` folder. The CSV file format is widely used and easy to work with, but as noted earlier, it is not the most secure or efficient format for long-term storage or querying."
   ]
  },
  {
   "cell_type": "markdown",
   "metadata": {},
   "source": [
    "#### 2. Storing the Dataset in a Database (Using SQLite):\n",
    "For better security and more efficient data management, we can store the dataset in an SQLite database. SQLite is a lightweight, serverless database that works well for small projects. \n",
    "\n",
    "We'll use `SQLAlchemy`, a Python SQL toolkit, to interact with the SQLite database.\n",
    "\n",
    "##### Step 1: Install SQLAlchemy (if needed)\n",
    "You can install SQLAlchemy with the following command:"
   ]
  },
  {
   "cell_type": "code",
   "execution_count": 17,
   "metadata": {},
   "outputs": [
    {
     "name": "stdout",
     "output_type": "stream",
     "text": [
      "Requirement already satisfied: sqlalchemy in /usr/local/python/3.12.1/lib/python3.12/site-packages (2.0.36)\n",
      "Requirement already satisfied: typing-extensions>=4.6.0 in /home/codespace/.local/lib/python3.12/site-packages (from sqlalchemy) (4.9.0)\n",
      "Requirement already satisfied: greenlet!=0.4.17 in /usr/local/python/3.12.1/lib/python3.12/site-packages (from sqlalchemy) (3.1.1)\n"
     ]
    }
   ],
   "source": [
    "!pip install sqlalchemy"
   ]
  },
  {
   "cell_type": "markdown",
   "metadata": {},
   "source": [
    "##### Step 2: Setting Up SQLAlchemy and SQLite\n",
    "Here’s how you can store the Titanic dataset in an SQLite database using SQLAlchemy:"
   ]
  },
  {
   "cell_type": "code",
   "execution_count": 18,
   "metadata": {},
   "outputs": [
    {
     "name": "stdout",
     "output_type": "stream",
     "text": [
      "Dataset stored in SQLite database as 'Titanic_Data' table.\n"
     ]
    }
   ],
   "source": [
    "from sqlalchemy import create_engine\n",
    "\n",
    "# Create an SQLite database (this will create a file called titanic.db)\n",
    "engine = create_engine('sqlite:///data/titanic.db')\n",
    "\n",
    "# Store the dataset in a table called 'titanic_data'\n",
    "df.to_sql('Titanic_Data', con=engine, if_exists='replace', index=False)\n",
    "\n",
    "print(\"Dataset stored in SQLite database as 'Titanic_Data' table.\")"
   ]
  },
  {
   "cell_type": "markdown",
   "metadata": {},
   "source": [
    "This stores the Titanic dataset as a table named titanic_data in a SQLite database located at `data/titanic.db`. If the table already exists, the `if_exists='replace'` option will replace it with the new data."
   ]
  },
  {
   "cell_type": "markdown",
   "metadata": {},
   "source": [
    "##### Step 3: Querying the Stored Data\n",
    "Once the data is stored in the SQLite database, you can query it using SQL commands. For example, here’s how to load the stored data back into a pandas DataFrame:"
   ]
  },
  {
   "cell_type": "code",
   "execution_count": 19,
   "metadata": {},
   "outputs": [
    {
     "data": {
      "text/html": [
       "<div>\n",
       "<style scoped>\n",
       "    .dataframe tbody tr th:only-of-type {\n",
       "        vertical-align: middle;\n",
       "    }\n",
       "\n",
       "    .dataframe tbody tr th {\n",
       "        vertical-align: top;\n",
       "    }\n",
       "\n",
       "    .dataframe thead th {\n",
       "        text-align: right;\n",
       "    }\n",
       "</style>\n",
       "<table border=\"1\" class=\"dataframe\">\n",
       "  <thead>\n",
       "    <tr style=\"text-align: right;\">\n",
       "      <th></th>\n",
       "      <th>PassengerId</th>\n",
       "      <th>Survived</th>\n",
       "      <th>Pclass</th>\n",
       "      <th>Name</th>\n",
       "      <th>Sex</th>\n",
       "      <th>Age</th>\n",
       "      <th>SibSp</th>\n",
       "      <th>Parch</th>\n",
       "      <th>Ticket</th>\n",
       "      <th>Fare</th>\n",
       "      <th>Cabin</th>\n",
       "      <th>Embarked</th>\n",
       "    </tr>\n",
       "  </thead>\n",
       "  <tbody>\n",
       "    <tr>\n",
       "      <th>0</th>\n",
       "      <td>1</td>\n",
       "      <td>0</td>\n",
       "      <td>3</td>\n",
       "      <td>Braund, Mr. Owen Harris</td>\n",
       "      <td>male</td>\n",
       "      <td>22.0</td>\n",
       "      <td>1</td>\n",
       "      <td>0</td>\n",
       "      <td>A/5 21171</td>\n",
       "      <td>7.2500</td>\n",
       "      <td>None</td>\n",
       "      <td>S</td>\n",
       "    </tr>\n",
       "    <tr>\n",
       "      <th>1</th>\n",
       "      <td>2</td>\n",
       "      <td>1</td>\n",
       "      <td>1</td>\n",
       "      <td>Cumings, Mrs. John Bradley (Florence Briggs Th...</td>\n",
       "      <td>female</td>\n",
       "      <td>38.0</td>\n",
       "      <td>1</td>\n",
       "      <td>0</td>\n",
       "      <td>PC 17599</td>\n",
       "      <td>71.2833</td>\n",
       "      <td>C85</td>\n",
       "      <td>C</td>\n",
       "    </tr>\n",
       "    <tr>\n",
       "      <th>2</th>\n",
       "      <td>3</td>\n",
       "      <td>1</td>\n",
       "      <td>3</td>\n",
       "      <td>Heikkinen, Miss. Laina</td>\n",
       "      <td>female</td>\n",
       "      <td>26.0</td>\n",
       "      <td>0</td>\n",
       "      <td>0</td>\n",
       "      <td>STON/O2. 3101282</td>\n",
       "      <td>7.9250</td>\n",
       "      <td>None</td>\n",
       "      <td>S</td>\n",
       "    </tr>\n",
       "    <tr>\n",
       "      <th>3</th>\n",
       "      <td>4</td>\n",
       "      <td>1</td>\n",
       "      <td>1</td>\n",
       "      <td>Futrelle, Mrs. Jacques Heath (Lily May Peel)</td>\n",
       "      <td>female</td>\n",
       "      <td>35.0</td>\n",
       "      <td>1</td>\n",
       "      <td>0</td>\n",
       "      <td>113803</td>\n",
       "      <td>53.1000</td>\n",
       "      <td>C123</td>\n",
       "      <td>S</td>\n",
       "    </tr>\n",
       "    <tr>\n",
       "      <th>4</th>\n",
       "      <td>5</td>\n",
       "      <td>0</td>\n",
       "      <td>3</td>\n",
       "      <td>Allen, Mr. William Henry</td>\n",
       "      <td>male</td>\n",
       "      <td>35.0</td>\n",
       "      <td>0</td>\n",
       "      <td>0</td>\n",
       "      <td>373450</td>\n",
       "      <td>8.0500</td>\n",
       "      <td>None</td>\n",
       "      <td>S</td>\n",
       "    </tr>\n",
       "  </tbody>\n",
       "</table>\n",
       "</div>"
      ],
      "text/plain": [
       "   PassengerId  Survived  Pclass  \\\n",
       "0            1         0       3   \n",
       "1            2         1       1   \n",
       "2            3         1       3   \n",
       "3            4         1       1   \n",
       "4            5         0       3   \n",
       "\n",
       "                                                Name     Sex   Age  SibSp  \\\n",
       "0                            Braund, Mr. Owen Harris    male  22.0      1   \n",
       "1  Cumings, Mrs. John Bradley (Florence Briggs Th...  female  38.0      1   \n",
       "2                             Heikkinen, Miss. Laina  female  26.0      0   \n",
       "3       Futrelle, Mrs. Jacques Heath (Lily May Peel)  female  35.0      1   \n",
       "4                           Allen, Mr. William Henry    male  35.0      0   \n",
       "\n",
       "   Parch            Ticket     Fare Cabin Embarked  \n",
       "0      0         A/5 21171   7.2500  None        S  \n",
       "1      0          PC 17599  71.2833   C85        C  \n",
       "2      0  STON/O2. 3101282   7.9250  None        S  \n",
       "3      0            113803  53.1000  C123        S  \n",
       "4      0            373450   8.0500  None        S  "
      ]
     },
     "execution_count": 19,
     "metadata": {},
     "output_type": "execute_result"
    }
   ],
   "source": [
    "# Query the data from the SQLite database\n",
    "df_from_db = pd.read_sql('SELECT * FROM Titanic_Data', con=engine)\n",
    "\n",
    "# Display the first few rows to confirm the data is loaded correctly\n",
    "df_from_db.head()"
   ]
  },
  {
   "cell_type": "markdown",
   "metadata": {},
   "source": [
    "#### Why Store the Data in a Database?\n",
    "Storing the data in a database offers several advantages:\n",
    "\n",
    "1. **Security**: Databases can control access to data and prevent unauthorized use.\n",
    "\n",
    "2. **Scalability**: Databases are optimized for handling large datasets and complex queries.\n",
    "\n",
    "3. **Efficiency**: Querying data is faster in databases compared to reading from large flat files like CSVs."
   ]
  },
  {
   "cell_type": "markdown",
   "metadata": {},
   "source": [
    "### Step 4: Descriptive Analysis\n",
    "Once the data is stored, the next phase in the Machine Learning Flow is **Descriptive Analysis**. In this step, we calculate and examine basic statistical measures to understand the distribution and structure of the dataset.\n",
    "\n",
    "This analysis helps us gain a better sense of the data’s general characteristics, such as central tendencies, variability, and the presence of any outliers.\n",
    "\n",
    "Let's start by generating descriptive statistics for numerical and categorical variables.\n",
    "\n",
    "#### Descriptive Statistics for Numerical Variables\n",
    "The `.describe()` function will output summary statistics for numerical variables such as:\n",
    "\n",
    "- **Count**: The number of non-null entries.\n",
    "\n",
    "- **Mean**: The average value.\n",
    "\n",
    "- **Standard Deviation**: The spread of the data.\n",
    "\n",
    "- **Minimum and Maximum**: The range of the data.\n",
    "\n",
    "- **Quartiles**: The 25th, 50th (median), and 75th percentiles."
   ]
  },
  {
   "cell_type": "code",
   "execution_count": 20,
   "metadata": {},
   "outputs": [
    {
     "data": {
      "text/html": [
       "<div>\n",
       "<style scoped>\n",
       "    .dataframe tbody tr th:only-of-type {\n",
       "        vertical-align: middle;\n",
       "    }\n",
       "\n",
       "    .dataframe tbody tr th {\n",
       "        vertical-align: top;\n",
       "    }\n",
       "\n",
       "    .dataframe thead th {\n",
       "        text-align: right;\n",
       "    }\n",
       "</style>\n",
       "<table border=\"1\" class=\"dataframe\">\n",
       "  <thead>\n",
       "    <tr style=\"text-align: right;\">\n",
       "      <th></th>\n",
       "      <th>PassengerId</th>\n",
       "      <th>Survived</th>\n",
       "      <th>Pclass</th>\n",
       "      <th>Age</th>\n",
       "      <th>SibSp</th>\n",
       "      <th>Parch</th>\n",
       "      <th>Fare</th>\n",
       "    </tr>\n",
       "  </thead>\n",
       "  <tbody>\n",
       "    <tr>\n",
       "      <th>count</th>\n",
       "      <td>891.000000</td>\n",
       "      <td>891.000000</td>\n",
       "      <td>891.000000</td>\n",
       "      <td>714.000000</td>\n",
       "      <td>891.000000</td>\n",
       "      <td>891.000000</td>\n",
       "      <td>891.000000</td>\n",
       "    </tr>\n",
       "    <tr>\n",
       "      <th>mean</th>\n",
       "      <td>446.000000</td>\n",
       "      <td>0.383838</td>\n",
       "      <td>2.308642</td>\n",
       "      <td>29.699118</td>\n",
       "      <td>0.523008</td>\n",
       "      <td>0.381594</td>\n",
       "      <td>32.204208</td>\n",
       "    </tr>\n",
       "    <tr>\n",
       "      <th>std</th>\n",
       "      <td>257.353842</td>\n",
       "      <td>0.486592</td>\n",
       "      <td>0.836071</td>\n",
       "      <td>14.526497</td>\n",
       "      <td>1.102743</td>\n",
       "      <td>0.806057</td>\n",
       "      <td>49.693429</td>\n",
       "    </tr>\n",
       "    <tr>\n",
       "      <th>min</th>\n",
       "      <td>1.000000</td>\n",
       "      <td>0.000000</td>\n",
       "      <td>1.000000</td>\n",
       "      <td>0.420000</td>\n",
       "      <td>0.000000</td>\n",
       "      <td>0.000000</td>\n",
       "      <td>0.000000</td>\n",
       "    </tr>\n",
       "    <tr>\n",
       "      <th>25%</th>\n",
       "      <td>223.500000</td>\n",
       "      <td>0.000000</td>\n",
       "      <td>2.000000</td>\n",
       "      <td>20.125000</td>\n",
       "      <td>0.000000</td>\n",
       "      <td>0.000000</td>\n",
       "      <td>7.910400</td>\n",
       "    </tr>\n",
       "    <tr>\n",
       "      <th>50%</th>\n",
       "      <td>446.000000</td>\n",
       "      <td>0.000000</td>\n",
       "      <td>3.000000</td>\n",
       "      <td>28.000000</td>\n",
       "      <td>0.000000</td>\n",
       "      <td>0.000000</td>\n",
       "      <td>14.454200</td>\n",
       "    </tr>\n",
       "    <tr>\n",
       "      <th>75%</th>\n",
       "      <td>668.500000</td>\n",
       "      <td>1.000000</td>\n",
       "      <td>3.000000</td>\n",
       "      <td>38.000000</td>\n",
       "      <td>1.000000</td>\n",
       "      <td>0.000000</td>\n",
       "      <td>31.000000</td>\n",
       "    </tr>\n",
       "    <tr>\n",
       "      <th>max</th>\n",
       "      <td>891.000000</td>\n",
       "      <td>1.000000</td>\n",
       "      <td>3.000000</td>\n",
       "      <td>80.000000</td>\n",
       "      <td>8.000000</td>\n",
       "      <td>6.000000</td>\n",
       "      <td>512.329200</td>\n",
       "    </tr>\n",
       "  </tbody>\n",
       "</table>\n",
       "</div>"
      ],
      "text/plain": [
       "       PassengerId    Survived      Pclass         Age       SibSp  \\\n",
       "count   891.000000  891.000000  891.000000  714.000000  891.000000   \n",
       "mean    446.000000    0.383838    2.308642   29.699118    0.523008   \n",
       "std     257.353842    0.486592    0.836071   14.526497    1.102743   \n",
       "min       1.000000    0.000000    1.000000    0.420000    0.000000   \n",
       "25%     223.500000    0.000000    2.000000   20.125000    0.000000   \n",
       "50%     446.000000    0.000000    3.000000   28.000000    0.000000   \n",
       "75%     668.500000    1.000000    3.000000   38.000000    1.000000   \n",
       "max     891.000000    1.000000    3.000000   80.000000    8.000000   \n",
       "\n",
       "            Parch        Fare  \n",
       "count  891.000000  891.000000  \n",
       "mean     0.381594   32.204208  \n",
       "std      0.806057   49.693429  \n",
       "min      0.000000    0.000000  \n",
       "25%      0.000000    7.910400  \n",
       "50%      0.000000   14.454200  \n",
       "75%      0.000000   31.000000  \n",
       "max      6.000000  512.329200  "
      ]
     },
     "execution_count": 20,
     "metadata": {},
     "output_type": "execute_result"
    }
   ],
   "source": [
    "df.describe()"
   ]
  },
  {
   "cell_type": "markdown",
   "metadata": {},
   "source": [
    "#### Descriptive Statistics for Categorical Variables\n",
    "For categorical variables, we can examine how many distinct values each feature contains and how the values are distributed."
   ]
  },
  {
   "cell_type": "code",
   "execution_count": 21,
   "metadata": {},
   "outputs": [
    {
     "data": {
      "text/plain": [
       "Sex\n",
       "male      577\n",
       "female    314\n",
       "Name: count, dtype: int64"
      ]
     },
     "execution_count": 21,
     "metadata": {},
     "output_type": "execute_result"
    }
   ],
   "source": [
    "# Check the unique values in categorical columns\n",
    "df['Sex'].value_counts()"
   ]
  },
  {
   "cell_type": "markdown",
   "metadata": {},
   "source": [
    "Repeat this for other categorical columns like `Pclass`, `Embarked`, and `Survived` to understand the distribution of passengers by class, port of embarkation, and survival status."
   ]
  },
  {
   "cell_type": "code",
   "execution_count": 22,
   "metadata": {},
   "outputs": [
    {
     "data": {
      "text/plain": [
       "Pclass\n",
       "3    491\n",
       "1    216\n",
       "2    184\n",
       "Name: count, dtype: int64"
      ]
     },
     "execution_count": 22,
     "metadata": {},
     "output_type": "execute_result"
    }
   ],
   "source": [
    "df['Pclass'].value_counts()"
   ]
  },
  {
   "cell_type": "code",
   "execution_count": 23,
   "metadata": {},
   "outputs": [
    {
     "data": {
      "text/plain": [
       "Embarked\n",
       "S    644\n",
       "C    168\n",
       "Q     77\n",
       "Name: count, dtype: int64"
      ]
     },
     "execution_count": 23,
     "metadata": {},
     "output_type": "execute_result"
    }
   ],
   "source": [
    "df['Embarked'].value_counts()"
   ]
  },
  {
   "cell_type": "code",
   "execution_count": 24,
   "metadata": {},
   "outputs": [
    {
     "data": {
      "text/plain": [
       "Survived\n",
       "0    549\n",
       "1    342\n",
       "Name: count, dtype: int64"
      ]
     },
     "execution_count": 24,
     "metadata": {},
     "output_type": "execute_result"
    }
   ],
   "source": [
    "df['Survived'].value_counts()"
   ]
  },
  {
   "cell_type": "markdown",
   "metadata": {},
   "source": [
    "#### Visualizing Distributions\n",
    "To complement the summary statistics, it's important to visualize the distribution of the numerical features using histograms and boxplots. This will help us spot outliers and understand the spread of the data more clearly.\n",
    "\n",
    "##### 1. Histograms for Numerical Features:"
   ]
  },
  {
   "cell_type": "code",
   "execution_count": 25,
   "metadata": {},
   "outputs": [
    {
     "data": {
      "image/png": "[encoded data removed]",
      "text/plain": [
       "<Figure size 640x480 with 1 Axes>"
      ]
     },
     "metadata": {},
     "output_type": "display_data"
    }
   ],
   "source": [
    "import matplotlib.pyplot as plt\n",
    "import seaborn as sns\n",
    "\n",
    "# Plot a histogram for the 'Age' column\n",
    "sns.histplot(df['Age'], bins=30, kde=True)\n",
    "plt.title('Distribution of Age')\n",
    "plt.show()"
   ]
  },
  {
   "cell_type": "markdown",
   "metadata": {},
   "source": [
    "This plot will show the distribution of ages among passengers. You can create similar plots for other numerical columns, such as `Fare`."
   ]
  },
  {
   "cell_type": "code",
   "execution_count": 26,
   "metadata": {},
   "outputs": [
    {
     "data": {
      "image/png": "[encoded data removed]",
      "text/plain": [
       "<Figure size 640x480 with 1 Axes>"
      ]
     },
     "metadata": {},
     "output_type": "display_data"
    }
   ],
   "source": [
    "# Histogram for Fare\n",
    "sns.histplot(df['Fare'], bins=30, kde=True)\n",
    "plt.title('Distribution of Fare')\n",
    "plt.show()"
   ]
  },
  {
   "cell_type": "markdown",
   "metadata": {},
   "source": [
    "##### 2. Boxplots for Outlier Detection:\n",
    "Boxplots are useful for detecting outliers in the dataset. Let’s use a boxplot to examine the distribution of `Age` and spot any potential outliers."
   ]
  },
  {
   "cell_type": "code",
   "execution_count": 27,
   "metadata": {},
   "outputs": [
    {
     "data": {
      "image/png": "[encoded data removed]",
      "text/plain": [
       "<Figure size 640x480 with 1 Axes>"
      ]
     },
     "metadata": {},
     "output_type": "display_data"
    }
   ],
   "source": [
    "# Boxplot for Age\n",
    "sns.boxplot(x=df['Age'])\n",
    "plt.title('Boxplot of Age')\n",
    "plt.show()"
   ]
  },
  {
   "cell_type": "markdown",
   "metadata": {},
   "source": [
    "You can also create boxplots for `Fare` and other numerical features to check for outliers.\n",
    "\n",
    "#### Insights from Descriptive Analysis\n",
    "As you review the descriptive statistics and visualizations, you should start identifying patterns or potential issues:\n",
    "\n",
    "1. **Missing Data**: From the summary statistics, we can see that `Age` has missing values. We’ll need to handle this later.\n",
    "\n",
    "2. **Outliers**: The boxplot for `Fare` may show a few extreme values (outliers), which could affect the performance of machine learning models if left untreated.\n",
    "\n",
    "3. **Class Imbalance**: The survival rate can be checked to see if there is a class imbalance. If significantly more passengers did not survive than those who did, it might affect the model’s performance."
   ]
  },
  {
   "cell_type": "code",
   "execution_count": 28,
   "metadata": {},
   "outputs": [
    {
     "data": {
      "text/plain": [
       "Survived\n",
       "0    0.616162\n",
       "1    0.383838\n",
       "Name: proportion, dtype: float64"
      ]
     },
     "execution_count": 28,
     "metadata": {},
     "output_type": "execute_result"
    }
   ],
   "source": [
    "# Check the survival rate (class balance)\n",
    "df['Survived'].value_counts(normalize=True)"
   ]
  },
  {
   "cell_type": "markdown",
   "metadata": {},
   "source": [
    "This will output the percentage of passengers who survived vs. those who did not, helping you identify if class imbalance might be an issue for the model.\n",
    "\n",
    "#### Conclusion of Descriptive Analysis\n",
    "\n",
    "By performing descriptive analysis, we gain a clearer understanding of the dataset’s structure, and we can now move on to **Exploratory Data Analysis (EDA)**, where we’ll dive deeper into relationships between features and survival.\n",
    "\n",
    "Additionally, the insights from this step (like missing values or outliers) will guide how we handle the data in later steps, such as feature engineering and modeling."
   ]
  },
  {
   "cell_type": "markdown",
   "metadata": {},
   "source": [
    "### Step 5: Exploratory Data Analysis"
   ]
  }
 ],
 "metadata": {
  "kernelspec": {
   "display_name": "Python 3",
   "language": "python",
   "name": "python3"
  },
  "language_info": {
   "codemirror_mode": {
    "name": "ipython",
    "version": 3
   },
   "file_extension": ".py",
   "mimetype": "text/x-python",
   "name": "python",
   "nbconvert_exporter": "python",
   "pygments_lexer": "ipython3",
   "version": "3.12.1"
  }
 },
 "nbformat": 4,
 "nbformat_minor": 2
}
