{
 "cells": [
  {
   "cell_type": "markdown",
   "metadata": {},
   "source": [
    "# 01 - Prework Review"
   ]
  },
  {
   "cell_type": "markdown",
   "metadata": {},
   "source": [
    "## Basic Python Guide: `\"Hello, World!\"`\n",
    "Every programmer's journey with a new language often begins by writing their first simple program. In Python, this is traditionally done by printing the phrase **\"Hello, World!\"**.\n",
    "\n",
    "In Python, we use the `print()` function to display messages or output results to the screen. The `print()` function is incredibly versatile and can output text, numbers, variables, or even the results of computations.\n",
    "\n",
    "Let's start with the most basic example of Python code:"
   ]
  },
  {
   "cell_type": "code",
   "execution_count": 2,
   "metadata": {},
   "outputs": [
    {
     "name": "stdout",
     "output_type": "stream",
     "text": [
      "Hello, World!\n"
     ]
    }
   ],
   "source": [
    "print(\"Hello, World!\")"
   ]
  },
  {
   "cell_type": "markdown",
   "metadata": {},
   "source": [
    "**Understanding the Code:**\n",
    "\n",
    "- `print()` **function**: This is a built-in Python function used to output or display something on the screen.\n",
    "\n",
    "- **Quotation marks**: In Python, strings (text data) are enclosed in either double (`\"`) or single (`'`) quotation marks. In this case, we used double quotation marks to specify the text `\"Hello, World!\"` as the string we want to print.\n",
    "\n",
    "- **Parentheses**: The parentheses after the print keyword are necessary to enclose the value we want to display."
   ]
  },
  {
   "cell_type": "code",
   "execution_count": 4,
   "metadata": {},
   "outputs": [
    {
     "name": "stdout",
     "output_type": "stream",
     "text": [
      "Hello, World!\n"
     ]
    }
   ],
   "source": [
    "# Using single quotes works too\n",
    "print('Hello, World!')"
   ]
  },
  {
   "cell_type": "markdown",
   "metadata": {},
   "source": [
    "**Try it Yourself**:  \n",
    "\n",
    "If you're using a code editor, a Jupyter notebook, or even a simple Python interpreter, try running the following code to see \"Hello, World!\" printed on your screen:"
   ]
  },
  {
   "cell_type": "code",
   "execution_count": 6,
   "metadata": {},
   "outputs": [
    {
     "name": "stdout",
     "output_type": "stream",
     "text": [
      "Hello, World!\n"
     ]
    }
   ],
   "source": [
    "print(\"Hello, World!\")"
   ]
  },
  {
   "cell_type": "markdown",
   "metadata": {},
   "source": [
    "Now, try modifying it! What happens if you change the text inside the parentheses?"
   ]
  },
  {
   "cell_type": "code",
   "execution_count": 9,
   "metadata": {},
   "outputs": [
    {
     "name": "stdout",
     "output_type": "stream",
     "text": [
      "\n"
     ]
    }
   ],
   "source": [
    "# TODO: Modify the text inside the parentheses\n",
    "print()"
   ]
  },
  {
   "cell_type": "markdown",
   "metadata": {},
   "source": [
    "## Variables in Python\n",
    "In Python, a **variable** is like a container that stores information for use in your code. This information, or **data**, can be anything from a number to a string of text, a list of elements, or other data types. The value stored in a variable can change or \"vary\" over time, which is why they are called **variables**."
   ]
  },
  {
   "cell_type": "markdown",
   "metadata": {},
   "source": [
    "### Creating Variables\n",
    "To create a variable in Python, you simply give it a name and assign it a value using the **equals sign** (`=`). For example, let's create some variables to store information about a person:"
   ]
  },
  {
   "cell_type": "code",
   "execution_count": null,
   "metadata": {},
   "outputs": [],
   "source": [
    "name = \"John\"      # A string variable (text)\n",
    "age = 25           # An integer variable (whole number)\n",
    "height = 1.80      # A float variable (decimal number)\n",
    "is_student = True  # A boolean variable (True/False)"
   ]
  }
 ],
 "metadata": {
  "kernelspec": {
   "display_name": "Python 3",
   "language": "python",
   "name": "python3"
  },
  "language_info": {
   "codemirror_mode": {
    "name": "ipython",
    "version": 3
   },
   "file_extension": ".py",
   "mimetype": "text/x-python",
   "name": "python",
   "nbconvert_exporter": "python",
   "pygments_lexer": "ipython3",
   "version": "3.12.1"
  }
 },
 "nbformat": 4,
 "nbformat_minor": 2
}
