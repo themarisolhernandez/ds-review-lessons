{
 "cells": [
  {
   "cell_type": "markdown",
   "metadata": {},
   "source": [
    "# 15 - API Requests"
   ]
  },
  {
   "cell_type": "markdown",
   "metadata": {},
   "source": [
    "## What is an API?\n",
    "An **API (Application Programming Interface)** is a set of rules that allows different software applications to communicate with each other. APIs can be thought of as intermediaries that allow two applications to exchange data or services.\n",
    "\n",
    "In web development, APIs often allow a client (e.g., a web browser, a mobile app) to interact with a server to request information or perform actions.\n",
    "\n",
    "<p align=\"center\">\n",
    "  <figure align=\"center\">\n",
    "    <img src=\"imgs/api_requests1.jpg\" alt=\"Alt text\">\n",
    "    <figcaption>Source: altexsoft</figcaption>\n",
    "  </figure>\n",
    "</p>\n",
    "\n",
    "### Example: Weather App\n",
    "For example, when you use a weather app, your phone (the client) sends a request to a weather service (the server). The weather service processes the request and sends back data like the temperature, humidity, or forecast.\n",
    "\n",
    "<p align=\"center\">\n",
    "  <figure align=\"center\">\n",
    "    <img src=\"imgs/api_requests2.jpg\" alt=\"Alt text\">\n",
    "    <figcaption>Source: Zeolearn</figcaption>\n",
    "  </figure>\n",
    "</p>"
   ]
  },
  {
   "cell_type": "markdown",
   "metadata": {},
   "source": [
    "### How Does an API Work?\n",
    "There are three main steps in how an API works:\n",
    "\n",
    "1. **Call**: The client makes a request to the server. This is essentially asking the server for data or to perform an action.\n",
    "\n",
    "2.  **Implementation**: The server receives the request and processes it, often interacting with a database or another service to gather the necessary information.\n",
    "\n",
    "3. **Response**: The server sends a response back to the client. This could be the data requested, a confirmation that an action was completed, or an error message."
   ]
  },
  {
   "cell_type": "markdown",
   "metadata": {},
   "source": [
    "### Example: Dining in a Restaurant\n",
    "Imagine a restaurant where the customer (client) orders food. The waiter (API) takes the order to the kitchen (server). The kitchen prepares the food, and the waiter brings the food back to the customer.\n",
    "\n",
    "<p align=\"center\">\n",
    "  <figure align=\"center\">\n",
    "    <img src=\"imgs/api_requests3.png\" alt=\"Alt text\" width=\"700\" height=\"350\">\n",
    "    <figcaption>Source: GeeksForGeeks</figcaption>\n",
    "  </figure>\n",
    "</p>"
   ]
  },
  {
   "cell_type": "markdown",
   "metadata": {},
   "source": [
    "## HTTP Methods: The Language of APIs\n",
    "APIs on the web usually communicate using **HTTP (Hypertext Transfer Protocol)**. There are several common methods used to make requests to web APIs, and it’s essential to understand what each one does:\n",
    "\n",
    "- `GET`: Used to retrieve data from a server. It’s like asking for information without changing anything on the server. For example, when you visit a webpage, your browser sends a `GET` request to the server.\n",
    "\n",
    "- `POST`: Used to send data to the server, usually to create something new. For instance, submitting a form on a website (such as creating an account or posting a comment) sends a `POST` request.\n",
    "\n",
    "- `PUT`: Used to update an existing resource on the server. For example, if you want to change your profile information on a website, you’d send a `PUT` request.\n",
    "\n",
    "- `DELETE`: Used to remove a resource from the server. For instance, deleting a post or a comment on a social media site involves sending a `DELETE` request.\n",
    "\n",
    "Each method has a specific role in web communications, and understanding their differences is important when working with APIs."
   ]
  },
  {
   "cell_type": "markdown",
   "metadata": {},
   "source": [
    "### Example: Making a `GET` Request \n",
    "Let’s start by making a simple `GET` request using Python’s `requests` library to retrieve data from a public API."
   ]
  },
  {
   "cell_type": "code",
   "execution_count": 5,
   "metadata": {},
   "outputs": [
    {
     "name": "stdout",
     "output_type": "stream",
     "text": [
      "Status Code: 200\n",
      "{'userId': 1, 'id': 1, 'title': 'sunt aut facere repellat provident occaecati excepturi optio reprehenderit', 'body': 'quia et suscipit\\nsuscipit recusandae consequuntur expedita et cum\\nreprehenderit molestiae ut ut quas totam\\nnostrum rerum est autem sunt rem eveniet architecto'}\n"
     ]
    }
   ],
   "source": [
    "import requests\n",
    "\n",
    "# Making a GET request to a public API\n",
    "url = \"https://jsonplaceholder.typicode.com/posts/1\"  # A test API that returns a post\n",
    "response = requests.get(url)\n",
    "\n",
    "# Checking the status code to ensure the request was successful\n",
    "print(f\"Status Code: {response.status_code}\")\n",
    "\n",
    "# Displaying the response content in JSON format\n",
    "data = response.json()\n",
    "print(data)"
   ]
  },
  {
   "cell_type": "markdown",
   "metadata": {},
   "source": [
    "In this example, we send a `GET` request to the server, which responds with a JSON object containing data about a specific post."
   ]
  },
  {
   "cell_type": "markdown",
   "metadata": {},
   "source": [
    "## Understanding HTTP Status Codes\n",
    "When interacting with APIs, it's essential to understand the status codes that the server sends back in response to a request. These status codes tell us whether the request was successful or if something went wrong.\n",
    "\n",
    "- **2xx**: Success. The request was successfully received, understood, and accepted.\n",
    "    \n",
    "    - **200 OK**: The request was successful, and the server is returning the requested data.\n",
    "\n",
    "    - **201 Created**: The request was successful, and a new resource was created.\n",
    "\n",
    "- **4xx**: Client Error. The request was invalid or cannot be processed.\n",
    "\n",
    "    - **400 Bad Request**: The server couldn’t understand the request due to invalid syntax.\n",
    "\n",
    "    - **404 Not Found**: The requested resource couldn’t be found on the server.\n",
    "\n",
    "- **5xx**: Server Error. The server encountered a situation it doesn’t know how to handle.\n",
    "\n",
    "    - **500 Internal Server Error**: Something went wrong on the server’s side."
   ]
  },
  {
   "cell_type": "markdown",
   "metadata": {},
   "source": [
    "### Example: Handling Different Status Codes \n",
    "We can check the status code of a request and handle different responses accordingly:"
   ]
  },
  {
   "cell_type": "code",
   "execution_count": 6,
   "metadata": {},
   "outputs": [
    {
     "name": "stdout",
     "output_type": "stream",
     "text": [
      "Resource not found!\n"
     ]
    }
   ],
   "source": [
    "# Making a GET request to an invalid endpoint to trigger an error\n",
    "url = \"https://jsonplaceholder.typicode.com/invalid_endpoint\"\n",
    "response = requests.get(url)\n",
    "\n",
    "# Handling different status codes\n",
    "if response.status_code == 200:\n",
    "    print(\"Request was successful.\")\n",
    "    print(response.json())\n",
    "elif response.status_code == 404:\n",
    "    print(\"Resource not found!\")\n",
    "else:\n",
    "    print(f\"Error: Received status code {response.status_code}\")"
   ]
  },
  {
   "cell_type": "markdown",
   "metadata": {},
   "source": [
    "In this example, if the API endpoint doesn’t exist, we will receive a 404 status code, indicating the resource couldn’t be found."
   ]
  },
  {
   "cell_type": "markdown",
   "metadata": {},
   "source": [
    "## Making Different Types of API Requests\n",
    "Now that we’ve covered `GET` requests and status codes, let’s explore how to make other types of requests, such as `POST`, `PUT`, and `DELETE`.\n",
    "\n",
    "1. **`POST` Request**: Used to create a new resource on the server, such as submitting data or creating a new user.\n",
    "\n",
    "    - **Example: Sending a `POST` Request**"
   ]
  },
  {
   "cell_type": "code",
   "execution_count": 7,
   "metadata": {},
   "outputs": [
    {
     "name": "stdout",
     "output_type": "stream",
     "text": [
      "Status Code: 201\n",
      "{'title': 'My New Post', 'body': 'This is the content of my new post.', 'userId': 1, 'id': 101}\n"
     ]
    }
   ],
   "source": [
    "# Example of sending a POST request to create a new post\n",
    "url = \"https://jsonplaceholder.typicode.com/posts\"\n",
    "payload = {\n",
    "    \"title\": \"My New Post\",\n",
    "    \"body\": \"This is the content of my new post.\",\n",
    "    \"userId\": 1\n",
    "}\n",
    "response = requests.post(url, json=payload)\n",
    "\n",
    "# Checking the status code\n",
    "print(f\"Status Code: {response.status_code}\")\n",
    "\n",
    "# Displaying the response content\n",
    "print(response.json())"
   ]
  },
  {
   "cell_type": "markdown",
   "metadata": {},
   "source": [
    "In this case, we send data to the server, and the server creates a new resource (a new post). The server responds with a status code (201 Created) and returns the newly created data.\n",
    "\n",
    "2. **`PUT` Request**: Used to update an existing resource on the server.\n",
    "\n",
    "    - **Example: Sending a `PUT` Request**"
   ]
  },
  {
   "cell_type": "code",
   "execution_count": 8,
   "metadata": {},
   "outputs": [
    {
     "name": "stdout",
     "output_type": "stream",
     "text": [
      "Status Code: 200\n",
      "{'title': 'Updated Title', 'body': 'This is the updated content.', 'userId': 1, 'id': 1}\n"
     ]
    }
   ],
   "source": [
    " # Example of sending a PUT request to update an existing post\n",
    "url = \"https://jsonplaceholder.typicode.com/posts/1\"\n",
    "updated_payload = {\n",
    "    \"title\": \"Updated Title\",\n",
    "    \"body\": \"This is the updated content.\",\n",
    "    \"userId\": 1\n",
    "}\n",
    "response = requests.put(url, json=updated_payload)\n",
    "\n",
    "# Checking the status code\n",
    "print(f\"Status Code: {response.status_code}\")\n",
    "\n",
    "# Displaying the updated content\n",
    "print(response.json())"
   ]
  },
  {
   "cell_type": "markdown",
   "metadata": {},
   "source": [
    "Here, we update the post with new content. The server responds with the updated data.\n",
    "\n",
    "3. **`DELETE` Request**: Used to delete a resource from the server.\n",
    "\n",
    "    - **Example: Sending a `DELETE` Request**"
   ]
  },
  {
   "cell_type": "code",
   "execution_count": 9,
   "metadata": {},
   "outputs": [
    {
     "name": "stdout",
     "output_type": "stream",
     "text": [
      "Status Code: 200\n",
      "The post was successfully deleted.\n"
     ]
    }
   ],
   "source": [
    "# Example of sending a DELETE request to remove a post\n",
    "url = \"https://jsonplaceholder.typicode.com/posts/1\"\n",
    "response = requests.delete(url)\n",
    "\n",
    "# Checking the status code\n",
    "print(f\"Status Code: {response.status_code}\")\n",
    "\n",
    "# Confirming deletion\n",
    "if response.status_code == 200:\n",
    "    print(\"The post was successfully deleted.\")"
   ]
  },
  {
   "cell_type": "markdown",
   "metadata": {},
   "source": [
    "## Handling API Errors and Exceptions\n",
    "When making API requests, it’s important to handle errors gracefully to prevent your program from crashing. Python’s `requests` library allows us to handle different types of exceptions, such as timeouts, invalid URLs, or network errors.\n",
    "\n",
    "### Common Error Types:\n",
    "- **Timeout**: The server took too long to respond.\n",
    "\n",
    "- **ConnectionError**: There was a problem with the network connection.\n",
    "\n",
    "- **HTTPError**: The server returned an error response.\n",
    "\n",
    "### Example: Handling Exceptions"
   ]
  },
  {
   "cell_type": "code",
   "execution_count": 10,
   "metadata": {},
   "outputs": [
    {
     "name": "stdout",
     "output_type": "stream",
     "text": [
      "Request was successful!\n",
      "{'userId': 1, 'id': 1, 'title': 'sunt aut facere repellat provident occaecati excepturi optio reprehenderit', 'body': 'quia et suscipit\\nsuscipit recusandae consequuntur expedita et cum\\nreprehenderit molestiae ut ut quas totam\\nnostrum rerum est autem sunt rem eveniet architecto'}\n"
     ]
    }
   ],
   "source": [
    "url = \"https://jsonplaceholder.typicode.com/posts/1\"\n",
    "\n",
    "try:\n",
    "    response = requests.get(url, timeout=5)  # Timeout of 5 seconds\n",
    "    response.raise_for_status()  # Raises an HTTPError for bad status codes\n",
    "except requests.exceptions.Timeout:\n",
    "    print(\"The request timed out.\")\n",
    "except requests.exceptions.HTTPError as err:\n",
    "    print(f\"HTTP error occurred: {err}\")\n",
    "except requests.exceptions.RequestException as err:\n",
    "    print(f\"An error occurred: {err}\")\n",
    "else:\n",
    "    print(\"Request was successful!\")\n",
    "    print(response.json())"
   ]
  },
  {
   "cell_type": "markdown",
   "metadata": {},
   "source": [
    "In this example, we use `try-except` blocks to catch various types of errors that could occur during an API request. This way, our program won’t crash if something goes wrong."
   ]
  },
  {
   "cell_type": "markdown",
   "metadata": {},
   "source": [
    "## API Requests with Authentication\n",
    "While many public APIs allow you to access data without authentication, some APIs require you to register and obtain credentials to use their services. \n",
    "\n",
    "These credentials often include a `CLIENT_ID` and a `CLIENT_SECRET`. Authentication ensures that the API provider can monitor usage, enforce rate limits, and protect data."
   ]
  },
  {
   "cell_type": "markdown",
   "metadata": {},
   "source": [
    "### Why Use Authenticated APIs?\n",
    "- **Access to More Features**: Authenticated APIs often provide access to additional endpoints and data.\n",
    "\n",
    "- **Rate Limits**: Authenticated requests may have higher rate limits compared to anonymous ones.\n",
    "\n",
    "- **Security**: Authentication helps protect sensitive data and ensures that only authorized users can access certain resources."
   ]
  },
  {
   "cell_type": "markdown",
   "metadata": {},
   "source": [
    "### Example: Setting Up Access to Spotify's API\n",
    "\n",
    "#### Step 1: Register for a Spotify Developer Account\n",
    "1. Go to the [Spotify Developer Dashboard](https://developer.spotify.com/dashboard).\n",
    "\n",
    "2. Log in with your Spotify account or create one if you don't have it.\n",
    "\n",
    "3. Accept the terms and conditions."
   ]
  },
  {
   "cell_type": "markdown",
   "metadata": {},
   "source": [
    "#### Step 2: Create a New Application\n",
    "1. Click on **\"Create an App\"**.\n",
    "\n",
    "2. Provide an **App Name** and **App Description** (e.g., \"My Practice App\").\n",
    "\n",
    "    - **NOTE**: As we are not going to use this API from any other web application, leave the **Redirect URI** field as `http://localhost/`\n",
    "\n",
    "3. Select **Web API** and agree to the terms and conditions.\n",
    "\n",
    "3. Click **\"Save\"**.\n",
    "\n",
    "<p align=\"center\">\n",
    "    <img src=\"imgs/api_requests4.png\" alt=\"Alt text\">\n",
    "</p>"
   ]
  },
  {
   "cell_type": "markdown",
   "metadata": {},
   "source": [
    "### Step 3: Obtaining `CLIENT_ID` and `CLIENT_SECRET`\n",
    "\n",
    "1. After creating the app, you'll be redirected to the app's dashboard.\n",
    "\n",
    "2. In the **Settings** section, you's finnd your **Client ID** and **Client Secret**\n",
    "\n",
    "    - **Client ID**: A public identifier for your app.\n",
    "\n",
    "    - **Client Secret**: A secret known only to your app and the authorization server.\n",
    "\n",
    "<p align=\"center\">\n",
    "    <img src=\"imgs/api_requests5.png\" alt=\"Alt text\">\n",
    "</p>"
   ]
  },
  {
   "cell_type": "markdown",
   "metadata": {},
   "source": [
    "3. **Important Note**: Keep your `CLIENT_SECRET` confidential. Do not share it publicly or commit it to version control systems like GitHub. As we saw in the previous project, you can easily do this by creating a `.env` file in the root directory of your project. Create an `.env` file in your project and add your secret keys or passwords:\n",
    "\n",
    "    ```python\n",
    "    CLIENT_ID=\"insert your client key\"\n",
    "    CLIENT_SECRET=\"insert your client secret\"\n",
    "    ```\n",
    "\n",
    "    - **ANOTHER NOTE**: Be sure to add the `.env` inside your `.gitignore` file, which is not saved in source control, so that you are not putting potentially sensitive information at risk.\n",
    "\n",
    "4. Now, you must install `python-dotenv`. This is a Python package that allows your Python application to read a `.env` file. This package will look for a `.env` and, if found, expose the variables it contains to the application."
   ]
  },
  {
   "cell_type": "code",
   "execution_count": 11,
   "metadata": {},
   "outputs": [
    {
     "name": "stdout",
     "output_type": "stream",
     "text": [
      "Requirement already satisfied: python-dotenv in /usr/local/python/3.12.1/lib/python3.12/site-packages (1.0.1)\n"
     ]
    }
   ],
   "source": [
    "!pip install python-dotenv"
   ]
  },
  {
   "cell_type": "markdown",
   "metadata": {},
   "source": [
    "5. Finally, you can read your `CLIENT_ID` and `CLIENT_SECRET` and store them in variables."
   ]
  },
  {
   "cell_type": "code",
   "execution_count": 12,
   "metadata": {},
   "outputs": [],
   "source": [
    "from dotenv import load_dotenv\n",
    "load_dotenv()\n",
    "\n",
    "import os\n",
    "\n",
    "client_id = os.environ.get(\"CLIENT_ID\")\n",
    "client_secret = os.environ.get(\"CLIENT_SECRET\")"
   ]
  },
  {
   "cell_type": "markdown",
   "metadata": {},
   "source": [
    "### Step 4: Obtaining an Access Token\n",
    "Spotify uses OAuth 2.0's Client Credentials Flow to obtain an access token, which is required to make API requests. Below, we use our credentials to generate the access token:"
   ]
  },
  {
   "cell_type": "code",
   "execution_count": 13,
   "metadata": {},
   "outputs": [
    {
     "name": "stdout",
     "output_type": "stream",
     "text": [
      "Access token obtained!\n"
     ]
    }
   ],
   "source": [
    "import base64\n",
    "\n",
    "# Encode the client credentials\n",
    "client_credentials = f\"{client_id}:{client_secret}\"\n",
    "client_credentials_base64 = base64.b64encode(client_credentials.encode())\n",
    "\n",
    "# Prepare the token request\n",
    "token_url = \"https://accounts.spotify.com/api/token\"\n",
    "headers = {\n",
    "    \"Authorization\": f\"Basic {client_credentials_base64.decode()}\"\n",
    "}\n",
    "data = {\n",
    "    \"grant_type\": \"client_credentials\"\n",
    "}\n",
    "\n",
    "# Request access token\n",
    "response = requests.post(token_url, headers=headers, data=data)\n",
    "\n",
    "# Check if the request was successful\n",
    "if response.status_code == 200:\n",
    "    access_token = response.json()['access_token']\n",
    "    print(\"Access token obtained!\")\n",
    "else:\n",
    "    print(f\"Failed to obtain access token. Status code: {response.status_code}\")\n",
    "    print(response.text)"
   ]
  },
  {
   "cell_type": "markdown",
   "metadata": {},
   "source": [
    "The **access token** is a string which contains the credentials and permissions that can be used to access a given resource (e.g artists, albums or tracks) or user's data (e.g your profile or your playlists)."
   ]
  },
  {
   "cell_type": "code",
   "execution_count": 16,
   "metadata": {},
   "outputs": [],
   "source": [
    "# access_token"
   ]
  },
  {
   "cell_type": "markdown",
   "metadata": {},
   "source": [
    "To use the access token you must include the following header in your API calls:\n",
    "\n",
    "<p align=\"center\">\n",
    "  <figure align=\"center\">\n",
    "    <img src=\"imgs/api_requests6.png\" alt=\"Alt text\">\n",
    "    <figcaption>Source: <a href=\"https://developer.spotify.com/documentation/web-api/concepts/access-token\" target=\"_blank\">Access Token | Spotify</a></figcaption>\n",
    "  </figure>\n",
    "</p>\n",
    "\n",
    "- **Note**: that the access token is valid for 1 hour (3600 seconds). After that time, the token expires and you need to request a new one."
   ]
  },
  {
   "cell_type": "markdown",
   "metadata": {},
   "source": [
    "#### Step 5: Searching for an Artist\n",
    "Once you have the access token, you can use it to authenticate API requests. Here’s how to search for an artist on Spotify using the `access_token`."
   ]
  },
  {
   "cell_type": "code",
   "execution_count": 20,
   "metadata": {},
   "outputs": [
    {
     "name": "stdout",
     "output_type": "stream",
     "text": [
      "Response Data: {'artists': {'href': 'https://api.spotify.com/v1/search?query=Taylor+Swift&type=artist&offset=0&limit=1', 'items': [{'external_urls': {'spotify': 'https://open.spotify.com/artist/06HL4z0CvFAxyc27GXpf02'}, 'followers': {'href': None, 'total': 122944370}, 'genres': ['pop'], 'href': 'https://api.spotify.com/v1/artists/06HL4z0CvFAxyc27GXpf02', 'id': '06HL4z0CvFAxyc27GXpf02', 'images': [{'height': 640, 'url': 'https://i.scdn.co/image/ab6761610000e5ebe672b5f553298dcdccb0e676', 'width': 640}, {'height': 320, 'url': 'https://i.scdn.co/image/ab67616100005174e672b5f553298dcdccb0e676', 'width': 320}, {'height': 160, 'url': 'https://i.scdn.co/image/ab6761610000f178e672b5f553298dcdccb0e676', 'width': 160}], 'name': 'Taylor Swift', 'popularity': 100, 'type': 'artist', 'uri': 'spotify:artist:06HL4z0CvFAxyc27GXpf02'}], 'limit': 1, 'next': 'https://api.spotify.com/v1/search?query=Taylor+Swift&type=artist&offset=1&limit=1', 'offset': 0, 'previous': None, 'total': 834}}\n"
     ]
    }
   ],
   "source": [
    "# Set the access token in the headers\n",
    "headers = {\n",
    "    \"Authorization\": f\"Bearer {access_token}\"\n",
    "}\n",
    "\n",
    "# Define the endpoint and parameters\n",
    "search_url = \"https://api.spotify.com/v1/search\"\n",
    "params = {\n",
    "    \"q\": \"Taylor Swift\",  # Artist name to search for\n",
    "    \"type\": \"artist\",\n",
    "    \"limit\": 1\n",
    "}\n",
    "\n",
    "# Make the API request to search for the artist\n",
    "response = requests.get(search_url, headers=headers, params=params)\n",
    "\n",
    "# Check if the request was successful\n",
    "if response.status_code == 200:\n",
    "    response_data = response.json()\n",
    "    print(f\"Response Data: {response_data}\")\n",
    "    artist_id = response_data['artists']['items'][0]['id']\n",
    "    artist_name = response_data['artists']['items'][0]['name']\n",
    "    # print(f\"Found artist: {artist_name} (ID: {artist_id})\")\n",
    "else:\n",
    "    print(f\"Failed to search for artist. Status code: {response.status_code}\")\n",
    "    print(response.text)"
   ]
  },
  {
   "cell_type": "markdown",
   "metadata": {},
   "source": [
    "#### Step 6: Retrieving the Artist's Top Tracks"
   ]
  },
  {
   "cell_type": "code",
   "execution_count": 25,
   "metadata": {},
   "outputs": [
    {
     "name": "stdout",
     "output_type": "stream",
     "text": [
      "Top tracks for Taylor Swift:\n",
      "Track data: {'album': {'album_type': 'album', 'artists': [{'external_urls': {'spotify': 'https://open.spotify.com/artist/06HL4z0CvFAxyc27GXpf02'}, 'href': 'https://api.spotify.com/v1/artists/06HL4z0CvFAxyc27GXpf02', 'id': '06HL4z0CvFAxyc27GXpf02', 'name': 'Taylor Swift', 'type': 'artist', 'uri': 'spotify:artist:06HL4z0CvFAxyc27GXpf02'}], 'external_urls': {'spotify': 'https://open.spotify.com/album/1NAmidJlEaVgA3MpcPFYGq'}, 'href': 'https://api.spotify.com/v1/albums/1NAmidJlEaVgA3MpcPFYGq', 'id': '1NAmidJlEaVgA3MpcPFYGq', 'images': [{'url': 'https://i.scdn.co/image/ab67616d0000b273e787cffec20aa2a396a61647', 'width': 640, 'height': 640}, {'url': 'https://i.scdn.co/image/ab67616d00001e02e787cffec20aa2a396a61647', 'width': 300, 'height': 300}, {'url': 'https://i.scdn.co/image/ab67616d00004851e787cffec20aa2a396a61647', 'width': 64, 'height': 64}], 'is_playable': True, 'name': 'Lover', 'release_date': '2019-08-23', 'release_date_precision': 'day', 'total_tracks': 18, 'type': 'album', 'uri': 'spotify:album:1NAmidJlEaVgA3MpcPFYGq'}, 'artists': [{'external_urls': {'spotify': 'https://open.spotify.com/artist/06HL4z0CvFAxyc27GXpf02'}, 'href': 'https://api.spotify.com/v1/artists/06HL4z0CvFAxyc27GXpf02', 'id': '06HL4z0CvFAxyc27GXpf02', 'name': 'Taylor Swift', 'type': 'artist', 'uri': 'spotify:artist:06HL4z0CvFAxyc27GXpf02'}], 'disc_number': 1, 'duration_ms': 178426, 'explicit': False, 'external_ids': {'isrc': 'USUG11901472'}, 'external_urls': {'spotify': 'https://open.spotify.com/track/1BxfuPKGuaTgP7aM0Bbdwr'}, 'href': 'https://api.spotify.com/v1/tracks/1BxfuPKGuaTgP7aM0Bbdwr', 'id': '1BxfuPKGuaTgP7aM0Bbdwr', 'is_local': False, 'is_playable': True, 'name': 'Cruel Summer', 'popularity': 90, 'track_number': 2, 'type': 'track', 'uri': 'spotify:track:1BxfuPKGuaTgP7aM0Bbdwr'}\n",
      "Track data: {'album': {'album_type': 'album', 'artists': [{'external_urls': {'spotify': 'https://open.spotify.com/artist/06HL4z0CvFAxyc27GXpf02'}, 'href': 'https://api.spotify.com/v1/artists/06HL4z0CvFAxyc27GXpf02', 'id': '06HL4z0CvFAxyc27GXpf02', 'name': 'Taylor Swift', 'type': 'artist', 'uri': 'spotify:artist:06HL4z0CvFAxyc27GXpf02'}], 'external_urls': {'spotify': 'https://open.spotify.com/album/1Mo4aZ8pdj6L1jx8zSwJnt'}, 'href': 'https://api.spotify.com/v1/albums/1Mo4aZ8pdj6L1jx8zSwJnt', 'id': '1Mo4aZ8pdj6L1jx8zSwJnt', 'images': [{'url': 'https://i.scdn.co/image/ab67616d0000b2735076e4160d018e378f488c33', 'width': 640, 'height': 640}, {'url': 'https://i.scdn.co/image/ab67616d00001e025076e4160d018e378f488c33', 'width': 300, 'height': 300}, {'url': 'https://i.scdn.co/image/ab67616d000048515076e4160d018e378f488c33', 'width': 64, 'height': 64}], 'is_playable': True, 'name': 'THE TORTURED POETS DEPARTMENT', 'release_date': '2024-04-18', 'release_date_precision': 'day', 'total_tracks': 16, 'type': 'album', 'uri': 'spotify:album:1Mo4aZ8pdj6L1jx8zSwJnt'}, 'artists': [{'external_urls': {'spotify': 'https://open.spotify.com/artist/06HL4z0CvFAxyc27GXpf02'}, 'href': 'https://api.spotify.com/v1/artists/06HL4z0CvFAxyc27GXpf02', 'id': '06HL4z0CvFAxyc27GXpf02', 'name': 'Taylor Swift', 'type': 'artist', 'uri': 'spotify:artist:06HL4z0CvFAxyc27GXpf02'}, {'external_urls': {'spotify': 'https://open.spotify.com/artist/246dkjvS1zLTtiykXe5h60'}, 'href': 'https://api.spotify.com/v1/artists/246dkjvS1zLTtiykXe5h60', 'id': '246dkjvS1zLTtiykXe5h60', 'name': 'Post Malone', 'type': 'artist', 'uri': 'spotify:artist:246dkjvS1zLTtiykXe5h60'}], 'disc_number': 1, 'duration_ms': 228965, 'explicit': False, 'external_ids': {'isrc': 'USUG12401028'}, 'external_urls': {'spotify': 'https://open.spotify.com/track/2OzhQlSqBEmt7hmkYxfT6m'}, 'href': 'https://api.spotify.com/v1/tracks/2OzhQlSqBEmt7hmkYxfT6m', 'id': '2OzhQlSqBEmt7hmkYxfT6m', 'is_local': False, 'is_playable': True, 'name': 'Fortnight (feat. Post Malone)', 'popularity': 87, 'track_number': 1, 'type': 'track', 'uri': 'spotify:track:2OzhQlSqBEmt7hmkYxfT6m'}\n",
      "Track data: {'album': {'album_type': 'album', 'artists': [{'external_urls': {'spotify': 'https://open.spotify.com/artist/06HL4z0CvFAxyc27GXpf02'}, 'href': 'https://api.spotify.com/v1/artists/06HL4z0CvFAxyc27GXpf02', 'id': '06HL4z0CvFAxyc27GXpf02', 'name': 'Taylor Swift', 'type': 'artist', 'uri': 'spotify:artist:06HL4z0CvFAxyc27GXpf02'}], 'external_urls': {'spotify': 'https://open.spotify.com/album/1Mo4aZ8pdj6L1jx8zSwJnt'}, 'href': 'https://api.spotify.com/v1/albums/1Mo4aZ8pdj6L1jx8zSwJnt', 'id': '1Mo4aZ8pdj6L1jx8zSwJnt', 'images': [{'url': 'https://i.scdn.co/image/ab67616d0000b2735076e4160d018e378f488c33', 'width': 640, 'height': 640}, {'url': 'https://i.scdn.co/image/ab67616d00001e025076e4160d018e378f488c33', 'width': 300, 'height': 300}, {'url': 'https://i.scdn.co/image/ab67616d000048515076e4160d018e378f488c33', 'width': 64, 'height': 64}], 'is_playable': True, 'name': 'THE TORTURED POETS DEPARTMENT', 'release_date': '2024-04-18', 'release_date_precision': 'day', 'total_tracks': 16, 'type': 'album', 'uri': 'spotify:album:1Mo4aZ8pdj6L1jx8zSwJnt'}, 'artists': [{'external_urls': {'spotify': 'https://open.spotify.com/artist/06HL4z0CvFAxyc27GXpf02'}, 'href': 'https://api.spotify.com/v1/artists/06HL4z0CvFAxyc27GXpf02', 'id': '06HL4z0CvFAxyc27GXpf02', 'name': 'Taylor Swift', 'type': 'artist', 'uri': 'spotify:artist:06HL4z0CvFAxyc27GXpf02'}], 'disc_number': 1, 'duration_ms': 218004, 'explicit': True, 'external_ids': {'isrc': 'USUG12401040'}, 'external_urls': {'spotify': 'https://open.spotify.com/track/4q5YezDOIPcoLr8R81x9qy'}, 'href': 'https://api.spotify.com/v1/tracks/4q5YezDOIPcoLr8R81x9qy', 'id': '4q5YezDOIPcoLr8R81x9qy', 'is_local': False, 'is_playable': True, 'name': 'I Can Do It With a Broken Heart', 'popularity': 85, 'track_number': 13, 'type': 'track', 'uri': 'spotify:track:4q5YezDOIPcoLr8R81x9qy'}\n",
      "Track data: {'album': {'album_type': 'album', 'artists': [{'external_urls': {'spotify': 'https://open.spotify.com/artist/06HL4z0CvFAxyc27GXpf02'}, 'href': 'https://api.spotify.com/v1/artists/06HL4z0CvFAxyc27GXpf02', 'id': '06HL4z0CvFAxyc27GXpf02', 'name': 'Taylor Swift', 'type': 'artist', 'uri': 'spotify:artist:06HL4z0CvFAxyc27GXpf02'}], 'external_urls': {'spotify': 'https://open.spotify.com/album/2fenSS68JI1h4Fo296JfGr'}, 'href': 'https://api.spotify.com/v1/albums/2fenSS68JI1h4Fo296JfGr', 'id': '2fenSS68JI1h4Fo296JfGr', 'images': [{'url': 'https://i.scdn.co/image/ab67616d0000b27395f754318336a07e85ec59bc', 'width': 640, 'height': 640}, {'url': 'https://i.scdn.co/image/ab67616d00001e0295f754318336a07e85ec59bc', 'width': 300, 'height': 300}, {'url': 'https://i.scdn.co/image/ab67616d0000485195f754318336a07e85ec59bc', 'width': 64, 'height': 64}], 'is_playable': True, 'name': 'folklore', 'release_date': '2020-07-24', 'release_date_precision': 'day', 'total_tracks': 16, 'type': 'album', 'uri': 'spotify:album:2fenSS68JI1h4Fo296JfGr'}, 'artists': [{'external_urls': {'spotify': 'https://open.spotify.com/artist/06HL4z0CvFAxyc27GXpf02'}, 'href': 'https://api.spotify.com/v1/artists/06HL4z0CvFAxyc27GXpf02', 'id': '06HL4z0CvFAxyc27GXpf02', 'name': 'Taylor Swift', 'type': 'artist', 'uri': 'spotify:artist:06HL4z0CvFAxyc27GXpf02'}], 'disc_number': 1, 'duration_ms': 261922, 'explicit': False, 'external_ids': {'isrc': 'USUG12002842'}, 'external_urls': {'spotify': 'https://open.spotify.com/track/3hUxzQpSfdDqwM3ZTFQY0K'}, 'href': 'https://api.spotify.com/v1/tracks/3hUxzQpSfdDqwM3ZTFQY0K', 'id': '3hUxzQpSfdDqwM3ZTFQY0K', 'is_local': False, 'is_playable': True, 'name': 'august', 'popularity': 85, 'track_number': 8, 'type': 'track', 'uri': 'spotify:track:3hUxzQpSfdDqwM3ZTFQY0K'}\n",
      "Track data: {'album': {'album_type': 'album', 'artists': [{'external_urls': {'spotify': 'https://open.spotify.com/artist/06HL4z0CvFAxyc27GXpf02'}, 'href': 'https://api.spotify.com/v1/artists/06HL4z0CvFAxyc27GXpf02', 'id': '06HL4z0CvFAxyc27GXpf02', 'name': 'Taylor Swift', 'type': 'artist', 'uri': 'spotify:artist:06HL4z0CvFAxyc27GXpf02'}], 'external_urls': {'spotify': 'https://open.spotify.com/album/1NAmidJlEaVgA3MpcPFYGq'}, 'href': 'https://api.spotify.com/v1/albums/1NAmidJlEaVgA3MpcPFYGq', 'id': '1NAmidJlEaVgA3MpcPFYGq', 'images': [{'url': 'https://i.scdn.co/image/ab67616d0000b273e787cffec20aa2a396a61647', 'width': 640, 'height': 640}, {'url': 'https://i.scdn.co/image/ab67616d00001e02e787cffec20aa2a396a61647', 'width': 300, 'height': 300}, {'url': 'https://i.scdn.co/image/ab67616d00004851e787cffec20aa2a396a61647', 'width': 64, 'height': 64}], 'is_playable': True, 'name': 'Lover', 'release_date': '2019-08-23', 'release_date_precision': 'day', 'total_tracks': 18, 'type': 'album', 'uri': 'spotify:album:1NAmidJlEaVgA3MpcPFYGq'}, 'artists': [{'external_urls': {'spotify': 'https://open.spotify.com/artist/06HL4z0CvFAxyc27GXpf02'}, 'href': 'https://api.spotify.com/v1/artists/06HL4z0CvFAxyc27GXpf02', 'id': '06HL4z0CvFAxyc27GXpf02', 'name': 'Taylor Swift', 'type': 'artist', 'uri': 'spotify:artist:06HL4z0CvFAxyc27GXpf02'}], 'disc_number': 1, 'duration_ms': 221306, 'explicit': False, 'external_ids': {'isrc': 'USUG11901473'}, 'external_urls': {'spotify': 'https://open.spotify.com/track/1dGr1c8CrMLDpV6mPbImSI'}, 'href': 'https://api.spotify.com/v1/tracks/1dGr1c8CrMLDpV6mPbImSI', 'id': '1dGr1c8CrMLDpV6mPbImSI', 'is_local': False, 'is_playable': True, 'name': 'Lover', 'popularity': 85, 'track_number': 3, 'type': 'track', 'uri': 'spotify:track:1dGr1c8CrMLDpV6mPbImSI'}\n",
      "Track data: {'album': {'album_type': 'album', 'artists': [{'external_urls': {'spotify': 'https://open.spotify.com/artist/06HL4z0CvFAxyc27GXpf02'}, 'href': 'https://api.spotify.com/v1/artists/06HL4z0CvFAxyc27GXpf02', 'id': '06HL4z0CvFAxyc27GXpf02', 'name': 'Taylor Swift', 'type': 'artist', 'uri': 'spotify:artist:06HL4z0CvFAxyc27GXpf02'}], 'external_urls': {'spotify': 'https://open.spotify.com/album/2fenSS68JI1h4Fo296JfGr'}, 'href': 'https://api.spotify.com/v1/albums/2fenSS68JI1h4Fo296JfGr', 'id': '2fenSS68JI1h4Fo296JfGr', 'images': [{'url': 'https://i.scdn.co/image/ab67616d0000b27395f754318336a07e85ec59bc', 'width': 640, 'height': 640}, {'url': 'https://i.scdn.co/image/ab67616d00001e0295f754318336a07e85ec59bc', 'width': 300, 'height': 300}, {'url': 'https://i.scdn.co/image/ab67616d0000485195f754318336a07e85ec59bc', 'width': 64, 'height': 64}], 'is_playable': True, 'name': 'folklore', 'release_date': '2020-07-24', 'release_date_precision': 'day', 'total_tracks': 16, 'type': 'album', 'uri': 'spotify:album:2fenSS68JI1h4Fo296JfGr'}, 'artists': [{'external_urls': {'spotify': 'https://open.spotify.com/artist/06HL4z0CvFAxyc27GXpf02'}, 'href': 'https://api.spotify.com/v1/artists/06HL4z0CvFAxyc27GXpf02', 'id': '06HL4z0CvFAxyc27GXpf02', 'name': 'Taylor Swift', 'type': 'artist', 'uri': 'spotify:artist:06HL4z0CvFAxyc27GXpf02'}], 'disc_number': 1, 'duration_ms': 239560, 'explicit': False, 'external_ids': {'isrc': 'USUG12002836'}, 'external_urls': {'spotify': 'https://open.spotify.com/track/4R2kfaDFhslZEMJqAFNpdd'}, 'href': 'https://api.spotify.com/v1/tracks/4R2kfaDFhslZEMJqAFNpdd', 'id': '4R2kfaDFhslZEMJqAFNpdd', 'is_local': False, 'is_playable': True, 'name': 'cardigan', 'popularity': 84, 'track_number': 2, 'type': 'track', 'uri': 'spotify:track:4R2kfaDFhslZEMJqAFNpdd'}\n",
      "Track data: {'album': {'album_type': 'album', 'artists': [{'external_urls': {'spotify': 'https://open.spotify.com/artist/06HL4z0CvFAxyc27GXpf02'}, 'href': 'https://api.spotify.com/v1/artists/06HL4z0CvFAxyc27GXpf02', 'id': '06HL4z0CvFAxyc27GXpf02', 'name': 'Taylor Swift', 'type': 'artist', 'uri': 'spotify:artist:06HL4z0CvFAxyc27GXpf02'}], 'external_urls': {'spotify': 'https://open.spotify.com/album/151w1FgRZfnKZA9FEcg9Z3'}, 'href': 'https://api.spotify.com/v1/albums/151w1FgRZfnKZA9FEcg9Z3', 'id': '151w1FgRZfnKZA9FEcg9Z3', 'images': [{'url': 'https://i.scdn.co/image/ab67616d0000b273bb54dde68cd23e2a268ae0f5', 'width': 640, 'height': 640}, {'url': 'https://i.scdn.co/image/ab67616d00001e02bb54dde68cd23e2a268ae0f5', 'width': 300, 'height': 300}, {'url': 'https://i.scdn.co/image/ab67616d00004851bb54dde68cd23e2a268ae0f5', 'width': 64, 'height': 64}], 'is_playable': True, 'name': 'Midnights', 'release_date': '2022-10-21', 'release_date_precision': 'day', 'total_tracks': 13, 'type': 'album', 'uri': 'spotify:album:151w1FgRZfnKZA9FEcg9Z3'}, 'artists': [{'external_urls': {'spotify': 'https://open.spotify.com/artist/06HL4z0CvFAxyc27GXpf02'}, 'href': 'https://api.spotify.com/v1/artists/06HL4z0CvFAxyc27GXpf02', 'id': '06HL4z0CvFAxyc27GXpf02', 'name': 'Taylor Swift', 'type': 'artist', 'uri': 'spotify:artist:06HL4z0CvFAxyc27GXpf02'}], 'disc_number': 1, 'duration_ms': 200690, 'explicit': False, 'external_ids': {'isrc': 'USUG12205736'}, 'external_urls': {'spotify': 'https://open.spotify.com/track/0V3wPSX9ygBnCm8psDIegu'}, 'href': 'https://api.spotify.com/v1/tracks/0V3wPSX9ygBnCm8psDIegu', 'id': '0V3wPSX9ygBnCm8psDIegu', 'is_local': False, 'is_playable': True, 'name': 'Anti-Hero', 'popularity': 83, 'track_number': 3, 'type': 'track', 'uri': 'spotify:track:0V3wPSX9ygBnCm8psDIegu'}\n",
      "Track data: {'album': {'album_type': 'album', 'artists': [{'external_urls': {'spotify': 'https://open.spotify.com/artist/06HL4z0CvFAxyc27GXpf02'}, 'href': 'https://api.spotify.com/v1/artists/06HL4z0CvFAxyc27GXpf02', 'id': '06HL4z0CvFAxyc27GXpf02', 'name': 'Taylor Swift', 'type': 'artist', 'uri': 'spotify:artist:06HL4z0CvFAxyc27GXpf02'}], 'external_urls': {'spotify': 'https://open.spotify.com/album/6DEjYFkNZh67HP7R9PSZvv'}, 'href': 'https://api.spotify.com/v1/albums/6DEjYFkNZh67HP7R9PSZvv', 'id': '6DEjYFkNZh67HP7R9PSZvv', 'images': [{'url': 'https://i.scdn.co/image/ab67616d0000b273da5d5aeeabacacc1263c0f4b', 'width': 640, 'height': 640}, {'url': 'https://i.scdn.co/image/ab67616d00001e02da5d5aeeabacacc1263c0f4b', 'width': 300, 'height': 300}, {'url': 'https://i.scdn.co/image/ab67616d00004851da5d5aeeabacacc1263c0f4b', 'width': 64, 'height': 64}], 'is_playable': True, 'name': 'reputation', 'release_date': '2017-11-10', 'release_date_precision': 'day', 'total_tracks': 15, 'type': 'album', 'uri': 'spotify:album:6DEjYFkNZh67HP7R9PSZvv'}, 'artists': [{'external_urls': {'spotify': 'https://open.spotify.com/artist/06HL4z0CvFAxyc27GXpf02'}, 'href': 'https://api.spotify.com/v1/artists/06HL4z0CvFAxyc27GXpf02', 'id': '06HL4z0CvFAxyc27GXpf02', 'name': 'Taylor Swift', 'type': 'artist', 'uri': 'spotify:artist:06HL4z0CvFAxyc27GXpf02'}], 'disc_number': 1, 'duration_ms': 236413, 'explicit': False, 'external_ids': {'isrc': 'USCJY1750006'}, 'external_urls': {'spotify': 'https://open.spotify.com/track/1R0a2iXumgCiFb7HEZ7gUE'}, 'href': 'https://api.spotify.com/v1/tracks/1R0a2iXumgCiFb7HEZ7gUE', 'id': '1R0a2iXumgCiFb7HEZ7gUE', 'is_local': False, 'is_playable': True, 'name': 'Don’t Blame Me', 'popularity': 83, 'track_number': 4, 'type': 'track', 'uri': 'spotify:track:1R0a2iXumgCiFb7HEZ7gUE'}\n",
      "Track data: {'album': {'album_type': 'album', 'artists': [{'external_urls': {'spotify': 'https://open.spotify.com/artist/06HL4z0CvFAxyc27GXpf02'}, 'href': 'https://api.spotify.com/v1/artists/06HL4z0CvFAxyc27GXpf02', 'id': '06HL4z0CvFAxyc27GXpf02', 'name': 'Taylor Swift', 'type': 'artist', 'uri': 'spotify:artist:06HL4z0CvFAxyc27GXpf02'}], 'external_urls': {'spotify': 'https://open.spotify.com/album/1Mo4aZ8pdj6L1jx8zSwJnt'}, 'href': 'https://api.spotify.com/v1/albums/1Mo4aZ8pdj6L1jx8zSwJnt', 'id': '1Mo4aZ8pdj6L1jx8zSwJnt', 'images': [{'url': 'https://i.scdn.co/image/ab67616d0000b2735076e4160d018e378f488c33', 'width': 640, 'height': 640}, {'url': 'https://i.scdn.co/image/ab67616d00001e025076e4160d018e378f488c33', 'width': 300, 'height': 300}, {'url': 'https://i.scdn.co/image/ab67616d000048515076e4160d018e378f488c33', 'width': 64, 'height': 64}], 'is_playable': True, 'name': 'THE TORTURED POETS DEPARTMENT', 'release_date': '2024-04-18', 'release_date_precision': 'day', 'total_tracks': 16, 'type': 'album', 'uri': 'spotify:album:1Mo4aZ8pdj6L1jx8zSwJnt'}, 'artists': [{'external_urls': {'spotify': 'https://open.spotify.com/artist/06HL4z0CvFAxyc27GXpf02'}, 'href': 'https://api.spotify.com/v1/artists/06HL4z0CvFAxyc27GXpf02', 'id': '06HL4z0CvFAxyc27GXpf02', 'name': 'Taylor Swift', 'type': 'artist', 'uri': 'spotify:artist:06HL4z0CvFAxyc27GXpf02'}], 'disc_number': 1, 'duration_ms': 254365, 'explicit': False, 'external_ids': {'isrc': 'USUG12401036'}, 'external_urls': {'spotify': 'https://open.spotify.com/track/0W0iAC1VGlB82PI6elxFYf'}, 'href': 'https://api.spotify.com/v1/tracks/0W0iAC1VGlB82PI6elxFYf', 'id': '0W0iAC1VGlB82PI6elxFYf', 'is_local': False, 'is_playable': True, 'name': 'Guilty as Sin?', 'popularity': 78, 'track_number': 9, 'type': 'track', 'uri': 'spotify:track:0W0iAC1VGlB82PI6elxFYf'}\n",
      "Track data: {'album': {'album_type': 'album', 'artists': [{'external_urls': {'spotify': 'https://open.spotify.com/artist/06HL4z0CvFAxyc27GXpf02'}, 'href': 'https://api.spotify.com/v1/artists/06HL4z0CvFAxyc27GXpf02', 'id': '06HL4z0CvFAxyc27GXpf02', 'name': 'Taylor Swift', 'type': 'artist', 'uri': 'spotify:artist:06HL4z0CvFAxyc27GXpf02'}], 'external_urls': {'spotify': 'https://open.spotify.com/album/1Mo4aZ8pdj6L1jx8zSwJnt'}, 'href': 'https://api.spotify.com/v1/albums/1Mo4aZ8pdj6L1jx8zSwJnt', 'id': '1Mo4aZ8pdj6L1jx8zSwJnt', 'images': [{'url': 'https://i.scdn.co/image/ab67616d0000b2735076e4160d018e378f488c33', 'width': 640, 'height': 640}, {'url': 'https://i.scdn.co/image/ab67616d00001e025076e4160d018e378f488c33', 'width': 300, 'height': 300}, {'url': 'https://i.scdn.co/image/ab67616d000048515076e4160d018e378f488c33', 'width': 64, 'height': 64}], 'is_playable': True, 'name': 'THE TORTURED POETS DEPARTMENT', 'release_date': '2024-04-18', 'release_date_precision': 'day', 'total_tracks': 16, 'type': 'album', 'uri': 'spotify:album:1Mo4aZ8pdj6L1jx8zSwJnt'}, 'artists': [{'external_urls': {'spotify': 'https://open.spotify.com/artist/06HL4z0CvFAxyc27GXpf02'}, 'href': 'https://api.spotify.com/v1/artists/06HL4z0CvFAxyc27GXpf02', 'id': '06HL4z0CvFAxyc27GXpf02', 'name': 'Taylor Swift', 'type': 'artist', 'uri': 'spotify:artist:06HL4z0CvFAxyc27GXpf02'}], 'disc_number': 1, 'duration_ms': 261228, 'explicit': True, 'external_ids': {'isrc': 'USUG12401031'}, 'external_urls': {'spotify': 'https://open.spotify.com/track/2F3N9tdombb64aW6VtZOdo'}, 'href': 'https://api.spotify.com/v1/tracks/2F3N9tdombb64aW6VtZOdo', 'id': '2F3N9tdombb64aW6VtZOdo', 'is_local': False, 'is_playable': True, 'name': 'Down Bad', 'popularity': 78, 'track_number': 4, 'type': 'track', 'uri': 'spotify:track:2F3N9tdombb64aW6VtZOdo'}\n"
     ]
    }
   ],
   "source": [
    "# Define the endpoint for the artist's top tracks\n",
    "top_tracks_url = f\"https://api.spotify.com/v1/artists/{artist_id}/top-tracks\"\n",
    "params = {\n",
    "    \"market\": \"US\"  # Specify the market (country)\n",
    "}\n",
    "\n",
    "# Make the API request to get top tracks\n",
    "response = requests.get(top_tracks_url, headers=headers, params=params)\n",
    "\n",
    "# Check if the request was successful\n",
    "if response.status_code == 200:\n",
    "    top_tracks_data = response.json()\n",
    "    print(f\"Top tracks for {artist_name}:\")\n",
    "    for idx, track in enumerate(top_tracks_data['tracks'], start=1):\n",
    "        print(f\"Track data: {track}\")\n",
    "        track_name = track['name']\n",
    "        album_name = track['album']['name']\n",
    "        # print(f\"{idx}. {track_name} - Album: {album_name}\")\n",
    "else:\n",
    "    print(f\"Failed to get top tracks. Status code: {response.status_code}\")\n",
    "    print(response.text)"
   ]
  },
  {
   "cell_type": "markdown",
   "metadata": {},
   "source": [
    "### Handling Errors and Exceptions\n",
    "It’s important to handle potential errors when making API requests, such as expired tokens or invalid credentials."
   ]
  },
  {
   "cell_type": "code",
   "execution_count": 26,
   "metadata": {},
   "outputs": [
    {
     "name": "stdout",
     "output_type": "stream",
     "text": [
      "Access token obtained successfully.\n"
     ]
    }
   ],
   "source": [
    "def get_access_token(client_id, client_secret):\n",
    "    try:\n",
    "        # Encoding and token request as before\n",
    "        client_credentials = f\"{client_id}:{client_secret}\"\n",
    "        client_credentials_base64 = base64.b64encode(client_credentials.encode())\n",
    "        token_url = \"https://accounts.spotify.com/api/token\"\n",
    "        headers = {\n",
    "            \"Authorization\": f\"Basic {client_credentials_base64.decode()}\"\n",
    "        }\n",
    "        data = {\n",
    "            \"grant_type\": \"client_credentials\"\n",
    "        }\n",
    "        response = requests.post(token_url, headers=headers, data=data)\n",
    "        response.raise_for_status()  # Raises an HTTPError for bad status codes\n",
    "        access_token = response.json()['access_token']\n",
    "        return access_token\n",
    "    except requests.exceptions.HTTPError as err:\n",
    "        print(f\"HTTP error occurred: {err}\")\n",
    "    except Exception as err:\n",
    "        print(f\"An error occurred: {err}\")\n",
    "    return None\n",
    "\n",
    "# Use the function to get the access token\n",
    "access_token = get_access_token(client_id, client_secret)\n",
    "if access_token:\n",
    "    print(\"Access token obtained successfully.\")\n",
    "else:\n",
    "    print(\"Failed to obtain access token.\")\n",
    "    "
   ]
  },
  {
   "cell_type": "markdown",
   "metadata": {},
   "source": [
    "## Conclusion\n",
    "- **APIs** are essential tools for allowing different applications to communicate.\n",
    "\n",
    "- We can interact with web APIs using different **HTTP methods** like `GET`, `POST`, `PUT`, and `DELETE`.\n",
    "\n",
    "- **Authentication** using a `CLIENT_ID` and `CLIENT_SECRET` allows us to access more features and data from services like Spotify.\n",
    "\n",
    "- Always handle **errors and exceptions** when working with APIs to ensure reliability."
   ]
  },
  {
   "cell_type": "markdown",
   "metadata": {},
   "source": [
    "## Additional Resources\n",
    "1. [Spotify for Developers: Web API](https://developer.spotify.com/documentation/web-api)"
   ]
  }
 ],
 "metadata": {
  "kernelspec": {
   "display_name": "Python 3",
   "language": "python",
   "name": "python3"
  },
  "language_info": {
   "codemirror_mode": {
    "name": "ipython",
    "version": 3
   },
   "file_extension": ".py",
   "mimetype": "text/x-python",
   "name": "python",
   "nbconvert_exporter": "python",
   "pygments_lexer": "ipython3",
   "version": "3.12.1"
  }
 },
 "nbformat": 4,
 "nbformat_minor": 2
}
