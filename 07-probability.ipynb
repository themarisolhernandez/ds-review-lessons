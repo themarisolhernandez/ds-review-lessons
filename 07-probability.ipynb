{
 "cells": [
  {
   "cell_type": "markdown",
   "metadata": {},
   "source": [
    "# 07 - Probability\n",
    "\n",
    "## What is Probability?\n",
    "Probability is a way of quantifying uncertainty. It describes the likelihood of a specific event happening within a set of possible events, ranging from 0 (impossible) to 1 (certain). Probability plays a critical role in statistics, machine learning, and decision-making processes.\n",
    "\n",
    "We will cover:\n",
    "1. **Basic concepts of probability** \n",
    "    - e.g. Experiment, Sample Space, Event\n",
    "\n",
    "2. **Types of probability** \n",
    "    - e.g. Classical, Empirical, Subjective, Conditional, Joint\n",
    "\n",
    "3. **Operations between events**\n",
    "    - e.g. Union, Intersection, Complement, Difference\n",
    "\n",
    "4. **Bayes' Theorem and its applications**\n",
    "\n",
    "5. **Example Problems with Simulations in Python**"
   ]
  },
  {
   "cell_type": "markdown",
   "metadata": {},
   "source": [
    "## Basic Concepts of Probability\n",
    "Let's begin with some basic terminology:\n",
    "\n",
    "- **Experiment**: Any action that results in a well-defined outcome. \n",
    "    - **Example**: Rolling a die\n",
    "\n",
    "- **Sample Space (S)**: The set of all possible outcomes. \n",
    "    - **Example**:  For a die, the sample space is $S = \\{1, 2, 3, 4, 5, 6\\}$.\n",
    "\n",
    "- **Event (E)**: A subset of the sample space, such as getting an even number $ E = \\{2, 4, 6\\}$."
   ]
  },
  {
   "cell_type": "markdown",
   "metadata": {},
   "source": [
    "### Probability of an Event\n",
    "The **probability** of an event $E$ happening, denoted as $P(E)$, is defined as the ratio of favorable outcomes for the event $E$ to the total number of possible outcomes in the sample space $S$.\n",
    "\n",
    "$$P(E) = \\frac{\\text{Number of favorable outcomes for E}}{\\text{Total number of possible outcomes in S}}$$"
   ]
  },
  {
   "cell_type": "markdown",
   "metadata": {},
   "source": [
    "### Example\n",
    "Let's calculate the probability of getting an even number when rolling a fair die.\n",
    "\n",
    "- **Sample space $S = \\{1, 2, 3, 4, 5, 6\\}$**, so there are 6 possible outcomes.\n",
    "\n",
    "- The **event** $E$ of rolling an even number is $E = \\{2, 4, 6\\}$, so there are 3 favorable outcomes\n",
    "\n",
    "Using the formula for probability:\n",
    "\n",
    "$$P(E) = P( \\{2, 4, 6\\}) = \\frac{3}{6} = 0.5$$\n",
    "\n",
    "Thus, the probability of rolling an even number is $P(E) = 0.5 = 50\\%$.\n",
    "\n",
    "#### Connecting Theory to Practice\n",
    "In real-world scenarios, we often perform experiments to estimate probabilities when theoretical calculations are complex or when we want to validate the theoretical results.\n",
    "\n",
    "We'll demonstrate this by simulating an experiment of rolling a die multiple times and estimating the probability of getting an even number. \n",
    "\n",
    "This allows us to compare our simulated results with the theoretical probability we just calculated.\n",
    "\n",
    "1. **Rolling the Die**:\n",
    "\n",
    "    - We'll walk through simulating the roll of a die 1000 times and calculate the probability of rolling an even number.\n",
    "\n",
    "    - We define a function `roll_die()` that simulates rolling a 6-sided die using Python's `random.randint()` function."
   ]
  },
  {
   "cell_type": "code",
   "execution_count": 23,
   "metadata": {},
   "outputs": [],
   "source": [
    "import random\n",
    "\n",
    "# Simulate rolling a die\n",
    "def roll_die():\n",
    "    return random.randint(1, 6)\n"
   ]
  },
  {
   "cell_type": "markdown",
   "metadata": {},
   "source": [
    "This function returns a random number between 1 and 6."
   ]
  },
  {
   "cell_type": "code",
   "execution_count": 24,
   "metadata": {},
   "outputs": [
    {
     "data": {
      "text/plain": [
       "5"
      ]
     },
     "execution_count": 24,
     "metadata": {},
     "output_type": "execute_result"
    }
   ],
   "source": [
    "# Example usage\n",
    "roll_die()"
   ]
  },
  {
   "cell_type": "markdown",
   "metadata": {},
   "source": [
    "2. **Simulating 1000 Rolls**:\n",
    "\n",
    "    - We simulate rolling the die 1000 times and keep track of how many times we roll an even number (2, 4, or 6)."
   ]
  },
  {
   "cell_type": "code",
   "execution_count": 25,
   "metadata": {},
   "outputs": [],
   "source": [
    "# Number of simulations\n",
    "n_simulations = 1000\n",
    "even_count = 0\n",
    "all_rolls = []\n",
    "\n",
    "# Simulate rolling a die 1000 times\n",
    "for i in range(n_simulations):\n",
    "    # Roll the die\n",
    "    roll = roll_die()\n",
    "    # print(f\"Simulation #{i+1}, Number Rolled: {roll}\")\n",
    "\n",
    "    # Add roll to list `all_rolls`\n",
    "    all_rolls.append(roll)\n",
    "\n",
    "    # Increment `even_count` if the roll is even\n",
    "    if roll % 2 == 0:\n",
    "        even_count += 1"
   ]
  },
  {
   "cell_type": "markdown",
   "metadata": {},
   "source": [
    "3. **Calculating Probability**:\n",
    "\n",
    "    - After the simulation, we estimate the probability of rolling an even number by dividing the number of even rolls by the total number of simulations (1000 in this case)."
   ]
  },
  {
   "cell_type": "code",
   "execution_count": 26,
   "metadata": {},
   "outputs": [
    {
     "name": "stdout",
     "output_type": "stream",
     "text": [
      "Total simulation: 1000\n",
      "Count of even rolls: 520\n",
      "Estimated Probability of getting an even number = 520/1000 =  0.5200 = 52.00%\n"
     ]
    }
   ],
   "source": [
    "print(f\"Total simulation: {n_simulations}\")\n",
    "print(f\"Count of even rolls: {even_count}\")\n",
    "\n",
    "# Probability of getting an even number\n",
    "prob_even = even_count / n_simulations\n",
    "print(f\"Estimated Probability of getting an even number = {even_count}/{n_simulations} =  {prob_even:.4f} = {prob_even*100:.2f}%\")"
   ]
  },
  {
   "cell_type": "markdown",
   "metadata": {},
   "source": [
    "4. **Visualization**:\n",
    "\n",
    "    - We can create a bar chart showing the distribution of even and odd rolls from the simulation, helping us visually interpret the frequency of each outcome."
   ]
  },
  {
   "cell_type": "code",
   "execution_count": 27,
   "metadata": {},
   "outputs": [
    {
     "data": {
      "image/png": "[encoded data removed]",
      "text/plain": [
       "<Figure size 1200x600 with 2 Axes>"
      ]
     },
     "metadata": {},
     "output_type": "display_data"
    }
   ],
   "source": [
    "import matplotlib.pyplot as plt\n",
    "\n",
    "# Visualization: Distribution of rolls (odd vs. even)\n",
    "\n",
    "# Data for the plots\n",
    "odd_count = n_simulations - even_count\n",
    "prob_odd = 1 - prob_even\n",
    "labels = ['Even Rolls', 'Odd Rolls']\n",
    "counts = [even_count, odd_count]\n",
    "\n",
    "# Set up subplots: 1 row, 2 columns\n",
    "fig, axes = plt.subplots(1, 2, figsize=(12, 6))\n",
    "\n",
    "# First subplot: Simple bar chart with counts\n",
    "axes[0].set_ylim(0, 650)\n",
    "axes[0].bar(labels, counts, color=['blue', 'orange'])\n",
    "axes[0].set_ylabel('Count')\n",
    "axes[0].set_title('Distribution of Even vs. Odd Rolls (1000 Rolls)')\n",
    "\n",
    "# Add count annotations on top of the bars\n",
    "for i, count in enumerate(counts):\n",
    "    axes[0].text(i, count + 5, str(count), ha='center', va='bottom')\n",
    "\n",
    "# Second subplot: Stacked bar chart showing proportions\n",
    "# For stacking, we need to use two bars with a sum of 1\n",
    "axes[1].bar('Rolls', prob_even, color='blue', label='Even Rolls')\n",
    "axes[1].bar('Rolls', prob_odd, bottom=prob_even, color='orange', label='Odd Rolls')\n",
    "\n",
    "# Add proportion annotations inside the stacked bars\n",
    "axes[1].text(0, prob_even / 2, f'{prob_even:.2%}', ha='center', va='center', color='white')\n",
    "axes[1].text(0, prob_even + prob_odd / 2, f'{prob_odd:.2%}', ha='center', va='center', color='white')\n",
    "\n",
    "axes[1].set_title('Proportion of Even vs. Odd Rolls')\n",
    "axes[1].legend()\n",
    "\n",
    "# Adjust layout\n",
    "plt.tight_layout()\n",
    "plt.show()\n"
   ]
  },
  {
   "cell_type": "markdown",
   "metadata": {},
   "source": [
    "## Types of Probability\n",
    "\n",
    "### Classical Probability\n",
    "This type of probability applies when all possible outcomes are equally likely. For example, the probability of flipping heads in a fair coin toss is 0.5.\n",
    "\n",
    "### Empirical (Frequentist) Probability\n",
    "This probability is based on the frequency of an event after multiple trials. For example, if we roll a die 1000 times and get an even number 510 times, the empirical probability of getting an even number is 510/1000 = 0.51.\n",
    "\n",
    "### Subjective Probability\n",
    "This probability is based on personal judgment or experience, rather than empirical evidence. For example, a weather forecast might predict a 70% chance of rain based on experience."
   ]
  },
  {
   "cell_type": "code",
   "execution_count": null,
   "metadata": {},
   "outputs": [],
   "source": []
  }
 ],
 "metadata": {
  "kernelspec": {
   "display_name": "Python 3",
   "language": "python",
   "name": "python3"
  },
  "language_info": {
   "codemirror_mode": {
    "name": "ipython",
    "version": 3
   },
   "file_extension": ".py",
   "mimetype": "text/x-python",
   "name": "python",
   "nbconvert_exporter": "python",
   "pygments_lexer": "ipython3",
   "version": "3.12.1"
  }
 },
 "nbformat": 4,
 "nbformat_minor": 2
}
