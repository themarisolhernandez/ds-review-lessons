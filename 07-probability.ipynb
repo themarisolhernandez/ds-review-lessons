{
 "cells": [
  {
   "cell_type": "markdown",
   "metadata": {},
   "source": [
    "# 07 - Probability\n",
    "\n",
    "## What is Probability?\n",
    "Probability is a way of quantifying uncertainty. It describes the likelihood of a specific event happening within a set of possible events, ranging from 0 (impossible) to 1 (certain). Probability plays a critical role in statistics, machine learning, and decision-making processes.\n",
    "\n",
    "We will cover:\n",
    "1. **Basic concepts of probability** \n",
    "    - e.g. Experiment, Sample Space, Event\n",
    "\n",
    "3. **Types of probability** \n",
    "    - e.g. Classical, Empirical, Subjective\n",
    "\n",
    "2. **Operations between events**\n",
    "    - e.g. Union, Intersection, Complement, Difference\n",
    "\n",
    "4. **Bayes' Theorem**"
   ]
  },
  {
   "cell_type": "markdown",
   "metadata": {},
   "source": [
    "## Basic Concepts of Probability\n",
    "Let's begin with some basic terminology:\n",
    "\n",
    "- **Experiment**: Any action that results in a well-defined outcome. \n",
    "    - **Example**: Rolling a die\n",
    "\n",
    "- **Sample Space (S)**: The set of all possible outcomes. \n",
    "    - **Example**:  For a die, the sample space is $S = \\{1, 2, 3, 4, 5, 6\\}$.\n",
    "\n",
    "- **Event (E)**: A subset of the sample space, such as getting an even number $ E = \\{2, 4, 6\\}$."
   ]
  },
  {
   "cell_type": "markdown",
   "metadata": {},
   "source": [
    "### Probability of an Event\n",
    "The **probability** of an event $E$ happening, denoted as $P(E)$, is defined as the ratio of favorable outcomes for the event $E$ to the total number of possible outcomes in the sample space $S$.\n",
    "\n",
    "$$P(E) = \\frac{\\text{Number of favorable outcomes for E}}{\\text{Total number of possible outcomes in S}}$$"
   ]
  },
  {
   "cell_type": "markdown",
   "metadata": {},
   "source": [
    "### Example\n",
    "Let's calculate the probability of getting an even number when rolling a fair die.\n",
    "\n",
    "- **Sample space $S = \\{1, 2, 3, 4, 5, 6\\}$**, so there are 6 possible outcomes.\n",
    "\n",
    "- The **event** $E$ of rolling an even number is $E = \\{2, 4, 6\\}$, so there are 3 favorable outcomes\n",
    "\n",
    "Using the formula for probability:\n",
    "\n",
    "$$P(E) = P( \\{2, 4, 6\\}) = \\frac{3}{6} = 0.5$$\n",
    "\n",
    "Thus, the probability of rolling an even number is $P(E) = 0.5 = 50\\%$.\n",
    "\n",
    "#### Connecting Theory to Practice\n",
    "In real-world scenarios, we often perform experiments to estimate probabilities when theoretical calculations are complex or when we want to validate the theoretical results.\n",
    "\n",
    "We'll demonstrate this by simulating an experiment of rolling a die multiple times and estimating the probability of getting an even number. \n",
    "\n",
    "This allows us to compare our simulated results with the theoretical probability we just calculated.\n",
    "\n",
    "1. **Rolling the Die**:\n",
    "\n",
    "    - We'll walk through simulating the roll of a die 1000 times and calculate the probability of rolling an even number.\n",
    "\n",
    "    - We define a function `roll_die()` that simulates rolling a 6-sided die using Python's `random.randint()` function."
   ]
  },
  {
   "cell_type": "code",
   "execution_count": 1,
   "metadata": {},
   "outputs": [],
   "source": [
    "import random\n",
    "\n",
    "# Simulate rolling a die\n",
    "def roll_die():\n",
    "    return random.randint(1, 6)"
   ]
  },
  {
   "cell_type": "markdown",
   "metadata": {},
   "source": [
    "This function returns a random number between 1 and 6."
   ]
  },
  {
   "cell_type": "code",
   "execution_count": 2,
   "metadata": {},
   "outputs": [
    {
     "data": {
      "text/plain": [
       "6"
      ]
     },
     "execution_count": 2,
     "metadata": {},
     "output_type": "execute_result"
    }
   ],
   "source": [
    "# Example usage\n",
    "roll_die()"
   ]
  },
  {
   "cell_type": "markdown",
   "metadata": {},
   "source": [
    "2. **Simulating 1000 Rolls**:\n",
    "\n",
    "    - We simulate rolling the die 1000 times and keep track of how many times we roll an even number (2, 4, or 6)."
   ]
  },
  {
   "cell_type": "code",
   "execution_count": 3,
   "metadata": {},
   "outputs": [],
   "source": [
    "# Number of simulations\n",
    "n_simulations = 1000\n",
    "even_count = 0\n",
    "all_rolls = []\n",
    "\n",
    "# Simulate rolling a die 1000 times\n",
    "for i in range(n_simulations):\n",
    "    # Roll the die\n",
    "    roll = roll_die()\n",
    "    # print(f\"Simulation #{i+1}, Number Rolled: {roll}\")\n",
    "\n",
    "    # Add roll to list `all_rolls`\n",
    "    all_rolls.append(roll)\n",
    "\n",
    "    # Increment `even_count` if the roll is even\n",
    "    if roll % 2 == 0:\n",
    "        even_count += 1"
   ]
  },
  {
   "cell_type": "markdown",
   "metadata": {},
   "source": [
    "3. **Calculating Probability**:\n",
    "\n",
    "    - After the simulation, we estimate the probability of rolling an even number by dividing the number of even rolls by the total number of simulations (1000 in this case)."
   ]
  },
  {
   "cell_type": "code",
   "execution_count": 4,
   "metadata": {},
   "outputs": [
    {
     "name": "stdout",
     "output_type": "stream",
     "text": [
      "Total simulation: 1000\n",
      "Count of even rolls: 530\n",
      "Estimated Probability of getting an even number = 530/1000 =  0.5300 = 53.00%\n"
     ]
    }
   ],
   "source": [
    "print(f\"Total simulation: {n_simulations}\")\n",
    "print(f\"Count of even rolls: {even_count}\")\n",
    "\n",
    "# Probability of getting an even number\n",
    "prob_even = even_count / n_simulations\n",
    "print(f\"Estimated Probability of getting an even number = {even_count}/{n_simulations} =  {prob_even:.4f} = {prob_even*100:.2f}%\")"
   ]
  },
  {
   "cell_type": "markdown",
   "metadata": {},
   "source": [
    "4. **Visualization**:\n",
    "\n",
    "    - We can create a bar chart showing the distribution of even and odd rolls from the simulation, helping us visually interpret the frequency of each outcome."
   ]
  },
  {
   "cell_type": "code",
   "execution_count": 5,
   "metadata": {},
   "outputs": [
    {
     "data": {
      "image/png": "[encoded data removed]",
      "text/plain": [
       "<Figure size 1200x600 with 2 Axes>"
      ]
     },
     "metadata": {},
     "output_type": "display_data"
    }
   ],
   "source": [
    "import matplotlib.pyplot as plt\n",
    "\n",
    "# Visualization: Distribution of rolls (odd vs. even)\n",
    "\n",
    "# Data for the plots\n",
    "odd_count = n_simulations - even_count\n",
    "prob_odd = 1 - prob_even\n",
    "labels = ['Even Rolls', 'Odd Rolls']\n",
    "counts = [even_count, odd_count]\n",
    "\n",
    "# Set up subplots: 1 row, 2 columns\n",
    "fig, axes = plt.subplots(1, 2, figsize=(12, 6))\n",
    "\n",
    "# First subplot: Simple bar chart with counts\n",
    "axes[0].set_ylim(0, 650)\n",
    "axes[0].bar(labels, counts, color=['blue', 'orange'])\n",
    "axes[0].set_ylabel('Count')\n",
    "axes[0].set_title('Distribution of Even vs. Odd Rolls (1000 Rolls)')\n",
    "\n",
    "# Add count annotations on top of the bars\n",
    "for i, count in enumerate(counts):\n",
    "    axes[0].text(i, count + 5, str(count), ha='center', va='bottom')\n",
    "\n",
    "# Second subplot: Stacked bar chart showing proportions\n",
    "# For stacking, we need to use two bars with a sum of 1\n",
    "axes[1].bar('Rolls', prob_even, color='blue', label='Even Rolls')\n",
    "axes[1].bar('Rolls', prob_odd, bottom=prob_even, color='orange', label='Odd Rolls')\n",
    "\n",
    "# Add proportion annotations inside the stacked bars\n",
    "axes[1].text(0, prob_even / 2, f'{prob_even:.2%}', ha='center', va='center', color='white')\n",
    "axes[1].text(0, prob_even + prob_odd / 2, f'{prob_odd:.2%}', ha='center', va='center', color='white')\n",
    "\n",
    "axes[1].set_title('Proportion of Even vs. Odd Rolls')\n",
    "axes[1].legend()\n",
    "\n",
    "# Adjust layout\n",
    "plt.tight_layout()\n",
    "plt.show()\n"
   ]
  },
  {
   "cell_type": "markdown",
   "metadata": {},
   "source": [
    "## Law of Large Numbers\n",
    "- **Law of Large Numbers**: as the number of simulations increases, the estimated probability will get closer to the theoretical probability\n",
    "\n",
    "    - **Example**: The more times you roll a die, the closer the observed frequency of rolling an even number will get to the theoretical probability of $0.5$.\n",
    "\n",
    "### Theoretical Explanation\n",
    "If we roll a die a small number of times, we may see significant variations in the results—sometimes **more** even numbers, sometimes **fewer**. \n",
    "\n",
    "However, as the number of rolls increases, the proportion of even numbers will get **closer** to 50%, which is the theoretical probability of rolling an even number.\n",
    "\n",
    "### Example\n",
    "Let's simulate rolling a die repeatedly and track how the estimated probability of rolling an even number **converges** toward the theoretical probability of $0.5$ as we increase the number of rolls.\n",
    "\n",
    "#### Python Simulation\n",
    "We can extend our previous code to simulate rolling the die a large number of times and observe how the estimated probability evolves with each roll."
   ]
  },
  {
   "cell_type": "code",
   "execution_count": 6,
   "metadata": {},
   "outputs": [],
   "source": [
    "# Number of simulations\n",
    "n_simulations = 10000\n",
    "even_count = 0\n",
    "probabilities = []  # List to store probabilities after each roll\n",
    "\n",
    "# Simulate rolling a die `n_simulations` times\n",
    "for i in range(n_simulations):\n",
    "    # Roll the die\n",
    "    roll = roll_die()\n",
    "    \n",
    "    # Increment `even_count` if the roll is even\n",
    "    if roll % 2 == 0:\n",
    "        even_count += 1\n",
    "\n",
    "    # Calculate and store the estimated probability after each roll\n",
    "    est_probability = even_count / (i + 1)\n",
    "    probabilities.append(est_probability)\n",
    "\n",
    "    # print(f\"Estimated Probability after {i + 1} rolls: {est_probability:.4f}\")"
   ]
  },
  {
   "cell_type": "markdown",
   "metadata": {},
   "source": [
    "#### Visualization: Convergence to Theoretical Probability\n",
    "To visually demonstrate how the estimated probability converges toward the theoretical probability, we can plot the probability after each roll."
   ]
  },
  {
   "cell_type": "code",
   "execution_count": 7,
   "metadata": {},
   "outputs": [
    {
     "data": {
      "image/png": "[encoded data removed]",
      "text/plain": [
       "<Figure size 1000x600 with 1 Axes>"
      ]
     },
     "metadata": {},
     "output_type": "display_data"
    }
   ],
   "source": [
    "# Visualization: Law of Large Numbers\n",
    "# X-axis: Number of rolls (1, 2, 3, ..., n_simulations)\n",
    "x = range(1, n_simulations + 1)\n",
    "\n",
    "# Plot empirical probabilities over time\n",
    "plt.figure(figsize=(10, 6))\n",
    "plt.plot(x, probabilities, label='Estimated Probability of Even Rolls', color='blue')\n",
    "\n",
    "# Add a horizontal line for the theoretical probability\n",
    "plt.axhline(y=0.5, color='red', linestyle='--', label='Theoretical Probability (0.5)')\n",
    "\n",
    "# Add labels and title\n",
    "plt.title(f'Law of Large Numbers: Convergence of Estimated Probability to Theoretical Probability\\n(Simulation of {n_simulations} Rolls)')\n",
    "plt.xlabel('Number of Rolls')\n",
    "plt.ylabel('Probability')\n",
    "plt.legend()\n",
    "\n",
    "# Show plot\n",
    "plt.show()\n"
   ]
  },
  {
   "cell_type": "markdown",
   "metadata": {},
   "source": [
    "## Types of probability\n",
    "Probability can be understood and classified in various ways, depending on how the likelihood of events is measured or interpreted. Let's explore a few types.\n",
    "\n",
    "### 1. Classical Probability\n",
    "Also known as \"theoretical probability,\" classical probability assumes that all outcomes in a sample space are equally likely. \n",
    "\n",
    "It's the kind of probability we calculate when we have well-defined rules, like rolling a die or flipping a coin.\n",
    "\n",
    "- **Formula**:\n",
    "\n",
    "$$P(E) = \\frac{\\text{Number of favorable outcomes}}{\\text{Total number of possible outcomes}}$$\n",
    "\n",
    "- **Example**:\n",
    "\n",
    "    - **Experiment**: Rolling a fair six-sided die.\n",
    "\n",
    "    - **Sample Space**: $S = \\{1, 2, 3, 4, 5, 6\\}$\n",
    "\n",
    "    - **Event**: Getting an even number, $E = \\{2, 4, 6\\}$.\n",
    "\n",
    "    - **Classical Probability**: $P(E) = \\frac{3}{6} = 0.5 = 50\\%$.\n",
    "\n",
    "- **Key Insight**: Classical probability is based on equally likely outcomes."
   ]
  },
  {
   "cell_type": "markdown",
   "metadata": {},
   "source": [
    "### 2. Empirical Probability\n",
    "Also called \"estimated probability,\" empirical probability is based on observations or experiments.\n",
    "\n",
    "Rather than assuming equal likelihood, we calculate probability from actual data.\n",
    "\n",
    "- **Formula**:\n",
    "\n",
    "$$P(E) = \\frac{\\text{Number of times event E occurred}}{\\text{Total number of trials}}$$\n",
    "\n",
    "- **Example**:\n",
    "\n",
    "    - **Experiment**: Rolling a die 100 times and recording the outcomes.\n",
    "\n",
    "    - **Observation**: Suppose we rolled an even number 48 times.\n",
    "\n",
    "    - **Empirical Probability**: $P(E) = \\frac{48}{100} = 0.48 = 48\\%$.\n",
    "\n",
    "- **Key Insight**: Empirical probability is data-driven and may differ from theoretical probability, especially with fewer trials."
   ]
  },
  {
   "cell_type": "markdown",
   "metadata": {},
   "source": [
    "### 3. Subjective Probability\n",
    "Subjective probability is based on personal judgment, beliefs, or experience rather than formal calculations or data. \n",
    "\n",
    "It’s often used in situations where past data or precise calculations aren’t available.\n",
    "\n",
    "- **Example**:\n",
    "\n",
    "    - **Scenario**: A doctor estimates there’s a 60% chance of a patient recovering based on their experience and medical knowledge.\n",
    "\n",
    "    - **Interpretation**: This probability is subjective because it’s based on the doctor's judgment rather than hard data.\n",
    "\n",
    "- **Key Insight**: Subjective probability varies between individuals and situations. It reflects personal belief or intuition."
   ]
  },
  {
   "cell_type": "markdown",
   "metadata": {},
   "source": [
    "## Operations of events\n",
    "In probability, events are sets of outcomes from a sample space. We can perform different operations on these sets to analyze how events interact. \n",
    "\n",
    "The four key operations we’ll explore are **Union**, **Intersection**, **Complement**, and **Difference**."
   ]
  },
  {
   "cell_type": "markdown",
   "metadata": {},
   "source": [
    "### 1. Union of Events (OR)\n",
    "The union of two events represents the event that occurs if at least one of the events occurs. In set notation, the union of two events.\n",
    "\n",
    "In set notation, the union of two events $A$ and $B$ is written as $A \\cup B$, which reads as \"A or B.\"\n",
    "\n",
    "<p align=\"center\">\n",
    "  <img src=\"imgs/probability1.png\" alt=\"Alt text\">\n",
    "</p>\n",
    "\n",
    "- **Formula**:\n",
    "\n",
    "$$P(A \\cup B) = P(A) + P(B) - P(A \\cap B)$$\n",
    "\n",
    "The term $P(A \\cap B)$ is subtracted to avoid double-counting the overlap between events $A$ and $B$.\n",
    "\n",
    "- **Example**:\n",
    "\n",
    "  - **Scenario**: You roll a die. Let:\n",
    "\n",
    "    - Event $A = $ rolling an even number $= \\{2, 4, 6\\}$\n",
    "\n",
    "    - Event $B = $ rolling a number greater than 4 $= \\{5, 6\\}$\n",
    "\n",
    "    - Events $A$ **AND** $B =$ rolling an even number **AND** rolling a number greater than 4 $= \\{6\\}$\n",
    "\n",
    "  - **Probability**:\n",
    "\n",
    "    $$P(A \\cup B) =$$\n",
    "\n",
    "    $$P(\\text{rolling an even number OR rolling a number greater than 4}) =$$\n",
    "\n",
    "    $$P(A) + P(B) - P(A \\cap B) =$$\n",
    "\n",
    "    $$\\frac{3}{6} + \\frac{2}{6} - \\frac{1}{6} =$$\n",
    "\n",
    "    $$\\frac{4}{6} = 0.67 = 67\\%$$\n",
    "\n",
    "- **Key Insight**: Union captures the probability of either event happening."
   ]
  },
  {
   "cell_type": "markdown",
   "metadata": {},
   "source": [
    "#### Union of Events (OR) Simulation\n",
    "In this simulation, we'll calculate the union of the two events from the previous example and the associated probability."
   ]
  },
  {
   "cell_type": "code",
   "execution_count": 8,
   "metadata": {},
   "outputs": [
    {
     "name": "stdout",
     "output_type": "stream",
     "text": [
      "Total simulations: 100\n",
      "Count of union events (A ∪ B): 68\n",
      "P(A ∪ B) = 0.68 = 68.00%\n"
     ]
    }
   ],
   "source": [
    "# Variables to track the count of events\n",
    "A_count = 0\n",
    "B_count = 0\n",
    "A_and_B_count = 0\n",
    "A_or_B_count = 0\n",
    "\n",
    "# Number of simulations\n",
    "n_simulations = 100\n",
    "\n",
    "# Simulate rolling the die for n_simulations\n",
    "for i in range(n_simulations):\n",
    "    # Roll the die\n",
    "    roll = roll_die()\n",
    "    \n",
    "    # Increment `A_count` if the roll is even\n",
    "    if roll % 2 == 0:\n",
    "        A_count += 1\n",
    "\n",
    "    # Increment `B_count` if the roll is greater than 4\n",
    "    if roll > 4:\n",
    "        B_count +=1\n",
    "\n",
    "    # Increment `A_and_B_count` if the roll is even AND greater than 4\n",
    "    if (roll % 2 == 0) and (roll > 4):\n",
    "        A_and_B_count +=1\n",
    "\n",
    "    # Increment `A_or_B_count` if the roll is even OR greater than 4\n",
    "    if (roll % 2 == 0) or (roll > 4):\n",
    "        A_or_B_count +=1\n",
    "\n",
    "prob_A = A_count / n_simulations\n",
    "prob_B = B_count / n_simulations\n",
    "prob_A_and_B = A_and_B_count / n_simulations\n",
    "\n",
    "# prob_A_or_B = prob_A + prob_B - prob_A_and_B\n",
    "prob_A_or_B = A_or_B_count / n_simulations\n",
    "\n",
    "print(f\"Total simulations: {n_simulations}\")\n",
    "print(f\"Count of union events (A ∪ B): {A_or_B_count}\")\n",
    "print(f\"P(A ∪ B) = {prob_A_or_B:.2f} = {prob_A_or_B*100:.2f}%\")"
   ]
  },
  {
   "cell_type": "markdown",
   "metadata": {},
   "source": [
    "### 2. Intersection of Events (AND)\n",
    "The intersection of two events represents the event where both events occur simultaneously. \n",
    "\n",
    "It is written as $A \\cap B$, which reads as \"A and B.\"\n",
    "\n",
    "<p align=\"center\">\n",
    "  <img src=\"imgs/probability2.png\" alt=\"Alt text\">\n",
    "</p>\n",
    "\n",
    "- **Formula**:\n",
    "\n",
    "$$P(A \\cap B)$$\n",
    "\n",
    "This is simply the probability of both $A$ and $B$ happening at the same time.\n",
    "\n",
    "\n",
    "- **Example**:\n",
    "\n",
    "    - **Scenario**: Using the same die roll example:\n",
    "\n",
    "      - Event $A =$ rolling an even number $= \\{2, 4, 6\\}$ \n",
    "\n",
    "      - Event $B =$ rolling a number greater than 4 $= \\{5, 6\\}$ \n",
    "\n",
    "    - **Intersection** $A \\cap B$: Rolling a number that is both even and greater than 4:\n",
    "\n",
    "    $$A \\cap B = \\{6\\}$$\n",
    "\n",
    "    - **Probability**:\n",
    "\n",
    "    $$P(A \\cap B) = \\frac{1}{6} = 0.17 = 17\\%$$\n",
    "\n",
    "- **Key Insight**: Intersection captures the likelihood of both events happening at the same time."
   ]
  },
  {
   "cell_type": "markdown",
   "metadata": {},
   "source": [
    "#### Intersection of Events (AND) Simulation\n",
    "For the intersection, we will calculate the event where both $A$ and $B$ happen simultaneously."
   ]
  },
  {
   "cell_type": "code",
   "execution_count": 9,
   "metadata": {},
   "outputs": [
    {
     "name": "stdout",
     "output_type": "stream",
     "text": [
      "Total simulations: 100\n",
      "Count of intersection events (A ∩ B): 13\n",
      "P(A ∩ B) = 13/100 = 0.13 = 13.00%\n"
     ]
    }
   ],
   "source": [
    "# Variables to track the count of events\n",
    "A_and_B_count = 0\n",
    "\n",
    "# Number of simulations\n",
    "n_simulations = 100\n",
    "\n",
    "# Simulate rolling the die for n_simulations\n",
    "for i in range(n_simulations):\n",
    "    # Roll the die\n",
    "    roll = roll_die()\n",
    "    \n",
    "    # Increment `A_and_B_count` if the roll is even AND greater than 4\n",
    "    if (roll % 2 == 0) and (roll > 4):\n",
    "        A_and_B_count +=1\n",
    "\n",
    "prob_A_and_B = A_and_B_count / n_simulations\n",
    "\n",
    "print(f\"Total simulations: {n_simulations}\")\n",
    "print(f\"Count of intersection events (A ∩ B): {A_and_B_count}\")\n",
    "print(f\"P(A ∩ B) = {A_and_B_count}/{n_simulations} = {prob_A_and_B:.2f} = {prob_A_and_B*100:.2f}%\")"
   ]
  },
  {
   "cell_type": "markdown",
   "metadata": {},
   "source": [
    "### 3. Complement of an Event (NOT)\n",
    "The **complement** of an event represents the probability that the event **does not occur**.\n",
    "\n",
    "The complement of event $A$ is written as $A^c$, and it includes all outcomes that are **not** part of $A$.\n",
    "\n",
    "<p align=\"center\">\n",
    "  <img src=\"imgs/probability3.png\" alt=\"Alt text\">\n",
    "</p>\n",
    "\n",
    "- **Formula**:\n",
    "\n",
    "$$P(A^c) = 1 - P(A)$$\n",
    "\n",
    "- **Example**:\n",
    "\n",
    "  - **Scenario**: Let event $A =$ rolling an even number $= \\{2, 4, 6\\}$ on a die.\n",
    "\n",
    "  - **Complement** $A^c =$ rolling a number that is not even $= \\{1, 3, 5\\}$ \n",
    "\n",
    "  - **Probability**:\n",
    "\n",
    "  $$P(A^c) = 1 - P(A) = 1 - \\frac{3}{6} = 0.5 = 50\\%$$\n",
    "\n",
    "- **Key Insight**: The complement represents all the outcomes not included in the event."
   ]
  },
  {
   "cell_type": "markdown",
   "metadata": {},
   "source": [
    "#### Complement of an Event (NOT) Simulation\n",
    "We'll calculate the complement of event $A$, ehich represents the event that $A$ does not occur."
   ]
  },
  {
   "cell_type": "code",
   "execution_count": 10,
   "metadata": {},
   "outputs": [
    {
     "name": "stdout",
     "output_type": "stream",
     "text": [
      "P(A^c) = 0.48 = 48.00%\n"
     ]
    }
   ],
   "source": [
    "# Variables to track the count of events\n",
    "A_count = 0\n",
    "A_c_count = 0\n",
    "\n",
    "# Number of simulations\n",
    "n_simulations = 100\n",
    "\n",
    "# Simulate rolling the die for n_simulations\n",
    "for i in range(n_simulations):\n",
    "    # Roll the die\n",
    "    roll = roll_die()\n",
    "    \n",
    "    # Increment `A_count` if the roll is even\n",
    "    if roll % 2 == 0:\n",
    "        A_count += 1\n",
    "\n",
    "    # Increment `A_c_count` if the roll is even\n",
    "    if roll % 2 != 0:\n",
    "        A_c_count += 1\n",
    "\n",
    "prob_A = A_count / n_simulations\n",
    "\n",
    "prob_A_c = 1 - prob_A\n",
    "# prob_A_c = A_c_count / n_simulations\n",
    "\n",
    "# print(f\"Total simulations: {n_simulations}\")\n",
    "# print(f\"Count of A^c: {A_c_count}\")\n",
    "print(f\"P(A^c) = {prob_A_c:.2f} = {prob_A_c*100:.2f}%\")"
   ]
  },
  {
   "cell_type": "markdown",
   "metadata": {},
   "source": [
    "### 4. Difference of Events (A but not B)\n",
    "The difference between two events $A$ and $B$ represents the outcomes that are in $A$ but **not in** $B$.\n",
    "\n",
    "It’s written as $A - B$, and reads as \"A but not B.\"\n",
    "\n",
    "<p align=\"center\">\n",
    "  <img src=\"imgs/probability4.png\" alt=\"Alt text\">\n",
    "</p>\n",
    "\n",
    "- **Formula**:\n",
    "\n",
    "$$P(A - B) = P(A) - P(A \\cap B)$$\n",
    "\n",
    "This removes the overlap between $A$ and $B$ from the probability of $A$.\n",
    "\n",
    "- **Example**: \n",
    "\n",
    "  - **Scenario**: Using the same die roll example:\n",
    "\n",
    "    - Event $A =$ rolling an even number $= \\{2, 4, 6\\}$\n",
    "\n",
    "    - Event $B =$ rolling a number greater than 4 $= \\{5, 6\\}$\n",
    "\n",
    "  - **Difference** $A - B =$ rolling an even number that is not greater than 4 $= \\{2, 4\\}$\n",
    "\n",
    "  - **Probability**:\n",
    "\n",
    "  $$P(A - B) = \\frac{2}{6} = 0.33 = 33\\%$$\n",
    "\n",
    "- **Key Insight**: Difference shows what remains of event $A$ after excluding the overlap with event $B$."
   ]
  },
  {
   "cell_type": "markdown",
   "metadata": {},
   "source": [
    "#### Difference of Events Simulation\n",
    "Finally, we’ll simulate the difference $A - B$, which represents the event where $A$ occurs but $B$ does not."
   ]
  },
  {
   "cell_type": "code",
   "execution_count": 11,
   "metadata": {},
   "outputs": [
    {
     "name": "stdout",
     "output_type": "stream",
     "text": [
      "P(A - B) = 0.36 = 36.00%\n"
     ]
    }
   ],
   "source": [
    "# Variables to track the count of events\n",
    "A_count = 0\n",
    "A_and_B_count = 0\n",
    "A_not_B_count = 0\n",
    "\n",
    "# Number of simulations\n",
    "n_simulations = 100\n",
    "\n",
    "# Simulate rolling the die for n_simulations\n",
    "for i in range(n_simulations):\n",
    "    # Roll the die\n",
    "    roll = roll_die()\n",
    "    \n",
    "    # Increment `A_count` if the roll is even\n",
    "    if roll % 2 == 0:\n",
    "        A_count += 1\n",
    "\n",
    "    # Increment `A_and_B_count` if the roll is even AND greater than 4\n",
    "    if (roll % 2 == 0) and (roll > 4):\n",
    "        A_and_B_count +=1\n",
    "\n",
    "    # Increment `A_not_B_count` if the roll is even but not greater than 4\n",
    "    if (roll % 2 == 0) and not (roll > 4):\n",
    "        A_not_B_count +=1\n",
    "\n",
    "prob_A = A_count / n_simulations\n",
    "prob_A_and_B = A_and_B_count / n_simulations\n",
    "\n",
    "prob_A_not_B = prob_A - prob_A_and_B\n",
    "# prob_A_not_B = A_not_B_count / n_simulations\n",
    "\n",
    "# print(f\"Total simulations: {n_simulations}\")\n",
    "# print(f\"Count of A - B: {A_not_B_count}\")\n",
    "print(f\"P(A - B) = {prob_A_not_B:.2f} = {prob_A_not_B*100:.2f}%\")"
   ]
  },
  {
   "cell_type": "markdown",
   "metadata": {},
   "source": [
    "## Bayes' Theorem\n",
    "**Bayes' Theorem** is used to update the probability of an event based on new information. \n",
    "\n",
    "It allows us to revise our initial beliefs (called **prior probabilities**) in light of new data or information."
   ]
  },
  {
   "cell_type": "markdown",
   "metadata": {},
   "source": [
    "### The Formula\n",
    "Bayes' Theorem states:\n",
    "\n",
    "$$P(A|B) = \\frac{P(B|A) \\times P(A)}{P(B)}$$\n",
    "\n",
    "Where:\n",
    "\n",
    "- $P(A|B)$ is the **posterior probability**: the probability of event $A$ happening given that $B$ has occurred.\n",
    "\n",
    "- $P(B|A)$ is the **likelihood**: the probability of event $B$ happening given that $A$ has occurred.\n",
    "\n",
    "- $P(A)$ is the **prior probability**: The initial probability of event $A$.\n",
    "\n",
    "- $P(B)$ is the **marginal probability**: the total probability of event $B$ occurring."
   ]
  },
  {
   "cell_type": "markdown",
   "metadata": {},
   "source": [
    "### Understanding Bayes' Theorem\n",
    "In simpler terms, Bayes' Theorem helps answer: “Given that something has happened (event $B$), how likely is it that some underlying cause $A$ was responsible for it?\""
   ]
  },
  {
   "cell_type": "markdown",
   "metadata": {},
   "source": [
    "### Example\n",
    "Let's work through the problem of using **Bayes' Theorem** to find the probability that the marble is red, given that it has stripes.\n",
    "\n",
    "#### Problem Setup\n",
    "- We have a bag containing 100 marbles:\n",
    "\n",
    "    - 30 are red so $P(\\text{Red}) = 0.30$\n",
    "\n",
    "    - 70 are blue so $P(\\text{Blue}) = 0.70$\n",
    "\n",
    "- We know:\n",
    "\n",
    "    - 50% of the red marbles have stripes so $P(\\text{Stripes|Red}) = 0.50$\n",
    "\n",
    "    - 10% of the blue marbles have stripes so $P(\\text{Stripes|Blue}) = 0.10$\n",
    "\n",
    "We want to find the probability that the marble is red given that it has stripes, i.e., $P(\\text{Red|Stripes})$.\n",
    "\n",
    "#### Bayes' Theorem Formula\n",
    "Bayes' Theorem can be written as:\n",
    "\n",
    "$$P(\\text{Red|Stripes}) = \\frac{P(\\text{Stripes|Red}) \\times P(\\text{Red})}{P(\\text{Stripes})}$$\n",
    "\n",
    "#### Step-by-Step Breakdown\n",
    "1. **Prior Probability:**\n",
    "\n",
    "    - The probability of picking a red marble without any additional information is $P(\\text{Red}) = 0.30$\n",
    "\n",
    "2. **Likelihood:**\n",
    "\n",
    "    - The probability of picking a striped marble given that it’s red is $P(\\text{Stripes|Red}) = 0.50$\n",
    "\n",
    "    - The probability of picking a striped marble given that it’s blue is $P(\\text{Stripes|Blue}) = 0.10$\n",
    "\n",
    "3. **Total Probability** $P(\\text{Stripes})$: This is the total probability that the marble has stripes, regardless of color. We calculate this by using the **law of total probability**:\n",
    "\n",
    "$$P(\\text{Stripes}) = P(\\text{Stripes|Red}) \\times P(\\text{Red}) + P(\\text{Stripes|Blue}) \\times P(\\text{Blue})$$\n",
    "\n",
    "Substituting values:\n",
    "\n",
    "$$P(\\text{Stripes}) = 0.50 \\times 0.30 + 0.10 \\times 0.70$$\n",
    "\n",
    "$$= 0.15 + 0.07$$\n",
    "\n",
    "$$= 0.22$$\n",
    "\n",
    "4. **Posterior Probability** $P(\\text{Red|Stripes})$: Now we can use Bayes' Theorem,\n",
    "\n",
    "$$P(\\text{Red|Stripes}) = \\frac{P(\\text{Stripes|Red}) \\times P(\\text{Red})}{P(\\text{Stripes})}$$\n",
    "\n",
    "$$= \\frac{0.50 \\times 0.30}{0.22}$$\n",
    "\n",
    "$$= \\frac{0.15}{0.22}$$\n",
    "\n",
    "$$\\approx 0.6818$$\n",
    "\n",
    "So, the probability that the marble is red given that it has stripes is approximately $68.18\\%$."
   ]
  },
  {
   "cell_type": "markdown",
   "metadata": {},
   "source": [
    "## Conclusion\n",
    "In this lesson, we covered the basics of probability, including key concepts like experiments, events, and calculating probabilities. We explored operations between events and introduced Bayes' Theorem to show how new information can affect probabilities. Through Python simulations, we connected theory to practice."
   ]
  },
  {
   "cell_type": "markdown",
   "metadata": {},
   "source": [
    "## Additional Resources\n",
    "- [Introduction to Probability - MIT OCW](https://ocw.mit.edu/courses/18-05-introduction-to-probability-and-statistics-spring-2022/)\n",
    "\n",
    "- [Khan Academy - Probability and Statistics](https://www.khanacademy.org/math/statistics-probability)\n",
    "\n",
    "- [Coursera: Probability and Statistics](https://www.coursera.org/courses?query=probability%20and%20statistics)"
   ]
  }
 ],
 "metadata": {
  "kernelspec": {
   "display_name": "Python 3",
   "language": "python",
   "name": "python3"
  },
  "language_info": {
   "codemirror_mode": {
    "name": "ipython",
    "version": 3
   },
   "file_extension": ".py",
   "mimetype": "text/x-python",
   "name": "python",
   "nbconvert_exporter": "python",
   "pygments_lexer": "ipython3",
   "version": "3.12.1"
  }
 },
 "nbformat": 4,
 "nbformat_minor": 2
}
