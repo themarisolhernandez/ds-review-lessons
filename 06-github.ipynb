{
 "cells": [
  {
   "cell_type": "markdown",
   "metadata": {},
   "source": [
    "# 06 - GitHub\n",
    "\n",
    "## Introduction to Git\n",
    "**Git** is a version control system that helps track changes in your code or project files over time. It allows multiple developers to collaborate on the same project without overwriting each other’s work."
   ]
  },
  {
   "cell_type": "markdown",
   "metadata": {},
   "source": [
    "### Why Use Git?\n",
    "- **Version Control**: It tracks changes to your code and allows you to go back to previous versions.\n",
    "\n",
    "- **Collaboration**: It makes teamwork efficient by allowing multiple people to work on the same code base simultaneously.\n",
    "\n",
    "- **Branching**: Enables experimentation by working on different branches without affecting the main project."
   ]
  },
  {
   "cell_type": "markdown",
   "metadata": {},
   "source": [
    "<span style=\"font-size:30px;\">\n",
    "    <img src=\"imgs/git_logo.png\" alt=\"Logo\" style=\"width:50px; vertical-align:middle; margin-right:10px;\">\n",
    "    Installing Git\n",
    "</span>\n",
    "\n",
    "\n",
    "### Windows\n",
    "1. Download Git from https://git-scm.com.\n",
    "\n",
    "2. Follow the installer instructions and choose \"Git Bash\" during installation.\n",
    "\n",
    "### macOS\n",
    "Use Homebrew to install Git:\n",
    "\n",
    "```python\n",
    "brew install git\n",
    "```\n",
    "\n",
    "### Linux\n",
    "Use your distribution's package manager:\n",
    "\n",
    "```python\n",
    "sudo apt-get install git  # for Ubuntu/Debian\n",
    "sudo yum install git      # for Red Hat/Fedora\n",
    "```"
   ]
  },
  {
   "cell_type": "markdown",
   "metadata": {},
   "source": [
    "## Configuring Git\n",
    "Once Git is installed, set up your username and email address (required for commit messages):\n",
    "\n",
    "```python\n",
    "git config --global user.name \"Your Name\"\n",
    "git config --global user.email \"your.email@example.com\"\n",
    "```\n",
    "\n",
    "Verify your configuration:\n",
    "```python\n",
    "git config --list\n",
    "```\n",
    "\n",
    "Type `q` to exit the configuration view."
   ]
  },
  {
   "cell_type": "markdown",
   "metadata": {},
   "source": [
    "## Git Basics\n",
    "### Initializing a Git Repository\n",
    "To start tracking your project files with Git, navigate to your project folder and run:\n",
    "\n",
    "```python\n",
    "git init\n",
    "```\n",
    "\n",
    "This will create a hidden `.git/` folder, where Git stores all its version control data. You can run the following command in the terminal to view all files, including hidden ones, to confirm:\n",
    "\n",
    "```python\n",
    "ls -a\n",
    "```\n"
   ]
  },
  {
   "cell_type": "markdown",
   "metadata": {},
   "source": [
    "### Tracking Files\n",
    "After initializing Git, you can add files to track them:\n",
    "\n",
    "```python\n",
    "git add <file_name>       # Add a specific file\n",
    "git add .                 # Add all files in the directory\n",
    "```"
   ]
  },
  {
   "cell_type": "markdown",
   "metadata": {},
   "source": [
    "### Commiting Changes\n",
    "After adding files, commit them with a message that describes the changes:\n",
    "\n",
    "```python\n",
    "git commit -m \"Initial commit\"\n",
    "```"
   ]
  },
  {
   "cell_type": "markdown",
   "metadata": {},
   "source": [
    "## Working with Git\n",
    "\n",
    "### Checking Git Status\n",
    "You can see which files are tracked, modified, or staged using:\n",
    "\n",
    "```python\n",
    "git status\n",
    "```"
   ]
  },
  {
   "cell_type": "markdown",
   "metadata": {},
   "source": [
    "### Checking Changes\n",
    "To see the specific changes made to files:\n",
    "\n",
    "```python\n",
    "git diff\n",
    "```"
   ]
  },
  {
   "cell_type": "markdown",
   "metadata": {},
   "source": [
    "### Viewing Commit History\n",
    "To view the history of commits in the repository:\n",
    "\n",
    "```python\n",
    "git log\n",
    "```"
   ]
  },
  {
   "cell_type": "markdown",
   "metadata": {},
   "source": [
    "### Undoing Changes\n",
    "- To undo changes to a file (before committing)\n",
    "\n",
    "```python\n",
    "git checkout -- <file_name>\n",
    "```\n",
    "\n",
    "- To remove a file from the staging area.\n",
    "\n",
    "```python\n",
    "git reset <file_name>\n",
    "```"
   ]
  },
  {
   "cell_type": "markdown",
   "metadata": {},
   "source": [
    "### Deleting a file\n",
    "To delete a file and stage the change:\n",
    "\n",
    "```python\n",
    "git rm <file_name>\n",
    "```"
   ]
  },
  {
   "cell_type": "markdown",
   "metadata": {},
   "source": [
    "## Branching in Git\n",
    "### Creating a Branch\n",
    "Branches allow you to work on different features independently. To create and switch to a new branch:\n",
    "\n",
    "```python\n",
    "git branch branch-name\n",
    "git checkout branch-name\n",
    "```\n",
    "\n",
    "Alternatively, combine both commands:\n",
    "```python\n",
    "git checkout -b branch-name\n",
    "```"
   ]
  },
  {
   "cell_type": "markdown",
   "metadata": {},
   "source": [
    "### Merging Branches\n",
    "Once you’re done with the feature, switch back to the `main` branch and merge:\n",
    "\n",
    "```python\n",
    "git checkout main\n",
    "git merge branch-name\n",
    "```"
   ]
  },
  {
   "cell_type": "markdown",
   "metadata": {},
   "source": [
    "### Deleting a Branch\n",
    "Deleting a Branch\n",
    "After merging, you can delete the branch:\n",
    "\n",
    "```python\n",
    "git branch -d branch-name\n",
    "```"
   ]
  },
  {
   "cell_type": "markdown",
   "metadata": {},
   "source": [
    "## Introduction to GitHub\n",
    "**GitHub** is a cloud-based hosting service that allows you to manage Git repositories, collaborate with others, and showcase your projects.\n",
    "\n",
    "### Creating a GitHub Account\n",
    "1. Go to https://github.com and sign up for a free account.\n",
    "\n",
    "2. Create a new repository by clicking the \"New Repository\" button on your GitHub dashboard."
   ]
  },
  {
   "cell_type": "markdown",
   "metadata": {},
   "source": [
    "## Connecting Git to GitHub\n",
    "\n",
    "### Step 1: Create a Repository on GitHub\n",
    "- After signing in, click the \"New\" button to create a new repository.\n",
    "\n",
    "- Give the repository a name (e.g., my-first-repo).\n",
    "\n",
    "- Choose \"Public\" or \"Private\" visibility.\n",
    "\n",
    "- Click \"Create repository.\"\n",
    "\n",
    "### Step 2: Link Git to GitHub\n",
    "To connect your local Git repository to GitHub, use:\n",
    "\n",
    "```python\n",
    "git remote add origin https://github.com/yourusername/my-first-repo.git\n",
    "```"
   ]
  },
  {
   "cell_type": "markdown",
   "metadata": {},
   "source": [
    "### Step 3: Push Changes to GitHub\n",
    "Push your local commits to the GitHub repository:\n",
    "\n",
    "```python\n",
    "git push -u origin main\n",
    "```"
   ]
  },
  {
   "cell_type": "markdown",
   "metadata": {},
   "source": [
    "## Cloning a Repository\n",
    "If you want to work on an existing GitHub repository, clone it:\n",
    "```python\n",
    "git clone https://github.com/username/repo-name.git\n",
    "```"
   ]
  },
  {
   "cell_type": "markdown",
   "metadata": {},
   "source": [
    "## Git Collaboration with GitHub\n",
    "\n",
    "### Forking a Repository\n",
    "If you want to contribute to an open-source project, fork the repository:\n",
    "\n",
    "1. Go to the project repository on GitHub.\n",
    "\n",
    "2. Click the \"Fork\" button to create a copy in your GitHub account.\n",
    "\n",
    "### Pull Requests\n",
    "After making changes in your forked repository, open a pull request:\n",
    "\n",
    "1. Navigate to your forked repository.\n",
    "\n",
    "2. Click \"Pull Request\" to propose your changes to the original repository.\n",
    "\n",
    "3. Add a description and submit your request."
   ]
  },
  {
   "cell_type": "markdown",
   "metadata": {},
   "source": [
    "## Visualization: Git Workflow\n",
    "Here’s a basic diagram of the typical Git workflow:\n",
    "```python\n",
    "graph LR\n",
    "    A[Local Workspace] -->|git add| B[Staging Area]\n",
    "    B -->|git commit| C[Local Repository]\n",
    "    C -->|git push| D[Remote Repository on GitHub]\n",
    "```"
   ]
  },
  {
   "cell_type": "markdown",
   "metadata": {},
   "source": [
    "## Working with `.gitignore`\n",
    "The `.gitignore` file specifies intentionally untracked files that Git should ignore. Common use cases include:\n",
    "\n",
    "Ignoring sensitive data (e.g., API keys).\n",
    "Ignoring log files or build artifacts.\n",
    "\n",
    "Create a .gitignore file:\n",
    "\n",
    "```python\n",
    "touch .gitignore\n",
    "```\n",
    "\n",
    "Add file patterns to the `.gitignore` file:\n",
    "```python\n",
    "*.log\n",
    "*.env\n",
    "node_modules/\n",
    "```"
   ]
  },
  {
   "cell_type": "markdown",
   "metadata": {},
   "source": [
    "## Conclusion\n",
    "**Git** and **GitHub** are essential tools for modern software development. They help you maintain version control, collaborate with others, and host your projects. You’ve now learned the basics of setting up Git, working with branches, and pushing to GitHub."
   ]
  },
  {
   "cell_type": "markdown",
   "metadata": {},
   "source": [
    "## Additional Resources\n",
    "- [Git Official Documentation](https://git-scm.com/doc)\n",
    "\n",
    "- [GitHub Learning Lab](https://github.com/apps/github-learning-lab)\n",
    "\n",
    "- [Atlassian Git Tutorial](https://www.atlassian.com/git/tutorials)\n",
    "\n",
    "- [Pro Git Book](https://git-scm.com/book/en/v2)"
   ]
  }
 ],
 "metadata": {
  "language_info": {
   "name": "python"
  }
 },
 "nbformat": 4,
 "nbformat_minor": 2
}
