{
 "cells": [
  {
   "cell_type": "markdown",
   "metadata": {},
   "source": [
    "# 01 - Python for Data Science"
   ]
  },
  {
   "cell_type": "markdown",
   "metadata": {},
   "source": [
    "## Jupyter Notebook and Markdown\n",
    "Jupyter Notebooks are a powerful tool for interactive coding, data analysis, and documenting your work. They provide an environment where you can combine code, text, visualizations, and more in a single document. \n",
    "\n",
    "In this course, you will be using Jupyter Notebooks for your lab exercises, allowing you to seamlessly integrate coding, analysis, and explanations."
   ]
  },
  {
   "cell_type": "markdown",
   "metadata": {},
   "source": [
    "### Basic Components of a Jupyter Notebook\n",
    "**Cells**: Jupyter Notebooks are composed of cells. There are two main types:\n",
    "\n",
    "1. **Code Cells**: These cells contain code that you can execute. When you run a code cell, the code is executed, and the output (if any) is displayed directly below the cell."
   ]
  },
  {
   "cell_type": "code",
   "execution_count": 17,
   "metadata": {},
   "outputs": [
    {
     "name": "stdout",
     "output_type": "stream",
     "text": [
      "This is an example of a Code Cell\n"
     ]
    }
   ],
   "source": [
    "print(\"This is an example of a Code Cell\")"
   ]
  },
  {
   "cell_type": "markdown",
   "metadata": {},
   "source": [
    "2. **Markdown Cells**: These cells are used for writing text with formatting. Markdown allows you to include headers, lists, bold text, italics, and other formatting options. This content exists in a Markdown Cell. To edit, you just need to double click it."
   ]
  },
  {
   "cell_type": "markdown",
   "metadata": {},
   "source": [
    "### Adding and Running Cells\n",
    "1. **Adding Cells**:\n",
    "\n",
    "    - To add a new cell, click on the `+` button in the toolbar or use the shortcut `B` (for below) or `A` (for above) when a cell is selected.\n",
    "\n",
    "    - You can also use the `...` menu: **Insert Cell > Insert {Code/Markdown} Cell Below** or **Insert Cell > Insert {Code/Markdown} Cell Above**."
   ]
  },
  {
   "cell_type": "markdown",
   "metadata": {},
   "source": [
    "2. **Running Cells**:\n",
    "\n",
    "    - To run a cell, click on the play button left of the cell, or press `Shift + Enter`. This will execute the code in a code cell or render the Markdown in a Markdown cell."
   ]
  },
  {
   "cell_type": "markdown",
   "metadata": {},
   "source": [
    "### Writing in Markdown\n",
    "Markdown is a lightweight markup language that you can use to add formatting to your text. Here’s a quick guide to some basic Markdown syntax:\n",
    "\n",
    "- **Headers**: Use `#` for headers. The number of `#` symbols determines the header level.\n",
    "\n",
    "    ```markdown\n",
    "    # This is a Heading 1\n",
    "    ## This is a Heading 2\n",
    "    ### This is a Heading 3\n",
    "\n",
    "When rendered, this Markdown will appear as:"
   ]
  },
  {
   "cell_type": "markdown",
   "metadata": {},
   "source": [
    "# This is a Heading 1\n",
    "## This is a Heading 2\n",
    "### This is a Heading 3"
   ]
  },
  {
   "cell_type": "markdown",
   "metadata": {},
   "source": [
    "- **Bold and Italic Text**:\n",
    "\n",
    "    ```markdown\n",
    "    **This is bold text**\n",
    "    *This is italic text*\n",
    "\n",
    "When rendered, this Markdown will appear as:"
   ]
  },
  {
   "cell_type": "markdown",
   "metadata": {},
   "source": [
    "**This is bold text**\n",
    "\n",
    "*This is italic text*"
   ]
  },
  {
   "cell_type": "markdown",
   "metadata": {},
   "source": [
    "- **Unordered List**: Use `*`, `-`, or `+` for bullet points.\n",
    "\n",
    "    ```markdown\n",
    "    - Item 1\n",
    "    - Item 2\n",
    "        - Subitem 1\n",
    "\n",
    "When rendered, this Markdown will appear as:"
   ]
  },
  {
   "cell_type": "markdown",
   "metadata": {},
   "source": [
    "- Item 1\n",
    "- Item 2\n",
    "  - Subitem 1"
   ]
  },
  {
   "cell_type": "markdown",
   "metadata": {},
   "source": [
    "- **Ordered List**: Use numbers followed by a period.\n",
    "\n",
    "    ```markdown\n",
    "    1. First item\n",
    "    2. Second item\n",
    "\n",
    "When rendered, this Markdown will appear as:"
   ]
  },
  {
   "cell_type": "markdown",
   "metadata": {},
   "source": [
    "1. First item\n",
    "2. Second item"
   ]
  },
  {
   "cell_type": "markdown",
   "metadata": {},
   "source": [
    "- **Links**:\n",
    "\n",
    "    ```markdown\n",
    "    [OpenAI](https://www.openai.com)\n",
    "\n",
    "When rendered, this Markdown will appear as:"
   ]
  },
  {
   "cell_type": "markdown",
   "metadata": {},
   "source": [
    "[OpenAI](https://www.openai.com)"
   ]
  },
  {
   "cell_type": "markdown",
   "metadata": {},
   "source": [
    "- **Images**:\n",
    "\n",
    "    ```markdown\n",
    "    ![Alt text](image_url)\n",
    "\n",
    "When rendered, this Markdown will appear as:"
   ]
  },
  {
   "cell_type": "markdown",
   "metadata": {},
   "source": [
    "![Alt text](https://content.imageresizer.com/images/memes/Sad-Hamster-with-Bow-girl-meme-8l99nf.jpg)"
   ]
  },
  {
   "cell_type": "markdown",
   "metadata": {},
   "source": [
    "- **Inline code**: Use single backticks `\n",
    "\n",
    "    ```markdown\n",
    "    Here is some `inline code`.\n",
    "\n",
    "When rendered, this Markdown will appear as:"
   ]
  },
  {
   "cell_type": "markdown",
   "metadata": {},
   "source": [
    "Here is some `inline code`."
   ]
  },
  {
   "cell_type": "markdown",
   "metadata": {},
   "source": [
    "- **Code blocks**: Use triple backticks ``` or indent with four spaces."
   ]
  },
  {
   "cell_type": "markdown",
   "metadata": {},
   "source": [
    "```\n",
    "def hello_world():\n",
    "    print(\"Hello world\")\n",
    "```"
   ]
  },
  {
   "cell_type": "markdown",
   "metadata": {},
   "source": [
    "# Python for Data Science\n",
    "**Python** is renowned for its versatility and is used across a wide range of applications, from web development to automation. However, one of its most prominent roles is in the realm of data science, where it excels due to its simplicity, readability, and extensive library support.\n",
    "\n",
    "Understanding the distinctions between **Artificial Intelligence (AI)**, **Machine Learning (ML)**, and **Data Science** is crucial for grasping Python's role in data-related tasks:\n",
    "\n",
    "- **Artificial Intelligence (AI)**: A broad field aimed at creating machines that can mimic human intelligence. It includes subfields like machine learning, robotics, and natural language processing. The goal is to simulate human-like thinking and behavior.\n",
    "\n",
    "- **Machine Learning (ML)**: A subset of AI focused on developing algorithms that enable computers to learn from data and make predictions. It allows systems to improve their performance over time without being explicitly programmed.\n",
    "\n",
    "- **Data Science**: An interdisciplinary field that uses statistical and computational methods to analyze and interpret data. It involves data collection, cleaning, analysis, and visualization. Data science often incorporates AI and ML techniques to extract meaningful insights from large datasets.\n",
    "\n",
    "<p align=\"center\">\n",
    "  <img src=\"imgs/python_for_data_science.png\" alt=\"Alt text\" width=\"600\" height=\"400\">\n",
    "</p>\n",
    "\n",
    "Python supports all these areas, especially data science, with its extensive libraries and tools for data manipulation, analysis, and visualization."
   ]
  },
  {
   "cell_type": "markdown",
   "metadata": {},
   "source": [
    "## Basic Python Guide: `\"Hello, World!\"`\n",
    "Every programmer's journey with a new language often begins by writing their first simple program. In Python, this is traditionally done by printing the phrase **\"Hello, World!\"**.\n",
    "\n",
    "In Python, we use the `print()` function to display messages or output results to the screen. The `print()` function is incredibly versatile and can output text, numbers, variables, or even the results of computations.\n",
    "\n",
    "Let's start with the most basic example of Python code:"
   ]
  },
  {
   "cell_type": "code",
   "execution_count": 2,
   "metadata": {},
   "outputs": [
    {
     "name": "stdout",
     "output_type": "stream",
     "text": [
      "Hello, World!\n"
     ]
    }
   ],
   "source": [
    "print(\"Hello, World!\")"
   ]
  },
  {
   "cell_type": "markdown",
   "metadata": {},
   "source": [
    "**Understanding the Code:**\n",
    "\n",
    "- `print()` **function**: This is a built-in Python function used to output or display something on the screen.\n",
    "\n",
    "- **Quotation marks**: In Python, strings (text data) are enclosed in either double (`\"`) or single (`'`) quotation marks. In this case, we used double quotation marks to specify the text `\"Hello, World!\"` as the string we want to print.\n",
    "\n",
    "- **Parentheses**: The parentheses after the print keyword are necessary to enclose the value we want to display."
   ]
  },
  {
   "cell_type": "code",
   "execution_count": 4,
   "metadata": {},
   "outputs": [
    {
     "name": "stdout",
     "output_type": "stream",
     "text": [
      "Hello, World!\n"
     ]
    }
   ],
   "source": [
    "# Using single quotes works too\n",
    "print('Hello, World!')"
   ]
  },
  {
   "cell_type": "markdown",
   "metadata": {},
   "source": [
    "**Try it Yourself**:  \n",
    "\n",
    "If you're using a code editor, a Jupyter notebook, or even a simple Python interpreter, try running the following code to see \"Hello, World!\" printed on your screen:"
   ]
  },
  {
   "cell_type": "code",
   "execution_count": 6,
   "metadata": {},
   "outputs": [
    {
     "name": "stdout",
     "output_type": "stream",
     "text": [
      "Hello, World!\n"
     ]
    }
   ],
   "source": [
    "print(\"Hello, World!\")"
   ]
  },
  {
   "cell_type": "markdown",
   "metadata": {},
   "source": [
    "Now, try modifying it! What happens if you change the text inside the parentheses?"
   ]
  },
  {
   "cell_type": "code",
   "execution_count": 9,
   "metadata": {},
   "outputs": [
    {
     "name": "stdout",
     "output_type": "stream",
     "text": [
      "\n"
     ]
    }
   ],
   "source": [
    "# TODO: Modify the text inside the parentheses\n",
    "print()"
   ]
  },
  {
   "cell_type": "markdown",
   "metadata": {},
   "source": [
    "## Variables in Python\n",
    "In Python, a **variable** is like a container that stores information for use in your code. This information, or **data**, can be anything from a number to a string of text, a list of elements, or other data types. The value stored in a variable can change or \"vary\" over time, which is why they are called **variables**."
   ]
  },
  {
   "cell_type": "markdown",
   "metadata": {},
   "source": [
    "### Creating Variables\n",
    "To create a variable in Python, you simply give it a name and assign it a value using the **equals sign** (`=`). For example, let's create some variables to store information about a person:"
   ]
  },
  {
   "cell_type": "code",
   "execution_count": 11,
   "metadata": {},
   "outputs": [],
   "source": [
    "name = \"John\"      # A string variable (text)\n",
    "age = 25           # An integer variable (whole number)\n",
    "height = 1.80      # A float variable (decimal number)\n",
    "is_student = True  # A boolean variable (True/False)"
   ]
  },
  {
   "cell_type": "markdown",
   "metadata": {},
   "source": [
    "In the example above:\n",
    "\n",
    "- `name` is assigned the string `\"John\"`.\n",
    "\n",
    "- `age` is assigned the integer `25`.\n",
    "\n",
    "- `height` is assigned the float `1.80`.\n",
    "\n",
    "- `is_student` is assigned the boolean value `True`."
   ]
  },
  {
   "cell_type": "markdown",
   "metadata": {},
   "source": [
    "### Accessing Variables\n",
    "Once a variable has been created, you can access its value by simply using its name in your code. There are two common ways to view or access variables in Python:\n",
    "\n",
    "1. **Using the `print()` function**\n",
    "\n",
    "    This is the recommended method for outputting a variable's value:"
   ]
  },
  {
   "cell_type": "code",
   "execution_count": 12,
   "metadata": {},
   "outputs": [
    {
     "name": "stdout",
     "output_type": "stream",
     "text": [
      "John\n",
      "25\n",
      "1.8\n",
      "True\n"
     ]
    }
   ],
   "source": [
    "print(name)\n",
    "print(age)\n",
    "print(height)\n",
    "print(is_student)"
   ]
  },
  {
   "cell_type": "markdown",
   "metadata": {},
   "source": [
    "2. **Simply typing the variable name (works only in Jupyter notebooks and certain IDEs)**\n",
    "\n",
    "    In Jupyter notebooks, if you type the name of a variable and run the cell, the notebook will only display the value of the **last variable** in that cell:"
   ]
  },
  {
   "cell_type": "code",
   "execution_count": 13,
   "metadata": {},
   "outputs": [
    {
     "data": {
      "text/plain": [
       "True"
      ]
     },
     "execution_count": 13,
     "metadata": {},
     "output_type": "execute_result"
    }
   ],
   "source": [
    "name\n",
    "age\n",
    "height\n",
    "is_student  # Only the value of 'is_student' will be displayed"
   ]
  },
  {
   "cell_type": "markdown",
   "metadata": {},
   "source": [
    "In this case, the values for `name`, `age`, and `height` will not be shown. To display all variables, use the `print()` function, as it allows for more controlled and predictable output."
   ]
  },
  {
   "cell_type": "markdown",
   "metadata": {},
   "source": [
    "### Accessing and Changing Variables Across Cells (Jupyter Notebooks)\n",
    "In Jupyter notebooks, once a variable is created in one cell, it can be accessed in any subsequent cell, without needing to recreate the variable. For example:\n",
    "\n",
    "**Cell 1:**"
   ]
  },
  {
   "cell_type": "code",
   "execution_count": 14,
   "metadata": {},
   "outputs": [],
   "source": [
    "city = \"San Francisco\"\n",
    "population = 883305"
   ]
  },
  {
   "cell_type": "markdown",
   "metadata": {},
   "source": [
    "**Cell 2:**"
   ]
  },
  {
   "cell_type": "code",
   "execution_count": 15,
   "metadata": {},
   "outputs": [
    {
     "name": "stdout",
     "output_type": "stream",
     "text": [
      "The population of San Francisco is 883305.\n"
     ]
    }
   ],
   "source": [
    "print(f\"The population of {city} is {population}.\")"
   ]
  },
  {
   "cell_type": "markdown",
   "metadata": {},
   "source": [
    "You don't need to reassign `city` and `population` in **Cell 2**. The variables created in **Cell 1** are accessible because the notebook remembers their values as long as the kernel is running. However, if you want to **change** the values of any variables, you can reassign them in the same or new cell:\n",
    "\n",
    "**Cell 3:**"
   ]
  },
  {
   "cell_type": "code",
   "execution_count": 16,
   "metadata": {},
   "outputs": [
    {
     "name": "stdout",
     "output_type": "stream",
     "text": [
      "The updated population of San Francisco is 900000.\n"
     ]
    }
   ],
   "source": [
    "population = 900000  # Updating the value of population\n",
    "print(f\"The updated population of {city} is {population}.\")"
   ]
  },
  {
   "cell_type": "markdown",
   "metadata": {},
   "source": [
    "This flexibility makes Jupyter notebooks a powerful tool for interactive data analysis. Just remember that any changes to a variable in one cell will carry over to the following cells unless the kernel is restarted or the variable is reassigned."
   ]
  },
  {
   "cell_type": "markdown",
   "metadata": {},
   "source": [
    "### Why Are Variables Important?\n",
    "Variables are a fundamental part of programming for several reasons:\n",
    "\n",
    "1. **Storing Information**: Variables allow you to store data for later use. Instead of writing the same value repeatedly, you store it once and reuse it.\n",
    "\n",
    "2. **Operations**: You can perform operations between variables, such as adding numbers or combining strings, as long as the operations are valid for their data type.\n",
    "\n",
    "3. **Readability**: Using descriptive variable names makes your code easier to understand. For example, `person_height = 1.80` is much clearer than just using the number `1.80` without context."
   ]
  },
  {
   "cell_type": "markdown",
   "metadata": {},
   "source": [
    "### Best Practices for Naming Variables\n",
    "When naming your variables, try to use **descriptive** names that explain what the variable is storing. For instance:\n",
    "\n",
    "- `temperature` instead of `t`\n",
    "\n",
    "- `person_age` instead of `x`\n",
    "\n",
    "Following these practices will help you and others who read your code understand its purpose more easily."
   ]
  },
  {
   "cell_type": "markdown",
   "metadata": {},
   "source": [
    "## Data Types\n",
    "In Python, data types determine the kind of data a variable can hold. Here’s a quick guide to the fundamental data types:"
   ]
  },
  {
   "cell_type": "markdown",
   "metadata": {},
   "source": [
    "### Basic Data Types\n",
    "\n",
    "- **Integer** (`int`): Represents whole numbers, positive or negative."
   ]
  },
  {
   "cell_type": "code",
   "execution_count": null,
   "metadata": {},
   "outputs": [],
   "source": [
    "num_int1 = 123\n",
    "num_int2 = -57"
   ]
  },
  {
   "cell_type": "markdown",
   "metadata": {},
   "source": [
    "- **Floating Point** (`float`): Represents real numbers with decimal points."
   ]
  },
  {
   "cell_type": "code",
   "execution_count": null,
   "metadata": {},
   "outputs": [],
   "source": [
    "num_float1 = 3.14\n",
    "num_float2 = -0.16"
   ]
  },
  {
   "cell_type": "markdown",
   "metadata": {},
   "source": [
    "- **String** (`str`): Represents sequences of characters (text). Can wrap a string in double quotes (`\"`) or single quotes (`'`), but you **cannot** mix the two."
   ]
  },
  {
   "cell_type": "code",
   "execution_count": null,
   "metadata": {},
   "outputs": [],
   "source": [
    "str_var1 = \"This is a sample string\"\n",
    "str_var2 = 'This is another sample string'\n",
    "\n",
    "# Invalid: Mixing the two types of quotes is not allowed\n",
    "invalid_str = 'This is an invalid string\""
   ]
  },
  {
   "cell_type": "markdown",
   "metadata": {},
   "source": [
    "- **Boolean** (`bool`): Represents binary values, either True or False."
   ]
  },
  {
   "cell_type": "code",
   "execution_count": null,
   "metadata": {},
   "outputs": [],
   "source": [
    "bool_var1 = True\n",
    "bool_var2 = False"
   ]
  },
  {
   "cell_type": "markdown",
   "metadata": {},
   "source": [
    "### Complex Data Types\n",
    "\n",
    "- **List** (`list`): An ordered, mutable collection of elements that can be of any type."
   ]
  },
  {
   "cell_type": "code",
   "execution_count": 1,
   "metadata": {},
   "outputs": [],
   "source": [
    "list_numbers = [1, 2, 3, 4, 5]\n",
    "list_strings = [\"A\", \"B\", \"C\", \"D\"]"
   ]
  },
  {
   "cell_type": "markdown",
   "metadata": {},
   "source": [
    "- **Tuple** (`tuple`): An ordered, immutable collection of elements."
   ]
  },
  {
   "cell_type": "code",
   "execution_count": null,
   "metadata": {},
   "outputs": [],
   "source": [
    "tuple_numbers = (1, 2, 3, 4, 5)\n",
    "tuple_booleans = (True, False, False)"
   ]
  },
  {
   "cell_type": "markdown",
   "metadata": {},
   "source": [
    "- **Set** (`set`): An unordered collection of unique elements (no duplicates)"
   ]
  },
  {
   "cell_type": "code",
   "execution_count": null,
   "metadata": {},
   "outputs": [],
   "source": [
    "set_fruits = {\"apple\", \"banana\", \"cherry\"}"
   ]
  },
  {
   "cell_type": "markdown",
   "metadata": {},
   "source": [
    "- **Dictionary** (`dict`): An unordered collection of key-value pairs."
   ]
  },
  {
   "cell_type": "code",
   "execution_count": 2,
   "metadata": {},
   "outputs": [],
   "source": [
    "dict_person = {\n",
    "    \"name\": \"John\",\n",
    "    \"age\": 25,\n",
    "    \"height\": 1.80,\n",
    "    \"is_student\": True\n",
    "}"
   ]
  },
  {
   "cell_type": "markdown",
   "metadata": {},
   "source": [
    "- **Bytes** (`bytes`): Represents sequences of bytes, often used for binary data."
   ]
  },
  {
   "cell_type": "code",
   "execution_count": 3,
   "metadata": {},
   "outputs": [],
   "source": [
    "bytes_var = b\"Hello\""
   ]
  },
  {
   "cell_type": "markdown",
   "metadata": {},
   "source": [
    "### Checking the Data Type of a Variable\n",
    "You can use the built-in `type()` function to check the data type of a variable."
   ]
  },
  {
   "cell_type": "code",
   "execution_count": 6,
   "metadata": {},
   "outputs": [
    {
     "name": "stdout",
     "output_type": "stream",
     "text": [
      "<class 'str'>\n"
     ]
    }
   ],
   "source": [
    "color = \"blue\"\n",
    "print(type(color))"
   ]
  },
  {
   "cell_type": "markdown",
   "metadata": {},
   "source": [
    "### Operators\n",
    "Operators are symbols that perform operations on variables and values. Here’s a brief overview:\n",
    "\n",
    "- **Arithmetic Operators**: Perform mathematical operations.\n",
    "\n",
    "    - Addition: `+`\n",
    "\n",
    "    - Subtraction: `-`\n",
    "\n",
    "    - Multiplication: `*`\n",
    "\n",
    "    - Division: `/`\n",
    "\n",
    "    - Modulus: `%`"
   ]
  },
  {
   "cell_type": "code",
   "execution_count": 7,
   "metadata": {},
   "outputs": [
    {
     "name": "stdout",
     "output_type": "stream",
     "text": [
      "8\n"
     ]
    }
   ],
   "source": [
    "x = 5\n",
    "y = 3\n",
    "z = x + y  # z = 8\n",
    "print(z)"
   ]
  },
  {
   "cell_type": "code",
   "execution_count": 8,
   "metadata": {},
   "outputs": [
    {
     "name": "stdout",
     "output_type": "stream",
     "text": [
      "Marisol Hernandez\n"
     ]
    }
   ],
   "source": [
    "# You can also use operators on strings\n",
    "first_name = \"Marisol\"\n",
    "last_name = \"Hernandez\"\n",
    "full_name = first_name + \" \" + last_name\n",
    "print(full_name)"
   ]
  },
  {
   "cell_type": "markdown",
   "metadata": {},
   "source": [
    "- **Logical Operators**: Evaluate conditions and return boolean values.\n",
    "\n",
    "    - Logical AND: `and`"
   ]
  },
  {
   "cell_type": "code",
   "execution_count": 9,
   "metadata": {},
   "outputs": [
    {
     "data": {
      "text/plain": [
       "False"
      ]
     },
     "execution_count": 9,
     "metadata": {},
     "output_type": "execute_result"
    }
   ],
   "source": [
    "result = True and False  # result = False\n",
    "result"
   ]
  },
  {
   "cell_type": "markdown",
   "metadata": {},
   "source": [
    "   - Logical OR: `or`"
   ]
  },
  {
   "cell_type": "code",
   "execution_count": 10,
   "metadata": {},
   "outputs": [
    {
     "data": {
      "text/plain": [
       "True"
      ]
     },
     "execution_count": 10,
     "metadata": {},
     "output_type": "execute_result"
    }
   ],
   "source": [
    "result = True or False   # result = True\n",
    "result"
   ]
  },
  {
   "cell_type": "markdown",
   "metadata": {},
   "source": [
    "- Logical NOT: `not`"
   ]
  },
  {
   "cell_type": "code",
   "execution_count": 11,
   "metadata": {},
   "outputs": [
    {
     "data": {
      "text/plain": [
       "False"
      ]
     },
     "execution_count": 11,
     "metadata": {},
     "output_type": "execute_result"
    }
   ],
   "source": [
    "result = not True        # result = False\n",
    "result"
   ]
  },
  {
   "cell_type": "markdown",
   "metadata": {},
   "source": [
    "### Control Structures\n",
    "Control structures guide the flow of your program. They allow for decision-making and repeating code blocks."
   ]
  },
  {
   "cell_type": "markdown",
   "metadata": {},
   "source": [
    "#### Decision Structures\n",
    "\n",
    "- `if`: Executes a block of code if a condition is true."
   ]
  },
  {
   "cell_type": "code",
   "execution_count": 12,
   "metadata": {},
   "outputs": [
    {
     "name": "stdout",
     "output_type": "stream",
     "text": [
      "You are an adult.\n"
     ]
    }
   ],
   "source": [
    "age = 18\n",
    "if age >= 18:\n",
    "    print(\"You are an adult.\")"
   ]
  },
  {
   "cell_type": "markdown",
   "metadata": {},
   "source": [
    "- `elif`: Extends if to include additional conditions."
   ]
  },
  {
   "cell_type": "code",
   "execution_count": 13,
   "metadata": {},
   "outputs": [
    {
     "name": "stdout",
     "output_type": "stream",
     "text": [
      "You are an adult.\n"
     ]
    }
   ],
   "source": [
    "age = 18\n",
    "if age < 18:\n",
    "    print(\"You are a minor.\")\n",
    "elif age >= 18:\n",
    "    print(\"You are an adult.\")"
   ]
  },
  {
   "cell_type": "markdown",
   "metadata": {},
   "source": [
    "- `else`: Executes when none of the if or elif conditions are met."
   ]
  },
  {
   "cell_type": "code",
   "execution_count": 14,
   "metadata": {},
   "outputs": [
    {
     "name": "stdout",
     "output_type": "stream",
     "text": [
      "You are an adult.\n"
     ]
    }
   ],
   "source": [
    "age = 18\n",
    "if age < 18:\n",
    "    print(\"You are a minor.\")\n",
    "else:\n",
    "    print(\"You are an adult.\")"
   ]
  },
  {
   "cell_type": "markdown",
   "metadata": {},
   "source": [
    "#### Loop Structures"
   ]
  },
  {
   "cell_type": "markdown",
   "metadata": {},
   "source": [
    "- `for`: Repeats a block of code a specific number of times or through a collection"
   ]
  },
  {
   "cell_type": "code",
   "execution_count": 15,
   "metadata": {},
   "outputs": [
    {
     "name": "stdout",
     "output_type": "stream",
     "text": [
      "0\n",
      "1\n",
      "2\n",
      "3\n",
      "4\n"
     ]
    }
   ],
   "source": [
    "for i in range(5):\n",
    "    print(i)"
   ]
  },
  {
   "cell_type": "code",
   "execution_count": 16,
   "metadata": {},
   "outputs": [
    {
     "name": "stdout",
     "output_type": "stream",
     "text": [
      "apple\n",
      "banana\n",
      "cherry\n"
     ]
    }
   ],
   "source": [
    "fruits = [\"apple\", \"banana\", \"cherry\"]\n",
    "for fruit in fruits:\n",
    "    print(fruit)"
   ]
  },
  {
   "cell_type": "markdown",
   "metadata": {},
   "source": [
    "- `while`: Repeats a block of code as long as a condition is true."
   ]
  },
  {
   "cell_type": "code",
   "execution_count": 17,
   "metadata": {},
   "outputs": [
    {
     "name": "stdout",
     "output_type": "stream",
     "text": [
      "0\n",
      "1\n",
      "2\n",
      "3\n",
      "4\n"
     ]
    }
   ],
   "source": [
    "counter = 0\n",
    "while counter < 5:\n",
    "    print(counter)\n",
    "    counter += 1"
   ]
  },
  {
   "cell_type": "markdown",
   "metadata": {},
   "source": [
    "### Loop Control\n",
    "\n",
    "- `break`: Terminates the loop before it completes all its iterations."
   ]
  },
  {
   "cell_type": "code",
   "execution_count": 18,
   "metadata": {},
   "outputs": [
    {
     "name": "stdout",
     "output_type": "stream",
     "text": [
      "P\n",
      "y\n",
      "t\n"
     ]
    }
   ],
   "source": [
    "for letter in \"Python\":\n",
    "    if letter == \"h\":\n",
    "        break\n",
    "    print(letter)"
   ]
  },
  {
   "cell_type": "markdown",
   "metadata": {},
   "source": [
    "- `continue`: Jumps to the next iteration of the loop, skipping the code that follows."
   ]
  },
  {
   "cell_type": "code",
   "execution_count": 19,
   "metadata": {},
   "outputs": [
    {
     "name": "stdout",
     "output_type": "stream",
     "text": [
      "P\n",
      "y\n",
      "t\n",
      "o\n",
      "n\n"
     ]
    }
   ],
   "source": [
    "for letter in \"Python\":\n",
    "    if letter == \"h\":\n",
    "        continue\n",
    "    print(letter)"
   ]
  },
  {
   "cell_type": "markdown",
   "metadata": {},
   "source": [
    "- `pass`: Acts as a placeholder, doing nothing."
   ]
  },
  {
   "cell_type": "code",
   "execution_count": 20,
   "metadata": {},
   "outputs": [
    {
     "name": "stdout",
     "output_type": "stream",
     "text": [
      "P\n",
      "y\n",
      "t\n",
      "h\n",
      "o\n",
      "n\n"
     ]
    }
   ],
   "source": [
    "for letter in \"Python\":\n",
    "    if letter == \"h\":\n",
    "        pass\n",
    "    print(letter)"
   ]
  },
  {
   "cell_type": "markdown",
   "metadata": {},
   "source": [
    "### Functions\n",
    "A **function** is a reusable block of code that performs a specific task. Functions help in modularizing and organizing code."
   ]
  },
  {
   "cell_type": "code",
   "execution_count": 22,
   "metadata": {},
   "outputs": [
    {
     "name": "stdout",
     "output_type": "stream",
     "text": [
      "Hello, John!\n"
     ]
    }
   ],
   "source": [
    "def greeting(name):\n",
    "    return f\"Hello, {name}!\"\n",
    "\n",
    "print(greeting(\"John\"))"
   ]
  },
  {
   "cell_type": "code",
   "execution_count": 23,
   "metadata": {},
   "outputs": [
    {
     "name": "stdout",
     "output_type": "stream",
     "text": [
      "Hello, Marisol!\n"
     ]
    }
   ],
   "source": [
    "print(greeting(\"Marisol\"))"
   ]
  },
  {
   "cell_type": "markdown",
   "metadata": {},
   "source": [
    "Functions improve code readability, maintenance, and reusability."
   ]
  },
  {
   "cell_type": "markdown",
   "metadata": {},
   "source": [
    "## Libraries\n",
    "In Python, **libraries** are collections of prewritten code designed to perform specific tasks, saving developers from having to write code from scratch. Libraries help streamline development by providing reusable functions and tools. Here’s an overview of some essential Python libraries, especially in the context of Data Science and Artificial Intelligence:\n",
    "\n",
    "1. **NumPy**:\n",
    "\n",
    "    - **Purpose**: Efficiently handles numerical operations and multidimensional arrays.\n",
    "\n",
    "    - **Usage**: Essential for scientific computing and working with large datasets.\n",
    "\n",
    "    - **Example**:"
   ]
  },
  {
   "cell_type": "code",
   "execution_count": 24,
   "metadata": {},
   "outputs": [],
   "source": [
    "import numpy as np\n",
    "array = np.array([1, 2, 3])"
   ]
  },
  {
   "cell_type": "markdown",
   "metadata": {},
   "source": [
    "2. **Pandas**:\n",
    "\n",
    "    - **Purpose**: Provides high-performance data structures and data analysis tools.\n",
    "\n",
    "    - **Usage**: Ideal for handling and analyzing tabular data with DataFrames.\n",
    "\n",
    "    - **Example**:"
   ]
  },
  {
   "cell_type": "code",
   "execution_count": 25,
   "metadata": {},
   "outputs": [
    {
     "data": {
      "text/html": [
       "<div>\n",
       "<style scoped>\n",
       "    .dataframe tbody tr th:only-of-type {\n",
       "        vertical-align: middle;\n",
       "    }\n",
       "\n",
       "    .dataframe tbody tr th {\n",
       "        vertical-align: top;\n",
       "    }\n",
       "\n",
       "    .dataframe thead th {\n",
       "        text-align: right;\n",
       "    }\n",
       "</style>\n",
       "<table border=\"1\" class=\"dataframe\">\n",
       "  <thead>\n",
       "    <tr style=\"text-align: right;\">\n",
       "      <th></th>\n",
       "      <th>A</th>\n",
       "      <th>B</th>\n",
       "    </tr>\n",
       "  </thead>\n",
       "  <tbody>\n",
       "    <tr>\n",
       "      <th>0</th>\n",
       "      <td>1</td>\n",
       "      <td>4</td>\n",
       "    </tr>\n",
       "    <tr>\n",
       "      <th>1</th>\n",
       "      <td>2</td>\n",
       "      <td>5</td>\n",
       "    </tr>\n",
       "    <tr>\n",
       "      <th>2</th>\n",
       "      <td>3</td>\n",
       "      <td>6</td>\n",
       "    </tr>\n",
       "  </tbody>\n",
       "</table>\n",
       "</div>"
      ],
      "text/plain": [
       "   A  B\n",
       "0  1  4\n",
       "1  2  5\n",
       "2  3  6"
      ]
     },
     "execution_count": 25,
     "metadata": {},
     "output_type": "execute_result"
    }
   ],
   "source": [
    "import pandas as pd\n",
    "df = pd.DataFrame({'A': [1, 2, 3], 'B': [4, 5, 6]})\n",
    "df"
   ]
  },
  {
   "cell_type": "markdown",
   "metadata": {},
   "source": [
    "3. Matplotlib\n",
    "\n",
    "    - **Purpose**: Offers tools for creating static, animated, and interactive visualizations.\n",
    "\n",
    "    - **Usage**: Commonly used for plotting graphs and visualizing data.\n",
    "\n",
    "    - **Example**:"
   ]
  },
  {
   "cell_type": "code",
   "execution_count": 26,
   "metadata": {},
   "outputs": [
    {
     "data": {
      "image/png": "[encoded data removed]",
      "text/plain": [
       "<Figure size 640x480 with 1 Axes>"
      ]
     },
     "metadata": {},
     "output_type": "display_data"
    }
   ],
   "source": [
    "import matplotlib.pyplot as plt\n",
    "plt.plot([1, 2, 3], [4, 5, 6])\n",
    "plt.show()"
   ]
  },
  {
   "cell_type": "markdown",
   "metadata": {},
   "source": [
    "4. **Scikit-learn**:\n",
    "\n",
    "    - **Purpose**: Provides simple and efficient tools for data mining and machine learning.\n",
    "\n",
    "    - **Usage**: Used for building and evaluating machine learning models.\n",
    "\n",
    "    - **Example**:"
   ]
  },
  {
   "cell_type": "code",
   "execution_count": 27,
   "metadata": {},
   "outputs": [],
   "source": [
    "from sklearn.linear_model import LinearRegression\n",
    "model = LinearRegression()"
   ]
  },
  {
   "cell_type": "markdown",
   "metadata": {},
   "source": [
    "In this bootcamp, you'll mainly using Numpy, Pandas, Matplotlib, and Scikit-learn. These libraries are essential tools for any data science task, providing the necessary functionality to process, analyze, and visualize data effectively."
   ]
  }
 ],
 "metadata": {
  "kernelspec": {
   "display_name": "Python 3",
   "language": "python",
   "name": "python3"
  },
  "language_info": {
   "codemirror_mode": {
    "name": "ipython",
    "version": 3
   },
   "file_extension": ".py",
   "mimetype": "text/x-python",
   "name": "python",
   "nbconvert_exporter": "python",
   "pygments_lexer": "ipython3",
   "version": "3.12.1"
  }
 },
 "nbformat": 4,
 "nbformat_minor": 2
}
