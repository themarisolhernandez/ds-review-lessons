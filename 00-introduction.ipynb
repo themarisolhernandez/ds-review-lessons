{
 "cells": [
  {
   "cell_type": "markdown",
   "metadata": {},
   "source": [
    "# 00 - Introduction"
   ]
  },
  {
   "cell_type": "markdown",
   "metadata": {},
   "source": [
    "## Welcome to 4Geeks Academy's Data Science and Machine Learning Bootcamp!\n",
    "In this bootcamp, you will dive deep into the world of Data Science and Machine Learning. We will work together over the course of several weeks, covering essential topics, practical exercises, and projects to help you build your skills and become a proficient data scientist. Below is an overview of key contacts, the weekly structure, and how to make the most out of your experience."
   ]
  },
  {
   "cell_type": "markdown",
   "metadata": {},
   "source": [
    "## Key Contacts\n",
    "- **Instructor**: Marisol Hernandez\n",
    "\n",
    "- **Teaching Assistant (TA)**: Isabelle Galdau"
   ]
  },
  {
   "cell_type": "markdown",
   "metadata": {},
   "source": [
    "## Class Structure\n",
    "Each lesson in this bootcamp will focus on a specific course module (e.g. *Prework Review*, *Calculus L. Algebra*, *Github*, etc.).\n",
    "\n",
    "Most modules will be covered in a single lesson, but some may extend across two lessons, depending on the complexity of the material. For example, more advanced topics may require extra time to ensure thorough understanding.\n",
    "\n",
    "At the end of each module, there will be **an assigned project**. Students are expected to complete these projects during the designated project work time. These projects are designed to reinforce the concepts learned during the lessons and provide hands-on experience."
   ]
  },
  {
   "cell_type": "markdown",
   "metadata": {},
   "source": [
    "## Weekly Structure\n",
    "This class meets **three times a week**: Monday, Wednesday, and Friday. **Attendance is mandatory** for all sessions to ensure that you are keeping up with the material. If you cannot attend a class for any reason, please notify the instructor as soon as possible. It will be your responsibility to catch up on any lessons and projects assigned for that day."
   ]
  },
  {
   "cell_type": "markdown",
   "metadata": {},
   "source": [
    "### Monday's Class\n",
    "**Time:** 6:00pm - 9:00pm ET\n",
    "\n",
    "**Objective:** Attend two lessons followed by project work time with your instructor.\n",
    "\n",
    "- **6:00pm - 7:00pm ET:** Lesson #1\n",
    "\n",
    "- **7:00pm - 7:10pm ET:** Break\n",
    "\n",
    "- **7:10pm - 8:10pm ET:** Lesson #2\n",
    "\n",
    "- **8:10pm - 9:00pm ET:** Project Work Time with your Instructor"
   ]
  },
  {
   "cell_type": "markdown",
   "metadata": {},
   "source": [
    "### Wednesday's Class\n",
    "**Time:** 6:00pm - 9:00pm ET\n",
    "\n",
    "**Objective:** Dedicated project work time with your TA, providing extra support as you work through projects that were assigned on Monday. Isabelle will be available to answer your questions and help you during this session.\n",
    "\n",
    "- **6:00pm - 9:00pm ET:** Project Work Time with your TA"
   ]
  },
  {
   "cell_type": "markdown",
   "metadata": {},
   "source": [
    "### Friday's Class\n",
    "**Time:** 6:00pm - 9:00pm ET\n",
    "\n",
    "**Objective:** A lesson followed by extended project work time with your instructor.\n",
    "\n",
    "- **6:00pm - 7:00pm ET:** Lesson\n",
    "\n",
    "- **7:00pm - 9:00pm ET:** Project Work Time with your Instructor"
   ]
  },
  {
   "cell_type": "markdown",
   "metadata": {},
   "source": [
    "## Project Submissions\n",
    "Completing project is a critical part of your learning process, and it is **required to submit all projects to receive the program certification**. Here are the guidelines for project submissions:\n",
    "\n",
    "- Any projects assigned on **Monday** must be submitted **before Friday**.\n",
    "\n",
    "- Any projects assigned on **Friday** must be submitted **by the following Monday**.\n",
    "\n",
    "Please ensure you complete all assigned projects by the due date. If you have any issues or need an extension, reach out to your instructor as early as possible."
   ]
  },
  {
   "cell_type": "markdown",
   "metadata": {},
   "source": [
    "## Collaboration & Support\n",
    "We encourage you to collaborate with your peers and engage with the community. Here’s how you can stay connected:\n",
    "\n",
    "- **Slack Channel:** `#miami-ds-7`\n",
    "\n",
    "    This is the main hub for all course-related discussions. Feel free to ask questions, share ideas, or collaborate with your classmates here. If you have any questions or concerns, post them in the channel. You can also send direct messages to your Instructor or TA for more personalized support.\n",
    "\n",
    "- **1:1 Mentorship Sessions:**\n",
    "\n",
    "    If you need additional help or guidance, you have the option to schedule 1:1 sessions with mentors throughout the program. This is a great opportunity to receive personalized feedback or dive deeper into specific topics you may find challenging."
   ]
  },
  {
   "cell_type": "markdown",
   "metadata": {},
   "source": [
    "## Class Schedule miami-ds-7\n",
    "\n",
    "| Date                   | Module                                                               | Notebook(s) | Project(s)                   |\n",
    "|------------------------|----------------------------------------------------------------------|-------------|------------------------------|\n",
    "| Mon. September 9, 2024 | **Lesson #1**: Prework Review<br>**Lesson #2**: Prework Review Cont. | [Notebook 1: Python for Data Science](01-python-for-data-science.ipynb)<br>[Notebook 2: Intro. to NumPy](02-intro-to-numpy.ipynb)<br>[Notebook 3: Intro. to Pandas](03-intro-to-pandas.ipynb)<br>[Notebook 4: Intro. to Matplotlib](04-intro-to-matplotlib.ipynb)            |Real Estate Data Cleanup     |\n",
    "| Wed. September 11, 2024|                                                                      |             |Real Estate Data Cleanup     |\n",
    "| Fri. September 13, 2024| Prework Review Cont.                                              |[Notebook 1: Python for Data Science](01-python-for-data-science.ipynb)<br>[Notebook 2: Intro. to NumPy](02-intro-to-numpy.ipynb)<br>[Notebook 3: Intro. to Pandas](03-intro-to-pandas.ipynb)<br>[Notebook 4: Intro. to Matplotlib](04-intro-to-matplotlib.ipynb)|Real Estate Data Cleanup |\n",
    "| Mon. September 16, 2024 | **Lesson #1**: Calculus and L. Algebra<br>**Lesson #2**: GitHub |[Notebook 5: Calculus and L. Algebra](05-calculus-and-l-algebra.ipynb)<br>[Notebook 6: GitHub](06-github.ipynb)|Calculus and Algebra problems with Python<br>Fix the Misspell Challenge<br>Learn in Public     |\n",
    "| Wed. September 18, 2024|                                                                      |             |Calculus and Algebra problems with Python<br>Fix the Misspell Challenge<br>Learn in Public     |\n",
    "| Fri. September 20, 2024| Probability                                              |[Notebook 7: Probability](07-probability.ipynb)|Probability Exercises Project in Python |\n",
    "| Mon. September 23, 2024 | **Lesson #1**: Descriptive Statistics<br>**Lesson #2**: Random Variables |[Notebook 8: Descriptive Statistics](08-descriptive-statistics.ipynb)<br>[Notebook 9: Random Variables](09-random-variables.ipynb)|descriptive-statistics-exercises-project-with-python<br>Probability Distributions Exercises Project in Python|\n",
    "| Wed. September 25, 2024|                                                                      |             |descriptive-statistics-exercises-project-with-python<br>Probability Distributions Exercises Project in Python|\n",
    "| Fri. September 27, 2024| Hypothesis Testing                                              |[Notebook 10: Hypothesis Testing](10-hypothesis-testing.ipynb)|Hypothesis Testing Exercises in Python |\n",
    "| Mon. September 30, 2024 | **Lesson #1**: Algorithm Optimization<br>**Lesson #2**: M.L. Ops |[Notebook 11: Algorithm Optimization](11-algorithm-optimization.ipynb)<br>[Notebook 12: M.L. Ops](12-ml-ops.ipynb)|Algorithm Optimization Project for Machine Learning<br>Command Line Challenge|\n",
    "| Wed. October 2, 2024|                                                                      |             |Algorithm Optimization Project for Machine Learning<br>Command Line Challenge|\n",
    "| Fri. October 4, 2024| Intro to SQL                                              |[Notebook 13: Intro. to SQL](13-intro-to-sql.ipynb)|Connecting to a SQL Database Project Tutorial|\n",
    "| Mon. October 7, 2024 | **Lesson #1**: Web Scraping<br>**Lesson #2**: API Requests |[Notebook 14: Web Scraping](14-web-scraping.ipynb)<br>[Notebook 15: API Requests](15-api-requests.ipynb)|Web Scraping with Python and Beautiful Soup<br>Interacting with an API using Python|\n",
    "| Wed. October 9, 2024|       |             |Web Scraping with Python and Beautiful Soup<br>Interacting with an API using Python|\n",
    "| Fri. October 11, 2024| Catch Up Day                                              |  | |\n",
    "| Mon. Octover 14, 2024 | **[NO CLASS]** Columbus Day Holiday |  | |\n",
    "| Wed. October 16, 2024|                                                                      |             | |\n",
    "| Fri. October 18, 2024| Exploratory Data Analysis |[Notebook 16: Exploratory Data Analysis](16-exploratory-data-analysis.ipynb)|Data Preprocessing Project Tutorial|\n",
    "| Mon. October 21, 2024 | **Lesson #1**: Exploratory Data Analysis<br>**Lesson #2**: Linear Regression |[Notebook 16: Exploratory Data Analysis](16-exploratory-data-analysis.ipynb)<br>[Notebook 17: Simple Linear Regression](17-simple-linear-regression.ipynb)|Data Preprocessing Project Tutoria<br>Linear Regression Project Tutorial|\n",
    "| Wed. October 23, 2024|                                                                      |             |Data Preprocessing Project Tutoria<br>Linear Regression Project Tutorial|\n",
    "| Fri. October 25, 2024| **Lesson #1**: Regularized Linear Regression<br>**Lesson #2**: Your First ML Algorithm |[Notebook 18: Multiple Linear Regression](18-multiple-linear-regression.ipynb)|Regularized Linear Regression Project Tutorial<br>Logistic Regression Project Tutorial|"
   ]
  },
  {
   "cell_type": "markdown",
   "metadata": {},
   "source": [
    "## Conclusion\n",
    "Throughout the bootcamp, don't hesitate to ask questions and seek help. Leverage the resources provided, collaborate with your peers, and make the most of the mentorship available to you. We’re excited to have you here and can’t wait to see your progress!"
   ]
  }
 ],
 "metadata": {
  "language_info": {
   "name": "python"
  }
 },
 "nbformat": 4,
 "nbformat_minor": 2
}
