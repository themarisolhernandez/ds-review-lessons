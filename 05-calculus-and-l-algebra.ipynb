{
 "cells": [
  {
   "cell_type": "markdown",
   "metadata": {},
   "source": [
    "# 05 - Calculus and L. Algebra"
   ]
  },
  {
   "cell_type": "markdown",
   "metadata": {},
   "source": [
    "## What is Linear Algebra?\n",
    "**Linear Algebra** is the branch of mathematics concerning linear equations, linear functions, and their representations through matrices and vector spaces. Having a basic understanding and experience with linear algebra is important for handling and transforming data efficiently, as well as other applications of data science."
   ]
  },
  {
   "cell_type": "markdown",
   "metadata": {},
   "source": [
    "### Primary Entities of Linear Algebra\n",
    "In linear algebra, **vectors** and **matrices** are the fundamental entities that are used to represent and manipulate data."
   ]
  },
  {
   "cell_type": "markdown",
   "metadata": {},
   "source": [
    "## Vectors\n",
    "**Vector**: an ordered collection of numbers of a particular size and one-dimensional. A ventor can be represented as a row or column in a matrix.\n",
    "\n",
    "- **Notation**: Vectors are often denoted with boldface letters (e.g., $\\mathbf{v}$) or with an arrow on top (e.g., $\\vec{v}$).\n",
    "\n",
    "- **Components**: Each number in a vector is called a component. For example, in a 3-dimensional space, a vector $\\mathbf{v}$ might be represented as,\n",
    "\n",
    "$$\\mathbf{v} = \n",
    "\\begin{bmatrix}\n",
    "v_1 \\\\\n",
    "v_2 \\\\\n",
    "v_3\n",
    "\\end{bmatrix}$$\n",
    "\n",
    "- **Operations**: Common operations with vectors include addition, subtraction, scalar multiplication, and dot product.\n",
    "\n",
    "\n",
    "**Example**: Consider the vector, \n",
    "\n",
    "$$\\mathbf{v} = \n",
    "\\begin{bmatrix}\n",
    "2 \\\\\n",
    "3 \n",
    "\\end{bmatrix}$$\n",
    "\n",
    "In Python, a vector can be represented as a 1-dimensional `numpy` array. For example,\n"
   ]
  },
  {
   "cell_type": "code",
   "execution_count": 29,
   "metadata": {},
   "outputs": [
    {
     "name": "stdout",
     "output_type": "stream",
     "text": [
      "[2 3]\n"
     ]
    }
   ],
   "source": [
    "import numpy as np\n",
    "\n",
    "# Define the vector\n",
    "vector = np.array([2, 3])\n",
    "print(vector)"
   ]
  },
  {
   "cell_type": "markdown",
   "metadata": {},
   "source": [
    "Vectors can also be thought of as points in space or as quantities with both magnitude and direction. \n",
    "\n",
    "Our example, $\\mathbf{v} = [2, 3]$ can be visualized as a point in a 2-dimensional space with coordinates (2, 3)."
   ]
  },
  {
   "cell_type": "code",
   "execution_count": 30,
   "metadata": {
    "hide_code": true
  },
   "outputs": [],
   "source": [
    "import matplotlib.pyplot as plt\n",
    "\n",
    "def plot_vector(vector):\n",
    "    # Create a figure and axis\n",
    "    fig, ax = plt.subplots()\n",
    "\n",
    "    # Add the vector to the plot\n",
    "    ax.quiver(0, 0, vector[0], vector[1], angles='xy', scale_units='xy', scale=1, color='r')\n",
    "\n",
    "    # Set the fixed limits for the plot\n",
    "    ax.set_xlim(-10, 10)\n",
    "    ax.set_ylim(-10, 10)\n",
    "\n",
    "    # Add grid, labels, and title\n",
    "    ax.grid(True)\n",
    "    ax.set_xlabel('X-axis')\n",
    "    ax.set_ylabel('Y-axis')\n",
    "    ax.set_title('Vector Plot')\n",
    "\n",
    "    # Add labels to the vector\n",
    "    ax.text(vector[0], vector[1], f'  ({vector[0]}, {vector[1]})', fontsize=12, color='red')\n",
    "\n",
    "    # Add axes lines\n",
    "    plt.axhline(0, color='black', linewidth=0.5)\n",
    "    plt.axvline(0, color='black', linewidth=0.5)\n",
    "\n",
    "    # Show the plot\n",
    "    plt.show()\n"
   ]
  },
  {
   "cell_type": "code",
   "execution_count": 31,
   "metadata": {},
   "outputs": [
    {
     "data": {
      "image/png": "[encoded data removed]",
      "text/plain": [
       "<Figure size 640x480 with 1 Axes>"
      ]
     },
     "metadata": {},
     "output_type": "display_data"
    }
   ],
   "source": [
    "# Plotting a vector\n",
    "plot_vector(vector)"
   ]
  }
 ],
 "metadata": {
  "kernelspec": {
   "display_name": "Python 3",
   "language": "python",
   "name": "python3"
  },
  "language_info": {
   "codemirror_mode": {
    "name": "ipython",
    "version": 3
   },
   "file_extension": ".py",
   "mimetype": "text/x-python",
   "name": "python",
   "nbconvert_exporter": "python",
   "pygments_lexer": "ipython3",
   "version": "3.12.1"
  }
 },
 "nbformat": 4,
 "nbformat_minor": 2
}
