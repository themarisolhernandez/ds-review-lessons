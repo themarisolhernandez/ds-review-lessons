{
 "cells": [
  {
   "cell_type": "markdown",
   "metadata": {},
   "source": [
    "# 05 - Calculus and L. Algebra"
   ]
  },
  {
   "cell_type": "markdown",
   "metadata": {},
   "source": [
    "## What is Linear Algebra?\n",
    "**Linear Algebra** is the branch of mathematics concerning linear equations, linear functions, and their representations through matrices and vector spaces. Having a basic understanding and experience with linear algebra is important for handling and transforming data efficiently, as well as other applications of data science."
   ]
  },
  {
   "cell_type": "markdown",
   "metadata": {},
   "source": [
    "### Primary Entities of Linear Algebra\n",
    "In linear algebra, **vectors** and **matrices** are the fundamental entities that are used to represent and manipulate data."
   ]
  },
  {
   "cell_type": "markdown",
   "metadata": {},
   "source": [
    "## Vectors\n",
    "**Vector**: an ordered collection of numbers of a particular size and one-dimensional. A ventor can be represented as a row or column in a matrix.\n",
    "\n",
    "- **Notation**: Vectors are often denoted with boldface letters (e.g., $\\mathbf{v}$) or with an arrow on top (e.g., $\\vec{v}$).\n",
    "\n",
    "- **Components**: Each number in a vector is called a component. For example, in a 3-dimensional space, a vector $\\mathbf{v}$ might be represented as,\n",
    "\n",
    "$$\\mathbf{v} = \n",
    "\\begin{bmatrix}\n",
    "v_1 \\\\\n",
    "v_2 \\\\\n",
    "v_3\n",
    "\\end{bmatrix}$$\n",
    "\n",
    "- **Operations**: Common operations with vectors include addition, subtraction, scalar multiplication, and dot product.\n",
    "\n",
    "\n",
    "**Example**: Consider the vector, \n",
    "\n",
    "$$\\mathbf{v} = \n",
    "\\begin{bmatrix}\n",
    "3 \\\\\n",
    "4 \n",
    "\\end{bmatrix}$$\n",
    "\n",
    "In Python, a vector can be represented as a 1-dimensional `numpy` array. For example,\n"
   ]
  },
  {
   "cell_type": "code",
   "execution_count": 40,
   "metadata": {},
   "outputs": [
    {
     "name": "stdout",
     "output_type": "stream",
     "text": [
      "[3 4]\n"
     ]
    }
   ],
   "source": [
    "import numpy as np\n",
    "\n",
    "# Define the vector\n",
    "v = np.array([3, 4])\n",
    "print(v)"
   ]
  },
  {
   "cell_type": "markdown",
   "metadata": {},
   "source": [
    "Vectors can also be thought of as points in space or as quantities with both magnitude and direction. \n",
    "\n",
    "Our example, $\\mathbf{v} = [3, 4]$ can be visualized as a point in a 2-dimensional space with coordinates (2, 3)."
   ]
  },
  {
   "cell_type": "code",
   "execution_count": 2,
   "metadata": {},
   "outputs": [],
   "source": [
    "import matplotlib.pyplot as plt\n",
    "\n",
    "def plot_vector(vector):\n",
    "    # Create a figure and axis\n",
    "    fig, ax = plt.subplots()\n",
    "\n",
    "    # Add the vector to the plot\n",
    "    ax.quiver(0, 0, vector[0], vector[1], angles='xy', scale_units='xy', scale=1, color='r')\n",
    "\n",
    "    # Set the fixed limits for the plot\n",
    "    ax.set_xlim(-10, 10)\n",
    "    ax.set_ylim(-10, 10)\n",
    "\n",
    "    # Add grid, labels, and title\n",
    "    ax.grid(True)\n",
    "    ax.set_xlabel('X-axis')\n",
    "    ax.set_ylabel('Y-axis')\n",
    "    ax.set_title('Vector Plot')\n",
    "\n",
    "    # Add labels to the vector\n",
    "    ax.text(vector[0], vector[1], f'  ({vector[0]}, {vector[1]})', fontsize=12, color='red')\n",
    "\n",
    "    # Add axes lines\n",
    "    plt.axhline(0, color='black', linewidth=0.5)\n",
    "    plt.axvline(0, color='black', linewidth=0.5)\n",
    "\n",
    "    # Show the plot\n",
    "    plt.show()\n"
   ]
  },
  {
   "cell_type": "code",
   "execution_count": 39,
   "metadata": {},
   "outputs": [
    {
     "data": {
      "image/png": "[encoded data removed]",
      "text/plain": [
       "<Figure size 640x480 with 1 Axes>"
      ]
     },
     "metadata": {},
     "output_type": "display_data"
    }
   ],
   "source": [
    "# Plotting a vector\n",
    "plot_vector(vector=v)"
   ]
  },
  {
   "cell_type": "markdown",
   "metadata": {},
   "source": [
    "### Magnitude of a Vector\n",
    "The magnitude (or length) of a vector is a measure of its size or distance from the origin to the point defined by the vector. For a vector in $n$-dimensional space, the magnitude is calculated using the Euclidean norm. Here's how you can compute the magnitude of a vector:\n",
    "\n",
    "#### Formula for Magnitude\n",
    "For a vector $\\mathbf{v} = [v_1, v_2, ..., v_n]$ in $n$-dimensional space, the magnitude $||\\mathbf{v}||$ is given by:\n",
    "\n",
    "$$||\\mathbf{v}|| = \\sqrt{v_1^2 + v_2^2 + ... + v_n^2}$$\n",
    "\n",
    "##### Examples\n",
    "\n",
    "**Example**: For the vector $\\mathbf{v} = [3, 4]$:\n",
    "\n",
    "$$||\\mathbf{v}|| = \\sqrt{3^2 + 4^2} = \\sqrt{9 + 16} = \\sqrt{25} = 5$$\n",
    "\n",
    "You can compute the magnitude of a vector using `numpy` in Python:"
   ]
  },
  {
   "cell_type": "code",
   "execution_count": 41,
   "metadata": {},
   "outputs": [
    {
     "name": "stdout",
     "output_type": "stream",
     "text": [
      "The magnitude of the vector is 5.0\n"
     ]
    }
   ],
   "source": [
    "# Compute the magnitude\n",
    "magnitude = np.linalg.norm(v)\n",
    "print(f\"The magnitude of the vector is {magnitude}\")"
   ]
  },
  {
   "cell_type": "markdown",
   "metadata": {},
   "source": [
    "**Another Example**: For the vector $\\mathbf{v} = [1, 2, 2]$:\n",
    "\n",
    "$$||\\mathbf{v}|| = \\sqrt{1^2 + 2^2 + 2^2} = \\sqrt{1 + 4 + 4} = \\sqrt{9} = 3$$\n",
    "\n",
    "Using `numpy`:"
   ]
  },
  {
   "cell_type": "code",
   "execution_count": 42,
   "metadata": {},
   "outputs": [
    {
     "name": "stdout",
     "output_type": "stream",
     "text": [
      "The magnitude of the vector is 3.0\n"
     ]
    }
   ],
   "source": [
    "# Define the vector\n",
    "v = np.array([1, 2, 2])\n",
    "\n",
    "# Compute the magnitude\n",
    "magnitude = np.linalg.norm(v)\n",
    "print(f\"The magnitude of the vector is {magnitude}\")"
   ]
  },
  {
   "cell_type": "markdown",
   "metadata": {},
   "source": [
    "### Vector Operations"
   ]
  },
  {
   "cell_type": "markdown",
   "metadata": {},
   "source": [
    "#### Scalar Operations\n",
    "\n",
    "##### Scalar Addition\n",
    "- **Definition**: Adding a scalar $c$ to a vector $\\mathbf{v}$ means adding the scalar value to each component of the vector.\n",
    "\n",
    "$$\\mathbf{v} + c = \n",
    "\\begin{bmatrix}\n",
    "v_1 \\\\\n",
    "v_2 \\\\\n",
    "... \\\\\n",
    "v_n\n",
    "\\end{bmatrix} + c = \n",
    "\\begin{bmatrix}\n",
    "v_1 + c \\\\\n",
    "v_2 + c \\\\\n",
    "... \\\\\n",
    "v_n + c\n",
    "\\end{bmatrix}$$\n",
    "\n",
    "- **Example**: Given $\\mathbf{v} = [2, 2, 2]$ and $c = 1$,\n",
    "\n",
    "$$\\mathbf{v} + c = \n",
    "\\begin{bmatrix}\n",
    "2 \\\\\n",
    "2 \\\\\n",
    "2\n",
    "\\end{bmatrix} + 1 = \n",
    "\\begin{bmatrix}\n",
    "2 + 1 \\\\\n",
    "2 + 1 \\\\\n",
    "2 + 1\n",
    "\\end{bmatrix} =\n",
    "\\begin{bmatrix}\n",
    "3 \\\\\n",
    "3 \\\\\n",
    "3\n",
    "\\end{bmatrix}$$\n",
    "\n",
    "We can validate this using `numpy`,"
   ]
  },
  {
   "cell_type": "code",
   "execution_count": 44,
   "metadata": {},
   "outputs": [
    {
     "name": "stdout",
     "output_type": "stream",
     "text": [
      "Scalar Addition: [3 3 3]\n"
     ]
    }
   ],
   "source": [
    "# Define the vector and scalar\n",
    "v = np.array([2, 2, 2])\n",
    "c = 1\n",
    "\n",
    "# Perform scalar addition\n",
    "scalar_addition = v + c\n",
    "\n",
    "# Output result\n",
    "print(f\"Scalar Addition: {scalar_addition}\")"
   ]
  },
  {
   "cell_type": "markdown",
   "metadata": {},
   "source": [
    "##### Scalar Subtraction\n",
    "- **Definition**: Subtracting a scalar $c$ from a $\\mathbf{v}$ vector means subtracting the scalar value from each component of the vector.\n",
    "\n",
    "$$\\mathbf{v} - c = \n",
    "\\begin{bmatrix}\n",
    "v_1 \\\\\n",
    "v_2 \\\\\n",
    "... \\\\\n",
    "v_n\n",
    "\\end{bmatrix} - c = \n",
    "\\begin{bmatrix}\n",
    "v_1 - c \\\\\n",
    "v_2 - c \\\\\n",
    "... \\\\\n",
    "v_n - c\n",
    "\\end{bmatrix}$$\n",
    "\n",
    "- **Example**: Given $\\mathbf{v} = [5, 5, 5]$ and $c = 2$,\n",
    "\n",
    "$$\\mathbf{v} - c = \n",
    "\\begin{bmatrix}\n",
    "5 \\\\\n",
    "5 \\\\\n",
    "5\n",
    "\\end{bmatrix} - 2 = \n",
    "\\begin{bmatrix}\n",
    "5 - 2 \\\\\n",
    "5 - 2 \\\\\n",
    "5 - 2\n",
    "\\end{bmatrix} =\n",
    "\\begin{bmatrix}\n",
    "3 \\\\\n",
    "3 \\\\\n",
    "3\n",
    "\\end{bmatrix}$$\n",
    "\n",
    "Validating using `numpy`,"
   ]
  },
  {
   "cell_type": "code",
   "execution_count": 45,
   "metadata": {},
   "outputs": [
    {
     "name": "stdout",
     "output_type": "stream",
     "text": [
      "Scalar Subtraction: [3 3 3]\n"
     ]
    }
   ],
   "source": [
    "# Define the vector and scalar\n",
    "v = np.array([5, 5, 5])\n",
    "c = 2\n",
    "\n",
    "# Perform scalar subtraction\n",
    "scalar_subtraction = v - c\n",
    "\n",
    "# Output result\n",
    "print(f\"Scalar Subtraction: {scalar_subtraction}\")"
   ]
  },
  {
   "cell_type": "markdown",
   "metadata": {},
   "source": [
    "##### Scalar Multiplication\n",
    "- **Definition**: Multiplying a vector $\\mathbf{v}$ vector by a scalar $c$ means multiplying each component of the vector by the scalar.\n",
    "\n",
    "$$\\mathbf{v} \\times c = \n",
    "\\begin{bmatrix}\n",
    "v_1 \\\\\n",
    "v_2 \\\\\n",
    "... \\\\\n",
    "v_n\n",
    "\\end{bmatrix} \\times c = \n",
    "\\begin{bmatrix}\n",
    "v_1 \\times c \\\\\n",
    "v_2 \\times c \\\\\n",
    "... \\\\\n",
    "v_n \\times c\n",
    "\\end{bmatrix}$$\n",
    "\n",
    "- **Example**: Given $\\mathbf{v} = [1, 2, 3]$ and $c = 3$,\n",
    "\n",
    "$$\\mathbf{v} \\times c = \n",
    "\\begin{bmatrix}\n",
    "1 \\\\\n",
    "2 \\\\\n",
    "3\n",
    "\\end{bmatrix} \\times 3 = \n",
    "\\begin{bmatrix}\n",
    "1 \\times 3 \\\\\n",
    "2 \\times 3 \\\\\n",
    "3 \\times 3\n",
    "\\end{bmatrix} =\n",
    "\\begin{bmatrix}\n",
    "3 \\\\\n",
    "6 \\\\\n",
    "9\n",
    "\\end{bmatrix}$$\n",
    "\n",
    "Validating using `numpy`,"
   ]
  },
  {
   "cell_type": "code",
   "execution_count": 46,
   "metadata": {},
   "outputs": [
    {
     "name": "stdout",
     "output_type": "stream",
     "text": [
      "Scalar Multiplication: [3 6 9]\n"
     ]
    }
   ],
   "source": [
    "# Define the vector and scalar\n",
    "v = np.array([1, 2, 3])\n",
    "c = 3\n",
    "\n",
    "# Perform scalar multiplication\n",
    "scalar_multiplication = v * c\n",
    "\n",
    "# Output result\n",
    "print(f\"Scalar Multiplication: {scalar_multiplication}\")"
   ]
  },
  {
   "cell_type": "markdown",
   "metadata": {},
   "source": [
    "##### Scalar Division\n",
    "- **Definition**: Dividing a vector $\\mathbf{v}$ by a scalar $c$ (assuming $c \\neq 0$) means dividing each component of the vector by the scalar.\n",
    "\n",
    "$$\\mathbf{v} \\div c = \n",
    "\\begin{bmatrix}\n",
    "v_1 \\\\\n",
    "v_2 \\\\\n",
    "... \\\\\n",
    "v_n\n",
    "\\end{bmatrix} \\div c = \n",
    "\\begin{bmatrix}\n",
    "v_1 \\div c \\\\\n",
    "v_2 \\div c \\\\\n",
    "... \\\\\n",
    "v_n \\div c\n",
    "\\end{bmatrix}$$\n",
    "\n",
    "- **Example**: Given $\\mathbf{v} = [8, 12, 16]$ and $c = 4$,\n",
    "\n",
    "$$\\mathbf{v} \\div c = \n",
    "\\begin{bmatrix}\n",
    "8 \\\\\n",
    "12 \\\\\n",
    "16\n",
    "\\end{bmatrix} \\div 4 = \n",
    "\\begin{bmatrix}\n",
    "8 \\div 4 \\\\\n",
    "12 \\div 4 \\\\\n",
    "16 \\div 4\n",
    "\\end{bmatrix} =\n",
    "\\begin{bmatrix}\n",
    "2 \\\\\n",
    "3 \\\\\n",
    "4\n",
    "\\end{bmatrix}$$\n",
    "\n",
    "Validating using `numpy`,"
   ]
  },
  {
   "cell_type": "code",
   "execution_count": 47,
   "metadata": {},
   "outputs": [
    {
     "name": "stdout",
     "output_type": "stream",
     "text": [
      "Scalar Division: [2. 3. 4.]\n"
     ]
    }
   ],
   "source": [
    "# Define the vector and scalar\n",
    "v = np.array([8, 12, 16])\n",
    "c = 4\n",
    "\n",
    "# Perform scalar division\n",
    "scalar_division = v / c\n",
    "\n",
    "# Output result\n",
    "print(f\"Scalar Division: {scalar_division}\")"
   ]
  },
  {
   "cell_type": "markdown",
   "metadata": {},
   "source": [
    "#### Vector Operations\n",
    "\n",
    "##### Vector Addition\n",
    "- **Definition**: Adding two vectors $\\mathbf{u}$ and $\\mathbf{v}$ involves adding their corresponding components.\n",
    "\n",
    "$$\\mathbf{u} + \\mathbf{v} = \n",
    "\\begin{bmatrix}\n",
    "u_1 \\\\\n",
    "u_2 \\\\\n",
    "... \\\\\n",
    "u_n\n",
    "\\end{bmatrix} +\n",
    "\\begin{bmatrix}\n",
    "v_1 \\\\\n",
    "v_2 \\\\\n",
    "... \\\\\n",
    "v_n\n",
    "\\end{bmatrix} = \n",
    "\\begin{bmatrix}\n",
    "u_1 + v_1 \\\\\n",
    "u_2 + v_2 \\\\\n",
    "... \\\\\n",
    "u_n + v_n\n",
    "\\end{bmatrix}$$\n",
    "\n",
    "- **Example**: Given $\\mathbf{u} = [1, 2, 3]$ and $\\mathbf{v} = [4, 5, 6]$,\n",
    "\n",
    "$$\\mathbf{u} + \\mathbf{v} = \n",
    "\\begin{bmatrix}\n",
    "1 \\\\\n",
    "2 \\\\\n",
    "3\n",
    "\\end{bmatrix} +\n",
    "\\begin{bmatrix}\n",
    "4 \\\\\n",
    "5 \\\\\n",
    "6\n",
    "\\end{bmatrix} = \n",
    "\\begin{bmatrix}\n",
    "1 + 4 \\\\\n",
    "2 + 5 \\\\\n",
    "3 + 6\n",
    "\\end{bmatrix} = \n",
    "\\begin{bmatrix}\n",
    "5 \\\\\n",
    "7 \\\\\n",
    "9\n",
    "\\end{bmatrix}$$\n",
    "\n",
    "Validating using `numpy`,"
   ]
  },
  {
   "cell_type": "code",
   "execution_count": 49,
   "metadata": {},
   "outputs": [
    {
     "name": "stdout",
     "output_type": "stream",
     "text": [
      "Vector Addition: [5 7 9]\n"
     ]
    }
   ],
   "source": [
    "# Define the vectors\n",
    "u = np.array([1, 2, 3])\n",
    "v = np.array([4, 5, 6])\n",
    "\n",
    "# Perform vector addition\n",
    "vector_addition = u + v\n",
    "\n",
    "# Output result\n",
    "print(f\"Vector Addition: {vector_addition}\")"
   ]
  },
  {
   "cell_type": "markdown",
   "metadata": {},
   "source": [
    "##### Vector Subtraction\n",
    "- **Definition**: Subtracting vector $\\mathbf{v}$ from vector $\\mathbf{u}$ involves subtracting the corresponding components.\n",
    "\n",
    "$$\\mathbf{u} - \\mathbf{v} = \n",
    "\\begin{bmatrix}\n",
    "u_1 \\\\\n",
    "u_2 \\\\\n",
    "... \\\\\n",
    "u_n\n",
    "\\end{bmatrix} -\n",
    "\\begin{bmatrix}\n",
    "v_1 \\\\\n",
    "v_2 \\\\\n",
    "... \\\\\n",
    "v_n\n",
    "\\end{bmatrix} = \n",
    "\\begin{bmatrix}\n",
    "u_1 - v_1 \\\\\n",
    "u_2 - v_2 \\\\\n",
    "... \\\\\n",
    "u_n - v_n\n",
    "\\end{bmatrix}$$\n",
    "\n",
    "- **Example**: Given $\\mathbf{u} = [7, 8, 9]$ and $\\mathbf{v} = [1, 2, 3]$,\n",
    "\n",
    "$$\\mathbf{u} - \\mathbf{v} = \n",
    "\\begin{bmatrix}\n",
    "7 \\\\\n",
    "8 \\\\\n",
    "9\n",
    "\\end{bmatrix} -\n",
    "\\begin{bmatrix}\n",
    "1 \\\\\n",
    "2 \\\\\n",
    "3\n",
    "\\end{bmatrix} = \n",
    "\\begin{bmatrix}\n",
    "7 - 1 \\\\\n",
    "8 - 2 \\\\\n",
    "9 - 3\n",
    "\\end{bmatrix} = \n",
    "\\begin{bmatrix}\n",
    "6 \\\\\n",
    "6 \\\\\n",
    "6\n",
    "\\end{bmatrix}$$\n",
    "\n",
    "Validating using `numpy`,"
   ]
  },
  {
   "cell_type": "code",
   "execution_count": 50,
   "metadata": {},
   "outputs": [
    {
     "name": "stdout",
     "output_type": "stream",
     "text": [
      "Vector Subtraction: [6 6 6]\n"
     ]
    }
   ],
   "source": [
    "# Define the vectors\n",
    "u = np.array([7, 8, 9])\n",
    "v = np.array([1, 2, 3])\n",
    "\n",
    "# Perform vector subtraction\n",
    "vector_subtraction = u - v\n",
    "\n",
    "# Output result\n",
    "print(f\"Vector Subtraction: {vector_subtraction}\")"
   ]
  },
  {
   "cell_type": "markdown",
   "metadata": {},
   "source": [
    "##### Vector Multiplication\n",
    "There are two types of vector multiplication: **Element-wise Multiplication** (Hadamard product) and **Dot Product**.\n",
    "\n",
    "1. **Element-wise Multiplication** (Hadamard product)\n",
    "\n",
    "    - **Definition**: Multiplying a vector $\\mathbf{u}$ vector by a vector $\\mathbf{v}$ means multiplying the corresponding components.\n",
    "\n",
    "    $$\\mathbf{u} \\times \\mathbf{v} = \n",
    "    \\begin{bmatrix}\n",
    "    u_1 \\\\\n",
    "    u_2 \\\\\n",
    "    ... \\\\\n",
    "    u_n\n",
    "    \\end{bmatrix} \\times\n",
    "    \\begin{bmatrix}\n",
    "    v_1 \\\\\n",
    "    v_2 \\\\\n",
    "    ... \\\\\n",
    "    v_n\n",
    "    \\end{bmatrix} = \n",
    "    \\begin{bmatrix}\n",
    "    u_1 \\times v_1 \\\\\n",
    "    u_2 \\times v_2 \\\\\n",
    "    ... \\\\\n",
    "    u_n \\times v_n\n",
    "    \\end{bmatrix}$$\n",
    "\n",
    "    - **Example**: Given $\\mathbf{u} = [1, 2, 3]$ and $\\mathbf{v} = [4, 5, 6]$,\n",
    "\n",
    "    $$\\mathbf{u} \\times \\mathbf{v} = \n",
    "    \\begin{bmatrix}\n",
    "    1 \\\\\n",
    "    2 \\\\\n",
    "    3\n",
    "    \\end{bmatrix} \\times\n",
    "    \\begin{bmatrix}\n",
    "    4 \\\\\n",
    "    5 \\\\\n",
    "    6\n",
    "    \\end{bmatrix} = \n",
    "    \\begin{bmatrix}\n",
    "    1 \\times 4 \\\\\n",
    "    2 \\times 5 \\\\\n",
    "    3 \\times 6\n",
    "    \\end{bmatrix} = \n",
    "    \\begin{bmatrix}\n",
    "    4 \\\\\n",
    "    10 \\\\\n",
    "    18\n",
    "    \\end{bmatrix}$$\n",
    "\n",
    "Validating using `numpy`,"
   ]
  },
  {
   "cell_type": "code",
   "execution_count": 51,
   "metadata": {},
   "outputs": [
    {
     "name": "stdout",
     "output_type": "stream",
     "text": [
      "[ 4 10 18]\n"
     ]
    }
   ],
   "source": [
    "# Define the vectors\n",
    "u = np.array([1, 2, 3])\n",
    "v = np.array([4, 5, 6])\n",
    "\n",
    "result = u * v  # Element-wise multiplication\n",
    "print(result)"
   ]
  },
  {
   "cell_type": "markdown",
   "metadata": {},
   "source": [
    "2. **Dot Product**\n",
    "\n",
    "    - **Definition**: The dot product of two vectors $\\mathbf{u}$ and $\\mathbf{v}$ is the sum of the products of their corresponding components. The dot product of two vectors is a scalar.\n",
    "\n",
    "    $$\\mathbf{u} \\cdot \\mathbf{v} = \n",
    "    \\begin{bmatrix}\n",
    "    u_1 \\\\\n",
    "    u_2 \\\\\n",
    "    ... \\\\\n",
    "    u_n\n",
    "    \\end{bmatrix} \\cdot\n",
    "    \\begin{bmatrix}\n",
    "    v_1 \\\\\n",
    "    v_2 \\\\\n",
    "    ... \\\\\n",
    "    v_n\n",
    "    \\end{bmatrix} = \n",
    "    u_1v_1 + u_2v_2$$\n",
    "\n",
    "    - **Example**: Given $\\mathbf{u} = [1, 2, 3]$ and $\\mathbf{v} = [4, 5, 6]$,\n",
    "\n",
    "    $$\\mathbf{u} \\cdot \\mathbf{v} = \n",
    "    \\begin{bmatrix}\n",
    "    1 \\\\\n",
    "    2 \\\\\n",
    "    3\n",
    "    \\end{bmatrix} \\cdot\n",
    "    \\begin{bmatrix}\n",
    "    4 \\\\\n",
    "    5 \\\\\n",
    "    6\n",
    "    \\end{bmatrix} = \n",
    "    (1 \\times 4) + (2 \\times 5) + (3 \\times 6) =\n",
    "    4 + 10 + 18 =\n",
    "    32$$\n",
    "\n",
    "Validating using `numpy`,"
   ]
  },
  {
   "cell_type": "code",
   "execution_count": 52,
   "metadata": {},
   "outputs": [
    {
     "name": "stdout",
     "output_type": "stream",
     "text": [
      "Dot Product: 32\n"
     ]
    }
   ],
   "source": [
    "# Define the vectors\n",
    "u = np.array([1, 2, 3])\n",
    "v = np.array([4, 5, 6])\n",
    "\n",
    "# Compute dot product\n",
    "dot_product = np.dot(u, v)\n",
    "\n",
    "# Output result\n",
    "print(f\"Dot Product: {dot_product}\")"
   ]
  },
  {
   "cell_type": "markdown",
   "metadata": {},
   "source": [
    "#### Vector Division\n",
    "- **Definition**: Dividing vector $\\mathbf{u}$ by vector $\\mathbf{v}$ involves dividing the corresponding components.\n",
    "\n",
    "$$\\mathbf{u} \\div \\mathbf{v} = \n",
    "\\begin{bmatrix}\n",
    "u_1 \\\\\n",
    "u_2 \\\\\n",
    "... \\\\\n",
    "u_n\n",
    "\\end{bmatrix} \\div\n",
    "\\begin{bmatrix}\n",
    "v_1 \\\\\n",
    "v_2 \\\\\n",
    "... \\\\\n",
    "v_n\n",
    "\\end{bmatrix} = \n",
    "\\begin{bmatrix}\n",
    "u_1 \\div v_1 \\\\\n",
    "u_2 \\div v_2 \\\\\n",
    "... \\\\\n",
    "u_n \\div v_n\n",
    "\\end{bmatrix}$$\n",
    "\n",
    "- **Example**: Given $\\mathbf{u} = [2, 4, 6]$ and $\\mathbf{v} = [1, 2, 3]$,\n",
    "\n",
    "$$\\mathbf{u} \\div \\mathbf{v} = \n",
    "\\begin{bmatrix}\n",
    "2 \\\\\n",
    "4 \\\\\n",
    "6\n",
    "\\end{bmatrix} \\div\n",
    "\\begin{bmatrix}\n",
    "1 \\\\\n",
    "2 \\\\\n",
    "3\n",
    "\\end{bmatrix} = \n",
    "\\begin{bmatrix}\n",
    "2 \\div 1 \\\\\n",
    "4 \\div 2 \\\\\n",
    "6 \\div 3\n",
    "\\end{bmatrix} = \n",
    "\\begin{bmatrix}\n",
    "2 \\\\\n",
    "2 \\\\\n",
    "2\n",
    "\\end{bmatrix}$$\n",
    "\n",
    "Validating using `numpy`,"
   ]
  },
  {
   "cell_type": "code",
   "execution_count": 53,
   "metadata": {},
   "outputs": [
    {
     "name": "stdout",
     "output_type": "stream",
     "text": [
      "[2. 2. 2.]\n"
     ]
    }
   ],
   "source": [
    "u = np.array([2, 4, 6])\n",
    "v = np.array([1, 2, 3])\n",
    "\n",
    "result = u / v  # Element-wise division\n",
    "print(result)"
   ]
  },
  {
   "cell_type": "markdown",
   "metadata": {},
   "source": [
    "## Matrices\n",
    "**Matrix**: a rectangular array of numbers arranged in rows and columns. Matrices are used to represent linear transformations and can be thought of as a collection of vectors.\n",
    "\n",
    "- **Notation**: Matrices are often denoted with boldface uppercase letters (e.g., $\\mathbf{A}$).\n",
    "\n",
    "- **Dimensions**: The size of a matrix is described by the number of rows and columns it contains. For example, a matrix with 2 rows and 3 columns is referred to as a 2x3 matrix.\n",
    "\n",
    "- **Operations**: Common operations with matrices include addition, multiplication, and finding determinants. Matrices can also be used to solve systems of linear equations.\n",
    "\n",
    "**Example**: Consider the matrix, \n",
    "\n",
    "$$\\mathbf{A} = \n",
    "\\begin{bmatrix}\n",
    "1 & 2 \\\\\n",
    "3 & 4\n",
    "\\end{bmatrix}$$\n",
    "\n",
    "In Python, a matric can be represented as a n-dimensional `numpy` array. For example,"
   ]
  },
  {
   "cell_type": "code",
   "execution_count": 15,
   "metadata": {},
   "outputs": [
    {
     "name": "stdout",
     "output_type": "stream",
     "text": [
      "Matrix A:\n",
      "[[1 2]\n",
      " [3 4]]\n"
     ]
    }
   ],
   "source": [
    "# Define matrix A\n",
    "A = np.array([[1, 2],\n",
    "              [3, 4]])\n",
    "\n",
    "# Print the matrix\n",
    "print(\"Matrix A:\")\n",
    "print(A)"
   ]
  },
  {
   "cell_type": "markdown",
   "metadata": {},
   "source": [
    "This is a 2x2 matrix where each entry represents a number in the array. We can validate the dimensions using `np.shape()`."
   ]
  },
  {
   "cell_type": "code",
   "execution_count": 16,
   "metadata": {},
   "outputs": [
    {
     "name": "stdout",
     "output_type": "stream",
     "text": [
      "(2, 2)\n"
     ]
    }
   ],
   "source": [
    "# Get the dimensions\n",
    "print(np.shape(A))"
   ]
  },
  {
   "cell_type": "markdown",
   "metadata": {},
   "source": [
    "### Scalar Operations\n",
    "\n",
    "#### Scalar Addition\n",
    "- **Definition**: Adding a scalar $c$ to a matrix $\\mathbf{A}$ means adding the scalar value to each element of the matrix.\n",
    "\n",
    "$$\\mathbf{A} + c = \n",
    "\\begin{bmatrix}\n",
    "a_{11} & a_{12} & ... & a_{1n} \\\\\n",
    "a_{21} & a_{22} & ... & a_{2n} \\\\\n",
    "... & ... & ... & ... \\\\\n",
    "a_{m1} & a_{m2} & ... & a_{mn}\n",
    "\\end{bmatrix} + c =\n",
    "\\begin{bmatrix}\n",
    "a_{11} + c & a_{12} + c & ... & a_{1n} + c \\\\\n",
    "a_{21} + c & a_{22} + c & ... & a_{2n} + c \\\\\n",
    "... & ... & ... & ... \\\\\n",
    "a_{m1} + c & a_{m2} + c & ... & a_{mn} + c\n",
    "\\end{bmatrix}$$\n",
    "\n",
    "- **Example**: Given matrix $\\mathbf{A}$ and scalar $c = 2$:\n",
    "\n",
    "$$\\mathbf{A} =\n",
    "\\begin{bmatrix}\n",
    "1 & 2  \\\\\n",
    "3 & 4 \\\\\n",
    "\\end{bmatrix},\n",
    "~~~\n",
    "c = 2\n",
    "$$\n",
    "\n",
    "$$\\mathbf{A} + c = \n",
    "\\begin{bmatrix}\n",
    "1 & 2  \\\\\n",
    "3 & 4 \\\\\n",
    "\\end{bmatrix} + 2 =\n",
    "\\begin{bmatrix}\n",
    "1 + 2 & 2 + 2  \\\\\n",
    "3 + 2 & 4 + 2 \\\\\n",
    "\\end{bmatrix} =\n",
    "\\begin{bmatrix}\n",
    "3 & 4  \\\\\n",
    "5 & 6 \\\\\n",
    "\\end{bmatrix}$$\n",
    "\n",
    "Validating using `numpy`,"
   ]
  },
  {
   "cell_type": "code",
   "execution_count": 56,
   "metadata": {},
   "outputs": [
    {
     "name": "stdout",
     "output_type": "stream",
     "text": [
      "Scalar Addition:\n",
      " [[3 4]\n",
      " [5 6]]\n"
     ]
    }
   ],
   "source": [
    "# Define matrix A and scalar c\n",
    "A = np.array([[1, 2], \n",
    "              [3, 4]])\n",
    "c = 2\n",
    "\n",
    "# Perform scalar addition\n",
    "scalar_addition = A + c\n",
    "\n",
    "# Output result\n",
    "print(\"Scalar Addition:\\n\", scalar_addition)"
   ]
  },
  {
   "cell_type": "markdown",
   "metadata": {},
   "source": [
    "#### Scalar Subtraction\n",
    "- **Definition**: Adding a scalar $c$ from a matrix $\\mathbf{A}$ means subtracting the scalar value from each element of the matrix.\n",
    "\n",
    "$$\\mathbf{A} - c = \n",
    "\\begin{bmatrix}\n",
    "a_{11} & a_{12} & ... & a_{1n} \\\\\n",
    "a_{21} & a_{22} & ... & a_{2n} \\\\\n",
    "... & ... & ... & ... \\\\\n",
    "a_{m1} & a_{m2} & ... & a_{mn}\n",
    "\\end{bmatrix} - c =\n",
    "\\begin{bmatrix}\n",
    "a_{11} - c & a_{12} - c & ... & a_{1n} - c \\\\\n",
    "a_{21} - c & a_{22} - c & ... & a_{2n} - c \\\\\n",
    "... & ... & ... & ... \\\\\n",
    "a_{m1} - c & a_{m2} - c & ... & a_{mn} - c\n",
    "\\end{bmatrix}$$\n",
    "\n",
    "- **Example**: Given matrix $\\mathbf{A}$ and scalar $c = 1$:\n",
    "\n",
    "$$\\mathbf{A} =\n",
    "\\begin{bmatrix}\n",
    "4 & 5  \\\\\n",
    "6 & 7 \\\\\n",
    "\\end{bmatrix},\n",
    "~~~\n",
    "c = 1\n",
    "$$\n",
    "\n",
    "$$\\mathbf{A} - c = \n",
    "\\begin{bmatrix}\n",
    "4 & 5  \\\\\n",
    "6 & 7 \\\\\n",
    "\\end{bmatrix} - 1 =\n",
    "\\begin{bmatrix}\n",
    "4 - 1 & 5 - 1  \\\\\n",
    "6 - 1 & 7 - 1 \\\\\n",
    "\\end{bmatrix} =\n",
    "\\begin{bmatrix}\n",
    "3 & 4  \\\\\n",
    "5 & 6 \\\\\n",
    "\\end{bmatrix}$$\n",
    "\n",
    "Validating using `numpy`,"
   ]
  },
  {
   "cell_type": "code",
   "execution_count": 57,
   "metadata": {},
   "outputs": [
    {
     "name": "stdout",
     "output_type": "stream",
     "text": [
      "Scalar Subtraction:\n",
      " [[3 4]\n",
      " [5 6]]\n"
     ]
    }
   ],
   "source": [
    "# Define matrix A and scalar c\n",
    "A = np.array([[4, 5], [6, 7]])\n",
    "c = 1\n",
    "\n",
    "# Perform scalar subtraction\n",
    "scalar_subtraction = A - c\n",
    "\n",
    "# Output result\n",
    "print(\"Scalar Subtraction:\\n\", scalar_subtraction)"
   ]
  },
  {
   "cell_type": "markdown",
   "metadata": {},
   "source": [
    "#### Scalar Multiplication\n",
    "- **Definition**: Multiplying a matrix $\\mathbf{A}$ by a scalar $c$ means multiplying each element of the matrix by the scalar.\n",
    "\n",
    "$$c\\mathbf{A} = \n",
    "c\\begin{bmatrix}\n",
    "a_{11} & a_{12} & ... & a_{1n} \\\\\n",
    "a_{21} & a_{22} & ... & a_{2n} \\\\\n",
    "... & ... & ... & ... \\\\\n",
    "a_{m1} & a_{m2} & ... & a_{mn}\n",
    "\\end{bmatrix} =\n",
    "\\begin{bmatrix}\n",
    "a_{11} \\times c & a_{12} \\times c & ... & a_{1n} \\times c \\\\\n",
    "a_{21} \\times c & a_{22} \\times c & ... & a_{2n} \\times c \\\\\n",
    "... & ... & ... & ... \\\\\n",
    "a_{m1} \\times c & a_{m2} \\times c & ... & a_{mn} \\times c\n",
    "\\end{bmatrix}$$\n",
    "\n",
    "- **Example**: Given matrix $\\mathbf{A}$ and scalar $c = 3$:\n",
    "\n",
    "$$\\mathbf{A} =\n",
    "\\begin{bmatrix}\n",
    "1 & 2  \\\\\n",
    "3 & 4 \\\\\n",
    "\\end{bmatrix},\n",
    "~~~\n",
    "c = 3\n",
    "$$\n",
    "\n",
    "$$c\\mathbf{A}= \n",
    "3\\begin{bmatrix}\n",
    "1 & 2  \\\\\n",
    "3 & 4 \\\\\n",
    "\\end{bmatrix} =\n",
    "\\begin{bmatrix}\n",
    "1 \\times 3 & 2 \\times 3  \\\\\n",
    "3 \\times 3 & 4 \\times 3 \\\\\n",
    "\\end{bmatrix} =\n",
    "\\begin{bmatrix}\n",
    "3 & 6  \\\\\n",
    "9 & 12 \\\\\n",
    "\\end{bmatrix}$$\n",
    "\n",
    "Validating using `numpy`,"
   ]
  },
  {
   "cell_type": "code",
   "execution_count": 58,
   "metadata": {},
   "outputs": [
    {
     "name": "stdout",
     "output_type": "stream",
     "text": [
      "Scalar Multiplication:\n",
      " [[ 3  6]\n",
      " [ 9 12]]\n"
     ]
    }
   ],
   "source": [
    "# Define matrix A and scalar c\n",
    "A = np.array([[1, 2], [3, 4]])\n",
    "c = 3\n",
    "\n",
    "# Perform scalar multiplication\n",
    "scalar_multiplication = c * A\n",
    "\n",
    "# Output result\n",
    "print(\"Scalar Multiplication:\\n\", scalar_multiplication)"
   ]
  },
  {
   "cell_type": "markdown",
   "metadata": {},
   "source": [
    "#### Scalar Division\n",
    "- **Definition**: Dividing a matrix $\\mathbf{A}$ by a scalar $c$ means dividing each element of the matrix by the scalar.\n",
    "\n",
    "$$\\mathbf{A} \\div c = \n",
    "\\begin{bmatrix}\n",
    "a_{11} & a_{12} & ... & a_{1n} \\\\\n",
    "a_{21} & a_{22} & ... & a_{2n} \\\\\n",
    "... & ... & ... & ... \\\\\n",
    "a_{m1} & a_{m2} & ... & a_{mn}\n",
    "\\end{bmatrix} \\div c=\n",
    "\\begin{bmatrix}\n",
    "a_{11} \\div c & a_{12} \\div c & ... & a_{1n} \\div c \\\\\n",
    "a_{21} \\div c & a_{22} \\div c & ... & a_{2n} \\div c \\\\\n",
    "... & ... & ... & ... \\\\\n",
    "a_{m1} \\div c & a_{m2} \\div c & ... & a_{mn} \\div c\n",
    "\\end{bmatrix}$$\n",
    "\n",
    "- **Example**: Given matrix $\\mathbf{A}$ and scalar $c = 2$:\n",
    "\n",
    "$$\\mathbf{A} =\n",
    "\\begin{bmatrix}\n",
    "8 & 4  \\\\\n",
    "2 & 6 \\\\\n",
    "\\end{bmatrix},\n",
    "~~~\n",
    "c = 2\n",
    "$$\n",
    "\n",
    "$$\\mathbf{A} \\div c= \n",
    "\\begin{bmatrix}\n",
    "8 & 4  \\\\\n",
    "2 & 6 \\\\\n",
    "\\end{bmatrix} \\div 2 =\n",
    "\\begin{bmatrix}\n",
    "8 \\div 2 & 4 \\div 2  \\\\\n",
    "2 \\div 2 & 6 \\div 2 \\\\\n",
    "\\end{bmatrix} =\n",
    "\\begin{bmatrix}\n",
    "4 & 2  \\\\\n",
    "1 & 3 \\\\\n",
    "\\end{bmatrix}$$\n",
    "\n",
    "Validating using `numpy`,"
   ]
  },
  {
   "cell_type": "code",
   "execution_count": 59,
   "metadata": {},
   "outputs": [
    {
     "name": "stdout",
     "output_type": "stream",
     "text": [
      "Scalar Division:\n",
      " [[4. 2.]\n",
      " [1. 3.]]\n"
     ]
    }
   ],
   "source": [
    "# Define matrix A and scalar c\n",
    "A = np.array([[8, 4], [2, 6]])\n",
    "c = 2\n",
    "\n",
    "# Perform scalar division\n",
    "scalar_division = A / c\n",
    "\n",
    "# Output result\n",
    "print(\"Scalar Division:\\n\", scalar_division)"
   ]
  },
  {
   "cell_type": "markdown",
   "metadata": {},
   "source": [
    "#### Matrix Operations\n",
    "\n",
    "##### Matrix Addition\n",
    "- **Definition**: Adding two matrices $\\mathbf{A}$ and $\\mathbf{B}$ involves adding their corresponding elements. Matrices must have the same dimensions to perform addition.\n",
    "\n",
    "$$\\mathbf{A} + \\mathbf{B} = \n",
    "\\begin{bmatrix}\n",
    "a_{11} & a_{12} & ... & a_{1n} \\\\\n",
    "a_{21} & a_{22} & ... & a_{2n} \\\\\n",
    "... & ... & ... & ... \\\\\n",
    "a_{m1} & a_{m2} & ... & a_{mn}\n",
    "\\end{bmatrix} + \n",
    "\\begin{bmatrix}\n",
    "b_{11} & b_{12} & ... & b_{1n} \\\\\n",
    "b_{21} & b_{22} & ... & b_{2n} \\\\\n",
    "... & ... & ... & ... \\\\\n",
    "b_{m1} & b_{m2} & ... & b_{mn}\n",
    "\\end{bmatrix} =\n",
    "\\begin{bmatrix}\n",
    "a_{11} + b_{11} & a_{12} + b_{12} & ... & a_{1n} + b_{1n} \\\\\n",
    "a_{21} + b_{21} & a_{22} + b_{22} & ... & a_{2n} + b_{2n} \\\\\n",
    "... & ... & ... & ... \\\\\n",
    "a_{m1} + b_{m1} & a_{m2} + b_{m2} & ... & a_{mn} + b_{mn}\n",
    "\\end{bmatrix}$$\n",
    "\n",
    "- **Example**: Given matrices $\\mathbf{A}$ and $\\mathbf{B}$:\n",
    "\n",
    "$$\\mathbf{A} =\n",
    "\\begin{bmatrix}\n",
    "1 & 2  \\\\\n",
    "3 & 4 \\\\\n",
    "\\end{bmatrix},\n",
    "\\mathbf{B} =\n",
    "\\begin{bmatrix}\n",
    "4 & 5  \\\\\n",
    "6 & 7 \\\\\n",
    "\\end{bmatrix}\n",
    "$$\n",
    "\n",
    "$$\\mathbf{A} + \\mathbf{B} = \n",
    "\\begin{bmatrix}\n",
    "1 & 2  \\\\\n",
    "3 & 4 \\\\\n",
    "\\end{bmatrix} + \n",
    "\\begin{bmatrix}\n",
    "5 & 6  \\\\\n",
    "7 & 8 \\\\\n",
    "\\end{bmatrix} =\n",
    "\\begin{bmatrix}\n",
    "1 + 5 & 2 + 6  \\\\\n",
    "3 + 7 & 4 + 8 \\\\\n",
    "\\end{bmatrix} =\n",
    "\\begin{bmatrix}\n",
    "6 & 8  \\\\\n",
    "10 & 12 \\\\\n",
    "\\end{bmatrix}$$\n",
    "\n",
    "Validating using `numpy`,"
   ]
  },
  {
   "cell_type": "code",
   "execution_count": 21,
   "metadata": {},
   "outputs": [
    {
     "name": "stdout",
     "output_type": "stream",
     "text": [
      "Matrix Addition:\n",
      " [[ 6  8]\n",
      " [10 12]]\n"
     ]
    }
   ],
   "source": [
    "# Define matrices A and B\n",
    "A = np.array([[1, 2], [3, 4]])\n",
    "B = np.array([[5, 6], [7, 8]])\n",
    "\n",
    "# Perform matrix addition\n",
    "matrix_addition = A + B\n",
    "\n",
    "# Output result\n",
    "print(\"Matrix Addition:\\n\", matrix_addition)"
   ]
  },
  {
   "cell_type": "markdown",
   "metadata": {},
   "source": [
    "##### Matrix Subtraction\n",
    "- **Definition**: Subtracting matrix $\\mathbf{B}$ from matrix $\\mathbf{A}$ involves subtracting the corresponding elements of $\\mathbf{B}$ from $\\mathbf{A}$.\n",
    "\n",
    "$$\\mathbf{A} - \\mathbf{B} = \n",
    "\\begin{bmatrix}\n",
    "a_{11} & a_{12} & ... & a_{1n} \\\\\n",
    "a_{21} & a_{22} & ... & a_{2n} \\\\\n",
    "... & ... & ... & ... \\\\\n",
    "a_{m1} & a_{m2} & ... & a_{mn}\n",
    "\\end{bmatrix} - \n",
    "\\begin{bmatrix}\n",
    "b_{11} & b_{12} & ... & b_{1n} \\\\\n",
    "b_{21} & b_{22} & ... & b_{2n} \\\\\n",
    "... & ... & ... & ... \\\\\n",
    "b_{m1} & b_{m2} & ... & b_{mn}\n",
    "\\end{bmatrix} =\n",
    "\\begin{bmatrix}\n",
    "a_{11} - b_{11} & a_{12} - b_{12} & ... & a_{1n} - b_{1n} \\\\\n",
    "a_{21} - b_{21} & a_{22} - b_{22} & ... & a_{2n} - b_{2n} \\\\\n",
    "... & ... & ... & ... \\\\\n",
    "a_{m1} - b_{m1} & a_{m2} - b_{m2} & ... & a_{mn} - b_{mn}\n",
    "\\end{bmatrix}$$\n",
    "\n",
    "- **Example**: Given matrices $\\mathbf{A}$ and $\\mathbf{B}$:\n",
    "\n",
    "$$\\mathbf{A} =\n",
    "\\begin{bmatrix}\n",
    "9 & 8  \\\\\n",
    "7 & 6 \\\\\n",
    "\\end{bmatrix},\n",
    "\\mathbf{B} =\n",
    "\\begin{bmatrix}\n",
    "5 & 4  \\\\\n",
    "3 & 2 \\\\\n",
    "\\end{bmatrix}\n",
    "$$\n",
    "\n",
    "$$\\mathbf{A} - \\mathbf{B} = \n",
    "\\begin{bmatrix}\n",
    "9 & 8  \\\\\n",
    "7 & 6 \\\\\n",
    "\\end{bmatrix} - \n",
    "\\begin{bmatrix}\n",
    "5 & 4  \\\\\n",
    "3 & 2 \\\\\n",
    "\\end{bmatrix} =\n",
    "\\begin{bmatrix}\n",
    "9 - 5 & 8 - 4  \\\\\n",
    "7 - 3 & 6 - 2 \\\\\n",
    "\\end{bmatrix} =\n",
    "\\begin{bmatrix}\n",
    "4 & 4  \\\\\n",
    "4 & 4 \\\\\n",
    "\\end{bmatrix}$$\n",
    "\n",
    "Validating using `numpy`,"
   ]
  },
  {
   "cell_type": "code",
   "execution_count": 22,
   "metadata": {},
   "outputs": [
    {
     "name": "stdout",
     "output_type": "stream",
     "text": [
      "Matrix Subtraction:\n",
      " [[4 4]\n",
      " [4 4]]\n"
     ]
    }
   ],
   "source": [
    "# Define matrices A and B\n",
    "A = np.array([[9, 8], [7, 6]])\n",
    "B = np.array([[5, 4], [3, 2]])\n",
    "\n",
    "# Perform matrix subtraction\n",
    "matrix_subtraction = A - B\n",
    "\n",
    "# Output result\n",
    "print(\"Matrix Subtraction:\\n\", matrix_subtraction)"
   ]
  },
  {
   "cell_type": "markdown",
   "metadata": {},
   "source": [
    "##### Matrix Multiplication (Dot Product)\n",
    "- **Definition**: The matrix product $\\mathbf{A} \\times \\mathbf{B}$ (also called the dot product) is calculated by multiplying rows of $\\mathbf{A}$ by the columns of $\\mathbf{B}$. The number of columns in $\\mathbf{A}$ must match the number of rows in $\\mathbf{B}$.\n",
    "\n",
    "$$\\mathbf{A} \\cdot \\mathbf{B} = \n",
    "\\begin{bmatrix}\n",
    "a_{11} & a_{12} & ... & a_{1n} \\\\\n",
    "a_{21} & a_{22} & ... & a_{2n} \\\\\n",
    "... & ... & ... & ... \\\\\n",
    "a_{m1} & a_{m2} & ... & a_{mn}\n",
    "\\end{bmatrix} \\cdot \n",
    "\\begin{bmatrix}\n",
    "b_{11} & b_{12} & ... & b_{1n} \\\\\n",
    "b_{21} & b_{22} & ... & b_{2n} \\\\\n",
    "... & ... & ... & ... \\\\\n",
    "b_{m1} & b_{m2} & ... & b_{mn}\n",
    "\\end{bmatrix} =\n",
    "\\begin{bmatrix}\n",
    "(a_{11} \\times b_{11} + a_{12} \\times b_{21} + ... + a_{1n} \\times b_{m1}) & (a_{11} \\times b_{12} + a_{12} \\times b_{22} + ... + a_{1n} \\times b_{m2}) & ... & (a_{11} \\times b_{1n} + a_{12} \\times b_{2n} + ... + a_{1n} \\times b_{mn}) \\\\\n",
    "(a_{21} \\times b_{11} + a_{22} \\times b_{21} + ... + a_{2n} \\times b_{m1}) & (a_{21} \\times b_{12} + a_{22} \\times b_{22} + ... + a_{2n} \\times b_{m2}) & ... & (a_{21} \\times b_{1n} + a_{22} \\times b_{2n} + ... + a_{2n} \\times b_{mn}) \\\\\n",
    "(a_{m1} \\times b_{11} + a_{m2} \\times b_{21} + ... + a_{mn} \\times b_{m1}) & (a_{m1} \\times b_{12} + a_{m2} \\times b_{22} + ... + a_{mn} \\times b_{m2}) & ... & (a_{m1} \\times b_{1n} + a_{m2} \\times b_{2n} + ... + a_{mn} \\times b_{mn})\n",
    "\\end{bmatrix}$$\n",
    "\n",
    "- **Example**: Given matrices $\\mathbf{A}$ and $\\mathbf{B}$:\n",
    "\n",
    "$$\\mathbf{A} =\n",
    "\\begin{bmatrix}\n",
    "1 & 2  \\\\\n",
    "3 & 4 \\\\\n",
    "\\end{bmatrix},\n",
    "\\mathbf{B} =\n",
    "\\begin{bmatrix}\n",
    "5 & 6  \\\\\n",
    "7 & 8 \\\\\n",
    "\\end{bmatrix}\n",
    "$$\n",
    "\n",
    "$$\\mathbf{A} \\cdot \\mathbf{B} = \n",
    "\\begin{bmatrix}\n",
    "1 & 2  \\\\\n",
    "3 & 4 \\\\\n",
    "\\end{bmatrix} \\cdot \n",
    "\\begin{bmatrix}\n",
    "5 & 6  \\\\\n",
    "7 & 8 \\\\\n",
    "\\end{bmatrix} =\n",
    "\\begin{bmatrix}\n",
    "(1 \\times 5 + 2 \\times 7) & (1 \\times 6 + 2 \\times 8) \\\\\n",
    "(3 \\times 5 + 4 \\times 7) & (3 \\times 6 + 4 \\times 8) \\\\\n",
    "\\end{bmatrix} =\n",
    "\\begin{bmatrix}\n",
    "19 & 22  \\\\\n",
    "43 & 50 \\\\\n",
    "\\end{bmatrix}$$\n",
    "\n",
    "Validating using `numpy`,"
   ]
  },
  {
   "cell_type": "code",
   "execution_count": 23,
   "metadata": {},
   "outputs": [
    {
     "name": "stdout",
     "output_type": "stream",
     "text": [
      "Matrix Multiplication (Dot Product):\n",
      " [[19 22]\n",
      " [43 50]]\n"
     ]
    }
   ],
   "source": [
    "# Define matrices A and B\n",
    "A = np.array([[1, 2], [3, 4]])\n",
    "B = np.array([[5, 6], [7, 8]])\n",
    "\n",
    "# Perform matrix multiplication (dot product)\n",
    "matrix_multiplication = np.dot(A, B)\n",
    "\n",
    "# Output result\n",
    "print(\"Matrix Multiplication (Dot Product):\\n\", matrix_multiplication)"
   ]
  },
  {
   "cell_type": "markdown",
   "metadata": {},
   "source": [
    "##### Matrix Transposition\n",
    "- **Definition**: The transpose of a matrix $\\mathbf{A}$, denoted as $\\mathbf{A}^T$, is formed by swapping the rows and columns of the matrix.\n",
    "\n",
    "- **Example**: Given the matrix $\\mathbf{A}$:\n",
    "\n",
    "$$\\mathbf{A} =\n",
    "\\begin{bmatrix}\n",
    "1 & 2 & 3  \\\\\n",
    "4 & 5 & 6 \\\\\n",
    "\\end{bmatrix}$$\n",
    "\n",
    "The transpose of $\\mathbf{A}$ is:\n",
    "\n",
    "$$\\mathbf{A}^T =\n",
    "\\begin{bmatrix}\n",
    "1 & 2  \\\\\n",
    "2 & 5 \\\\\n",
    "3 & 6\n",
    "\\end{bmatrix}$$\n",
    "\n",
    "Validating using `numpy`,"
   ]
  },
  {
   "cell_type": "code",
   "execution_count": 24,
   "metadata": {},
   "outputs": [
    {
     "name": "stdout",
     "output_type": "stream",
     "text": [
      "Matrix Transpose:\n",
      " [[1 4]\n",
      " [2 5]\n",
      " [3 6]]\n"
     ]
    }
   ],
   "source": [
    "# Define matrix A\n",
    "A = np.array([[1, 2, 3], [4, 5, 6]])\n",
    "\n",
    "# Perform matrix transposition\n",
    "matrix_transpose = A.T\n",
    "\n",
    "# Output result\n",
    "print(\"Matrix Transpose:\\n\", matrix_transpose)"
   ]
  },
  {
   "cell_type": "markdown",
   "metadata": {},
   "source": [
    "## Vectors & Matrices: Application in Data Science\n",
    "In data science, vectors and matrices are used extensively to handle and transform data. For example:\n",
    "\n",
    "- **Vectors** can represent individual data points with features, such as the attributes of a house (e.g. price, surface area, etc.).\n",
    "\n",
    "- **Matrices** can represent entire datasets, with rows as samples and columns as features (e.g. price, surface area, etc.). Operations on matrices can perform transformations, dimensionality reduction, and more.\n",
    "\n",
    "**Example**: Consider a dataset where each house is described by two features: **price** (in thousands of dollars) and **surface area** (in square meters). We can represent each house as a vector $[\\text{price}, \\text{surface}]$. The dataset containing multiple houses can be represented as a matrix where each row is a vector for one house.\n",
    "\n",
    "**Step 1: Representing Data Points as Vectors**\n",
    "\n",
    "Suppose we have data for three houses with the following values:\n",
    "- House 1: Price = $\\$250,000$, Surface = $120$ $m^2$\n",
    "\n",
    "- House 2: Price = $\\$300,000$, Surface = $150$ $m^2$\n",
    "\n",
    "- House 3: Price = $\\$180,000$, Surface = $100$ $m^2$\n",
    "\n",
    "We can represent these houses as vectors:\n",
    "$$\\mathbf{v_1} = \n",
    "\\begin{bmatrix}\n",
    "250 \\\\\n",
    "120\n",
    "\\end{bmatrix},\n",
    "~~~~~~~\n",
    "\\mathbf{v_2} = \n",
    "\\begin{bmatrix}\n",
    "300 \\\\\n",
    "150\n",
    "\\end{bmatrix},\n",
    "~~~~~~~\n",
    "\\mathbf{v_3} = \n",
    "\\begin{bmatrix}\n",
    "180 \\\\\n",
    "100\n",
    "\\end{bmatrix}$$"
   ]
  },
  {
   "cell_type": "code",
   "execution_count": 25,
   "metadata": {},
   "outputs": [
    {
     "name": "stdout",
     "output_type": "stream",
     "text": [
      "House 1 vector: [250 120]\n",
      "House 2 vector: [300 150]\n",
      "House 3 vector: [180 100]\n"
     ]
    }
   ],
   "source": [
    "# Step 1: Define vectors for each house (price, surface area)\n",
    "house_1 = np.array([250, 120])\n",
    "house_2 = np.array([300, 150])\n",
    "house_3 = np.array([180, 100])\n",
    "\n",
    "print(f\"House 1 vector: {house_1}\")\n",
    "print(f\"House 2 vector: {house_2}\")\n",
    "print(f\"House 3 vector: {house_3}\")"
   ]
  },
  {
   "cell_type": "markdown",
   "metadata": {},
   "source": [
    "**Step 2: Creating the Matrix**\n",
    "\n",
    "The dataset for all three houses can be combined into a matrix where each row represents a house, and the columns represent the features (price, surface area):\n",
    "\n",
    "$$\\mathbf{A} =\n",
    "\\begin{bmatrix}\n",
    "250 & 120  \\\\\n",
    "300 & 150 \\\\\n",
    "180 & 100\n",
    "\\end{bmatrix}$$"
   ]
  },
  {
   "cell_type": "code",
   "execution_count": 26,
   "metadata": {},
   "outputs": [
    {
     "name": "stdout",
     "output_type": "stream",
     "text": [
      "Matrix:\n",
      "[[250 120]\n",
      " [300 150]\n",
      " [180 100]]\n"
     ]
    }
   ],
   "source": [
    "# Step 2: Create a matrix from the vectors\n",
    "A = np.array([house_1, house_2, house_3,])\n",
    "print(f\"Matrix:\\n{A}\")"
   ]
  },
  {
   "cell_type": "markdown",
   "metadata": {},
   "source": [
    "**Step 3: Converting to a DataFrame**\n",
    "In Python, we can represent this matrix as a Pandas DataFrame, with appropriate column names:"
   ]
  },
  {
   "cell_type": "code",
   "execution_count": 27,
   "metadata": {},
   "outputs": [
    {
     "data": {
      "text/html": [
       "<div>\n",
       "<style scoped>\n",
       "    .dataframe tbody tr th:only-of-type {\n",
       "        vertical-align: middle;\n",
       "    }\n",
       "\n",
       "    .dataframe tbody tr th {\n",
       "        vertical-align: top;\n",
       "    }\n",
       "\n",
       "    .dataframe thead th {\n",
       "        text-align: right;\n",
       "    }\n",
       "</style>\n",
       "<table border=\"1\" class=\"dataframe\">\n",
       "  <thead>\n",
       "    <tr style=\"text-align: right;\">\n",
       "      <th></th>\n",
       "      <th>Price (in $1000)</th>\n",
       "      <th>Surface (m^2)</th>\n",
       "    </tr>\n",
       "  </thead>\n",
       "  <tbody>\n",
       "    <tr>\n",
       "      <th>0</th>\n",
       "      <td>250</td>\n",
       "      <td>120</td>\n",
       "    </tr>\n",
       "    <tr>\n",
       "      <th>1</th>\n",
       "      <td>300</td>\n",
       "      <td>150</td>\n",
       "    </tr>\n",
       "    <tr>\n",
       "      <th>2</th>\n",
       "      <td>180</td>\n",
       "      <td>100</td>\n",
       "    </tr>\n",
       "  </tbody>\n",
       "</table>\n",
       "</div>"
      ],
      "text/plain": [
       "   Price (in $1000)  Surface (m^2)\n",
       "0               250            120\n",
       "1               300            150\n",
       "2               180            100"
      ]
     },
     "execution_count": 27,
     "metadata": {},
     "output_type": "execute_result"
    }
   ],
   "source": [
    "import pandas as pd\n",
    "\n",
    "# Step 3: Convert the matrix to a DataFrame with column names\n",
    "df = pd.DataFrame(A, columns=['Price (in $1000)', 'Surface (m^2)'])\n",
    "df"
   ]
  },
  {
   "cell_type": "markdown",
   "metadata": {},
   "source": [
    "## Introduction to Derivatives\n",
    "\n",
    "### Understanding Slope\n",
    "In everyday terms, the **slope** of a line measures how steep the line is. It describes how much the vertical position (y) changes for a given change in the horizontal position (x).\n",
    "\n",
    "#### Definition of Slope\n",
    "For a straight line, the slope $m$ is calculated as:\n",
    "\n",
    "$$m = \\frac{Δy}{Δx} = \\frac{y_2-y_1}{x_2-x_1}$$\n",
    "\n",
    "where:\n",
    "\n",
    "- $Δy$ is the change in the vertical direction (rise).\n",
    "\n",
    "- $Δx$ is the change in the horizontal direction (run)."
   ]
  },
  {
   "cell_type": "markdown",
   "metadata": {},
   "source": [
    "#### Example\n",
    "Consider the general line equation:\n",
    "\n",
    "$$ y = mx + b$$\n",
    "\n",
    "where $m$ is the slope and $b$ is the y-intercept (the point where the line crosses the y-axis). We’ll solve for $m$ and $b$ given specific points on the line.\n",
    "\n",
    "1. **Choose Two Points on the Line**: \n",
    "\n",
    "    - Suppose we have two points on the line:\n",
    "\n",
    "        - $(x_1, y_1) = (0, 3)$\n",
    "\n",
    "        - $(x_2, y_2) = (1, 5)$\n",
    "\n",
    "2. **Calculate the Slope $m$**\n",
    "\n",
    "    - Using the formula for slope, calculate the slope:\n",
    "\n",
    "    $$m = \\frac{Δy}{Δx} = \\frac{y_2-y_1}{x_2-x_1} = \\frac{5 - 3}{1 - 0} = \\frac{2}{1} = 2$$\n",
    "\n",
    "    - This means the line rises 2 units for every 1 unit it moves horizontally.\n",
    "\n",
    "3. **Solve for the Y-Intercept $b$**\n",
    "\n",
    "    - We can use one of the points to solve for $b$. Using the point $(0, 3)$:\n",
    "\n",
    "        - The line equations so far is: \n",
    "        \n",
    "        $$ y = mx + b = 2x + b$$\n",
    "\n",
    "        - Substitute $x = 0$ and $y = 3$ and solve for $b$:\n",
    "\n",
    "        $$3 = 2(0) + b = \\cancel{2(0)} + b \\rightarrow 3 = b \\rightarrow b = 3$$\n",
    "\n",
    "        - So the y-intercept is $b = 3$.\n",
    "\n",
    "4. **Plot the Line and Points**\n",
    "\n",
    "    - Now we'll plot the line $y = 2x + 3$ and the two points $(0, 3)$ and $(1, 5)$"
   ]
  },
  {
   "cell_type": "code",
   "execution_count": 28,
   "metadata": {},
   "outputs": [
    {
     "data": {
      "image/png": "[encoded data removed]",
      "text/plain": [
       "<Figure size 800x600 with 1 Axes>"
      ]
     },
     "metadata": {},
     "output_type": "display_data"
    }
   ],
   "source": [
    "# Define the line function\n",
    "def line(x):\n",
    "    return 2 * x + 3\n",
    "\n",
    "# Define x values\n",
    "x = np.linspace(-1, 2)\n",
    "y = line(x)\n",
    "\n",
    "# Define the points\n",
    "x_points = np.array([0, 1])\n",
    "y_points = line(x_points)\n",
    "\n",
    "# Create the plot\n",
    "plt.figure(figsize=(8, 6))\n",
    "plt.plot(x, y, label='y = 2x + 3', color='blue')\n",
    "plt.scatter(x_points, y_points, color='red')  # Points (0, 3) and (1, 5)\n",
    "plt.text(0, 3, '(0, 3)', fontsize=12, verticalalignment='bottom')\n",
    "plt.text(1, 5, '(1, 5)', fontsize=12, verticalalignment='bottom')\n",
    "\n",
    "# Add labels, title, and legend\n",
    "plt.xlabel('x')\n",
    "plt.ylabel('y')\n",
    "plt.title('Line y = 2x + 3 with Points')\n",
    "plt.axhline(0, color='black', linewidth=0.5)\n",
    "plt.axvline(0, color='black', linewidth=0.5)\n",
    "plt.grid(True)\n",
    "plt.legend()\n",
    "\n",
    "# Show the plot\n",
    "plt.show()"
   ]
  },
  {
   "cell_type": "markdown",
   "metadata": {},
   "source": [
    "### Slope of a Curve\n",
    "When dealing with curves, the slope at a specific point is not constant like in a straight line. Instead, we need to find the slope of the **tangent line** at that point.\n",
    "\n",
    "#### Tangent Line\n",
    "A **tangent line** to a curve at a point is a straight line that just touches the curve at that point and has the same direction as the curve at that point.\n",
    "\n",
    "Let's visualize this concept using Python. We'll plot the function $f(x) = x^2$ and its tangent line at $x=2$."
   ]
  },
  {
   "cell_type": "code",
   "execution_count": 29,
   "metadata": {},
   "outputs": [
    {
     "data": {
      "application/vnd.jupyter.widget-view+json": {
       "model_id": "3bfb7dc146dc4131b2e2c003670fb918",
       "version_major": 2,
       "version_minor": 0
      },
      "text/plain": [
       "interactive(children=(Checkbox(value=False, description='Show Tangent Line'), Output()), _dom_classes=('widget…"
      ]
     },
     "metadata": {},
     "output_type": "display_data"
    }
   ],
   "source": [
    "from ipywidgets import Checkbox, interact\n",
    "\n",
    "# Define the function and its tangent line at x = 2\n",
    "def f(x):\n",
    "    return x**2\n",
    "\n",
    "def f_tangent(x):\n",
    "    return 4*x - 4\n",
    "\n",
    "# Define x values\n",
    "x = np.linspace(-2, 4)\n",
    "y = f(x)\n",
    "\n",
    "# Function to plot the graph with or without the tangent line\n",
    "def plot_with_tangent(show_tangent):\n",
    "    plt.figure(figsize=(10, 6))\n",
    "    plt.plot(x, y, label='f(x) = x^2', color='blue')\n",
    "    \n",
    "    if show_tangent:\n",
    "        plt.plot(x, f_tangent(x), label='Tangent Line at x = 2', color='red', linestyle='--')\n",
    "\n",
    "    # Highlight the point of tangency\n",
    "    plt.scatter(2, f(2), color='black')  # Point (2, 4)\n",
    "    plt.text(2, f(2), '  (2, 4)', fontsize=12, verticalalignment='bottom')\n",
    "\n",
    "    # Set constant y-axis limits\n",
    "    plt.ylim(-5, 20)  # Setting the y-axis range to be constant from -5 to 20\n",
    "\n",
    "    # Add labels, title, and legend\n",
    "    plt.xlabel('x')\n",
    "    plt.ylabel('y')\n",
    "    plt.title('Quadratic Function and Tangent Line')\n",
    "    plt.axhline(0, color='black', linewidth=0.5)\n",
    "    plt.axvline(0, color='black', linewidth=0.5)\n",
    "    plt.grid(True)\n",
    "    plt.legend()\n",
    "\n",
    "    # Show the plot\n",
    "    plt.show()\n",
    "\n",
    "# Create a checkbox widget and interactive plot\n",
    "interact(plot_with_tangent, show_tangent=Checkbox(value=False, description=\"Show Tangent Line\"));"
   ]
  },
  {
   "cell_type": "markdown",
   "metadata": {},
   "source": [
    "###  Introduction to Derivatives\n",
    "The **derivative** of a function at a point gives the slope of the tangent line to the function at that point. It represents how the function value changes as its input changes."
   ]
  },
  {
   "cell_type": "markdown",
   "metadata": {},
   "source": [
    "#### Basic Derivative Rules\n",
    "1. **Power Rule**: For a function $f(x) = x^n$, the derivative is $f'(x) = n \\times x^{n-1}$\n",
    "\n",
    "2. **Constant Rule**: The derivative of a constant is 0.\n",
    "\n",
    "3. **Sum Rule**: The derivative of a sum of functions is the sum of their derivatives.\n",
    "\n",
    "4. **Product Rule**: For functions $f(x)$ and $g(x)$, the derivative of their product is $(f(x)g(x))' = f'(x)g(x) + f(x)g'(x)$\n",
    "\n",
    "5. **Quotient Rule**: For functions $f(x)$ and $g(x)$, the derivative of their quotient is $(\\frac{f(x)}{g(x)})' = \\frac{f'(x)g(x) + f(x)g'(x)}{g(x)^2}$"
   ]
  },
  {
   "cell_type": "markdown",
   "metadata": {},
   "source": [
    "#### Derivative By Hand\n",
    "Given the function:\n",
    "\n",
    "$$f(x) = x^2$$\n",
    "\n",
    "The derivative of $f(x)$ with respect to $x$ is: \n",
    "\n",
    "$$f'(x) = \\frac{d}{dx}(x^2)$$\n",
    "\n",
    "Using the power rule, we get: \n",
    "\n",
    "$$f'(x) = n \\times x^{n-1} $$\n",
    "\n",
    "$$= 2 \\times x^{2-1}$$\n",
    "\n",
    "$$= 2 \\times x^{1}$$\n",
    "\n",
    "$$= 2x$$\n",
    "\n",
    "At $x=2$: \n",
    "\n",
    "$$f'(2) = 2x$$\n",
    "\n",
    "$$= 2 \\times 2$$\n",
    "\n",
    "$$= 4$$\n",
    "\n",
    "So the slope of the tangent line to the function at $x=2$ is **4**."
   ]
  },
  {
   "cell_type": "markdown",
   "metadata": {},
   "source": [
    "#### Equation of the Tangent Line\n",
    "To find the tangent line, we use the point-slope form of the equation of a line: \n",
    "\n",
    "$$ y - y_1 = m(x - x_1)$$\n",
    "\n",
    "Where $m$ is the slope of the tangent line, and $(x_1, y_1)$ is the point of tangency.\n",
    "\n",
    "At $x=2$: \n",
    "\n",
    "$$f(x) = x^2$$\n",
    "\n",
    "$$f(2) = 2^2 = 4$$\n",
    "\n",
    "So the point of tangency is $(2, 4)$.\n",
    "\n",
    "Substitute $m=4$, $x_1=2$, and $y_1=4$:\n",
    "\n",
    "$$ y - y_1 = m(x - x_1)$$\n",
    "\n",
    "$$ y - 4 = 4(x - 2)$$\n",
    "\n",
    "$$ y - 4 = 4x - 8$$\n",
    "\n",
    "$$ y = 4x - 4$$\n",
    "\n",
    "So the equation the tangent line to the function at $x=2$ is: $$ y = 4x - 4$$."
   ]
  },
  {
   "cell_type": "code",
   "execution_count": 30,
   "metadata": {},
   "outputs": [
    {
     "data": {
      "application/vnd.jupyter.widget-view+json": {
       "model_id": "f1808c2e7f4b421fa887526f0d12ba4d",
       "version_major": 2,
       "version_minor": 0
      },
      "text/plain": [
       "interactive(children=(Checkbox(value=False, description='Show Tangent Line'), Output()), _dom_classes=('widget…"
      ]
     },
     "metadata": {},
     "output_type": "display_data"
    }
   ],
   "source": [
    "# Function to plot the graph with or without the tangent line\n",
    "def plot_with_tangent_again(show_tangent):\n",
    "    plt.figure(figsize=(10, 6))\n",
    "    plt.plot(x, y, label='f(x) = x^2', color='blue')\n",
    "    \n",
    "    if show_tangent:\n",
    "        plt.plot(x, f_tangent(x), label='g(x) = 4x - 4', color='red', linestyle='--')\n",
    "\n",
    "    # Highlight the point of tangency\n",
    "    plt.scatter(2, f(2), color='black')  # Point (2, 4)\n",
    "    plt.text(2, f(2), '  (2, 4)', fontsize=12, verticalalignment='bottom')\n",
    "\n",
    "    # Set constant y-axis limits\n",
    "    plt.ylim(-5, 20)  # Setting the y-axis range to be constant from -5 to 20\n",
    "\n",
    "    # Add labels, title, and legend\n",
    "    plt.xlabel('x')\n",
    "    plt.ylabel('y')\n",
    "    plt.title('Quadratic Function and Tangent Line')\n",
    "    plt.axhline(0, color='black', linewidth=0.5)\n",
    "    plt.axvline(0, color='black', linewidth=0.5)\n",
    "    plt.grid(True)\n",
    "    plt.legend()\n",
    "\n",
    "    # Show the plot\n",
    "    plt.show()\n",
    "\n",
    "# Create a checkbox widget and interactive plot\n",
    "interact(plot_with_tangent_again, show_tangent=Checkbox(value=False, description=\"Show Tangent Line\"));"
   ]
  },
  {
   "cell_type": "markdown",
   "metadata": {},
   "source": [
    "We can also plot our function:\n",
    "\n",
    "$$f(x) = x^2$$\n",
    "\n",
    "and its derivative:\n",
    "\n",
    "$$f'(x) = 2x$$\n",
    "\n",
    "within the same plot,"
   ]
  },
  {
   "cell_type": "code",
   "execution_count": 31,
   "metadata": {},
   "outputs": [
    {
     "data": {
      "application/vnd.jupyter.widget-view+json": {
       "model_id": "4578c926a48445fbabbc05130581f5d0",
       "version_major": 2,
       "version_minor": 0
      },
      "text/plain": [
       "interactive(children=(Checkbox(value=False, description='Show Derivative Function'), Output()), _dom_classes=(…"
      ]
     },
     "metadata": {},
     "output_type": "display_data"
    }
   ],
   "source": [
    "# Define the derivative function\n",
    "def derivative(x):\n",
    "    return 2*x\n",
    "\n",
    "# Function to plot the graph with or without the derivative function\n",
    "def plot_with_derivative(show_derivative):\n",
    "    plt.figure(figsize=(10, 6))\n",
    "    plt.plot(x, y, label='f(x) = x^2', color='blue')\n",
    "    \n",
    "    if show_derivative:\n",
    "        plt.plot(x, derivative(x), label=\"f'(x) = 2x\", color='orange')\n",
    "\n",
    "    # Set constant y-axis limits\n",
    "    plt.ylim(-5, 20)  # Setting the y-axis range to be constant from -5 to 20\n",
    "\n",
    "    # Add labels, title, and legend\n",
    "    plt.xlabel('x')\n",
    "    plt.ylabel('y')\n",
    "    plt.title('Quadratic Function and its Derivative')\n",
    "    plt.axhline(0, color='black', linewidth=0.5)\n",
    "    plt.axvline(0, color='black', linewidth=0.5)\n",
    "    plt.grid(True)\n",
    "    plt.legend()\n",
    "\n",
    "    # Show the plot\n",
    "    plt.show()\n",
    "\n",
    "# Create a checkbox widget and interactive plot\n",
    "interact(plot_with_derivative, show_derivative=Checkbox(value=False, description=\"Show Derivative Function\"));"
   ]
  },
  {
   "cell_type": "markdown",
   "metadata": {},
   "source": [
    "### Examples and Python Visualizations\n",
    "\n",
    "#### Example 1: Constant Speed\n",
    "Suppose you travel a distance of 30 meters in 15 seconds at a constant speed.  If we want to express the situation as a function, then it would be:\n",
    "\n",
    "1. **Function**: \n",
    "\n",
    "$$d(t) = \\text{speed} \\times t$$\n",
    "\n",
    "2. **Calculate Speed**:\n",
    "\n",
    "$$d(t) = \\text{speed} \\times t$$\n",
    "\n",
    "$$\\text{speed} =  \\frac{d(t)}{t}$$\n",
    "\n",
    "$$=  \\frac{30 \\text{ meters}}{15 \\text{ seconds}}$$\n",
    "\n",
    "$$=  2 \\text{ meters/seconds}$$\n",
    "\n",
    "3. **Derivative**: Since the speed is constant, the derivative of $d(t) = 2 \\times t$ is simply the constant speed $2 \\text{ meters/seconds}$. Written out,\n",
    "\n",
    "$$d(t) = 2 \\times t$$\n",
    "\n",
    "$$d'(t) = 2$$\n",
    "\n",
    "4. **Python Visualization**: Plotting the linear function $d(t) = 2 \\times t$ when $t \\in [0, 15]$,"
   ]
  },
  {
   "cell_type": "code",
   "execution_count": 32,
   "metadata": {},
   "outputs": [
    {
     "data": {
      "image/png": "[encoded data removed]",
      "text/plain": [
       "<Figure size 800x500 with 1 Axes>"
      ]
     },
     "metadata": {},
     "output_type": "display_data"
    }
   ],
   "source": [
    "# Define time and distance\n",
    "time = np.linspace(0, 15)\n",
    "distance = 2 * time\n",
    "\n",
    "# Create a plot\n",
    "plt.figure(figsize=(8, 5))\n",
    "plt.plot(time, distance, label='Distance = 2 * Time', color='blue')\n",
    "plt.xlabel('Time (seconds)')\n",
    "plt.ylabel('Distance (meters)')\n",
    "plt.title('Distance vs Time at Constant Speed')\n",
    "plt.grid(True)\n",
    "plt.legend()\n",
    "plt.show()"
   ]
  },
  {
   "cell_type": "markdown",
   "metadata": {},
   "source": [
    "#### Example 2: Accelerating Speed\n",
    "If you start from rest and accelerate uniformly, the distance covered over time can be described by:\n",
    "\n",
    "1. **Distance Function**:\n",
    "\n",
    "$$\\text{distance} = \\frac{1}{2} \\times a \\times t^2$$\n",
    "\n",
    "2. **Speed Function**:\n",
    "\n",
    "$$\\text{speed} = a \\times t$$\n",
    "\n",
    "Here, $a$ is acceleration.\n",
    "\n",
    "3. **Finding Acceleration**: Assume you traveled the same distance 30 meters, but you were walking faster and faster so it only took you 10 seconds. Knowing this, find the acceleration.\n",
    "\n",
    "$$\\text{distance} = \\frac{1}{2} \\times a \\times t^2$$\n",
    "\n",
    "$$30 = \\frac{1}{2} \\times a \\times 10^2$$\n",
    "\n",
    "$$a = \\frac{2 \\times 30}{100}$$\n",
    "\n",
    "$$= 0.6 \\text{ meters/second}^2$$\n",
    "\n",
    "3. **Python Visualization**:"
   ]
  },
  {
   "cell_type": "code",
   "execution_count": 33,
   "metadata": {},
   "outputs": [
    {
     "data": {
      "image/png": "[encoded data removed]",
      "text/plain": [
       "<Figure size 1200x500 with 2 Axes>"
      ]
     },
     "metadata": {},
     "output_type": "display_data"
    }
   ],
   "source": [
    "# Define time and acceleration\n",
    "time = np.linspace(0, 10)\n",
    "acceleration = 0.6\n",
    "distance = 0.5 * acceleration * time**2\n",
    "speed = acceleration * time\n",
    "\n",
    "# Create a plot for distance and speed\n",
    "plt.figure(figsize=(12, 5))\n",
    "\n",
    "plt.subplot(1, 2, 1)\n",
    "plt.plot(time, distance, label='Distance = 0.5 * a * t^2', color='green')\n",
    "plt.xlabel('Time (seconds)')\n",
    "plt.ylabel('Distance (meters)')\n",
    "plt.title('Distance vs Time with Acceleration')\n",
    "plt.grid(True)\n",
    "plt.legend()\n",
    "\n",
    "plt.subplot(1, 2, 2)\n",
    "plt.plot(time, speed, label='Speed = a * Time', color='red')\n",
    "plt.xlabel('Time (seconds)')\n",
    "plt.ylabel('Speed (meters/second)')\n",
    "plt.title('Speed vs Time with Acceleration')\n",
    "plt.grid(True)\n",
    "plt.legend()\n",
    "\n",
    "plt.tight_layout()\n",
    "plt.show()"
   ]
  },
  {
   "cell_type": "markdown",
   "metadata": {},
   "source": [
    "#### Example 3: Optimizing Costs\n",
    "Consider a company’s cost function:\n",
    "\n",
    "$$f(x) = 0.2x^2 - 10x + 500$$\n",
    "\n",
    "where $x$ is the number of units produced.\n",
    "\n",
    "1. **Derivative of Cost Function:**\n",
    "\n",
    "$$f'(x) = 0.4x - 10$$\n",
    "\n",
    "2. **Finding Minimum Cost:** Set the derivative to zero to find the number of units that minimize cost:\n",
    "\n",
    "$$f'(x) = 0.4x - 10$$\n",
    "\n",
    "$$0 = 0.4x - 10$$\n",
    "\n",
    "$$x = \\frac{10}{0.4}$$\n",
    "\n",
    "$$= 25$$\n",
    "\n",
    "3. **Python Visualization:**"
   ]
  },
  {
   "cell_type": "code",
   "execution_count": 34,
   "metadata": {},
   "outputs": [
    {
     "data": {
      "image/png": "[encoded data removed]",
      "text/plain": [
       "<Figure size 800x500 with 1 Axes>"
      ]
     },
     "metadata": {},
     "output_type": "display_data"
    }
   ],
   "source": [
    "# Define units and cost function\n",
    "units = np.linspace(0, 50, 100)\n",
    "cost = 0.2 * units**2 - 10 * units + 500\n",
    "\n",
    "# Create a plot for cost\n",
    "plt.figure(figsize=(8, 5))\n",
    "plt.plot(units, cost, label='Cost = 0.2 * x^2 - 10 * x + 500', color='purple')\n",
    "\n",
    "# Add a point for the minimum cost\n",
    "min_cost_units = 25\n",
    "min_cost_value = 0.2 * min_cost_units**2 - 10 * min_cost_units + 500\n",
    "plt.scatter(min_cost_units, min_cost_value, color='red', zorder=5)\n",
    "plt.text(min_cost_units, min_cost_value + 20, f'Min Cost: {min_cost_value:.2f} at {min_cost_units:.2f} units',\n",
    "         horizontalalignment='center', color='red')\n",
    "\n",
    "plt.xlabel('Number of Units')\n",
    "plt.ylabel('Cost')\n",
    "plt.title('Cost vs Number of Units')\n",
    "plt.grid(True)\n",
    "plt.legend()\n",
    "plt.show()"
   ]
  },
  {
   "cell_type": "markdown",
   "metadata": {},
   "source": [
    "## Conclusion\n",
    "Derivatives are a powerful tool in calculus that help us understand how functions change. They are used in various applications such as calculating speeds, accelerations, and optimizing functions. By learning how to compute and interpret derivatives, you can solve many real-world problems related to rates of change and optimization."
   ]
  },
  {
   "cell_type": "markdown",
   "metadata": {},
   "source": [
    "## Additional Resources\n",
    "- [Khan Academy: Linear Algebra](https://www.khanacademy.org/math/linear-algebra)\n",
    "\n",
    "- [3Blue1Brown: Essence of Linear Algebra (YouTube Playlist)](https://www.youtube.com/playlist?list=PLZHQObOWTQDPD3MizzM2xVFitgF8hE_ab)\n",
    "\n",
    "- [MIT OpenCourseWare: Linear Algebra](https://ocw.mit.edu/courses/18-06-linear-algebra-spring-2010/)\n",
    "\n",
    "- [Khan Academy: Vectors and Spaces](https://www.khanacademy.org/math/linear-algebra/vectors-and-spaces)\n",
    "\n",
    "- [Khan Academy: Matrix Multiplication](https://www.khanacademy.org/math/precalculus/precalc-matrices/matrix-multiplication-precalc/v/matrix-multiplication-intro)\n",
    "\n",
    "- [Khan Academy: Introduction to Derivatives](https://www.khanacademy.org/math/calculus-1/cs1-derivatives-definition-and-basic-rules)\n",
    "\n",
    "- [Khan Academy: Derivatives and Slope of a Curve](https://www.khanacademy.org/math/differential-calculus/derivatives-1/dc-intro-tangent-slope/v/derivatives-and-tangent-line-problems)"
   ]
  }
 ],
 "metadata": {
  "kernelspec": {
   "display_name": "Python 3",
   "language": "python",
   "name": "python3"
  },
  "language_info": {
   "codemirror_mode": {
    "name": "ipython",
    "version": 3
   },
   "file_extension": ".py",
   "mimetype": "text/x-python",
   "name": "python",
   "nbconvert_exporter": "python",
   "pygments_lexer": "ipython3",
   "version": "3.12.1"
  }
 },
 "nbformat": 4,
 "nbformat_minor": 2
}
