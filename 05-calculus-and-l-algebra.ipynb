{
 "cells": [
  {
   "cell_type": "markdown",
   "metadata": {},
   "source": [
    "# 05 - Calculus and L. Algebra"
   ]
  },
  {
   "cell_type": "markdown",
   "metadata": {},
   "source": [
    "## What is Linear Algebra?\n",
    "**Linear Algebra** is the branch of mathematics concerning linear equations, linear functions, and their representations through matrices and vector spaces. Having a basic understanding and experience with linear algebra is important for handling and transforming data efficiently, as well as other applications of data science."
   ]
  },
  {
   "cell_type": "markdown",
   "metadata": {},
   "source": [
    "### Primary Entities of Linear Algebra\n",
    "In linear algebra, **vectors** and **matrices** are the fundamental entities that are used to represent and manipulate data."
   ]
  },
  {
   "cell_type": "markdown",
   "metadata": {},
   "source": [
    "## Vectors\n",
    "**Vector**: an ordered collection of numbers of a particular size and one-dimensional. A ventor can be represented as a row or column in a matrix.\n",
    "\n",
    "- **Notation**: Vectors are often denoted with boldface letters (e.g., $\\mathbf{v}$) or with an arrow on top (e.g., $\\vec{v}$).\n",
    "\n",
    "- **Components**: Each number in a vector is called a component. For example, in a 3-dimensional space, a vector $\\mathbf{v}$ might be represented as,\n",
    "\n",
    "$$\\mathbf{v} = \n",
    "\\begin{bmatrix}\n",
    "v_1 \\\\\n",
    "v_2 \\\\\n",
    "v_3\n",
    "\\end{bmatrix}$$\n",
    "\n",
    "- **Operations**: Common operations with vectors include addition, subtraction, scalar multiplication, and dot product.\n",
    "\n",
    "\n",
    "**Example**: Consider the vector, \n",
    "\n",
    "$$\\mathbf{v} = \n",
    "\\begin{bmatrix}\n",
    "3 \\\\\n",
    "4 \n",
    "\\end{bmatrix}$$\n",
    "\n",
    "In Python, a vector can be represented as a 1-dimensional `numpy` array. For example,\n"
   ]
  },
  {
   "cell_type": "code",
   "execution_count": 2,
   "metadata": {},
   "outputs": [
    {
     "name": "stdout",
     "output_type": "stream",
     "text": [
      "[3 4]\n"
     ]
    }
   ],
   "source": [
    "import numpy as np\n",
    "\n",
    "# Define the vector\n",
    "v = np.array([3, 4])\n",
    "print(v)"
   ]
  },
  {
   "cell_type": "markdown",
   "metadata": {},
   "source": [
    "Vectors can also be thought of as points in space or as quantities with both magnitude and direction. \n",
    "\n",
    "Our example, $\\mathbf{v} = [2, 3]$ can be visualized as a point in a 2-dimensional space with coordinates (2, 3)."
   ]
  },
  {
   "cell_type": "code",
   "execution_count": 3,
   "metadata": {},
   "outputs": [],
   "source": [
    "import matplotlib.pyplot as plt\n",
    "\n",
    "def plot_vector(vector):\n",
    "    # Create a figure and axis\n",
    "    fig, ax = plt.subplots()\n",
    "\n",
    "    # Add the vector to the plot\n",
    "    ax.quiver(0, 0, vector[0], vector[1], angles='xy', scale_units='xy', scale=1, color='r')\n",
    "\n",
    "    # Set the fixed limits for the plot\n",
    "    ax.set_xlim(-10, 10)\n",
    "    ax.set_ylim(-10, 10)\n",
    "\n",
    "    # Add grid, labels, and title\n",
    "    ax.grid(True)\n",
    "    ax.set_xlabel('X-axis')\n",
    "    ax.set_ylabel('Y-axis')\n",
    "    ax.set_title('Vector Plot')\n",
    "\n",
    "    # Add labels to the vector\n",
    "    ax.text(vector[0], vector[1], f'  ({vector[0]}, {vector[1]})', fontsize=12, color='red')\n",
    "\n",
    "    # Add axes lines\n",
    "    plt.axhline(0, color='black', linewidth=0.5)\n",
    "    plt.axvline(0, color='black', linewidth=0.5)\n",
    "\n",
    "    # Show the plot\n",
    "    plt.show()\n"
   ]
  },
  {
   "cell_type": "code",
   "execution_count": 4,
   "metadata": {},
   "outputs": [
    {
     "data": {
      "image/png": "[encoded data removed]",
      "text/plain": [
       "<Figure size 640x480 with 1 Axes>"
      ]
     },
     "metadata": {},
     "output_type": "display_data"
    }
   ],
   "source": [
    "# Plotting a vector\n",
    "plot_vector(vector=v)"
   ]
  },
  {
   "cell_type": "markdown",
   "metadata": {},
   "source": [
    "### Magnitude of a Vector\n",
    "The magnitude (or length) of a vector is a measure of its size or distance from the origin to the point defined by the vector. For a vector in $n$-dimensional space, the magnitude is calculated using the Euclidean norm. Here's how you can compute the magnitude of a vector:\n",
    "\n",
    "#### Formula for Magnitude\n",
    "For a vector $\\mathbf{v} = [v_1, v_2, ..., v_n]$ in $n$-dimensional space, the magnitude $||\\mathbf{v}||$ is given by:\n",
    "\n",
    "$$||\\mathbf{v}|| = \\sqrt{v_1^2 + v_2^2 + ... + v_n^2}$$\n",
    "\n",
    "##### Examples\n",
    "\n",
    "**Example**: For the vector $\\mathbf{v} = [3, 4]$:\n",
    "\n",
    "$$||\\mathbf{v}|| = \\sqrt{3^2 + 4^2} = \\sqrt{9 + 16} = \\sqrt{25} = 5$$\n",
    "\n",
    "You can compute the magnitude of a vector using `numpy` in Python:"
   ]
  },
  {
   "cell_type": "code",
   "execution_count": 5,
   "metadata": {},
   "outputs": [
    {
     "name": "stdout",
     "output_type": "stream",
     "text": [
      "The magnitude of the vector is 5.0\n"
     ]
    }
   ],
   "source": [
    "# Compute the magnitude\n",
    "magnitude = np.linalg.norm(v)\n",
    "print(f\"The magnitude of the vector is {magnitude}\")"
   ]
  },
  {
   "cell_type": "markdown",
   "metadata": {},
   "source": [
    "**Another Example**: For the vector $\\mathbf{v} = [1, 2, 2]$:\n",
    "\n",
    "$$||\\mathbf{v}|| = \\sqrt{1^2 + 2^2 + 2^2} = \\sqrt{1 + 4 + 4} = \\sqrt{9} = 3$$\n",
    "\n",
    "Using `numpy`:"
   ]
  },
  {
   "cell_type": "code",
   "execution_count": 6,
   "metadata": {},
   "outputs": [
    {
     "name": "stdout",
     "output_type": "stream",
     "text": [
      "The magnitude of the vector is 3.0\n"
     ]
    }
   ],
   "source": [
    "# Define the vector\n",
    "v = np.array([1, 2, 2])\n",
    "\n",
    "# Compute the magnitude\n",
    "magnitude = np.linalg.norm(v)\n",
    "print(f\"The magnitude of the vector is {magnitude}\")"
   ]
  },
  {
   "cell_type": "markdown",
   "metadata": {},
   "source": [
    "### Vector Operations"
   ]
  },
  {
   "cell_type": "markdown",
   "metadata": {},
   "source": [
    "#### Scalar Operations\n",
    "\n",
    "##### Scalar Addition\n",
    "- **Definition**: Adding a scalar $c$ to a vector $\\mathbf{v}$ means adding the scalar value to each component of the vector.\n",
    "\n",
    "$$\\mathbf{v} + c = \n",
    "\\begin{bmatrix}\n",
    "v_1 \\\\\n",
    "v_2 \\\\\n",
    "... \\\\\n",
    "v_n\n",
    "\\end{bmatrix} + c = \n",
    "\\begin{bmatrix}\n",
    "v_1 + c \\\\\n",
    "v_2 + c \\\\\n",
    "... \\\\\n",
    "v_n + c\n",
    "\\end{bmatrix}$$\n",
    "\n",
    "- **Example**: Given $\\mathbf{v} = [2, 2, 2]$ and $c = 1$,\n",
    "\n",
    "$$\\mathbf{v} + c = \n",
    "\\begin{bmatrix}\n",
    "2 \\\\\n",
    "2 \\\\\n",
    "2\n",
    "\\end{bmatrix} + 1 = \n",
    "\\begin{bmatrix}\n",
    "2 + 1 \\\\\n",
    "2 + 1 \\\\\n",
    "2 + 1\n",
    "\\end{bmatrix} =\n",
    "\\begin{bmatrix}\n",
    "3 \\\\\n",
    "3 \\\\\n",
    "3\n",
    "\\end{bmatrix}$$\n",
    "\n",
    "We can validate this using `numpy`,"
   ]
  },
  {
   "cell_type": "code",
   "execution_count": 7,
   "metadata": {},
   "outputs": [
    {
     "name": "stdout",
     "output_type": "stream",
     "text": [
      "Scalar Addition: [3 3 3]\n"
     ]
    }
   ],
   "source": [
    "# Define the vector and scalar\n",
    "v = np.array([2, 2, 2])\n",
    "c = 1\n",
    "\n",
    "# Perform scalar addition\n",
    "scalar_addition = v + c\n",
    "\n",
    "# Output result\n",
    "print(f\"Scalar Addition: {scalar_addition}\")"
   ]
  },
  {
   "cell_type": "markdown",
   "metadata": {},
   "source": [
    "##### Scalar Subtraction\n",
    "- **Definition**: Subtracting a scalar $c$ from a $\\mathbf{v}$ vector means subtracting the scalar value from each component of the vector.\n",
    "\n",
    "$$\\mathbf{v} - c = \n",
    "\\begin{bmatrix}\n",
    "v_1 \\\\\n",
    "v_2 \\\\\n",
    "... \\\\\n",
    "v_n\n",
    "\\end{bmatrix} - c = \n",
    "\\begin{bmatrix}\n",
    "v_1 - c \\\\\n",
    "v_2 - c \\\\\n",
    "... \\\\\n",
    "v_n - c\n",
    "\\end{bmatrix}$$\n",
    "\n",
    "- **Example**: Given $\\mathbf{v} = [5, 5, 5]$ and $c = 2$,\n",
    "\n",
    "$$\\mathbf{v} - c = \n",
    "\\begin{bmatrix}\n",
    "5 \\\\\n",
    "5 \\\\\n",
    "5\n",
    "\\end{bmatrix} - 2 = \n",
    "\\begin{bmatrix}\n",
    "5 - 2 \\\\\n",
    "5 - 2 \\\\\n",
    "5 - 2\n",
    "\\end{bmatrix} =\n",
    "\\begin{bmatrix}\n",
    "3 \\\\\n",
    "3 \\\\\n",
    "3\n",
    "\\end{bmatrix}$$\n",
    "\n",
    "Validating using `numpy`,"
   ]
  },
  {
   "cell_type": "code",
   "execution_count": 8,
   "metadata": {},
   "outputs": [
    {
     "name": "stdout",
     "output_type": "stream",
     "text": [
      "Scalar Subtraction: [3 3 3]\n"
     ]
    }
   ],
   "source": [
    "# Define the vector and scalar\n",
    "v = np.array([5, 5, 5])\n",
    "c = 2\n",
    "\n",
    "# Perform scalar subtraction\n",
    "scalar_subtraction = v - c\n",
    "\n",
    "# Output result\n",
    "print(f\"Scalar Subtraction: {scalar_subtraction}\")"
   ]
  },
  {
   "cell_type": "markdown",
   "metadata": {},
   "source": [
    "##### Scalar Multiplication\n",
    "- **Definition**: Multiplying a vector $\\mathbf{v}$ vector by a scalar $c$ means multiplying each component of the vector by the scalar.\n",
    "\n",
    "$$\\mathbf{v} \\times c = \n",
    "\\begin{bmatrix}\n",
    "v_1 \\\\\n",
    "v_2 \\\\\n",
    "... \\\\\n",
    "v_n\n",
    "\\end{bmatrix} \\times c = \n",
    "\\begin{bmatrix}\n",
    "v_1 \\times c \\\\\n",
    "v_2 \\times c \\\\\n",
    "... \\\\\n",
    "v_n \\times c\n",
    "\\end{bmatrix}$$\n",
    "\n",
    "- **Example**: Given $\\mathbf{v} = [1, 2, 3]$ and $c = 3$,\n",
    "\n",
    "$$\\mathbf{v} \\times c = \n",
    "\\begin{bmatrix}\n",
    "1 \\\\\n",
    "2 \\\\\n",
    "3\n",
    "\\end{bmatrix} \\times 3 = \n",
    "\\begin{bmatrix}\n",
    "1 \\times 3 \\\\\n",
    "2 \\times 3 \\\\\n",
    "3 \\times 3\n",
    "\\end{bmatrix} =\n",
    "\\begin{bmatrix}\n",
    "3 \\\\\n",
    "6 \\\\\n",
    "9\n",
    "\\end{bmatrix}$$\n",
    "\n",
    "Validating using `numpy`,"
   ]
  },
  {
   "cell_type": "code",
   "execution_count": 9,
   "metadata": {},
   "outputs": [
    {
     "name": "stdout",
     "output_type": "stream",
     "text": [
      "Scalar Multiplication: [3 6 9]\n"
     ]
    }
   ],
   "source": [
    "# Define the vector and scalar\n",
    "v = np.array([1, 2, 3])\n",
    "c = 3\n",
    "\n",
    "# Perform scalar multiplication\n",
    "scalar_multiplication = v * c\n",
    "\n",
    "# Output result\n",
    "print(f\"Scalar Multiplication: {scalar_multiplication}\")"
   ]
  },
  {
   "cell_type": "markdown",
   "metadata": {},
   "source": [
    "##### Scalar Division\n",
    "- **Definition**: Dividing a vector $\\mathbf{v}$ by a scalar $c$ (assuming $c \\neq 0$) means dividing each component of the vector by the scalar.\n",
    "\n",
    "$$\\mathbf{v} \\div c = \n",
    "\\begin{bmatrix}\n",
    "v_1 \\\\\n",
    "v_2 \\\\\n",
    "... \\\\\n",
    "v_n\n",
    "\\end{bmatrix} \\div c = \n",
    "\\begin{bmatrix}\n",
    "v_1 \\div c \\\\\n",
    "v_2 \\div c \\\\\n",
    "... \\\\\n",
    "v_n \\div c\n",
    "\\end{bmatrix}$$\n",
    "\n",
    "- **Example**: Given $\\mathbf{v} = [8, 12, 16]$ and $c = 4$,\n",
    "\n",
    "$$\\mathbf{v} \\div c = \n",
    "\\begin{bmatrix}\n",
    "8 \\\\\n",
    "12 \\\\\n",
    "16\n",
    "\\end{bmatrix} \\div 4 = \n",
    "\\begin{bmatrix}\n",
    "8 \\div 4 \\\\\n",
    "12 \\div 4 \\\\\n",
    "16 \\div 4\n",
    "\\end{bmatrix} =\n",
    "\\begin{bmatrix}\n",
    "2 \\\\\n",
    "3 \\\\\n",
    "4\n",
    "\\end{bmatrix}$$\n",
    "\n",
    "Validating using `numpy`,"
   ]
  },
  {
   "cell_type": "code",
   "execution_count": 10,
   "metadata": {},
   "outputs": [
    {
     "name": "stdout",
     "output_type": "stream",
     "text": [
      "Scalar Division: [2. 3. 4.]\n"
     ]
    }
   ],
   "source": [
    "# Define the vector and scalar\n",
    "v = np.array([8, 12, 16])\n",
    "c = 4\n",
    "\n",
    "# Perform scalar division\n",
    "scalar_division = v / c\n",
    "\n",
    "# Output result\n",
    "print(f\"Scalar Division: {scalar_division}\")"
   ]
  },
  {
   "cell_type": "markdown",
   "metadata": {},
   "source": [
    "#### Vector Operations\n",
    "\n",
    "##### Vector Addition\n",
    "- **Definition**: Adding two vectors $\\mathbf{u}$ and $\\mathbf{v}$ involves adding their corresponding components.\n",
    "\n",
    "$$\\mathbf{u} + \\mathbf{v} = \n",
    "\\begin{bmatrix}\n",
    "u_1 \\\\\n",
    "u_2 \\\\\n",
    "... \\\\\n",
    "u_n\n",
    "\\end{bmatrix} +\n",
    "\\begin{bmatrix}\n",
    "v_1 \\\\\n",
    "v_2 \\\\\n",
    "... \\\\\n",
    "v_n\n",
    "\\end{bmatrix} = \n",
    "\\begin{bmatrix}\n",
    "u_1 + v_1 \\\\\n",
    "u_2 + v_2 \\\\\n",
    "... \\\\\n",
    "u_n + v_n\n",
    "\\end{bmatrix}$$\n",
    "\n",
    "- **Example**: Given $\\mathbf{u} = [1, 2, 3]$ and $\\mathbf{v} = [4, 5, 6]$,\n",
    "\n",
    "$$\\mathbf{u} + \\mathbf{v} = \n",
    "\\begin{bmatrix}\n",
    "1 \\\\\n",
    "2 \\\\\n",
    "3\n",
    "\\end{bmatrix} +\n",
    "\\begin{bmatrix}\n",
    "4 \\\\\n",
    "5 \\\\\n",
    "6\n",
    "\\end{bmatrix} = \n",
    "\\begin{bmatrix}\n",
    "1 + 4 \\\\\n",
    "2 + 5 \\\\\n",
    "3 + 6\n",
    "\\end{bmatrix} = \n",
    "\\begin{bmatrix}\n",
    "5 \\\\\n",
    "7 \\\\\n",
    "9\n",
    "\\end{bmatrix}$$\n",
    "\n",
    "Validating using `numpy`,"
   ]
  },
  {
   "cell_type": "code",
   "execution_count": 11,
   "metadata": {},
   "outputs": [
    {
     "name": "stdout",
     "output_type": "stream",
     "text": [
      "Vector Addition: [5 7 9]\n"
     ]
    }
   ],
   "source": [
    "# Define the vectors\n",
    "u = np.array([1, 2, 3])\n",
    "v = np.array([4, 5, 6])\n",
    "\n",
    "# Perform vector addition\n",
    "vector_addition = u + v\n",
    "\n",
    "# Output result\n",
    "print(f\"Vector Addition: {vector_addition}\")"
   ]
  },
  {
   "cell_type": "markdown",
   "metadata": {},
   "source": [
    "##### Vector Subtraction\n",
    "- **Definition**: Subtracting vector $\\mathbf{v}$ from vector $\\mathbf{u}$ involves subtracting the corresponding components.\n",
    "\n",
    "$$\\mathbf{u} - \\mathbf{v} = \n",
    "\\begin{bmatrix}\n",
    "u_1 \\\\\n",
    "u_2 \\\\\n",
    "... \\\\\n",
    "u_n\n",
    "\\end{bmatrix} -\n",
    "\\begin{bmatrix}\n",
    "v_1 \\\\\n",
    "v_2 \\\\\n",
    "... \\\\\n",
    "v_n\n",
    "\\end{bmatrix} = \n",
    "\\begin{bmatrix}\n",
    "u_1 - v_1 \\\\\n",
    "u_2 - v_2 \\\\\n",
    "... \\\\\n",
    "u_n - v_n\n",
    "\\end{bmatrix}$$\n",
    "\n",
    "- **Example**: Given $\\mathbf{u} = [7, 8, 9]$ and $\\mathbf{v} = [1, 2, 3]$,\n",
    "\n",
    "$$\\mathbf{u} - \\mathbf{v} = \n",
    "\\begin{bmatrix}\n",
    "7 \\\\\n",
    "8 \\\\\n",
    "9\n",
    "\\end{bmatrix} -\n",
    "\\begin{bmatrix}\n",
    "1 \\\\\n",
    "2 \\\\\n",
    "3\n",
    "\\end{bmatrix} = \n",
    "\\begin{bmatrix}\n",
    "7 - 1 \\\\\n",
    "8 - 2 \\\\\n",
    "9 - 3\n",
    "\\end{bmatrix} = \n",
    "\\begin{bmatrix}\n",
    "6 \\\\\n",
    "6 \\\\\n",
    "6\n",
    "\\end{bmatrix}$$\n",
    "\n",
    "Validating using `numpy`,"
   ]
  },
  {
   "cell_type": "code",
   "execution_count": 12,
   "metadata": {},
   "outputs": [
    {
     "name": "stdout",
     "output_type": "stream",
     "text": [
      "Vector Subtraction: [6 6 6]\n"
     ]
    }
   ],
   "source": [
    "# Define the vectors\n",
    "u = np.array([7, 8, 9])\n",
    "v = np.array([1, 2, 3])\n",
    "\n",
    "# Perform vector subtraction\n",
    "vector_subtraction = u - v\n",
    "\n",
    "# Output result\n",
    "print(f\"Vector Subtraction: {vector_subtraction}\")"
   ]
  },
  {
   "cell_type": "markdown",
   "metadata": {},
   "source": [
    "##### Vector Multiplication\n",
    "There are two types of vector multiplication: **Element-wise Multiplication** (Hadamard product) and **Dot Product**.\n",
    "\n",
    "1. **Element-wise Multiplication** (Hadamard product)\n",
    "\n",
    "    - **Definition**: Multiplying a vector $\\mathbf{u}$ vector by a vector $\\mathbf{v}$ means multiplying the corresponding components.\n",
    "\n",
    "    $$\\mathbf{u} \\times \\mathbf{v} = \n",
    "    \\begin{bmatrix}\n",
    "    u_1 \\\\\n",
    "    u_2 \\\\\n",
    "    ... \\\\\n",
    "    u_n\n",
    "    \\end{bmatrix} \\times\n",
    "    \\begin{bmatrix}\n",
    "    v_1 \\\\\n",
    "    v_2 \\\\\n",
    "    ... \\\\\n",
    "    v_n\n",
    "    \\end{bmatrix} = \n",
    "    \\begin{bmatrix}\n",
    "    u_1 \\times v_1 \\\\\n",
    "    u_2 \\times v_2 \\\\\n",
    "    ... \\\\\n",
    "    u_n \\times v_n\n",
    "    \\end{bmatrix}$$\n",
    "\n",
    "    - **Example**: Given $\\mathbf{u} = [1, 2, 3]$ and $\\mathbf{v} = [4, 5, 6]$,\n",
    "\n",
    "    $$\\mathbf{u} \\times \\mathbf{v} = \n",
    "    \\begin{bmatrix}\n",
    "    1 \\\\\n",
    "    2 \\\\\n",
    "    3\n",
    "    \\end{bmatrix} \\times\n",
    "    \\begin{bmatrix}\n",
    "    4 \\\\\n",
    "    5 \\\\\n",
    "    6\n",
    "    \\end{bmatrix} = \n",
    "    \\begin{bmatrix}\n",
    "    1 \\times 4 \\\\\n",
    "    2 \\times 5 \\\\\n",
    "    3 \\times 6\n",
    "    \\end{bmatrix} = \n",
    "    \\begin{bmatrix}\n",
    "    4 \\\\\n",
    "    10 \\\\\n",
    "    18\n",
    "    \\end{bmatrix}$$\n",
    "\n",
    "Validating using `numpy`,"
   ]
  },
  {
   "cell_type": "code",
   "execution_count": 13,
   "metadata": {},
   "outputs": [
    {
     "name": "stdout",
     "output_type": "stream",
     "text": [
      "[ 4 10 18]\n"
     ]
    }
   ],
   "source": [
    "# Define the vectors\n",
    "u = np.array([1, 2, 3])\n",
    "v = np.array([4, 5, 6])\n",
    "\n",
    "result = u * v  # Element-wise multiplication\n",
    "print(result)"
   ]
  },
  {
   "cell_type": "markdown",
   "metadata": {},
   "source": [
    "2. **Dot Product**\n",
    "\n",
    "    - **Definition**: The dot product of two vectors $\\mathbf{u}$ and $\\mathbf{v}$ is the sum of the products of their corresponding components. The dot product of two vectors is a scalar.\n",
    "\n",
    "    $$\\mathbf{u} \\cdot \\mathbf{v} = \n",
    "    \\begin{bmatrix}\n",
    "    u_1 \\\\\n",
    "    u_2 \\\\\n",
    "    ... \\\\\n",
    "    u_n\n",
    "    \\end{bmatrix} \\cdot\n",
    "    \\begin{bmatrix}\n",
    "    v_1 \\\\\n",
    "    v_2 \\\\\n",
    "    ... \\\\\n",
    "    v_n\n",
    "    \\end{bmatrix} = \n",
    "    u_1v_1 + u_2v_2$$\n",
    "\n",
    "    - **Example**: Given $\\mathbf{u} = [1, 2, 3]$ and $\\mathbf{v} = [4, 5, 6]$,\n",
    "\n",
    "    $$\\mathbf{u} \\cdot \\mathbf{v} = \n",
    "    \\begin{bmatrix}\n",
    "    1 \\\\\n",
    "    2 \\\\\n",
    "    3\n",
    "    \\end{bmatrix} \\cdot\n",
    "    \\begin{bmatrix}\n",
    "    4 \\\\\n",
    "    5 \\\\\n",
    "    6\n",
    "    \\end{bmatrix} = \n",
    "    (1 \\times 4) + (2 \\times 5) + (3 \\times 6) =\n",
    "    4 + 10 + 18 =\n",
    "    32$$\n",
    "\n",
    "Validating using `numpy`,"
   ]
  },
  {
   "cell_type": "code",
   "execution_count": 14,
   "metadata": {},
   "outputs": [
    {
     "name": "stdout",
     "output_type": "stream",
     "text": [
      "Dot Product: 32\n"
     ]
    }
   ],
   "source": [
    "# Define the vectors\n",
    "u = np.array([1, 2, 3])\n",
    "v = np.array([4, 5, 6])\n",
    "\n",
    "# Compute dot product\n",
    "dot_product = np.dot(u, v)\n",
    "\n",
    "# Output result\n",
    "print(f\"Dot Product: {dot_product}\")"
   ]
  },
  {
   "cell_type": "markdown",
   "metadata": {},
   "source": [
    "#### Vector Division\n",
    "- **Definition**: Dividing vector $\\mathbf{u}$ by vector $\\mathbf{v}$ involves dividing the corresponding components.\n",
    "\n",
    "$$\\mathbf{u} \\div \\mathbf{v} = \n",
    "\\begin{bmatrix}\n",
    "u_1 \\\\\n",
    "u_2 \\\\\n",
    "... \\\\\n",
    "u_n\n",
    "\\end{bmatrix} \\div\n",
    "\\begin{bmatrix}\n",
    "v_1 \\\\\n",
    "v_2 \\\\\n",
    "... \\\\\n",
    "v_n\n",
    "\\end{bmatrix} = \n",
    "\\begin{bmatrix}\n",
    "u_1 \\div v_1 \\\\\n",
    "u_2 \\div v_2 \\\\\n",
    "... \\\\\n",
    "u_n \\div v_n\n",
    "\\end{bmatrix}$$\n",
    "\n",
    "- **Example**: Given $\\mathbf{u} = [2, 4, 6]$ and $\\mathbf{v} = [1, 2, 3]$,\n",
    "\n",
    "$$\\mathbf{u} \\div \\mathbf{v} = \n",
    "\\begin{bmatrix}\n",
    "2 \\\\\n",
    "4 \\\\\n",
    "6\n",
    "\\end{bmatrix} \\div\n",
    "\\begin{bmatrix}\n",
    "1 \\\\\n",
    "2 \\\\\n",
    "3\n",
    "\\end{bmatrix} = \n",
    "\\begin{bmatrix}\n",
    "2 \\div 1 \\\\\n",
    "4 \\div 2 \\\\\n",
    "6 \\div 3\n",
    "\\end{bmatrix} = \n",
    "\\begin{bmatrix}\n",
    "2 \\\\\n",
    "2 \\\\\n",
    "2\n",
    "\\end{bmatrix}$$\n",
    "\n",
    "Validating using `numpy`,"
   ]
  },
  {
   "cell_type": "code",
   "execution_count": 15,
   "metadata": {},
   "outputs": [
    {
     "name": "stdout",
     "output_type": "stream",
     "text": [
      "[2. 2. 2.]\n"
     ]
    }
   ],
   "source": [
    "u = np.array([2, 4, 6])\n",
    "v = np.array([1, 2, 3])\n",
    "\n",
    "result = u / v  # Element-wise division\n",
    "print(result)"
   ]
  },
  {
   "cell_type": "markdown",
   "metadata": {},
   "source": [
    "## Matrices\n",
    "**Matrix**: a rectangular array of numbers arranged in rows and columns. Matrices are used to represent linear transformations and can be thought of as a collection of vectors.\n",
    "\n",
    "- **Notation**: Matrices are often denoted with boldface uppercase letters (e.g., $\\mathbf{A}$).\n",
    "\n",
    "- **Dimensions**: The size of a matrix is described by the number of rows and columns it contains. For example, a matrix with 2 rows and 3 columns is referred to as a 2x3 matrix.\n",
    "\n",
    "- **Operations**: Common operations with matrices include addition, multiplication, and finding determinants. Matrices can also be used to solve systems of linear equations.\n",
    "\n",
    "**Example**: Consider the matrix, \n",
    "\n",
    "$$\\mathbf{A} = \n",
    "\\begin{bmatrix}\n",
    "1 & 2 \\\\\n",
    "3 & 4\n",
    "\\end{bmatrix}$$\n",
    "\n",
    "In Python, a matric can be represented as a n-dimensional `numpy` array. For example,"
   ]
  },
  {
   "cell_type": "code",
   "execution_count": 16,
   "metadata": {},
   "outputs": [
    {
     "name": "stdout",
     "output_type": "stream",
     "text": [
      "Matrix A:\n",
      "[[1 2]\n",
      " [3 4]]\n"
     ]
    }
   ],
   "source": [
    "# Define matrix A\n",
    "A = np.array([[1, 2],\n",
    "              [3, 4]])\n",
    "\n",
    "# Print the matrix\n",
    "print(\"Matrix A:\")\n",
    "print(A)"
   ]
  },
  {
   "cell_type": "markdown",
   "metadata": {},
   "source": [
    "This is a 2x2 matrix where each entry represents a number in the array. We can validate the dimensions using `np.shape()`."
   ]
  },
  {
   "cell_type": "code",
   "execution_count": 17,
   "metadata": {},
   "outputs": [
    {
     "name": "stdout",
     "output_type": "stream",
     "text": [
      "(2, 2)\n"
     ]
    }
   ],
   "source": [
    "# Get the dimensions\n",
    "print(np.shape(A))"
   ]
  },
  {
   "cell_type": "markdown",
   "metadata": {},
   "source": [
    "### Scalar Operations\n",
    "\n",
    "#### Scalar Addition\n",
    "- **Definition**: Adding a scalar $c$ to a matrix $\\mathbf{A}$ means adding the scalar value to each element of the matrix.\n",
    "\n",
    "$$\\mathbf{A} + c = \n",
    "\\begin{bmatrix}\n",
    "a_{11} & a_{12} & ... & a_{1n} \\\\\n",
    "a_{21} & a_{22} & ... & a_{2n} \\\\\n",
    "... & ... & ... & ... \\\\\n",
    "a_{m1} & a_{m2} & ... & a_{mn}\n",
    "\\end{bmatrix} + c =\n",
    "\\begin{bmatrix}\n",
    "a_{11} + c & a_{12} + c & ... & a_{1n} + c \\\\\n",
    "a_{21} + c & a_{22} + c & ... & a_{2n} + c \\\\\n",
    "... & ... & ... & ... \\\\\n",
    "a_{m1} + c & a_{m2} + c & ... & a_{mn} + c\n",
    "\\end{bmatrix}$$\n",
    "\n",
    "- **Example**: Given matrix $\\mathbf{A}$ and scalar $c = 2$:\n",
    "\n",
    "$$\\mathbf{A} =\n",
    "\\begin{bmatrix}\n",
    "1 & 2  \\\\\n",
    "3 & 4 \\\\\n",
    "\\end{bmatrix},\n",
    "~~~\n",
    "c = 2\n",
    "$$\n",
    "\n",
    "$$\\mathbf{A} + c = \n",
    "\\begin{bmatrix}\n",
    "1 & 2  \\\\\n",
    "3 & 4 \\\\\n",
    "\\end{bmatrix} + 2 =\n",
    "\\begin{bmatrix}\n",
    "1 + 2 & 2 + 2  \\\\\n",
    "3 + 2 & 4 + 2 \\\\\n",
    "\\end{bmatrix} =\n",
    "\\begin{bmatrix}\n",
    "3 & 4  \\\\\n",
    "5 & 6 \\\\\n",
    "\\end{bmatrix}$$\n",
    "\n",
    "Validating using `numpy`,"
   ]
  },
  {
   "cell_type": "code",
   "execution_count": 18,
   "metadata": {},
   "outputs": [
    {
     "name": "stdout",
     "output_type": "stream",
     "text": [
      "Scalar Addition:\n",
      " [[3 4]\n",
      " [5 6]]\n"
     ]
    }
   ],
   "source": [
    "# Define matrix A and scalar c\n",
    "A = np.array([[1, 2], [3, 4]])\n",
    "c = 2\n",
    "\n",
    "# Perform scalar addition\n",
    "scalar_addition = A + c\n",
    "\n",
    "# Output result\n",
    "print(\"Scalar Addition:\\n\", scalar_addition)"
   ]
  },
  {
   "cell_type": "markdown",
   "metadata": {},
   "source": [
    "#### Scalar Subtraction\n",
    "- **Definition**: Adding a scalar $c$ from a matrix $\\mathbf{A}$ means subtracting the scalar value from each element of the matrix.\n",
    "\n",
    "$$\\mathbf{A} - c = \n",
    "\\begin{bmatrix}\n",
    "a_{11} & a_{12} & ... & a_{1n} \\\\\n",
    "a_{21} & a_{22} & ... & a_{2n} \\\\\n",
    "... & ... & ... & ... \\\\\n",
    "a_{m1} & a_{m2} & ... & a_{mn}\n",
    "\\end{bmatrix} - c =\n",
    "\\begin{bmatrix}\n",
    "a_{11} - c & a_{12} - c & ... & a_{1n} - c \\\\\n",
    "a_{21} - c & a_{22} - c & ... & a_{2n} - c \\\\\n",
    "... & ... & ... & ... \\\\\n",
    "a_{m1} - c & a_{m2} - c & ... & a_{mn} - c\n",
    "\\end{bmatrix}$$\n",
    "\n",
    "- **Example**: Given matrix $\\mathbf{A}$ and scalar $c = 1$:\n",
    "\n",
    "$$\\mathbf{A} =\n",
    "\\begin{bmatrix}\n",
    "4 & 5  \\\\\n",
    "6 & 7 \\\\\n",
    "\\end{bmatrix},\n",
    "~~~\n",
    "c = 1\n",
    "$$\n",
    "\n",
    "$$\\mathbf{A} - c = \n",
    "\\begin{bmatrix}\n",
    "4 & 5  \\\\\n",
    "6 & 7 \\\\\n",
    "\\end{bmatrix} - 1 =\n",
    "\\begin{bmatrix}\n",
    "4 - 1 & 5 - 1  \\\\\n",
    "6 - 1 & 7 - 1 \\\\\n",
    "\\end{bmatrix} =\n",
    "\\begin{bmatrix}\n",
    "3 & 4  \\\\\n",
    "5 & 6 \\\\\n",
    "\\end{bmatrix}$$\n",
    "\n",
    "Validating using `numpy`,"
   ]
  },
  {
   "cell_type": "code",
   "execution_count": 19,
   "metadata": {},
   "outputs": [
    {
     "name": "stdout",
     "output_type": "stream",
     "text": [
      "Scalar Subtraction:\n",
      " [[3 4]\n",
      " [5 6]]\n"
     ]
    }
   ],
   "source": [
    "# Define matrix A and scalar c\n",
    "A = np.array([[4, 5], [6, 7]])\n",
    "c = 1\n",
    "\n",
    "# Perform scalar subtraction\n",
    "scalar_subtraction = A - c\n",
    "\n",
    "# Output result\n",
    "print(\"Scalar Subtraction:\\n\", scalar_subtraction)"
   ]
  },
  {
   "cell_type": "markdown",
   "metadata": {},
   "source": [
    "#### Scalar Multiplication\n",
    "- **Definition**: Multiplying a matrix $\\mathbf{A}$ by a scalar $c$ means multiplying each element of the matrix by the scalar.\n",
    "\n",
    "$$c\\mathbf{A} = \n",
    "c\\begin{bmatrix}\n",
    "a_{11} & a_{12} & ... & a_{1n} \\\\\n",
    "a_{21} & a_{22} & ... & a_{2n} \\\\\n",
    "... & ... & ... & ... \\\\\n",
    "a_{m1} & a_{m2} & ... & a_{mn}\n",
    "\\end{bmatrix} =\n",
    "\\begin{bmatrix}\n",
    "a_{11} \\times c & a_{12} \\times c & ... & a_{1n} \\times c \\\\\n",
    "a_{21} \\times c & a_{22} \\times c & ... & a_{2n} \\times c \\\\\n",
    "... & ... & ... & ... \\\\\n",
    "a_{m1} \\times c & a_{m2} \\times c & ... & a_{mn} \\times c\n",
    "\\end{bmatrix}$$\n",
    "\n",
    "- **Example**: Given matrix $\\mathbf{A}$ and scalar $c = 3$:\n",
    "\n",
    "$$\\mathbf{A} =\n",
    "\\begin{bmatrix}\n",
    "1 & 2  \\\\\n",
    "3 & 4 \\\\\n",
    "\\end{bmatrix},\n",
    "~~~\n",
    "c = 3\n",
    "$$\n",
    "\n",
    "$$c\\mathbf{A}= \n",
    "3\\begin{bmatrix}\n",
    "1 & 2  \\\\\n",
    "3 & 4 \\\\\n",
    "\\end{bmatrix} =\n",
    "\\begin{bmatrix}\n",
    "1 \\times 3 & 2 \\times 3  \\\\\n",
    "3 \\times 3 & 4 \\times 3 \\\\\n",
    "\\end{bmatrix} =\n",
    "\\begin{bmatrix}\n",
    "3 & 6  \\\\\n",
    "9 & 12 \\\\\n",
    "\\end{bmatrix}$$\n",
    "\n",
    "Validating using `numpy`,"
   ]
  },
  {
   "cell_type": "code",
   "execution_count": 20,
   "metadata": {},
   "outputs": [
    {
     "name": "stdout",
     "output_type": "stream",
     "text": [
      "Scalar Multiplication:\n",
      " [[ 3  6]\n",
      " [ 9 12]]\n"
     ]
    }
   ],
   "source": [
    "# Define matrix A and scalar c\n",
    "A = np.array([[1, 2], [3, 4]])\n",
    "c = 3\n",
    "\n",
    "# Perform scalar multiplication\n",
    "scalar_multiplication = c * A\n",
    "\n",
    "# Output result\n",
    "print(\"Scalar Multiplication:\\n\", scalar_multiplication)"
   ]
  },
  {
   "cell_type": "markdown",
   "metadata": {},
   "source": [
    "#### Scalar Division\n",
    "- **Definition**: Dividing a matrix $\\mathbf{A}$ by a scalar $c$ means dividing each element of the matrix by the scalar.\n",
    "\n",
    "$$\\mathbf{A} \\div c = \n",
    "\\begin{bmatrix}\n",
    "a_{11} & a_{12} & ... & a_{1n} \\\\\n",
    "a_{21} & a_{22} & ... & a_{2n} \\\\\n",
    "... & ... & ... & ... \\\\\n",
    "a_{m1} & a_{m2} & ... & a_{mn}\n",
    "\\end{bmatrix} \\div c=\n",
    "\\begin{bmatrix}\n",
    "a_{11} \\div c & a_{12} \\div c & ... & a_{1n} \\div c \\\\\n",
    "a_{21} \\div c & a_{22} \\div c & ... & a_{2n} \\div c \\\\\n",
    "... & ... & ... & ... \\\\\n",
    "a_{m1} \\div c & a_{m2} \\div c & ... & a_{mn} \\div c\n",
    "\\end{bmatrix}$$\n",
    "\n",
    "- **Example**: Given matrix $\\mathbf{A}$ and scalar $c = 2$:\n",
    "\n",
    "$$\\mathbf{A} =\n",
    "\\begin{bmatrix}\n",
    "8 & 4  \\\\\n",
    "2 & 6 \\\\\n",
    "\\end{bmatrix},\n",
    "~~~\n",
    "c = 2\n",
    "$$\n",
    "\n",
    "$$\\mathbf{A} \\div c= \n",
    "\\begin{bmatrix}\n",
    "8 & 4  \\\\\n",
    "2 & 6 \\\\\n",
    "\\end{bmatrix} \\div 2 =\n",
    "\\begin{bmatrix}\n",
    "8 \\div 2 & 4 \\div 2  \\\\\n",
    "2 \\div 2 & 6 \\div 2 \\\\\n",
    "\\end{bmatrix} =\n",
    "\\begin{bmatrix}\n",
    "4 & 2  \\\\\n",
    "1 & 3 \\\\\n",
    "\\end{bmatrix}$$\n",
    "\n",
    "Validating using `numpy`,"
   ]
  },
  {
   "cell_type": "code",
   "execution_count": 21,
   "metadata": {},
   "outputs": [
    {
     "name": "stdout",
     "output_type": "stream",
     "text": [
      "Scalar Division:\n",
      " [[4. 2.]\n",
      " [1. 3.]]\n"
     ]
    }
   ],
   "source": [
    "# Define matrix A and scalar c\n",
    "A = np.array([[8, 4], [2, 6]])\n",
    "c = 2\n",
    "\n",
    "# Perform scalar division\n",
    "scalar_division = A / c\n",
    "\n",
    "# Output result\n",
    "print(\"Scalar Division:\\n\", scalar_division)"
   ]
  },
  {
   "cell_type": "markdown",
   "metadata": {},
   "source": [
    "#### Matrix Operations\n",
    "\n",
    "##### Matrix Addition\n",
    "- **Definition**: Adding two matrices $\\mathbf{A}$ and $\\mathbf{B}$ involves adding their corresponding elements. Matrices must have the same dimensions to perform addition.\n",
    "\n",
    "$$\\mathbf{A} + \\mathbf{B} = \n",
    "\\begin{bmatrix}\n",
    "a_{11} & a_{12} & ... & a_{1n} \\\\\n",
    "a_{21} & a_{22} & ... & a_{2n} \\\\\n",
    "... & ... & ... & ... \\\\\n",
    "a_{m1} & a_{m2} & ... & a_{mn}\n",
    "\\end{bmatrix} + \n",
    "\\begin{bmatrix}\n",
    "b_{11} & b_{12} & ... & b_{1n} \\\\\n",
    "b_{21} & b_{22} & ... & b_{2n} \\\\\n",
    "... & ... & ... & ... \\\\\n",
    "b_{m1} & b_{m2} & ... & b_{mn}\n",
    "\\end{bmatrix} =\n",
    "\\begin{bmatrix}\n",
    "a_{11} + b_{11} & a_{12} + b_{12} & ... & a_{1n} + b_{1n} \\\\\n",
    "a_{21} + b_{21} & a_{22} + b_{22} & ... & a_{2n} + b_{2n} \\\\\n",
    "... & ... & ... & ... \\\\\n",
    "a_{m1} + b_{m1} & a_{m2} + b_{m2} & ... & a_{mn} + b_{mn}\n",
    "\\end{bmatrix}$$\n",
    "\n",
    "- **Example**: Given matrices $\\mathbf{A}$ and $\\mathbf{B}$:\n",
    "\n",
    "$$\\mathbf{A} =\n",
    "\\begin{bmatrix}\n",
    "1 & 2  \\\\\n",
    "3 & 4 \\\\\n",
    "\\end{bmatrix},\n",
    "\\mathbf{B} =\n",
    "\\begin{bmatrix}\n",
    "4 & 5  \\\\\n",
    "6 & 7 \\\\\n",
    "\\end{bmatrix}\n",
    "$$\n",
    "\n",
    "$$\\mathbf{A} + \\mathbf{B} = \n",
    "\\begin{bmatrix}\n",
    "1 & 2  \\\\\n",
    "3 & 4 \\\\\n",
    "\\end{bmatrix} + \n",
    "\\begin{bmatrix}\n",
    "5 & 6  \\\\\n",
    "7 & 8 \\\\\n",
    "\\end{bmatrix} =\n",
    "\\begin{bmatrix}\n",
    "1 + 5 & 2 + 6  \\\\\n",
    "3 + 7 & 4 + 8 \\\\\n",
    "\\end{bmatrix} =\n",
    "\\begin{bmatrix}\n",
    "6 & 8  \\\\\n",
    "10 & 12 \\\\\n",
    "\\end{bmatrix}$$\n",
    "\n",
    "Validating using `numpy`,"
   ]
  },
  {
   "cell_type": "code",
   "execution_count": 22,
   "metadata": {},
   "outputs": [
    {
     "name": "stdout",
     "output_type": "stream",
     "text": [
      "Matrix Addition:\n",
      " [[ 6  8]\n",
      " [10 12]]\n"
     ]
    }
   ],
   "source": [
    "# Define matrices A and B\n",
    "A = np.array([[1, 2], [3, 4]])\n",
    "B = np.array([[5, 6], [7, 8]])\n",
    "\n",
    "# Perform matrix addition\n",
    "matrix_addition = A + B\n",
    "\n",
    "# Output result\n",
    "print(\"Matrix Addition:\\n\", matrix_addition)"
   ]
  },
  {
   "cell_type": "markdown",
   "metadata": {},
   "source": [
    "##### Matrix Subtraction\n",
    "- **Definition**: Subtracting matrix $\\mathbf{B}$ from matrix $\\mathbf{A}$ involves subtracting the corresponding elements of $\\mathbf{B}$ from $\\mathbf{A}$.\n",
    "\n",
    "$$\\mathbf{A} - \\mathbf{B} = \n",
    "\\begin{bmatrix}\n",
    "a_{11} & a_{12} & ... & a_{1n} \\\\\n",
    "a_{21} & a_{22} & ... & a_{2n} \\\\\n",
    "... & ... & ... & ... \\\\\n",
    "a_{m1} & a_{m2} & ... & a_{mn}\n",
    "\\end{bmatrix} - \n",
    "\\begin{bmatrix}\n",
    "b_{11} & b_{12} & ... & b_{1n} \\\\\n",
    "b_{21} & b_{22} & ... & b_{2n} \\\\\n",
    "... & ... & ... & ... \\\\\n",
    "b_{m1} & b_{m2} & ... & b_{mn}\n",
    "\\end{bmatrix} =\n",
    "\\begin{bmatrix}\n",
    "a_{11} - b_{11} & a_{12} - b_{12} & ... & a_{1n} - b_{1n} \\\\\n",
    "a_{21} - b_{21} & a_{22} - b_{22} & ... & a_{2n} - b_{2n} \\\\\n",
    "... & ... & ... & ... \\\\\n",
    "a_{m1} - b_{m1} & a_{m2} - b_{m2} & ... & a_{mn} - b_{mn}\n",
    "\\end{bmatrix}$$\n",
    "\n",
    "- **Example**: Given matrices $\\mathbf{A}$ and $\\mathbf{B}$:\n",
    "\n",
    "$$\\mathbf{A} =\n",
    "\\begin{bmatrix}\n",
    "9 & 8  \\\\\n",
    "7 & 6 \\\\\n",
    "\\end{bmatrix},\n",
    "\\mathbf{B} =\n",
    "\\begin{bmatrix}\n",
    "5 & 4  \\\\\n",
    "3 & 2 \\\\\n",
    "\\end{bmatrix}\n",
    "$$\n",
    "\n",
    "$$\\mathbf{A} - \\mathbf{B} = \n",
    "\\begin{bmatrix}\n",
    "9 & 8  \\\\\n",
    "7 & 6 \\\\\n",
    "\\end{bmatrix} - \n",
    "\\begin{bmatrix}\n",
    "5 & 4  \\\\\n",
    "3 & 2 \\\\\n",
    "\\end{bmatrix} =\n",
    "\\begin{bmatrix}\n",
    "9 - 5 & 8 - 4  \\\\\n",
    "7 - 3 & 6 - 2 \\\\\n",
    "\\end{bmatrix} =\n",
    "\\begin{bmatrix}\n",
    "4 & 4  \\\\\n",
    "4 & 4 \\\\\n",
    "\\end{bmatrix}$$\n",
    "\n",
    "Validating using `numpy`,"
   ]
  },
  {
   "cell_type": "code",
   "execution_count": 23,
   "metadata": {},
   "outputs": [
    {
     "name": "stdout",
     "output_type": "stream",
     "text": [
      "Matrix Subtraction:\n",
      " [[4 4]\n",
      " [4 4]]\n"
     ]
    }
   ],
   "source": [
    "# Define matrices A and B\n",
    "A = np.array([[9, 8], [7, 6]])\n",
    "B = np.array([[5, 4], [3, 2]])\n",
    "\n",
    "# Perform matrix subtraction\n",
    "matrix_subtraction = A - B\n",
    "\n",
    "# Output result\n",
    "print(\"Matrix Subtraction:\\n\", matrix_subtraction)"
   ]
  },
  {
   "cell_type": "markdown",
   "metadata": {},
   "source": [
    "##### Matrix Multiplication (Dot Product)\n",
    "- **Definition**: The matrix product $\\mathbf{A} \\times \\mathbf{B}$ (also called the dot product) is calculated by multiplying rows of $\\mathbf{A}$ by the columns of $\\mathbf{B}$. The number of columns in $\\mathbf{A}$ must match the number of rows in $\\mathbf{B}$.\n",
    "\n",
    "$$\\mathbf{A} \\cdot \\mathbf{B} = \n",
    "\\begin{bmatrix}\n",
    "a_{11} & a_{12} & ... & a_{1n} \\\\\n",
    "a_{21} & a_{22} & ... & a_{2n} \\\\\n",
    "... & ... & ... & ... \\\\\n",
    "a_{m1} & a_{m2} & ... & a_{mn}\n",
    "\\end{bmatrix} \\cdot \n",
    "\\begin{bmatrix}\n",
    "b_{11} & b_{12} & ... & b_{1n} \\\\\n",
    "b_{21} & b_{22} & ... & b_{2n} \\\\\n",
    "... & ... & ... & ... \\\\\n",
    "b_{m1} & b_{m2} & ... & b_{mn}\n",
    "\\end{bmatrix} =\n",
    "\\begin{bmatrix}\n",
    "(a_{11} \\times b_{11} + a_{12} \\times b_{21} + ... + a_{1n} \\times b_{m1}) & (a_{11} \\times b_{12} + a_{12} \\times b_{22} + ... + a_{1n} \\times b_{m2}) & ... & (a_{11} \\times b_{1n} + a_{12} \\times b_{2n} + ... + a_{1n} \\times b_{mn}) \\\\\n",
    "(a_{21} \\times b_{11} + a_{22} \\times b_{21} + ... + a_{2n} \\times b_{m1}) & (a_{21} \\times b_{12} + a_{22} \\times b_{22} + ... + a_{2n} \\times b_{m2}) & ... & (a_{21} \\times b_{1n} + a_{22} \\times b_{2n} + ... + a_{2n} \\times b_{mn}) \\\\\n",
    "(a_{m1} \\times b_{11} + a_{m2} \\times b_{21} + ... + a_{mn} \\times b_{m1}) & (a_{m1} \\times b_{12} + a_{m2} \\times b_{22} + ... + a_{mn} \\times b_{m2}) & ... & (a_{m1} \\times b_{1n} + a_{m2} \\times b_{2n} + ... + a_{mn} \\times b_{mn})\n",
    "\\end{bmatrix}$$\n",
    "\n",
    "- **Example**: Given matrices $\\mathbf{A}$ and $\\mathbf{B}$:\n",
    "\n",
    "$$\\mathbf{A} =\n",
    "\\begin{bmatrix}\n",
    "1 & 2  \\\\\n",
    "3 & 4 \\\\\n",
    "\\end{bmatrix},\n",
    "\\mathbf{B} =\n",
    "\\begin{bmatrix}\n",
    "5 & 6  \\\\\n",
    "7 & 8 \\\\\n",
    "\\end{bmatrix}\n",
    "$$\n",
    "\n",
    "$$\\mathbf{A} \\cdot \\mathbf{B} = \n",
    "\\begin{bmatrix}\n",
    "1 & 2  \\\\\n",
    "3 & 4 \\\\\n",
    "\\end{bmatrix} \\cdot \n",
    "\\begin{bmatrix}\n",
    "5 & 6  \\\\\n",
    "7 & 8 \\\\\n",
    "\\end{bmatrix} =\n",
    "\\begin{bmatrix}\n",
    "(1 \\times 5 + 2 \\times 7) & (1 \\times 6 + 2 \\times 8) \\\\\n",
    "(3 \\times 5 + 4 \\times 7) & (3 \\times 6 + 4 \\times 8) \\\\\n",
    "\\end{bmatrix} =\n",
    "\\begin{bmatrix}\n",
    "19 & 22  \\\\\n",
    "43 & 50 \\\\\n",
    "\\end{bmatrix}$$\n",
    "\n",
    "Validating using `numpy`,"
   ]
  },
  {
   "cell_type": "code",
   "execution_count": 24,
   "metadata": {},
   "outputs": [
    {
     "name": "stdout",
     "output_type": "stream",
     "text": [
      "Matrix Multiplication (Dot Product):\n",
      " [[19 22]\n",
      " [43 50]]\n"
     ]
    }
   ],
   "source": [
    "# Define matrices A and B\n",
    "A = np.array([[1, 2], [3, 4]])\n",
    "B = np.array([[5, 6], [7, 8]])\n",
    "\n",
    "# Perform matrix multiplication (dot product)\n",
    "matrix_multiplication = np.dot(A, B)\n",
    "\n",
    "# Output result\n",
    "print(\"Matrix Multiplication (Dot Product):\\n\", matrix_multiplication)"
   ]
  },
  {
   "cell_type": "markdown",
   "metadata": {},
   "source": [
    "##### Matrix Transposition\n",
    "- **Definition**: The transpose of a matrix $\\mathbf{A}$, denoted as $\\mathbf{A}^T$, is formed by swapping the rows and columns of the matrix.\n",
    "\n",
    "- **Example**: Given the matrix $\\mathbf{A}$:\n",
    "\n",
    "$$\\mathbf{A} =\n",
    "\\begin{bmatrix}\n",
    "1 & 2 & 3  \\\\\n",
    "4 & 5 & 6 \\\\\n",
    "\\end{bmatrix}$$\n",
    "\n",
    "The transpose of $\\mathbf{A}$ is:\n",
    "\n",
    "$$\\mathbf{A}^T =\n",
    "\\begin{bmatrix}\n",
    "1 & 2  \\\\\n",
    "2 & 5 \\\\\n",
    "3 & 6\n",
    "\\end{bmatrix}$$\n",
    "\n",
    "Validating using `numpy`,"
   ]
  },
  {
   "cell_type": "code",
   "execution_count": 25,
   "metadata": {},
   "outputs": [
    {
     "name": "stdout",
     "output_type": "stream",
     "text": [
      "Matrix Transpose:\n",
      " [[1 4]\n",
      " [2 5]\n",
      " [3 6]]\n"
     ]
    }
   ],
   "source": [
    "# Define matrix A\n",
    "A = np.array([[1, 2, 3], [4, 5, 6]])\n",
    "\n",
    "# Perform matrix transposition\n",
    "matrix_transpose = A.T\n",
    "\n",
    "# Output result\n",
    "print(\"Matrix Transpose:\\n\", matrix_transpose)"
   ]
  }
 ],
 "metadata": {
  "kernelspec": {
   "display_name": "Python 3",
   "language": "python",
   "name": "python3"
  },
  "language_info": {
   "codemirror_mode": {
    "name": "ipython",
    "version": 3
   },
   "file_extension": ".py",
   "mimetype": "text/x-python",
   "name": "python",
   "nbconvert_exporter": "python",
   "pygments_lexer": "ipython3",
   "version": "3.12.1"
  }
 },
 "nbformat": 4,
 "nbformat_minor": 2
}
