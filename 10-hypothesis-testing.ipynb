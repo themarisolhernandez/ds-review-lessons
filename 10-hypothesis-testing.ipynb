{
 "cells": [
  {
   "cell_type": "markdown",
   "metadata": {},
   "source": [
    "# 10 - Hypothesis Testing"
   ]
  },
  {
   "cell_type": "markdown",
   "metadata": {},
   "source": [
    "## Introduction to Hypothesis Testing\n",
    "**Hypothesis testing** is a fundamental statistical method used to make inferences about population parameters based on sample data. It allows us to assess whether any observed differences or effects in data are statistically significant or simply due to chance.\n",
    "\n",
    "### Real-World Applications\n",
    "Before diving into the technical details, here are a few real-world scenarios where hypothesis testing plays a critical role.\n",
    "\n",
    "- **A/B Testing**: Used in marketing and product development to evaluate if changes (e.g., new features or designs) lead to improved performance or user engagement.\n",
    "\n",
    "- **Medical Research**: Essential for determining whether a new treatment or drug has a statistically significant effect on patient outcomes.\n",
    "\n",
    "- **Machine Learning**: Applied to compare model performance or to test assumptions in feature selection or statistical learning techniques.\n",
    "\n",
    "## Basic Framework\n",
    "Hypothesis tests typically include four parts,\n",
    "\n",
    "#### **1. Define the hypothesis**\n",
    "\n",
    "- **Null Hypothesis** ($H_0$): The null hypothesis is a statement that there is no significant difference, effect, or relationship in the population.\n",
    "\n",
    "- **Alternative Hypothesis** ($H_1$ or $H_a$): The alternative hypothesis is the statement we are testing. It suggests that there is a significant difference, effect, or relationship in the population.\n",
    "\n",
    "As an example, suppose we have the following data for heights from a sample of 4 adults from Chicago, and 4 adults from Atlanta.\n"
   ]
  },
  {
   "cell_type": "code",
   "execution_count": 2,
   "metadata": {},
   "outputs": [
    {
     "data": {
      "text/html": [
       "<div>\n",
       "<style scoped>\n",
       "    .dataframe tbody tr th:only-of-type {\n",
       "        vertical-align: middle;\n",
       "    }\n",
       "\n",
       "    .dataframe tbody tr th {\n",
       "        vertical-align: top;\n",
       "    }\n",
       "\n",
       "    .dataframe thead th {\n",
       "        text-align: right;\n",
       "    }\n",
       "</style>\n",
       "<table border=\"1\" class=\"dataframe\">\n",
       "  <thead>\n",
       "    <tr style=\"text-align: right;\">\n",
       "      <th></th>\n",
       "      <th>Chicago Heights</th>\n",
       "      <th>Atlanta Heights</th>\n",
       "    </tr>\n",
       "  </thead>\n",
       "  <tbody>\n",
       "    <tr>\n",
       "      <th>0</th>\n",
       "      <td>183.068703</td>\n",
       "      <td>167.510258</td>\n",
       "    </tr>\n",
       "    <tr>\n",
       "      <th>1</th>\n",
       "      <td>186.706444</td>\n",
       "      <td>177.812411</td>\n",
       "    </tr>\n",
       "    <tr>\n",
       "      <th>2</th>\n",
       "      <td>173.266574</td>\n",
       "      <td>187.132988</td>\n",
       "    </tr>\n",
       "    <tr>\n",
       "      <th>3</th>\n",
       "      <td>179.032529</td>\n",
       "      <td>175.298712</td>\n",
       "    </tr>\n",
       "  </tbody>\n",
       "</table>\n",
       "</div>"
      ],
      "text/plain": [
       "   Chicago Heights  Atlanta Heights\n",
       "0       183.068703       167.510258\n",
       "1       186.706444       177.812411\n",
       "2       173.266574       187.132988\n",
       "3       179.032529       175.298712"
      ]
     },
     "execution_count": 2,
     "metadata": {},
     "output_type": "execute_result"
    }
   ],
   "source": [
    "import pandas as pd\n",
    "\n",
    "chicago_heights = [183.0687026 , 186.70644354, 173.26657415, 179.03252868]\n",
    "\n",
    "atlanta_heights = [167.5102584 , 177.81241131, 187.13298753, 175.29871173]\n",
    "\n",
    "df = pd.DataFrame({\n",
    "    'Chicago Heights': chicago_heights,\n",
    "    'Atlanta Heights': atlanta_heights\n",
    "    })\n",
    "\n",
    "df"
   ]
  },
  {
   "cell_type": "markdown",
   "metadata": {},
   "source": [
    "Lets start by looking at some basic statistics."
   ]
  },
  {
   "cell_type": "code",
   "execution_count": 3,
   "metadata": {},
   "outputs": [
    {
     "data": {
      "text/html": [
       "<div>\n",
       "<style scoped>\n",
       "    .dataframe tbody tr th:only-of-type {\n",
       "        vertical-align: middle;\n",
       "    }\n",
       "\n",
       "    .dataframe tbody tr th {\n",
       "        vertical-align: top;\n",
       "    }\n",
       "\n",
       "    .dataframe thead th {\n",
       "        text-align: right;\n",
       "    }\n",
       "</style>\n",
       "<table border=\"1\" class=\"dataframe\">\n",
       "  <thead>\n",
       "    <tr style=\"text-align: right;\">\n",
       "      <th></th>\n",
       "      <th>Chicago Heights</th>\n",
       "      <th>Atlanta Heights</th>\n",
       "    </tr>\n",
       "  </thead>\n",
       "  <tbody>\n",
       "    <tr>\n",
       "      <th>count</th>\n",
       "      <td>4.000000</td>\n",
       "      <td>4.000000</td>\n",
       "    </tr>\n",
       "    <tr>\n",
       "      <th>mean</th>\n",
       "      <td>180.518562</td>\n",
       "      <td>176.938592</td>\n",
       "    </tr>\n",
       "    <tr>\n",
       "      <th>std</th>\n",
       "      <td>5.761733</td>\n",
       "      <td>8.088509</td>\n",
       "    </tr>\n",
       "    <tr>\n",
       "      <th>min</th>\n",
       "      <td>173.266574</td>\n",
       "      <td>167.510258</td>\n",
       "    </tr>\n",
       "    <tr>\n",
       "      <th>25%</th>\n",
       "      <td>177.591040</td>\n",
       "      <td>173.351598</td>\n",
       "    </tr>\n",
       "    <tr>\n",
       "      <th>50%</th>\n",
       "      <td>181.050616</td>\n",
       "      <td>176.555562</td>\n",
       "    </tr>\n",
       "    <tr>\n",
       "      <th>75%</th>\n",
       "      <td>183.978138</td>\n",
       "      <td>180.142555</td>\n",
       "    </tr>\n",
       "    <tr>\n",
       "      <th>max</th>\n",
       "      <td>186.706444</td>\n",
       "      <td>187.132988</td>\n",
       "    </tr>\n",
       "  </tbody>\n",
       "</table>\n",
       "</div>"
      ],
      "text/plain": [
       "       Chicago Heights  Atlanta Heights\n",
       "count         4.000000         4.000000\n",
       "mean        180.518562       176.938592\n",
       "std           5.761733         8.088509\n",
       "min         173.266574       167.510258\n",
       "25%         177.591040       173.351598\n",
       "50%         181.050616       176.555562\n",
       "75%         183.978138       180.142555\n",
       "max         186.706444       187.132988"
      ]
     },
     "execution_count": 3,
     "metadata": {},
     "output_type": "execute_result"
    }
   ],
   "source": [
    "df.describe()"
   ]
  },
  {
   "cell_type": "markdown",
   "metadata": {},
   "source": [
    "Which city has taller people? Well we can look at the means, but is this difference **significant**? \n",
    "\n",
    "It looks like Chicago has taller adults on average, but only by about 3cm. Is that enough to be sure? What if we just happened to sample shorter people when measuring Atlanta adults by accident?"
   ]
  },
  {
   "cell_type": "code",
   "execution_count": 4,
   "metadata": {},
   "outputs": [
    {
     "data": {
      "text/plain": [
       "Chicago Heights    180.518562\n",
       "Atlanta Heights    176.938592\n",
       "dtype: float64"
      ]
     },
     "execution_count": 4,
     "metadata": {},
     "output_type": "execute_result"
    }
   ],
   "source": [
    "df.mean()"
   ]
  },
  {
   "cell_type": "markdown",
   "metadata": {},
   "source": [
    "It's hard to note if this difference in heights is due to random chance in our experiment, or if it is truly reflective of the heights of adults in these two cities. What we can do to answer this is build a two-sample hypothesis test.\n",
    "\n",
    "The first part of any significance test is to define our **null hypothesis**, $H_0$. This is typically a statement that is are no difference between the two groups of data. We usually want to try to prove the null hypothesis wrong with our test.\n",
    "\n",
    "$$H_0: \\text{There is no difference in the mean height of adults from Chicago and Atlanta}$$\n",
    "$$\\mu_1 = \\mu_2~~~~~~~~~~~~~~~~~~~~~~~~~~~~~~~~~~~~~~~~~~~~~~~~~~~~~~~~~~~~~~~~~~~~~~~~~~~~~~~~~~~~~~~~~~~~~~~~~~~~~~~~~~~~~$$\n",
    "\n",
    "where:\n",
    "\n",
    "- $\\mu_1$ is the mean height of adults from Chicago\n",
    "\n",
    "- $\\mu_2$ is the mean height of adults from Atlanta\n",
    "\n",
    "We also define our **alternative hypothesis**, $H_1$. This is usually the research question we wish to prove true, it contrasts the null hypothesis.\n",
    "\n",
    "$$H_1: \\text{The mean height of adults from Chicago is greater than those from Atlanta}$$\n",
    "$$\\mu_1 > \\mu_2~~~~~~~~~~~~~~~~~~~~~~~~~~~~~~~~~~~~~~~~~~~~~~~~~~~~~~~~~~~~~~~~~~~~~~~~~~~~~~~~~~~~~~~~~~~~~~~~~~~~~~~~~~~$$"
   ]
  },
  {
   "cell_type": "markdown",
   "metadata": {},
   "source": [
    "#### **2. Set the significance level**\n",
    "\n",
    "We will want to generate something called a **p-value** (more on this later) and compare it to a **significance level**, $\\alpha$. \n",
    "\n",
    "The significance level is the threshold used to determine whether to reject the null hypothesis. It is common to use $\\alpha = 0.05$ of $5\\%$."
   ]
  },
  {
   "cell_type": "markdown",
   "metadata": {},
   "source": [
    "#### **3. Run a Hypothesis Test**\n",
    "We will actually try to use the data to simulate what our experiment could look like if $H_0$ were true. We will do this simulation manually, but in practice you can use an already existing function or test.\n",
    "\n",
    "We can create a statistic for our test as we are doing this significance test manually at the moment, this will be the **difference in the means**."
   ]
  },
  {
   "cell_type": "code",
   "execution_count": 5,
   "metadata": {},
   "outputs": [
    {
     "data": {
      "text/plain": [
       "3.579970000000003"
      ]
     },
     "execution_count": 5,
     "metadata": {},
     "output_type": "execute_result"
    }
   ],
   "source": [
    "observed_mean_diff = df['Chicago Heights'].mean() - df['Atlanta Heights'].mean()\n",
    "observed_mean_diff"
   ]
  },
  {
   "cell_type": "markdown",
   "metadata": {},
   "source": [
    "We can plot our two samples."
   ]
  },
  {
   "cell_type": "code",
   "execution_count": 6,
   "metadata": {},
   "outputs": [
    {
     "data": {
      "image/png": "[encoded data removed]",
      "text/plain": [
       "<Figure size 640x480 with 1 Axes>"
      ]
     },
     "metadata": {},
     "output_type": "display_data"
    }
   ],
   "source": [
    "import matplotlib.pyplot as plt\n",
    "\n",
    "# Combine both histograms into one plot\n",
    "plt.hist(chicago_heights, bins=10, color='blue', alpha=0.5, label='Chicago Heights')\n",
    "plt.hist(atlanta_heights, bins=10, color='green', alpha=0.5, label='Atlanta Heights')\n",
    "\n",
    "# Add lines for means\n",
    "# plt.axvline(df['Chicago Heights'].mean(), color='blue', linestyle='dashed', linewidth=1, label='Chicago Mean')\n",
    "# plt.axvline(df['Atlanta Heights'].mean(), color='green', linestyle='dashed', linewidth=1, label='Atlanta Mean')\n",
    "\n",
    "# Add labels and title\n",
    "plt.title('Height Distribution: Chicago vs Atlanta')\n",
    "plt.xlabel('Height')\n",
    "plt.ylabel('Frequency')\n",
    "plt.ylim(0, 2)\n",
    "plt.legend()\n",
    "\n",
    "# Show the plot\n",
    "plt.show()"
   ]
  },
  {
   "cell_type": "markdown",
   "metadata": {},
   "source": [
    "Because we are manually building a statistical significance test, we will **simulate** the **null hypothesis**. Recall,\n",
    "\n",
    "$$H_0: \\text{There is no difference in the mean height of adults from Chicago and Atlanta}$$\n",
    "$$\\mu_1 = \\mu_2~~~~~~~~~~~~~~~~~~~~~~~~~~~~~~~~~~~~~~~~~~~~~~~~~~~~~~~~~~~~~~~~~~~~~~~~~~~~~~~~~~~~~~~~~~~~~~~~~~~~~~~~~~~~~$$\n",
    "\n",
    "where:\n",
    "\n",
    "- $\\mu_1$ is the mean height of adults from Chicago\n",
    "\n",
    "- $\\mu_2$ is the mean height of adults from Atlanta\n",
    "\n",
    "If $H_0$ were true, then there is no difference between Chicago and Atlanta data, that means we could pool together the data and treat Chicago data and Atlanta data the same."
   ]
  },
  {
   "cell_type": "code",
   "execution_count": 60,
   "metadata": {},
   "outputs": [
    {
     "data": {
      "text/plain": [
       "array([183.0687026 , 186.70644354, 173.26657415, 179.03252868,\n",
       "       167.5102584 , 177.81241131, 187.13298753, 175.29871173])"
      ]
     },
     "execution_count": 60,
     "metadata": {},
     "output_type": "execute_result"
    }
   ],
   "source": [
    "import numpy as np\n",
    "\n",
    "data_assuming_null = np.concatenate([chicago_heights, atlanta_heights])\n",
    "data_assuming_null"
   ]
  },
  {
   "cell_type": "markdown",
   "metadata": {},
   "source": [
    "Now we can test if the difference in heights we saw earlier was due to random chance in selecting our adults, or if it may have been caused by a true difference in heights between the two cities.\n",
    "\n",
    "By assuming $H_0$ to be true, we pool the data together. Then, we will re-sample 4 new \"Chicagoans\" from our pooled-together (null) sample. But these \"Chicagoans\" may be from either Chicago or Atlanta. We'll do the same for Atlanta, and re-sample 4 new \"Atlantans\" from our pooled-together (null) sample.\n",
    "\n",
    "We'll then measure the difference in the means between the 4 new \"Chicagoans\" and 4 new \"Atlantans\". Because we are assuming the null hypothesis is true, then there should be no difference in heights between a Chicagoan and an Atlantan. "
   ]
  },
  {
   "cell_type": "code",
   "execution_count": 61,
   "metadata": {},
   "outputs": [],
   "source": [
    "def resample_data(X):\n",
    "    simulated_X1 = np.random.choice(X, size=4)\n",
    "    simulated_X2 = np.random.choice(X, size=4)\n",
    "    return simulated_X1, simulated_X2\n",
    "\n",
    "def test_statistic(x1, x2):\n",
    "    return x1.mean() - x2.mean()"
   ]
  },
  {
   "cell_type": "code",
   "execution_count": 62,
   "metadata": {},
   "outputs": [
    {
     "name": "stdout",
     "output_type": "stream",
     "text": [
      "Heights of simulated 'Chicagoans': [177.81241131 175.29871173 187.13298753 183.0687026 ]\n",
      "\n",
      "Heights of simulated 'Atlantans': [183.0687026  173.26657415 179.03252868 187.13298753]\n"
     ]
    }
   ],
   "source": [
    "# We mix together Chicago and Atlanta data, and then randomly pull 4 people and label them as\n",
    "# Chicagoans, and randomly pull 4 other people and label them as Atlantans\n",
    "simulated_chicago_data, simulated_atlanta_data = resample_data(data_assuming_null)\n",
    "print(f\"Heights of simulated 'Chicagoans': {simulated_chicago_data}\") # Our re-sampled list of \"Chicagoans\" \n",
    "print()\n",
    "print(f\"Heights of simulated 'Atlantans': {simulated_atlanta_data}\") # Our re-sampled list of \"Atlantans\" "
   ]
  },
  {
   "cell_type": "code",
   "execution_count": 63,
   "metadata": {},
   "outputs": [
    {
     "data": {
      "text/plain": [
       "0.20300505250000356"
      ]
     },
     "execution_count": 63,
     "metadata": {},
     "output_type": "execute_result"
    }
   ],
   "source": [
    "# Find the difference in means of the two new groups\n",
    "simulated_mean_difference = test_statistic(simulated_chicago_data, simulated_atlanta_data)\n",
    "simulated_mean_difference"
   ]
  },
  {
   "cell_type": "markdown",
   "metadata": {},
   "source": [
    "Compare this to our observed difference of means"
   ]
  },
  {
   "cell_type": "code",
   "execution_count": 64,
   "metadata": {},
   "outputs": [
    {
     "data": {
      "text/plain": [
       "3.579970000000003"
      ]
     },
     "execution_count": 64,
     "metadata": {},
     "output_type": "execute_result"
    }
   ],
   "source": [
    "observed_mean_diff"
   ]
  },
  {
   "cell_type": "markdown",
   "metadata": {},
   "source": [
    "This allows us to re-perform our experiment, but under the assumption that there shouldn't be a difference between Chicagoans and Atlatans in their heights.\n",
    "\n",
    "This let's us focus on the following question: \"Assuming there is no difference in height between the cities, how would random chance in selecting four participants impact our measurements.\""
   ]
  },
  {
   "cell_type": "code",
   "execution_count": 65,
   "metadata": {},
   "outputs": [],
   "source": [
    "list_sim_mean_diff = []\n",
    "\n",
    "n = 0"
   ]
  },
  {
   "cell_type": "code",
   "execution_count": 66,
   "metadata": {},
   "outputs": [
    {
     "name": "stdout",
     "output_type": "stream",
     "text": [
      "List of simulated mean differences: [-0.8999977874999843]\n"
     ]
    },
    {
     "data": {
      "image/png": "[encoded data removed]",
      "text/plain": [
       "<Figure size 640x480 with 1 Axes>"
      ]
     },
     "metadata": {},
     "output_type": "display_data"
    }
   ],
   "source": [
    "simulated_chicago_data, simulated_atlanta_data = resample_data(data_assuming_null)\n",
    "\n",
    "simulated_mean_difference = test_statistic(simulated_chicago_data, simulated_atlanta_data)\n",
    "\n",
    "list_sim_mean_diff.append(simulated_mean_difference)\n",
    "\n",
    "print(f\"List of simulated mean differences: {list_sim_mean_diff}\")\n",
    "\n",
    "n += 1\n",
    "\n",
    "plt.hist(list_sim_mean_diff)\n",
    "plt.title(f'After {n} Null Hypothesis Simulations')\n",
    "plt.xlabel('Difference of Simulated Means')\n",
    "plt.ylabel('Count')\n",
    "plt.show()"
   ]
  },
  {
   "cell_type": "markdown",
   "metadata": {},
   "source": [
    "Lets do even more simulations."
   ]
  },
  {
   "cell_type": "code",
   "execution_count": 67,
   "metadata": {},
   "outputs": [],
   "source": [
    "list_sim_mean_diff = []\n",
    "\n",
    "n = 0"
   ]
  },
  {
   "cell_type": "code",
   "execution_count": 68,
   "metadata": {},
   "outputs": [
    {
     "data": {
      "image/png": "[encoded data removed]",
      "text/plain": [
       "<Figure size 640x480 with 1 Axes>"
      ]
     },
     "metadata": {},
     "output_type": "display_data"
    }
   ],
   "source": [
    "for _ in range(5000):\n",
    "    \n",
    "    simulated_chicago_data, simulated_atlanta_data = resample_data(data_assuming_null)\n",
    "\n",
    "    simulated_mean_difference = test_statistic(simulated_chicago_data, simulated_atlanta_data)\n",
    "\n",
    "    list_sim_mean_diff.append(simulated_mean_difference)\n",
    "    \n",
    "    n += 1\n",
    "    \n",
    "plt.hist(list_sim_mean_diff, bins=50, histtype='step')\n",
    "plt.title(f'After {n} Null Hypothesis Simulations')\n",
    "plt.xlabel('Difference of Simulated Means')\n",
    "plt.ylabel('Count')\n",
    "plt.show()"
   ]
  },
  {
   "cell_type": "code",
   "execution_count": 69,
   "metadata": {},
   "outputs": [
    {
     "data": {
      "image/png": "[encoded data removed]",
      "text/plain": [
       "<Figure size 640x480 with 1 Axes>"
      ]
     },
     "metadata": {},
     "output_type": "display_data"
    }
   ],
   "source": [
    "plt.hist(list_sim_mean_diff, bins=50, histtype='step')\n",
    "plt.axvline(observed_mean_diff, c='k', label='Observed Diff. of Means')\n",
    "plt.title(f'After {n} Null Hypothesis Simulations')\n",
    "plt.xlabel('Difference of Simulated Means')\n",
    "plt.ylabel('Count')\n",
    "plt.show()"
   ]
  },
  {
   "cell_type": "code",
   "execution_count": 70,
   "metadata": {},
   "outputs": [
    {
     "name": "stdout",
     "output_type": "stream",
     "text": [
      "In our dataset, we observed a difference of the means of 3.5800\n",
      "\n",
      "Out of all 5000 simulated null samples, 1114 have mean differences greater than the true observed mean difference\n",
      "\n",
      "That's a fraction of 0.222800 or 22.280%\n",
      "\n",
      "This is also our simulated p-value, 0.222800\n"
     ]
    }
   ],
   "source": [
    "sim_mean_diff_less_obs = sum(list_sim_mean_diff > observed_mean_diff)\n",
    "\n",
    "p_value = sim_mean_diff_less_obs/len(list_sim_mean_diff)\n",
    "\n",
    "print(f\"In our dataset, we observed a difference of the means of {observed_mean_diff:.4f}\")\n",
    "print()\n",
    "\n",
    "print(f'Out of all {len(list_sim_mean_diff)} simulated null samples, {sim_mean_diff_less_obs} have mean differences greater than the true observed mean difference')\n",
    "print()\n",
    "print(f\"That's a fraction of {p_value:4f} or {p_value*100:.3f}%\")\n",
    "print()\n",
    "print(f\"This is also our simulated p-value, {p_value:4f}\")"
   ]
  },
  {
   "cell_type": "markdown",
   "metadata": {},
   "source": [
    "The **p-value** tell us, assuming our **null hypothesis** that both samples are actually the same were true, what the probability would be of getting the metric (difference in means) that we observed.\n",
    "\n",
    "This is a bootstrap approaching to estimating the p-value. It is non-parametric, meaning it doesn't assume any distribution for the data. It is data-driven because we use the data to generate simulated samples. In the later section, we will introduce some common signficance tests."
   ]
  },
  {
   "cell_type": "markdown",
   "metadata": {},
   "source": [
    "#### **4. Make a Decision**\n",
    "If the p-value is low (typically below the chosen significance level, such as 0.05), it suggests that the observed metric (in this case, the mean difference) is unlikely to have occurred under the assumption of the null hypothesis. This provides evidence against the null hypothesis, and we reject it.\n",
    "\n",
    "If the p-value is high (greater than the significance level), it suggests that the observed metric is reasonably likely to have occurred under the assumption of the null hypothesis. This doesn't provide strong evidence against the null hypothesis, so we fail to reject it.\n",
    "\n",
    "In general,\n",
    "\n",
    "$$\\text{If p-value } \\lt \\alpha \\text{ we reject } H_0$$\n",
    "\n",
    "$$\\text{If p-value } \\ge \\alpha \\text{ we fail to reject } H_0$$\n",
    "\n",
    "Given a $\\alpha =$ 0.05 significance level, do we reject our null hypothesis, or state there is evidence for the null hypothesis being true? Recall our $H_0$,\n",
    "\n",
    "$$H_0: \\text{There is no difference in the mean height of adults from Chicago and Atlanta}$$\n",
    "$$\\mu_1 = \\mu_2~~~~~~~~~~~~~~~~~~~~~~~~~~~~~~~~~~~~~~~~~~~~~~~~~~~~~~~~~~~~~~~~~~~~~~~~~~~~~~~~~~~~~~~~~~~~~~~~~~~~~~~~~~~~~$$\n"
   ]
  },
  {
   "cell_type": "code",
   "execution_count": 71,
   "metadata": {},
   "outputs": [
    {
     "data": {
      "text/plain": [
       "0.2228"
      ]
     },
     "execution_count": 71,
     "metadata": {},
     "output_type": "execute_result"
    }
   ],
   "source": [
    "p_value"
   ]
  },
  {
   "cell_type": "markdown",
   "metadata": {},
   "source": [
    "Because $\\text{p-value } \\ge \\alpha$, you would fail to reject the null hypothesis. In other words, you don't have sufficient evidence to conclude that the mean height of adults from Chicago is greater than those from Atlanta."
   ]
  },
  {
   "cell_type": "markdown",
   "metadata": {},
   "source": [
    "## Common Significance Tests\n",
    "In practice, a signficance test is easier to implement than this. You don't have to do a non-parametric bootstrap, and in practice the above can have its limits. Depending on what you are testing.\n",
    "\n",
    "<p align=\"center\">\n",
    "  <img src=\"imgs/common_tests.png\" alt=\"Alt text\" width=\"950\" height=\"250\">\n",
    "</p>"
   ]
  },
  {
   "cell_type": "markdown",
   "metadata": {},
   "source": [
    "## T-Test\n",
    "T-tests are statistical tests used to determine if there are significant differences between the means of one or two groups. \n",
    "\n",
    "- Widely used when the sample size is small ($n \\leq 30$) and the population standard deviation is unknown. \n",
    "    \n",
    "- Can be categorized based on the number of samples being compared: **one-sample**, **two-sample**, and **paired t-tests**."
   ]
  },
  {
   "cell_type": "markdown",
   "metadata": {},
   "source": [
    "### Types of T-Tests\n",
    "In hypothesis testing, researchers often encounter situations where they need to compare a sample to a known value or compare two independent samples. **One-sample** and **two-sample** tests are fundamental tools in statistics for addressing these types of research questions.\n",
    "\n",
    "#### One-Sample Test\n",
    "A **one-sample test** is used to determine whether the mean of a single sample differs significantly from a known value or a hypothesized population mean. This type of test is commonly used when researchers want to assess whether a sample comes from a population with a specific characteristic.\n",
    "\n",
    "**Example Research Question:** Is the average weight of apples harvested from a farm different from 150 grams?\n",
    "\n",
    "##### Steps in Conducting a One-Sample Test:\n",
    "1. **Formulate Hypotheses**: Define the null and alternative hypotheses based on the research question. For a one-sample test, the null hypothesis typically states that the sample mean is equal to the hypothesized population mean.\n",
    "\n",
    "$$H_0: \\mu = 150\\text{g } \\text{  (The average weight of apples harvested from a farm is equal to 150 grams)}~~~~~~~$$\n",
    "\n",
    "$$H_a: \\mu \\ne 150\\text{g } \\text{  (The average weight of apples harvested from a farm is not equal to 150 grams)}$$\n",
    "\n",
    "2. **Choose a Significance Level**: Determine the significance level (commonly $\\alpha = 0.5$)\n",
    "\n",
    "3. **Collect Data**: Gather data from the sample."
   ]
  },
  {
   "cell_type": "code",
   "execution_count": 78,
   "metadata": {},
   "outputs": [
    {
     "name": "stdout",
     "output_type": "stream",
     "text": [
      "Sample Weights: [137, 159, 143, 158, 144, 170, 161, 169, 140, 139]\n",
      "Sample Mean: 152.0\n"
     ]
    }
   ],
   "source": [
    "# Let's say the harvest included 10 apples with the following weights (in grams)\n",
    "sample_weights = [137, 159, 143, 158, 144, 170, 161, 169, 140, 139]\n",
    "sample_mean = np.mean(sample_weights)\n",
    "print(f\"Sample Weights: {sample_weights}\")\n",
    "print(f\"Sample Mean: {sample_mean}\")"
   ]
  },
  {
   "cell_type": "markdown",
   "metadata": {},
   "source": [
    "4. **Perform the Test**: Calculate the test statistic (e.g., t-statistic) and the p-value. \n",
    "\n",
    "    - We use `scipy.stats.ttest_1samp` to perform the one-sample t-test, comparing the sample weights to the hypothesized mean."
   ]
  },
  {
   "cell_type": "code",
   "execution_count": 79,
   "metadata": {},
   "outputs": [
    {
     "name": "stdout",
     "output_type": "stream",
     "text": [
      "Sample Weights: [137, 159, 143, 158, 144, 170, 161, 169, 140, 139]\n",
      "T-Statistic: 0.496\n",
      "P-Value: 0.632\n"
     ]
    }
   ],
   "source": [
    "from scipy.stats import ttest_1samp\n",
    "\n",
    "# Hypothesized population mean\n",
    "hypothesized_pop_mean = 150\n",
    "\n",
    "# Perform one-sample t-test\n",
    "t_statistic, p_value = ttest_1samp(sample_weights, hypothesized_pop_mean)\n",
    "\n",
    "# Output the results\n",
    "print(f\"Sample Weights: {sample_weights}\")\n",
    "print(f\"T-Statistic: {round(t_statistic, 3)}\")\n",
    "print(f\"P-Value: {round(p_value, 3)}\")"
   ]
  },
  {
   "cell_type": "markdown",
   "metadata": {},
   "source": [
    "5. **Make a Decision**: Compare the p-value to the significance level to decide whether to accept or reject the null hypothesis. Recall,\n",
    "\n",
    "$$\\text{If p-value } \\lt \\alpha \\text{ we reject } H_0$$\n",
    "\n",
    "$$\\text{If p-value } \\ge \\alpha \\text{ we fail to reject } H_0$$"
   ]
  },
  {
   "cell_type": "code",
   "execution_count": 80,
   "metadata": {},
   "outputs": [
    {
     "name": "stdout",
     "output_type": "stream",
     "text": [
      "Fail to reject the null hypothesis: There is no significant difference in the average weight of apples.\n"
     ]
    }
   ],
   "source": [
    "# Conclusion based on significance level\n",
    "alpha = 0.05\n",
    "if p_value < alpha:\n",
    "    print(\"Reject the null hypothesis: There is a significant difference in the average weight of apples.\")\n",
    "else:\n",
    "    print(\"Fail to reject the null hypothesis: There is no significant difference in the average weight of apples.\")"
   ]
  },
  {
   "cell_type": "markdown",
   "metadata": {},
   "source": [
    "#### Two-Sample Test\n",
    "A **two-sample** test is a statistical method used to determine whether there is a significant difference between the means of two independent samples. This type of test is essential when researchers want to compare two different groups to see if they differ in a specific characteristic, such as height, weight, or any measurable attribute.\n",
    "\n",
    "**Example Research Question:** Is the mean height of adults from Chicago greater than that of adults from Atlanta?\n",
    "\n",
    "##### Steps in Conducting a Two-Sample Test:\n",
    "1. **Formulate Hypotheses**: Define the null and alternative hypotheses based on the research question.\n",
    "\n",
    "$$H_0: \\text{There is no difference in the mean height of adults from Chicago and Atlanta}$$\n",
    "$$\\mu_1 = \\mu_2~~~~~~~~~~~~~~~~~~~~~~~~~~~~~~~~~~~~~~~~~~~~~~~~~~~~~~~~~~~~~~~~~~~~~~~~~~~~~~~~~~~~~~~~~~~~~~~~~~~~~~~~~~~~~$$\n",
    "\n",
    "$$H_1: \\text{The mean height of adults from Chicago is greater than those from Atlanta}$$\n",
    "$$\\mu_1 > \\mu_2~~~~~~~~~~~~~~~~~~~~~~~~~~~~~~~~~~~~~~~~~~~~~~~~~~~~~~~~~~~~~~~~~~~~~~~~~~~~~~~~~~~~~~~~~~~~~~~~~~~~~~~~~~~$$\n",
    "\n",
    "where:\n",
    "\n",
    "- $\\mu_1$ is the mean height of adults from Chicago\n",
    "\n",
    "- $\\mu_2$ is the mean height of adults from Atlanta\n",
    "\n",
    "2. **Choose a Significance Level**: Determine the significance level (commonly $\\alpha = 0.5$)\n",
    "\n",
    "3. **Collect Data**: Gather data for both samples."
   ]
  },
  {
   "cell_type": "code",
   "execution_count": 81,
   "metadata": {},
   "outputs": [
    {
     "name": "stdout",
     "output_type": "stream",
     "text": [
      "Chicago Heights: [183.0687026, 186.70644354, 173.26657415, 179.03252868]\n",
      "Atlanta Heights: [167.5102584, 177.81241131, 187.13298753, 175.29871173]\n"
     ]
    }
   ],
   "source": [
    "# Using the same sample as above\n",
    "print(f\"Chicago Heights: {chicago_heights}\")\n",
    "print(f\"Atlanta Heights: {atlanta_heights}\")"
   ]
  },
  {
   "cell_type": "code",
   "execution_count": 83,
   "metadata": {},
   "outputs": [
    {
     "name": "stdout",
     "output_type": "stream",
     "text": [
      "Chicago Mean: 180.51856224250002\n",
      "Atlanta Mean: 176.93859224250002\n"
     ]
    }
   ],
   "source": [
    "print(f\"Chicago Mean: {np.mean(chicago_heights)}\")\n",
    "print(f\"Atlanta Mean: {np.mean(atlanta_heights)}\")"
   ]
  },
  {
   "cell_type": "markdown",
   "metadata": {},
   "source": [
    "4. **Perform the Test**: Calculate the test statistic (e.g., t-statistic) and the p-value.\n",
    "\n",
    "    - The `scipy.stats.ttest_ind` function is used to perform the two-sample t-test, specifying `alternative='greater'` to test if the mean height of Chicago adults is greater than that of Atlanta adults."
   ]
  },
  {
   "cell_type": "code",
   "execution_count": 46,
   "metadata": {},
   "outputs": [
    {
     "name": "stdout",
     "output_type": "stream",
     "text": [
      "T-Statistic: 0.721\n",
      "P-Value: 0.249\n"
     ]
    }
   ],
   "source": [
    "from scipy.stats import ttest_ind\n",
    "\n",
    "# Perform two-sample t-test\n",
    "# Note: Exercise 1 of today's project is a two-tailed t-test so you should specify alternative='two-sided'\n",
    "t_statistic, p_value = ttest_ind(chicago_heights, atlanta_heights, alternative='greater')\n",
    "\n",
    "# Output the results\n",
    "print(f\"T-Statistic: {round(t_statistic, 3)}\")\n",
    "print(f\"P-Value: {round(p_value, 3)}\")"
   ]
  },
  {
   "cell_type": "markdown",
   "metadata": {},
   "source": [
    "5. **Make a Decision**: Compare the p-value to the significance level to accept or reject the null hypothesis."
   ]
  },
  {
   "cell_type": "code",
   "execution_count": 47,
   "metadata": {},
   "outputs": [
    {
     "name": "stdout",
     "output_type": "stream",
     "text": [
      "Fail to reject the null hypothesis: There is no significant difference in the mean height of adults from Chicago and Atlanta.\n"
     ]
    }
   ],
   "source": [
    "# Conclusion based on significance level\n",
    "alpha = 0.05\n",
    "if p_value < alpha:\n",
    "    print(\"Reject the null hypothesis: The mean height of adults from Chicago is greater than that of adults from Atlanta.\")\n",
    "else:\n",
    "    print(\"Fail to reject the null hypothesis: There is no significant difference in the mean height of adults from Chicago and Atlanta.\")"
   ]
  },
  {
   "cell_type": "markdown",
   "metadata": {},
   "source": [
    "### One-Tailed vs. Two-Tailed Tests\n",
    "When conducting t-tests, researchers must decide whether to perform a one-tailed or a two-tailed test, depending on their hypotheses.\n",
    "\n",
    "#### One-Tailed Tests\n",
    "A **one-tailed test**, also known as a one-sided test, is used when the alternative hypothesis specifies a direction of the effect (either greater than or less than).\n",
    "\n",
    "- You should specify `alternative='greater'` or `alternative='less'` depending on the direction\n",
    "\n",
    "<p align=\"center\">\n",
    "  <img src=\"imgs/hypothesis_testing1.png\" alt=\"Alt text\" width=\"550\" height=\"250\">\n",
    "</p>\n",
    "\n",
    "### Two-Tailed Tests\n",
    "A **two-tailed test**, also known as a two-sided test, is used when the alternative hypothesis does not specify a direction, assessing if a sample mean is significantly different from a hypothesized value, regardless of whether it is greater or less.\n",
    "\n",
    "- You should specify `alternative='two-sided'`\n",
    "\n",
    "<p align=\"center\">\n",
    "  <img src=\"imgs/hypothesis_testing2.png\" alt=\"Alt text\" width=\"550\" height=\"150\">\n",
    "</p>"
   ]
  },
  {
   "cell_type": "markdown",
   "metadata": {},
   "source": [
    "## ANOVA Test\n",
    "**ANOVA**, or Analysis of Variance, is a statistical method used to test differences between two or more group means. It helps determine whether at least one of the group means is significantly different from the others.\n",
    "\n",
    "ANOVA is particularly useful when comparing three or more groups, as it provides a way to evaluate multiple comparisons simultaneously without increasing the risk of a Type I error (false positive).\n",
    "\n",
    "### When to use ANOVA\n",
    "ANOVA is appropriate when:\n",
    "\n",
    "- You have three or more independent groups.\n",
    "\n",
    "- You want to compare the means of these groups to see if at least one differs significantly.\n",
    "\n",
    "- The data is normally distributed.\n",
    "\n",
    "- The groups have homogeneity of variance (similar variances).\n",
    "\n",
    "### Types of ANOVA\n",
    "\n",
    "1. **One-Way ANOVA**: Tests the effect of a single factor (independent variable) on a dependent variable.\n",
    "\n",
    "2. **Two-Way ANOVA**: Tests the effect of two factors simultaneously on a dependent variable, allowing for interaction effects.\n",
    "\n",
    "### Example\n",
    "**Example Research Question**: Does the type of study technique affect the average test scores of students?\n",
    "\n",
    "**Groups**:\n",
    "\n",
    "- Group 1: Traditional Study (e.g., reading textbooks)\n",
    "\n",
    "- Group 2: Group Study\n",
    "\n",
    "- Group 3: Online Learning Tools\n",
    "\n",
    "- Group 4: Flashcards\n",
    "\n",
    "**Sample Data**"
   ]
  },
  {
   "cell_type": "code",
   "execution_count": 86,
   "metadata": {},
   "outputs": [
    {
     "name": "stdout",
     "output_type": "stream",
     "text": [
      "Traditional Study Mean Score: 82.8\n",
      "Group Study Mean Score: 88.4\n",
      "Online Learning Mean Score: 81.4\n",
      "Flashcards Mean Score: 78.2\n"
     ]
    }
   ],
   "source": [
    "# Test scores out of 100\n",
    "traditional_study = [78, 82, 88, 90, 76]\n",
    "group_study = [85, 87, 90, 92, 88]\n",
    "online_learning = [80, 81, 83, 79, 84]\n",
    "flashcards = [75, 78, 76, 82, 80]\n",
    "\n",
    "print(f\"Traditional Study Mean Score: {np.mean(traditional_study)}\")\n",
    "print(f\"Group Study Mean Score: {np.mean(group_study)}\")\n",
    "print(f\"Online Learning Mean Score: {np.mean(online_learning)}\")\n",
    "print(f\"Flashcards Mean Score: {np.mean(flashcards)}\")"
   ]
  },
  {
   "cell_type": "markdown",
   "metadata": {},
   "source": [
    "#### Steps in Conducting a One-Way ANOVA\n",
    "\n",
    "1. **Formulate Hypotheses**:\n",
    "\n",
    "$$H_0 = \\text{ The mean test scores are equal across all groups.}$$\n",
    "\n",
    "$$\\mu_1 = \\mu_2 = \\mu_3 = \\mu_4~~~~~~~~~~~~~~~~~~~~~~~~~~~~~~~~~~~~~~~$$\n",
    "\n",
    "$$H_a = \\text{ At least one } \\mu \\text{ is different}$$\n",
    "\n",
    "2. **Calculate ANOVA**: Use statistical software or libraries to compute the ANOVA."
   ]
  },
  {
   "cell_type": "code",
   "execution_count": 74,
   "metadata": {},
   "outputs": [
    {
     "name": "stdout",
     "output_type": "stream",
     "text": [
      "F-Statistic: 6.367\n",
      "P-Value: 0.005\n"
     ]
    }
   ],
   "source": [
    "from scipy.stats import f_oneway\n",
    "\n",
    "# Perform One-Way ANOVA\n",
    "f_statistic, p_value = f_oneway(traditional_study, group_study, online_learning, flashcards)\n",
    "\n",
    "# Output the results\n",
    "print(f\"F-Statistic: {round(f_statistic, 3)}\")\n",
    "print(f\"P-Value: {round(p_value, 3)}\")"
   ]
  },
  {
   "cell_type": "markdown",
   "metadata": {},
   "source": [
    "3. **Interpret Results**: Evaluate the p-value to determine whether to reject or fail to reject the null hypothesis."
   ]
  },
  {
   "cell_type": "code",
   "execution_count": 75,
   "metadata": {},
   "outputs": [
    {
     "name": "stdout",
     "output_type": "stream",
     "text": [
      "Reject the null hypothesis: There is a significant difference in the average test scores.\n"
     ]
    }
   ],
   "source": [
    "alpha = 0.05\n",
    "if p_value < alpha:\n",
    "    print(\"Reject the null hypothesis: There is a significant difference in the average test scores.\")\n",
    "else:\n",
    "    print(\"Fail to reject the null hypothesis: No significant difference in average test scores.\")"
   ]
  }
 ],
 "metadata": {
  "kernelspec": {
   "display_name": "Python 3",
   "language": "python",
   "name": "python3"
  },
  "language_info": {
   "codemirror_mode": {
    "name": "ipython",
    "version": 3
   },
   "file_extension": ".py",
   "mimetype": "text/x-python",
   "name": "python",
   "nbconvert_exporter": "python",
   "pygments_lexer": "ipython3",
   "version": "3.12.1"
  }
 },
 "nbformat": 4,
 "nbformat_minor": 2
}
