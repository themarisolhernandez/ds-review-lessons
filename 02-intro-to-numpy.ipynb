{
 "cells": [
  {
   "cell_type": "markdown",
   "metadata": {},
   "source": [
    "# 02 - Introduction to NumPy\n",
    "**NumPy**, short for **Numerical Python**, is an open-source library essential for scientific computing in Python. It offers efficient operations on numerical data, particularly with its powerful array structures."
   ]
  },
  {
   "cell_type": "markdown",
   "metadata": {},
   "source": [
    "## Key Features of NumPy\n",
    "1. **Multidimensional Arrays**\n",
    "    - `ndarray`: The core data structure in NumPy is the `ndarray`, which supports efficient storage and manipulation of large datasets with multiple dimensions. Arrays can have any number of dimensions (more on this later).\n",
    "\n",
    "2. **Vectorized Operations**\n",
    "    - NumPy allows operations on entire arrays without explicit loops, making computations faster and more concise.\n",
    "\n",
    "3. **Mathematical Functions**\n",
    "    - Provides a wide array of mathematical functions for operations on arrays, including trigonometric functions, statistics, and linear algebra.\n",
    "\n",
    "4. **Efficiency**\n",
    "    - NumPy is much faster than the same functionality implemented directly on native Python. It is also very flexible in terms of accessing and manipulating individual elements or subsets of arrays."
   ]
  },
  {
   "cell_type": "markdown",
   "metadata": {},
   "source": [
    "## Installation\n",
    "To install NumPy, you can use `pip`:"
   ]
  },
  {
   "cell_type": "code",
   "execution_count": 1,
   "metadata": {},
   "outputs": [
    {
     "name": "stdout",
     "output_type": "stream",
     "text": [
      "Requirement already satisfied: numpy in /home/codespace/.local/lib/python3.12/site-packages (1.26.4)\n",
      "Note: you may need to restart the kernel to use updated packages.\n"
     ]
    }
   ],
   "source": [
    "pip install numpy"
   ]
  },
  {
   "cell_type": "markdown",
   "metadata": {},
   "source": [
    "Once installed, you can import it as follows:"
   ]
  },
  {
   "cell_type": "code",
   "execution_count": 2,
   "metadata": {},
   "outputs": [],
   "source": [
    "import numpy as np"
   ]
  },
  {
   "cell_type": "markdown",
   "metadata": {},
   "source": [
    "You only need to import a library **once** in your notebook to be able to use it in subsequent cells."
   ]
  },
  {
   "cell_type": "markdown",
   "metadata": {},
   "source": [
    "## Arrays\n",
    "A NumPy `array` is a data structure that allows you to store a collection of elements, usually numbers, in one or more dimensions.\n",
    "\n",
    "### One-dimensional Array\n",
    "A one-dimensional (1D) `array` in NumPy is a data structure that contains a sequence of elements in a single dimension. It is similar to a list in Python, but with the performance and functionality advantages offered by NumPy.\n",
    "\n",
    "<p align=\"center\">\n",
    "  <img src=\"imgs/intro_to_numpy1.png\" alt=\"Alt text\" width=\"700\" height=\"400\">\n",
    "</p>"
   ]
  },
  {
   "cell_type": "markdown",
   "metadata": {},
   "source": [
    "A 1D array can be created using the `array` function of the library with a list of elements as an argument. For example:"
   ]
  },
  {
   "cell_type": "code",
   "execution_count": 7,
   "metadata": {},
   "outputs": [
    {
     "data": {
      "text/plain": [
       "array([1, 2, 3, 4, 5])"
      ]
     },
     "execution_count": 7,
     "metadata": {},
     "output_type": "execute_result"
    }
   ],
   "source": [
    "array = np.array([1, 2, 3, 4, 5])\n",
    "array"
   ]
  },
  {
   "cell_type": "markdown",
   "metadata": {},
   "source": [
    "This will create a 1D array with elements 1, 2, 3, 4 and 5. The array elements must be of **the same data type**. If the elements are of different types, NumPy will try to convert them to the same type if possible.\n",
    "\n",
    "You can check the data type of the array,"
   ]
  },
  {
   "cell_type": "code",
   "execution_count": 8,
   "metadata": {},
   "outputs": [
    {
     "data": {
      "text/plain": [
       "numpy.ndarray"
      ]
     },
     "execution_count": 8,
     "metadata": {},
     "output_type": "execute_result"
    }
   ],
   "source": [
    "# To check the data type of `array`\n",
    "type(array)"
   ]
  },
  {
   "cell_type": "markdown",
   "metadata": {},
   "source": [
    "In a 1D array, we can access the elements using indexes, modify them and perform mathematical operations on the whole array efficiently. Below are some operations that can be performed using the above array:"
   ]
  },
  {
   "cell_type": "code",
   "execution_count": 9,
   "metadata": {},
   "outputs": [
    {
     "name": "stdout",
     "output_type": "stream",
     "text": [
      "3\n"
     ]
    }
   ],
   "source": [
    "# Access the third element (i.e. the element at index 2)\n",
    "print(array[2])"
   ]
  },
  {
   "cell_type": "code",
   "execution_count": 14,
   "metadata": {},
   "outputs": [
    {
     "name": "stdout",
     "output_type": "stream",
     "text": [
      "Original array: [1 2 3 4 5]\n",
      "Updated array: [1 7 3 4 5]\n"
     ]
    }
   ],
   "source": [
    "print(f\"Original array: {array}\")\n",
    "\n",
    "# Change the value of the second element (i.e. the element at index 1)\n",
    "array[1] = 7\n",
    "print(f\"Updated array: {array}\")"
   ]
  },
  {
   "cell_type": "code",
   "execution_count": 15,
   "metadata": {},
   "outputs": [
    {
     "name": "stdout",
     "output_type": "stream",
     "text": [
      "Original array: [1 7 3 4 5]\n",
      "Updated array: [11 17 13 14 15]\n"
     ]
    }
   ],
   "source": [
    "print(f\"Original array: {array}\")\n",
    "\n",
    "# Add 10 to all elements\n",
    "array += 10\n",
    "print(f\"Updated array: {array}\")"
   ]
  },
  {
   "cell_type": "code",
   "execution_count": 16,
   "metadata": {},
   "outputs": [
    {
     "name": "stdout",
     "output_type": "stream",
     "text": [
      "Original array: [11 17 13 14 15]\n",
      "Sum of array: 70\n"
     ]
    }
   ],
   "source": [
    "print(f\"Original array: {array}\")\n",
    "\n",
    "# Calculate the sum of the elements\n",
    "sum_all = np.sum(array)\n",
    "print(f\"Sum of array: {sum_all}\")"
   ]
  },
  {
   "cell_type": "markdown",
   "metadata": {},
   "source": [
    "### N-dimensional Array\n",
    "A multidimensional or **n-dimensional array** in NumPy is a data structure that organizes elements in multiple dimensions (axes). These arrays allow you to represent more complex data structures, such as matrixes (2D array, 2 axes), tensors (3D array, 3 axes) and higher-dimensional structures.\n",
    "\n",
    "<p align=\"center\">\n",
    "  <img src=\"imgs/intro_to_numpy2.png\" alt=\"Alt text\" width=\"700\" height=\"400\">\n",
    "</p>"
   ]
  },
  {
   "cell_type": "markdown",
   "metadata": {},
   "source": [
    "An N-dimensional array can also be created using the `array` function of the library. For example, if we want to create a 2D array:"
   ]
  },
  {
   "cell_type": "code",
   "execution_count": 7,
   "metadata": {},
   "outputs": [
    {
     "data": {
      "text/plain": [
       "array([[1, 2, 3],\n",
       "       [4, 5, 6],\n",
       "       [7, 8, 9]])"
      ]
     },
     "execution_count": 7,
     "metadata": {},
     "output_type": "execute_result"
    }
   ],
   "source": [
    "array_2d = np.array([[1, 2, 3], [4, 5, 6], [7, 8, 9]])\n",
    "array_2d"
   ]
  },
  {
   "cell_type": "code",
   "execution_count": 8,
   "metadata": {},
   "outputs": [
    {
     "data": {
      "text/plain": [
       "(3, 3)"
      ]
     },
     "execution_count": 8,
     "metadata": {},
     "output_type": "execute_result"
    }
   ],
   "source": [
    "# To get the shape (dimensions) of the array\n",
    "np.shape(array_2d)"
   ]
  },
  {
   "cell_type": "markdown",
   "metadata": {},
   "source": [
    "If we now wanted to create a 3D array, we would have to think of it as a list of arrays:"
   ]
  },
  {
   "cell_type": "code",
   "execution_count": 23,
   "metadata": {},
   "outputs": [
    {
     "data": {
      "text/plain": [
       "array([[[1, 2],\n",
       "        [3, 4]],\n",
       "\n",
       "       [[5, 6],\n",
       "        [7, 8]]])"
      ]
     },
     "execution_count": 23,
     "metadata": {},
     "output_type": "execute_result"
    }
   ],
   "source": [
    "array_3d = np.array([[[1, 2], [3, 4]], [[5, 6], [7, 8]]])\n",
    "array_3d"
   ]
  },
  {
   "cell_type": "code",
   "execution_count": 24,
   "metadata": {},
   "outputs": [
    {
     "data": {
      "text/plain": [
       "(2, 2, 2)"
      ]
     },
     "execution_count": 24,
     "metadata": {},
     "output_type": "execute_result"
    }
   ],
   "source": [
    "# To get the shape (dimensions) of the array\n",
    "np.shape(array_3d)"
   ]
  },
  {
   "cell_type": "markdown",
   "metadata": {},
   "source": [
    "As with 1D arrays, the elements in a multidimensional array are accessible via indexes, operations can be performed on them, and so on.\n",
    "\n",
    "As we add more dimensions, the basic principle remains the same: each additional dimension can be considered an additional level of nesting. However, on a practical level, working with arrays of more than 3 or 4 dimensions can become more complex and less intuitive.\n",
    "\n",
    "For example, we have to do 3 levels of nesting to access a single element from a 3D array:"
   ]
  },
  {
   "cell_type": "code",
   "execution_count": 25,
   "metadata": {},
   "outputs": [
    {
     "data": {
      "text/plain": [
       "array([[1, 2],\n",
       "       [3, 4]])"
      ]
     },
     "execution_count": 25,
     "metadata": {},
     "output_type": "execute_result"
    }
   ],
   "source": [
    "array_3d[0]"
   ]
  },
  {
   "cell_type": "code",
   "execution_count": 26,
   "metadata": {},
   "outputs": [
    {
     "data": {
      "text/plain": [
       "array([1, 2])"
      ]
     },
     "execution_count": 26,
     "metadata": {},
     "output_type": "execute_result"
    }
   ],
   "source": [
    "array_3d[0][0]"
   ]
  },
  {
   "cell_type": "code",
   "execution_count": 27,
   "metadata": {},
   "outputs": [
    {
     "data": {
      "text/plain": [
       "1"
      ]
     },
     "execution_count": 27,
     "metadata": {},
     "output_type": "execute_result"
    }
   ],
   "source": [
    "array_3d[0][0][0]"
   ]
  },
  {
   "cell_type": "code",
   "execution_count": 28,
   "metadata": {},
   "outputs": [
    {
     "name": "stdout",
     "output_type": "stream",
     "text": [
      "Original array:\n",
      "[[[1 2]\n",
      "  [3 4]]\n",
      "\n",
      " [[5 6]\n",
      "  [7 8]]]\n",
      "\n",
      "Updated array:\n",
      "[[[11 12]\n",
      "  [13 14]]\n",
      "\n",
      " [[15 16]\n",
      "  [17 18]]]\n"
     ]
    }
   ],
   "source": [
    "# You can also perform the same operations as a 1D array\n",
    "print(f\"Original array:\\n{array_3d}\")\n",
    "\n",
    "# Add 10 to all elements\n",
    "array_3d += 10\n",
    "print(f\"\\nUpdated array:\\n{array_3d}\")"
   ]
  },
  {
   "cell_type": "markdown",
   "metadata": {},
   "source": [
    "### Functions\n",
    "NumPy provides a large number of predefined functions that can be applied directly to the data structures seen above or to Python's own data structures (lists, arrays, etc.). Some of the most commonly used in data analysis are:"
   ]
  },
  {
   "cell_type": "code",
   "execution_count": 32,
   "metadata": {},
   "outputs": [
    {
     "name": "stdout",
     "output_type": "stream",
     "text": [
      "Original array: [1 2 3 4 5]\n",
      "Add 5 to each element: [ 6  7  8  9 10]\n"
     ]
    }
   ],
   "source": [
    "# Create an array for the example\n",
    "arr = np.array([1, 2, 3, 4, 5])\n",
    "\n",
    "# Adding n to each element\n",
    "print(f\"Original array: {arr}\")\n",
    "print(\"Add 5 to each element:\", np.add(arr, 5))"
   ]
  },
  {
   "cell_type": "code",
   "execution_count": 34,
   "metadata": {},
   "outputs": [
    {
     "name": "stdout",
     "output_type": "stream",
     "text": [
      "Original array: [1 2 3 4 5]\n",
      "Multiply each element by 3: [ 3  6  9 12 15]\n"
     ]
    }
   ],
   "source": [
    "# Multiplying each element by n\n",
    "print(f\"Original array: {arr}\")\n",
    "print(\"Multiply each element by 3:\", np.multiply(arr, 3))"
   ]
  },
  {
   "cell_type": "code",
   "execution_count": 39,
   "metadata": {},
   "outputs": [
    {
     "name": "stdout",
     "output_type": "stream",
     "text": [
      "Original array: [1 2 3 4 5]\n",
      "log(x): [0.         0.69314718 1.09861229 1.38629436 1.60943791]\n"
     ]
    }
   ],
   "source": [
    "# Logarithmic: Take log(x) for each x in the array\n",
    "print(f\"Original array: {arr}\")\n",
    "print(\"log(x):\", np.log(arr))"
   ]
  },
  {
   "cell_type": "code",
   "execution_count": 38,
   "metadata": {},
   "outputs": [
    {
     "name": "stdout",
     "output_type": "stream",
     "text": [
      "Original array: [1 2 3 4 5]\n",
      "e^x: [  2.71828183   7.3890561   20.08553692  54.59815003 148.4131591 ]\n"
     ]
    }
   ],
   "source": [
    "# Exponential: take e^x for each x in the array\n",
    "print(f\"Original array: {arr}\")\n",
    "print(\"e^x:\", np.exp(arr))"
   ]
  },
  {
   "cell_type": "code",
   "execution_count": 40,
   "metadata": {},
   "outputs": [
    {
     "name": "stdout",
     "output_type": "stream",
     "text": [
      "Original array: [1 2 3 4 5]\n",
      "Mean: 3.0\n",
      "Median: 3.0\n",
      "Standard Deviation: 1.4142135623730951\n",
      "Variance: 2.0\n",
      "Maximum value: 5\n",
      "Maximum value index: 4\n",
      "Minimum value: 1\n",
      "Minimum value index: 0\n",
      "Sum of all elements: 15\n"
     ]
    }
   ],
   "source": [
    "# Statistical Functions\n",
    "print(f\"Original array: {arr}\")\n",
    "print(\"Mean:\", np.mean(arr))\n",
    "print(\"Median:\", np.median(arr))\n",
    "print(\"Standard Deviation:\", np.std(arr))\n",
    "print(\"Variance:\", np.var(arr))\n",
    "print(\"Maximum value:\", np.max(arr))\n",
    "print(\"Maximum value index:\", np.argmax(arr))\n",
    "print(\"Minimum value:\", np.min(arr))\n",
    "print(\"Minimum value index:\", np.argmin(arr))\n",
    "print(\"Sum of all elements:\", np.sum(arr))"
   ]
  },
  {
   "cell_type": "code",
   "execution_count": 41,
   "metadata": {},
   "outputs": [
    {
     "name": "stdout",
     "output_type": "stream",
     "text": [
      "Original array: [1.23 2.47 3.56 4.89]\n",
      "Rounding: [1. 2. 4. 5.]\n",
      "Minor integer (floor): [1. 2. 3. 4.]\n",
      "Major integer (ceil): [2. 3. 4. 5.]\n"
     ]
    }
   ],
   "source": [
    "# Rounding Functions\n",
    "arr_decimal = np.array([1.23, 2.47, 3.56, 4.89])\n",
    "print(f\"Original array: {arr_decimal}\")\n",
    "print(\"Rounding:\", np.around(arr_decimal))\n",
    "print(\"Minor integer (floor):\", np.floor(arr_decimal))\n",
    "print(\"Major integer (ceil):\", np.ceil(arr_decimal))"
   ]
  },
  {
   "cell_type": "markdown",
   "metadata": {},
   "source": [
    "## Summary\n",
    "NumPy is an indispensable library for numerical computations in Python. It provides efficient array operations and a comprehensive set of mathematical functions, making it a fundamental tool for data science, machine learning, and scientific computing. Understanding how to use NumPy arrays and functions will significantly enhance your ability to process and analyze numerical data."
   ]
  },
  {
   "cell_type": "markdown",
   "metadata": {},
   "source": [
    "## Additional Resources\n",
    "1. [NumPy Official Documentation](https://numpy.org/doc/stable/)\n",
    "\n",
    "2. [NumPy Quickstart Tutorial](https://numpy.org/doc/stable/user/quickstart.html)\n",
    "\n",
    "3. [DataCamp's Introduction to NumPy](https://www.datacamp.com/courses/intro-to-python-for-data-science)\n",
    "\n",
    "4. [Codecademy's Learn NumPy](https://www.codecademy.com/learn/learn-numpy)\n",
    "\n",
    "5. [Corey Schafer's NumPy Series (YouTube)](https://www.youtube.com/playlist?list=PL-osiE80TeTt2d9bfVyTiXJA-UTHn6Ww)\n",
    "\n",
    "6. [NumPy Tutorial for Beginners (YouTube)](https://www.youtube.com/watch?v=8Mpc9ukltVA)"
   ]
  }
 ],
 "metadata": {
  "kernelspec": {
   "display_name": "Python 3",
   "language": "python",
   "name": "python3"
  },
  "language_info": {
   "codemirror_mode": {
    "name": "ipython",
    "version": 3
   },
   "file_extension": ".py",
   "mimetype": "text/x-python",
   "name": "python",
   "nbconvert_exporter": "python",
   "pygments_lexer": "ipython3",
   "version": "3.12.1"
  }
 },
 "nbformat": 4,
 "nbformat_minor": 2
}
