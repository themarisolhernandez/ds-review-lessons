{
 "cells": [
  {
   "cell_type": "markdown",
   "metadata": {},
   "source": [
    "# 11 - Algorithm Optimization\n",
    "\n",
    "## Introduction to Algorithm Optimization\n",
    "\n",
    "### What is an **algorithm**?\n",
    "**Definition**: An algorithm is a step-by-step set of operations to solve a specific problem or complete a task.\n",
    "\n",
    "- Algorithms are not a recent phenomenon and have existed long before modern computers\n",
    "\n",
    "#### Algorithms in Everyday Life\n",
    "We've been using algorithms unknowlingly for all our lives. Let’s look at an example of how we use algorithms on a daily basis. *You’re hungry*. \n",
    "\n",
    "To successfully complete the task of satisfying your appetite you need to eat so you decide to cook. You follow a **series of steps** in the following order to complete the specified task:\n",
    "\n",
    "<p align=\"center\">\n",
    "  <figure align=\"center\">\n",
    "    <img src=\"imgs/algorithm_optimization1.png\" alt=\"Alt text\" width=\"250\" height=\"550\">\n",
    "    <figcaption>Source: AlgoDaily</figcaption>\n",
    "  </figure>\n",
    "</p>\n",
    "\n",
    "This entire process is actually an **algorithm**. You followed steps in a particular order and as a result reached the desired outcome of a full stomach.\n",
    "\n",
    "In data science, algorithms are used to process data, make predictions, and automate tasks.\n",
    "\n",
    "Algorithms are the foundation of programming, and whether you’re calculating the area of a triangle or processing millions of data points, you rely on algorithms.\n",
    "\n",
    "#### **Example**: Finding the area of a triangle \n",
    "Let’s start with a basic example, calculating the area of a triangle.\n",
    "\n",
    "##### **Pseudocode**\n",
    "Before jumping into code, we can express the solution in pseudocode.\n",
    "\n",
    "**What is Pseudocode?** \n",
    "\n",
    "Pseudocode is a way of writing out the logic of an algorithm in plain, human-readable steps. \n",
    "\n",
    "- Uses simple language to explain what the program will do without worrying about the specific syntax of a programming language\n",
    "\n",
    "- It's not meant to be run on a computer but serves as a guide for translating the logic into code.\n",
    "\n",
    "Here’s the **pseudocode** for calculating the area of a triangle:\n",
    "\n",
    "```python\n",
    "Process CalculateTriangleArea(base, height)\n",
    "    Multiply base by height\n",
    "    Divide the result by 2\n",
    "    Write \"The area is\", area\n",
    "EndProcess\n",
    "```\n",
    "\n",
    "##### **Python Implementation:**\n",
    "Now, let's implement this pseudocode in **Python**:"
   ]
  },
  {
   "cell_type": "code",
   "execution_count": 31,
   "metadata": {},
   "outputs": [
    {
     "data": {
      "text/plain": [
       "'The area is 150.0'"
      ]
     },
     "execution_count": 31,
     "metadata": {},
     "output_type": "execute_result"
    }
   ],
   "source": [
    "def calculate_triangle_area(base, height):\n",
    "    area = (base * height) / 2\n",
    "    return f\"The area is {area}\"\n",
    "\n",
    "calculate_triangle_area(20, 15)"
   ]
  },
  {
   "cell_type": "markdown",
   "metadata": {},
   "source": [
    "Here, this example works well for a single calculation, but what happens when you need to calculate the area of thousands or even millions of triangles? Understanding the **efficiency** of your code becomes critical when you scale up to millions of records or operations."
   ]
  },
  {
   "cell_type": "markdown",
   "metadata": {},
   "source": [
    "### Why is **optimization** important?\n",
    "A program can be **written in multiple ways**. For instance, there are many ways to **search** for an item within a data structure. \n",
    "\n",
    "- You can use [linear search](https://en.wikipedia.org/wiki/Linear_search), [binary search](https://en.wikipedia.org/wiki/Binary_search), [jump search](https://en.wikipedia.org/wiki/Jump_search), [interpolation search](https://en.wikipedia.org/wiki/Interpolation_search), etc.\n",
    "\n",
    "Although these methods complete the same task, each represents a distinct **algorithm with varying requirements for time and space to execute**. This is where **optimization** comes into play.\n",
    "\n",
    "- **Optimization** ensures we choose the most efficient approach for a given problem, minimizing resource usage while maximizing performance."
   ]
  },
  {
   "cell_type": "markdown",
   "metadata": {},
   "source": [
    "#### Optimization in Data Science\n",
    "As a data scientist or machine learning engineer, it’s crucial to write **efficient code**. Efficient algorithms can handle large datasets, reduce computational costs, and deliver faster results. When dealing with millions of data points, the efficiency of your code can make a huge difference.\n",
    "\n",
    "Imagine you have a dataset with millions of entries. If your algorithm is inefficient, each additional operation adds more time, and the overall performance of your code could slow down dramatically.\n",
    "\n",
    "For example:\n",
    "\n",
    "- **Unoptimized code** could take hours or days to process large datasets.\n",
    "\n",
    "- **Optimized code** might finish in seconds or minutes."
   ]
  },
  {
   "cell_type": "markdown",
   "metadata": {},
   "source": [
    "## Introduction to Algorithm Complexity\n",
    "One of the metrics used to compare algorithms is using this notion of *algorithm complexity*.\n",
    "\n",
    "**Algorithm complexity** can be further divided into two types:\n",
    "\n",
    "- **Time complexity**: Refers to the time taken by the algorithm to complete the execution\n",
    "\n",
    "- **Space complexity**: Refers to the memory occupied by the algorithm\n",
    "\n",
    "### Importance of Algorthm Complexity\n",
    "To study the importance of algorithm complexity, let’s write two simple programs. Both the programs raise a number `x` to the power `y`.\n",
    "\n",
    "#### Program 1\n",
    "Here's the first program:"
   ]
  },
  {
   "cell_type": "code",
   "execution_count": 32,
   "metadata": {},
   "outputs": [
    {
     "name": "stdout",
     "output_type": "stream",
     "text": [
      "81\n"
     ]
    }
   ],
   "source": [
    "def custom_power(x, y):\n",
    "    result = 1\n",
    "    for i in range(y):\n",
    "        result = result * x\n",
    "    return result\n",
    "\n",
    "# Calculate 3^4 = 3 * 3 * 3 * 3\n",
    "print(custom_power(3, 4))"
   ]
  },
  {
   "cell_type": "markdown",
   "metadata": {},
   "source": [
    "Let’s now see how much time the previous function takes to execute."
   ]
  },
  {
   "cell_type": "code",
   "execution_count": 33,
   "metadata": {},
   "outputs": [
    {
     "name": "stdout",
     "output_type": "stream",
     "text": [
      "0.21843455100042775\n"
     ]
    }
   ],
   "source": [
    "from timeit import timeit\n",
    "\n",
    "setup = '''\n",
    "def custom_power(x, y):\n",
    "    result = 1\n",
    "    for i in range(y):\n",
    "        result = result * x\n",
    "    return result\n",
    "'''\n",
    "\n",
    "program1_time = timeit(\"custom_power(3,4)\", setup=setup)\n",
    "print(program1_time)"
   ]
  },
  {
   "cell_type": "markdown",
   "metadata": {},
   "source": [
    "The `timeit` function from the `timeit` module measures the execution time of the given code in *seconds*."
   ]
  },
  {
   "cell_type": "markdown",
   "metadata": {},
   "source": [
    "#### Program 2\n",
    "Let’s now use the Python’s built-in `pow` function to raise `3` to the power `4` and see how much time it ultimately takes."
   ]
  },
  {
   "cell_type": "code",
   "execution_count": 34,
   "metadata": {},
   "outputs": [
    {
     "data": {
      "text/plain": [
       "81"
      ]
     },
     "execution_count": 34,
     "metadata": {},
     "output_type": "execute_result"
    }
   ],
   "source": [
    "pow(3, 4)"
   ]
  },
  {
   "cell_type": "code",
   "execution_count": 35,
   "metadata": {},
   "outputs": [
    {
     "name": "stdout",
     "output_type": "stream",
     "text": [
      "0.06335290700008045\n"
     ]
    }
   ],
   "source": [
    "from timeit import timeit\n",
    "\n",
    "program2_time = timeit(\"pow(3, 4)\")\n",
    "print(program2_time)"
   ]
  },
  {
   "cell_type": "markdown",
   "metadata": {},
   "source": [
    "Comparing the two:"
   ]
  },
  {
   "cell_type": "code",
   "execution_count": 36,
   "metadata": {},
   "outputs": [
    {
     "name": "stdout",
     "output_type": "stream",
     "text": [
      "Program 1 Execution Time: 0.21843455100042775 seconds\n",
      "Program 2 Execution Time: 0.06335290700008045 seconds\n"
     ]
    }
   ],
   "source": [
    "print(f\"Program 1 Execution Time: {program1_time} seconds\")\n",
    "print(f\"Program 2 Execution Time: {program2_time} seconds\")"
   ]
  },
  {
   "cell_type": "markdown",
   "metadata": {},
   "source": [
    "You can clearly see that **Program 2** is faster than **Program 1**. This is just a simple example. However, if you're building an actual application or processing large amounts of data, the wrong choice of algorithms can be costly (both in time and memory)."
   ]
  },
  {
   "cell_type": "markdown",
   "metadata": {},
   "source": [
    "## Big(O) Notation\n",
    "Let's talk about **Big(O) Notation**. Given what you've seen, you may ask - *why do we need Big(O) if we can just measure execution speed?*\n",
    "\n",
    "In the last section, we recorded the clock time that our computer took to execute a function. We then used this clock time to compare the two programs. But clock time is hardware dependent. \n",
    "\n",
    "- **An efficient program may take more time to execute on a slower computer than an inefficient program on a fast computer.**\n",
    "\n",
    "So clock time is not a good metric to find time complexity. Then how do we compare the algorithm complexity of two programs in a standardized manner? The answer is **Big(O) notation**.\n",
    "\n",
    "Big(O) notation is an algorithm complexity metric. It defines the relationship between the number of inputs and the steps taken by the algorithm to process those inputs.\n",
    "\n",
    "- Big(O) is NOT about measuring speed, it is about measuring the amount of work a program has to do **as an input scales**.\n",
    "\n",
    "We can use Big(O) to define both time and space complexity. The below are some of the examples of Big(O) notation, starting from *fastest/best* to *slowest/worst*.\n",
    "\n",
    "| Function | Big(O) Notation|\n",
    "|----------|----------------|\n",
    "| Constant | $\\text{O}(1)$ |\n",
    "| Logarithmic | $\\text{O}(log(n))$ |\n",
    "| Linear | $\\text{O}(n)$ |\n",
    "| Quadratic | $\\text{O}(n^2)$ |\n",
    "| Cubic | $\\text{O}(n^3)$ |\n",
    "| Exponential | $\\text{O}(2^n)$ |\n",
    "| Factorial | $\\text{O}(n!)$ |\n",
    "\n",
    "The following graph shows the comparison between the most common measures:\n",
    "\n",
    "<p align=\"center\">\n",
    "  <figure align=\"center\">\n",
    "    <img src=\"imgs/algorithm_optimization2.png\" alt=\"Alt text\" width=\"600\" height=\"500\">\n",
    "    <figcaption>Source: freeCodeCamp</figcaption>\n",
    "  </figure>\n",
    "</p>"
   ]
  },
  {
   "cell_type": "markdown",
   "metadata": {},
   "source": [
    "## Big(O) Notation for Time Complexity\n",
    "In this section, we'll review some examples of finding the Big(O) Notation for constant, linear, and quadratic functions.\n",
    "\n",
    "### $\\text{O}(1)$: Constant Complexity\n",
    "In the constant complexity, the steps taken to complete the execution of a program remains the same no matter the input size. Look at the following example:"
   ]
  },
  {
   "cell_type": "code",
   "execution_count": 37,
   "metadata": {},
   "outputs": [],
   "source": [
    "def display_first_cube(items):\n",
    "    result = pow(items[0], 3)\n",
    "    print(result)"
   ]
  },
  {
   "cell_type": "markdown",
   "metadata": {},
   "source": [
    "`display_first_cube` calculates the cube of a number. That number happens to be the first item of the list that passed to it as a parameter.\n",
    "\n",
    "No matter how many elements there are in the list, the `display_first_cube` function always performs two steps:\n",
    "\n",
    "- **Step 1**: `result = pow(items[0], 3)` – This calculates the cube of the first item from the `items` list using the `pow` function.\n",
    "\n",
    "- **Step 2**: `print(result)` – This prints the result of the cubed value.\n",
    "\n",
    "Hence the algorithm complexity remains **constant** (it does not scale with input)."
   ]
  },
  {
   "cell_type": "code",
   "execution_count": 38,
   "metadata": {},
   "outputs": [
    {
     "name": "stdout",
     "output_type": "stream",
     "text": [
      "First item: 2\n",
      "Cube of first item: 8\n"
     ]
    }
   ],
   "source": [
    "inputs = [2, 3, 4, 5, 6, 7]\n",
    "print(f\"First item: {inputs[0]}\")\n",
    "print(f\"Cube of first item: {pow(inputs[0], 3)}\")"
   ]
  },
  {
   "cell_type": "code",
   "execution_count": 39,
   "metadata": {},
   "outputs": [
    {
     "name": "stdout",
     "output_type": "stream",
     "text": [
      "8\n"
     ]
    }
   ],
   "source": [
    "display_first_cube(inputs)"
   ]
  },
  {
   "cell_type": "markdown",
   "metadata": {},
   "source": [
    "Let’s plot the constant algorithm complexity."
   ]
  },
  {
   "cell_type": "code",
   "execution_count": 40,
   "metadata": {},
   "outputs": [
    {
     "data": {
      "image/png": "[encoded data removed]",
      "text/plain": [
       "<Figure size 640x480 with 1 Axes>"
      ]
     },
     "metadata": {},
     "output_type": "display_data"
    }
   ],
   "source": [
    "import numpy as np\n",
    "import matplotlib.pyplot as plt\n",
    "\n",
    "num_of_inputs = np.array([1, 2, 3, 4, 5, 6, 7])\n",
    "steps = [2 for n in num_of_inputs]\n",
    " \n",
    "plt.plot(num_of_inputs, steps, 'r')\n",
    "plt.xlabel('Number of inputs')\n",
    "plt.ylabel('Number of steps')\n",
    "plt.title('O(1) Complexity')\n",
    "\n",
    "plt.show()"
   ]
  },
  {
   "cell_type": "markdown",
   "metadata": {},
   "source": [
    "In the above code we have a list `num_of_inputs` that contains a different number of inputs. The steps list will always contain 2 for each item in the `num_of_inputs` list. If you plot the `num_of_inputs` list on x-axis and the steps list on `y-axis` you will see a straight line as shown in the output."
   ]
  },
  {
   "cell_type": "markdown",
   "metadata": {},
   "source": [
    "### $\\text{O}(n)$: Linear Complexity\n",
    "In functions or algorithms with linear complexity, a single unit increase in the input causes a unit increase in the steps required to complete the program execution.\n",
    "\n",
    "A function that calculates the cubes of **all elements** in a list has a linear complexity. This is because as the input (the list) grows, it will need to do one unit more work per item. Look at the following script."
   ]
  },
  {
   "cell_type": "code",
   "execution_count": 41,
   "metadata": {},
   "outputs": [
    {
     "name": "stdout",
     "output_type": "stream",
     "text": [
      "8\n",
      "27\n",
      "64\n",
      "125\n",
      "216\n",
      "343\n"
     ]
    }
   ],
   "source": [
    "def display_all_cubes(items):\n",
    "    for item in items:\n",
    "        result = pow(item,3)\n",
    "        print(result)\n",
    "\n",
    "inputs = [2, 3, 4, 5, 6, 7]\n",
    "display_all_cubes(inputs)"
   ]
  },
  {
   "cell_type": "markdown",
   "metadata": {},
   "source": [
    "For each item in the `items` list passed as a parameter to `display_all_cubes` function, the function finds the cube of the item and then displays it on the screen. If you double the elements in the input list, the steps needed to execute the `display_all_cubes` function will also be doubled. \n",
    "\n",
    "For the functions, with linear complexity, you should see a straight line increasing in positive direction as shown below:"
   ]
  },
  {
   "cell_type": "code",
   "execution_count": 42,
   "metadata": {},
   "outputs": [
    {
     "data": {
      "image/png": "[encoded data removed]",
      "text/plain": [
       "<Figure size 640x480 with 1 Axes>"
      ]
     },
     "metadata": {},
     "output_type": "display_data"
    }
   ],
   "source": [
    "num_of_inputs = np.array([1, 2, 3, 4, 5, 6, 7])\n",
    "steps = [2*n for n in num_of_inputs]\n",
    "\n",
    "plt.plot(num_of_inputs, steps, 'r')\n",
    "plt.xlabel('Number of inputs')\n",
    "plt.ylabel('Number of steps')\n",
    "plt.title('O(n) Complexity')\n",
    "plt.show()"
   ]
  },
  {
   "cell_type": "markdown",
   "metadata": {},
   "source": [
    "### $\\text{O}(n^2)$: Quadratic Complexity\n",
    "As you might guess by now-- in a function with quadratic complexity, the output steps increase quadratically with the increase in the inputs. Have a look at the following example:"
   ]
  },
  {
   "cell_type": "code",
   "execution_count": 43,
   "metadata": {},
   "outputs": [
    {
     "name": "stdout",
     "output_type": "stream",
     "text": [
      "4\n",
      "6\n",
      "8\n",
      "10\n",
      "12\n",
      "6\n",
      "9\n",
      "12\n",
      "15\n",
      "18\n",
      "8\n",
      "12\n",
      "16\n",
      "20\n",
      "24\n",
      "10\n",
      "15\n",
      "20\n",
      "25\n",
      "30\n",
      "12\n",
      "18\n",
      "24\n",
      "30\n",
      "36\n"
     ]
    }
   ],
   "source": [
    "def display_all_products(items):\n",
    "    for item in items:\n",
    "        for inner_item in items:\n",
    "            print(item * inner_item)\n",
    "\n",
    "inputs = [2, 3, 4, 5 ,6]\n",
    "display_all_products(inputs)"
   ]
  },
  {
   "cell_type": "markdown",
   "metadata": {},
   "source": [
    "In the above code, the `display_all_products` function multiplies each item in the “items” list with all the other elements.\n",
    "\n",
    "The outer loop iterates through each item, and then for each item in the outer loop, the inner loop iterates over each item. This makes total number of steps `n x n` where `n` is the number of items in the “items” list.\n",
    "\n",
    "If you plot the inputs and the output steps, you should see the graph for a quadratic equation as shown below. "
   ]
  },
  {
   "cell_type": "code",
   "execution_count": 44,
   "metadata": {},
   "outputs": [
    {
     "data": {
      "image/png": "[encoded data removed]",
      "text/plain": [
       "<Figure size 640x480 with 1 Axes>"
      ]
     },
     "metadata": {},
     "output_type": "display_data"
    }
   ],
   "source": [
    "num_of_inputs = np.array([1,2,3,4,5,6,7])\n",
    "steps = [pow(n,2) for n in num_of_inputs]\n",
    "\n",
    "plt.plot(num_of_inputs, steps, 'r')\n",
    "plt.xlabel('Number of inputs')\n",
    "plt.ylabel('Number of steps')\n",
    "plt.title('O(n^2) Complexity')\n",
    "plt.show()"
   ]
  },
  {
   "cell_type": "markdown",
   "metadata": {},
   "source": [
    "## Big(O) Notation for Space Complexity\n",
    "To find space complexity, we simply calculate the space (working storage, or memory) that the algorithm will need to allocate against the items in the inputs. Let’s again take a look at the `display_first_cube` function."
   ]
  },
  {
   "cell_type": "code",
   "execution_count": 45,
   "metadata": {},
   "outputs": [
    {
     "name": "stdout",
     "output_type": "stream",
     "text": [
      "8\n"
     ]
    }
   ],
   "source": [
    "def display_first_cube(items):\n",
    "    result = pow(items[0],3)\n",
    "    print(result)\n",
    "\n",
    "inputs = [2, 3, 4, 5, 6, 7]\n",
    "display_first_cube(inputs)"
   ]
  },
  {
   "cell_type": "markdown",
   "metadata": {},
   "source": [
    "Here no matter the size of the input, the `display_first_cube` has to allocate memory only once for the `result` variable. Hence the Big(O) notation for the space complexity of the `display_first_cube` will be O(1) which is basically constant.\n",
    "\n",
    "Similarly, the space complexity of the `display_all_cubes` function will be O(n) since for each item in the input, space has to be allocated in memory."
   ]
  },
  {
   "cell_type": "markdown",
   "metadata": {},
   "source": [
    "## Best vs. Worst Case Complexity\n",
    "You may hear the term **\"worst case\"** being used when discussing complexities.\n",
    "\n",
    "An algorithm can have two types of complexities. They are *best* case scenarios and *worst* case scenarios.\n",
    "\n",
    "The best case complexity refers to the complexity of an algorithm in the ideal situation. For instance, if you want to search an item `X` in a list of `N` items-- the best case scenario is that we find the item at the **first** index, in which case the algorithm complexity will be O(1).\n",
    "\n",
    "The worst case is that we find the item at the `nth` (or last) index, in which case the algorithm complexity would be be O(n) (where `n` is the total number of items in the list). When we use the term \"algorithmic complexity\", we generally refer to the **worst case complexity**. This is to ensure that we are optimizing for the least ideal situation."
   ]
  },
  {
   "cell_type": "markdown",
   "metadata": {},
   "source": [
    "## Best Programming Practices for Algorithm Optimization\n",
    "Good coding practices play a significant role in optimizing your algorithms. Even when using high-level languages like Python, there are methods to reduce time and space consumption."
   ]
  },
  {
   "cell_type": "markdown",
   "metadata": {},
   "source": [
    "### Stay Current with Software and Libraries\n",
    "- **Importance**: Software and hardware evolve. Use the latest versions of libraries and languages to benefit from speed optimizations.\n",
    "\n",
    "- **Example**: Python 3 is faster and more efficient than Python 2."
   ]
  },
  {
   "cell_type": "markdown",
   "metadata": {},
   "source": [
    "### Use Optimized Libraries\n",
    "Many built-in and third-party libraries are highly optimized. Instead of reinventing the wheel, leverage these libraries to write faster code.\n",
    "\n",
    "#### Example: Calculating the Mean"
   ]
  },
  {
   "cell_type": "code",
   "execution_count": 46,
   "metadata": {},
   "outputs": [
    {
     "data": {
      "text/plain": [
       "2.0"
      ]
     },
     "execution_count": 46,
     "metadata": {},
     "output_type": "execute_result"
    }
   ],
   "source": [
    "# Optimal way\n",
    "mean = np.array([1, 2, 3]).mean()\n",
    "\n",
    "# Suboptimal way\n",
    "def calculate_mean(elements):\n",
    "    return sum(elements) / len(elements)\n",
    "\n",
    "calculate_mean([1, 2, 3])"
   ]
  },
  {
   "cell_type": "markdown",
   "metadata": {},
   "source": [
    "The library method is not only faster but also more concise and readable. Libraries like `NumPy`, `Pandas`, and `Scikit-learn` are designed with optimization in mind, so it's a good practice to use them."
   ]
  },
  {
   "cell_type": "markdown",
   "metadata": {},
   "source": [
    "### Use Efficient Data Structures\n",
    "Choosing the right data structures is essential for optimization. Different structures offer varying performance for different tasks.\n",
    "\n",
    "#### Efficient List Operations\n",
    "- **List Comprehension vs Traditional Loops**: List comprehension in Python is generally faster than using loops for constructing lists."
   ]
  },
  {
   "cell_type": "code",
   "execution_count": 47,
   "metadata": {},
   "outputs": [],
   "source": [
    "# Optimal way (list comprehension)\n",
    "my_list = [i for i in range(100)]\n",
    "\n",
    "# Suboptimal way (for loop)\n",
    "my_list = []\n",
    "for i in range(100):\n",
    "    my_list.append(i)"
   ]
  },
  {
   "cell_type": "markdown",
   "metadata": {},
   "source": [
    "#### Efficient String Handling\n",
    "- **Using `join` for String Concatenation**: Instead of repeatedly appending to a string, it’s more efficient to use `join()`."
   ]
  },
  {
   "cell_type": "code",
   "execution_count": 48,
   "metadata": {},
   "outputs": [],
   "source": [
    "# Optimal way\n",
    "''.join(['Hello', ' ', 'World'])\n",
    "\n",
    "# Suboptimal way\n",
    "result = ''\n",
    "for word in ['Hello', ' ', 'World']:\n",
    "    result += word"
   ]
  },
  {
   "cell_type": "markdown",
   "metadata": {},
   "source": [
    "Efficient data structures like sets, dictionaries, and tuples can also dramatically reduce time complexity in tasks like searching and filtering."
   ]
  },
  {
   "cell_type": "markdown",
   "metadata": {},
   "source": [
    "### Remove What You Don't Need\n",
    "In any programming environment, variables take up memory. Keeping memory clean by removing variables or objects that are no longer needed can improve performance."
   ]
  },
  {
   "cell_type": "code",
   "execution_count": 49,
   "metadata": {},
   "outputs": [
    {
     "name": "stdout",
     "output_type": "stream",
     "text": [
      "Memory usage of x: 8000128 bytes\n"
     ]
    }
   ],
   "source": [
    "import sys\n",
    "\n",
    "x = np.zeros((1000, 1000))\n",
    "print(f\"Memory usage of x: {sys.getsizeof(x)} bytes\")\n",
    "\n",
    "# After you're done with x\n",
    "del x"
   ]
  },
  {
   "cell_type": "markdown",
   "metadata": {},
   "source": [
    "By clearing up memory, you ensure the system can use it for other operations, especially when dealing with large datasets."
   ]
  },
  {
   "cell_type": "markdown",
   "metadata": {},
   "source": [
    "### Learn from Others\n",
    "- Read well-optimized code, look into open-source libraries, and seek inspiration from experienced developers.\n",
    "\n",
    "- Keep learning new tricks and best practices from sources like Python’s PEP8 guidelines or forums like Stack Overflow."
   ]
  },
  {
   "cell_type": "markdown",
   "metadata": {},
   "source": [
    "## Additional Resources\n",
    "- [Big-O Cheat Sheet](https://www.bigocheatsheet.com/)\n",
    "\n",
    "- [AlgoDaily: Algorithm Examples in Everday Life](https://algodaily.com/lessons/algorithm-examples-everyday-life)\n",
    "\n",
    "- [Introduction to Algorithms and Data Structures](https://visualgo.net/en)\n",
    "\n",
    "- [GeeksforGeeks - Algorithm Analysis and Design](https://www.geeksforgeeks.org/fundamentals-of-algorithms/)"
   ]
  }
 ],
 "metadata": {
  "kernelspec": {
   "display_name": "Python 3",
   "language": "python",
   "name": "python3"
  },
  "language_info": {
   "codemirror_mode": {
    "name": "ipython",
    "version": 3
   },
   "file_extension": ".py",
   "mimetype": "text/x-python",
   "name": "python",
   "nbconvert_exporter": "python",
   "pygments_lexer": "ipython3",
   "version": "3.12.1"
  }
 },
 "nbformat": 4,
 "nbformat_minor": 2
}
