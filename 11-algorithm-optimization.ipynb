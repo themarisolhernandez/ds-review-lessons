{
 "cells": [
  {
   "cell_type": "markdown",
   "metadata": {},
   "source": [
    "# 11 - Algorithm Optimization\n",
    "\n",
    "## Introduction to Algorithm Optimization\n",
    "\n",
    "### What is an **algorithm**?\n",
    "**Definition**: An algorithm is a step-by-step set of operations to solve a specific problem or complete a task.\n",
    "\n",
    "- Algorithms are not a recent phenomenon and have existed long before modern computers\n",
    "\n",
    "#### Algorithms in Everyday Life\n",
    "We've been using algorithms unknowlingly for all our lives. Let’s look at an example of how we use algorithms on a daily basis. *You’re hungry*. \n",
    "\n",
    "To successfully complete the task of satisfying your appetite you need to eat so you decide to cook. You follow a **series of steps** in the following order to complete the specified task:\n",
    "\n",
    "<p align=\"center\">\n",
    "  <figure align=\"center\">\n",
    "    <img src=\"imgs/algorithm_optimization1.png\" alt=\"Alt text\" width=\"250\" height=\"500\">\n",
    "    <figcaption>Source: AlgoDaily</figcaption>\n",
    "  </figure>\n",
    "</p>\n",
    "\n",
    "This entire process is actually an **algorithm**. You followed steps in a particular order and as a result reached the desired outcome of a full stomach.\n",
    "\n",
    "In data science, algorithms are used to process data, make predictions, and automate tasks.\n",
    "\n",
    "Algorithms are the foundation of programming, and whether you’re calculating the area of a triangle or processing millions of data points, you rely on algorithms.\n",
    "\n",
    "#### **Example**: Finding the area of a triangle \n",
    "Let’s start with a basic example, calculating the area of a triangle.\n",
    "\n",
    "##### **Pseudocode**\n",
    "Before jumping into code, we can express the solution in pseudocode.\n",
    "\n",
    "**What is Pseudocode?** \n",
    "\n",
    "Pseudocode is a way of writing out the logic of an algorithm in plain, human-readable steps. \n",
    "\n",
    "- Uses simple language to explain what the program will do without worrying about the specific syntax of a programming language\n",
    "\n",
    "- It's not meant to be run on a computer but serves as a guide for translating the logic into code.\n",
    "\n",
    "Here’s the **pseudocode** for calculating the area of a triangle:\n",
    "\n",
    "```python\n",
    "Process CalculateTriangleArea(base, height)\n",
    "    Multiply base by height\n",
    "    Divide the result by 2\n",
    "    Write \"The area is\", area\n",
    "EndProcess\n",
    "```\n",
    "\n",
    "##### **Python Implementation:**\n",
    "Now, let's implement this pseudocode in **Python**:"
   ]
  },
  {
   "cell_type": "code",
   "execution_count": 1,
   "metadata": {},
   "outputs": [
    {
     "data": {
      "text/plain": [
       "'The area is 150.0'"
      ]
     },
     "execution_count": 1,
     "metadata": {},
     "output_type": "execute_result"
    }
   ],
   "source": [
    "def calculate_triangle_area(base, height):\n",
    "    area = (base * height) / 2\n",
    "    return f\"The area is {area}\"\n",
    "\n",
    "calculate_triangle_area(20, 15)"
   ]
  },
  {
   "cell_type": "markdown",
   "metadata": {},
   "source": [
    "Here, this simple algorithm does the job. But when you scale up to millions of records or operations, understanding the **efficiency** of your code becomes crucial."
   ]
  },
  {
   "cell_type": "markdown",
   "metadata": {},
   "source": [
    "### Why is **optimization** important?"
   ]
  },
  {
   "cell_type": "markdown",
   "metadata": {},
   "source": [
    "As a data scientist or machine learning engineer, it’s crucial to write efficient code. Efficient algorithms can handle large datasets, reduce computational costs, and provide faster results. The goal is to optimize algorithms so that they use the least amount of time and space while still being accurate and functional. Today, we'll cover key principles and techniques for optimizing algorithms, focusing on time complexity and best practices for Python programming."
   ]
  },
  {
   "cell_type": "markdown",
   "metadata": {},
   "source": []
  }
 ],
 "metadata": {
  "kernelspec": {
   "display_name": "Python 3",
   "language": "python",
   "name": "python3"
  },
  "language_info": {
   "codemirror_mode": {
    "name": "ipython",
    "version": 3
   },
   "file_extension": ".py",
   "mimetype": "text/x-python",
   "name": "python",
   "nbconvert_exporter": "python",
   "pygments_lexer": "ipython3",
   "version": "3.12.1"
  }
 },
 "nbformat": 4,
 "nbformat_minor": 2
}
